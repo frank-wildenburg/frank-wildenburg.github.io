{
 "cells": [
  {
   "cell_type": "markdown",
   "metadata": {},
   "source": [
    "# Bio\n"
   ]
  },
  {
   "cell_type": "code",
   "execution_count": 3,
   "metadata": {
    "tags": [
     "remove-input"
    ]
   },
   "outputs": [
    {
     "name": "stdout",
     "output_type": "stream",
     "text": [
      "Last updated: 2024-08-30\n"
     ]
    }
   ],
   "source": [
    "import datetime\n",
    "print(f\"Last updated: {str(datetime.datetime.now())[:10]}\")"
   ]
  },
  {
   "cell_type": "markdown",
   "metadata": {},
   "source": [
    "Here, you can find my previous work experience, my education, and any ancillary activities"
   ]
  },
  {
   "cell_type": "code",
   "execution_count": 4,
   "metadata": {
    "tags": [
     "remove-input"
    ]
   },
   "outputs": [
    {
     "data": {
      "application/vnd.plotly.v1+json": {
       "config": {
        "plotlyServerURL": "https://plot.ly"
       },
       "data": [
        {
         "customdata": [
          [
           "Employment",
           335,
           "2023-09",
           "Present",
           52.3544122,
           4.9531391
          ],
          [
           "Employment",
           215,
           "2021-07",
           "2022-02",
           52.3754305,
           5.7644316
          ],
          [
           "Employment",
           1704,
           "2015-01",
           "2019-09",
           52.3241636,
           5.6111972
          ]
         ],
         "hovertemplate": "<b>%{hovertext}</b><br>Began: %{customdata[2]} <br>Until: %{customdata[3]}",
         "hovertext": [
          "Teacher at University of Amsterdam",
          "IT employee at Kliksafe",
          "Employee at Het Goed Harderwijk"
         ],
         "lat": [
          52.3544122,
          52.3754305,
          52.3241636
         ],
         "legendgroup": "Employment",
         "lon": [
          4.9531391,
          5.7644316,
          5.6111972
         ],
         "marker": {
          "color": "#636efa",
          "size": [
           335,
           215,
           1704
          ],
          "sizemode": "area",
          "sizeref": 4.26
         },
         "mode": "markers",
         "name": "Employment",
         "showlegend": true,
         "subplot": "mapbox",
         "type": "scattermapbox"
        },
        {
         "customdata": [
          [
           "Education",
           699,
           "2021-09",
           "2023-08",
           52.3555033,
           4.931963
          ],
          [
           "Education",
           1187,
           "2017-09",
           "2020-12",
           52.0940643,
           5.1217302
          ]
         ],
         "hovertemplate": "<b>%{hovertext}</b><br>Began: %{customdata[2]} <br>Until: %{customdata[3]}",
         "hovertext": [
          "MSc Logic at University of Amsterdam",
          "BSc Artificial Intelligence at Utrecht University"
         ],
         "lat": [
          52.3555033,
          52.0940643
         ],
         "legendgroup": "Education",
         "lon": [
          4.931963,
          5.1217302
         ],
         "marker": {
          "color": "#EF553B",
          "size": [
           699,
           1187
          ],
          "sizemode": "area",
          "sizeref": 4.26
         },
         "mode": "markers",
         "name": "Education",
         "showlegend": true,
         "subplot": "mapbox",
         "type": "scattermapbox"
        },
        {
         "customdata": [
          [
           "Ancillary",
           334,
           "2022-09",
           "2023-08",
           52.1064124,
           5.1109791
          ],
          [
           "Ancillary",
           334,
           "2021-09",
           "2022-08",
           52.0872831,
           5.1629691
          ]
         ],
         "hovertemplate": "<b>%{hovertext}</b><br>Began: %{customdata[2]} <br>Until: %{customdata[3]}",
         "hovertext": [
          "Secretary at S.V. Ergo",
          "Secretary at Descartes Alumnigenootschap"
         ],
         "lat": [
          52.1064124,
          52.0872831
         ],
         "legendgroup": "Ancillary",
         "lon": [
          5.1109791,
          5.1629691
         ],
         "marker": {
          "color": "#00cc96",
          "size": [
           334,
           334
          ],
          "sizemode": "area",
          "sizeref": 4.26
         },
         "mode": "markers",
         "name": "Ancillary",
         "showlegend": true,
         "subplot": "mapbox",
         "type": "scattermapbox"
        }
       ],
       "layout": {
        "geo": {
         "fitbounds": "locations"
        },
        "legend": {
         "itemsizing": "constant",
         "title": {
          "text": "type"
         },
         "tracegroupgap": 0
        },
        "mapbox": {
         "center": {
          "lat": 52.24246705714285,
          "lon": 5.2366299
         },
         "domain": {
          "x": [
           0,
           1
          ],
          "y": [
           0,
           1
          ]
         },
         "style": "carto-positron",
         "zoom": 8
        },
        "margin": {
         "b": 0,
         "l": 0,
         "r": 0,
         "t": 0
        },
        "showlegend": false,
        "template": {
         "data": {
          "bar": [
           {
            "error_x": {
             "color": "#2a3f5f"
            },
            "error_y": {
             "color": "#2a3f5f"
            },
            "marker": {
             "line": {
              "color": "#E5ECF6",
              "width": 0.5
             },
             "pattern": {
              "fillmode": "overlay",
              "size": 10,
              "solidity": 0.2
             }
            },
            "type": "bar"
           }
          ],
          "barpolar": [
           {
            "marker": {
             "line": {
              "color": "#E5ECF6",
              "width": 0.5
             },
             "pattern": {
              "fillmode": "overlay",
              "size": 10,
              "solidity": 0.2
             }
            },
            "type": "barpolar"
           }
          ],
          "carpet": [
           {
            "aaxis": {
             "endlinecolor": "#2a3f5f",
             "gridcolor": "white",
             "linecolor": "white",
             "minorgridcolor": "white",
             "startlinecolor": "#2a3f5f"
            },
            "baxis": {
             "endlinecolor": "#2a3f5f",
             "gridcolor": "white",
             "linecolor": "white",
             "minorgridcolor": "white",
             "startlinecolor": "#2a3f5f"
            },
            "type": "carpet"
           }
          ],
          "choropleth": [
           {
            "colorbar": {
             "outlinewidth": 0,
             "ticks": ""
            },
            "type": "choropleth"
           }
          ],
          "contour": [
           {
            "colorbar": {
             "outlinewidth": 0,
             "ticks": ""
            },
            "colorscale": [
             [
              0,
              "#0d0887"
             ],
             [
              0.1111111111111111,
              "#46039f"
             ],
             [
              0.2222222222222222,
              "#7201a8"
             ],
             [
              0.3333333333333333,
              "#9c179e"
             ],
             [
              0.4444444444444444,
              "#bd3786"
             ],
             [
              0.5555555555555556,
              "#d8576b"
             ],
             [
              0.6666666666666666,
              "#ed7953"
             ],
             [
              0.7777777777777778,
              "#fb9f3a"
             ],
             [
              0.8888888888888888,
              "#fdca26"
             ],
             [
              1,
              "#f0f921"
             ]
            ],
            "type": "contour"
           }
          ],
          "contourcarpet": [
           {
            "colorbar": {
             "outlinewidth": 0,
             "ticks": ""
            },
            "type": "contourcarpet"
           }
          ],
          "heatmap": [
           {
            "colorbar": {
             "outlinewidth": 0,
             "ticks": ""
            },
            "colorscale": [
             [
              0,
              "#0d0887"
             ],
             [
              0.1111111111111111,
              "#46039f"
             ],
             [
              0.2222222222222222,
              "#7201a8"
             ],
             [
              0.3333333333333333,
              "#9c179e"
             ],
             [
              0.4444444444444444,
              "#bd3786"
             ],
             [
              0.5555555555555556,
              "#d8576b"
             ],
             [
              0.6666666666666666,
              "#ed7953"
             ],
             [
              0.7777777777777778,
              "#fb9f3a"
             ],
             [
              0.8888888888888888,
              "#fdca26"
             ],
             [
              1,
              "#f0f921"
             ]
            ],
            "type": "heatmap"
           }
          ],
          "heatmapgl": [
           {
            "colorbar": {
             "outlinewidth": 0,
             "ticks": ""
            },
            "colorscale": [
             [
              0,
              "#0d0887"
             ],
             [
              0.1111111111111111,
              "#46039f"
             ],
             [
              0.2222222222222222,
              "#7201a8"
             ],
             [
              0.3333333333333333,
              "#9c179e"
             ],
             [
              0.4444444444444444,
              "#bd3786"
             ],
             [
              0.5555555555555556,
              "#d8576b"
             ],
             [
              0.6666666666666666,
              "#ed7953"
             ],
             [
              0.7777777777777778,
              "#fb9f3a"
             ],
             [
              0.8888888888888888,
              "#fdca26"
             ],
             [
              1,
              "#f0f921"
             ]
            ],
            "type": "heatmapgl"
           }
          ],
          "histogram": [
           {
            "marker": {
             "pattern": {
              "fillmode": "overlay",
              "size": 10,
              "solidity": 0.2
             }
            },
            "type": "histogram"
           }
          ],
          "histogram2d": [
           {
            "colorbar": {
             "outlinewidth": 0,
             "ticks": ""
            },
            "colorscale": [
             [
              0,
              "#0d0887"
             ],
             [
              0.1111111111111111,
              "#46039f"
             ],
             [
              0.2222222222222222,
              "#7201a8"
             ],
             [
              0.3333333333333333,
              "#9c179e"
             ],
             [
              0.4444444444444444,
              "#bd3786"
             ],
             [
              0.5555555555555556,
              "#d8576b"
             ],
             [
              0.6666666666666666,
              "#ed7953"
             ],
             [
              0.7777777777777778,
              "#fb9f3a"
             ],
             [
              0.8888888888888888,
              "#fdca26"
             ],
             [
              1,
              "#f0f921"
             ]
            ],
            "type": "histogram2d"
           }
          ],
          "histogram2dcontour": [
           {
            "colorbar": {
             "outlinewidth": 0,
             "ticks": ""
            },
            "colorscale": [
             [
              0,
              "#0d0887"
             ],
             [
              0.1111111111111111,
              "#46039f"
             ],
             [
              0.2222222222222222,
              "#7201a8"
             ],
             [
              0.3333333333333333,
              "#9c179e"
             ],
             [
              0.4444444444444444,
              "#bd3786"
             ],
             [
              0.5555555555555556,
              "#d8576b"
             ],
             [
              0.6666666666666666,
              "#ed7953"
             ],
             [
              0.7777777777777778,
              "#fb9f3a"
             ],
             [
              0.8888888888888888,
              "#fdca26"
             ],
             [
              1,
              "#f0f921"
             ]
            ],
            "type": "histogram2dcontour"
           }
          ],
          "mesh3d": [
           {
            "colorbar": {
             "outlinewidth": 0,
             "ticks": ""
            },
            "type": "mesh3d"
           }
          ],
          "parcoords": [
           {
            "line": {
             "colorbar": {
              "outlinewidth": 0,
              "ticks": ""
             }
            },
            "type": "parcoords"
           }
          ],
          "pie": [
           {
            "automargin": true,
            "type": "pie"
           }
          ],
          "scatter": [
           {
            "fillpattern": {
             "fillmode": "overlay",
             "size": 10,
             "solidity": 0.2
            },
            "type": "scatter"
           }
          ],
          "scatter3d": [
           {
            "line": {
             "colorbar": {
              "outlinewidth": 0,
              "ticks": ""
             }
            },
            "marker": {
             "colorbar": {
              "outlinewidth": 0,
              "ticks": ""
             }
            },
            "type": "scatter3d"
           }
          ],
          "scattercarpet": [
           {
            "marker": {
             "colorbar": {
              "outlinewidth": 0,
              "ticks": ""
             }
            },
            "type": "scattercarpet"
           }
          ],
          "scattergeo": [
           {
            "marker": {
             "colorbar": {
              "outlinewidth": 0,
              "ticks": ""
             }
            },
            "type": "scattergeo"
           }
          ],
          "scattergl": [
           {
            "marker": {
             "colorbar": {
              "outlinewidth": 0,
              "ticks": ""
             }
            },
            "type": "scattergl"
           }
          ],
          "scattermapbox": [
           {
            "marker": {
             "colorbar": {
              "outlinewidth": 0,
              "ticks": ""
             }
            },
            "type": "scattermapbox"
           }
          ],
          "scatterpolar": [
           {
            "marker": {
             "colorbar": {
              "outlinewidth": 0,
              "ticks": ""
             }
            },
            "type": "scatterpolar"
           }
          ],
          "scatterpolargl": [
           {
            "marker": {
             "colorbar": {
              "outlinewidth": 0,
              "ticks": ""
             }
            },
            "type": "scatterpolargl"
           }
          ],
          "scatterternary": [
           {
            "marker": {
             "colorbar": {
              "outlinewidth": 0,
              "ticks": ""
             }
            },
            "type": "scatterternary"
           }
          ],
          "surface": [
           {
            "colorbar": {
             "outlinewidth": 0,
             "ticks": ""
            },
            "colorscale": [
             [
              0,
              "#0d0887"
             ],
             [
              0.1111111111111111,
              "#46039f"
             ],
             [
              0.2222222222222222,
              "#7201a8"
             ],
             [
              0.3333333333333333,
              "#9c179e"
             ],
             [
              0.4444444444444444,
              "#bd3786"
             ],
             [
              0.5555555555555556,
              "#d8576b"
             ],
             [
              0.6666666666666666,
              "#ed7953"
             ],
             [
              0.7777777777777778,
              "#fb9f3a"
             ],
             [
              0.8888888888888888,
              "#fdca26"
             ],
             [
              1,
              "#f0f921"
             ]
            ],
            "type": "surface"
           }
          ],
          "table": [
           {
            "cells": {
             "fill": {
              "color": "#EBF0F8"
             },
             "line": {
              "color": "white"
             }
            },
            "header": {
             "fill": {
              "color": "#C8D4E3"
             },
             "line": {
              "color": "white"
             }
            },
            "type": "table"
           }
          ]
         },
         "layout": {
          "annotationdefaults": {
           "arrowcolor": "#2a3f5f",
           "arrowhead": 0,
           "arrowwidth": 1
          },
          "autotypenumbers": "strict",
          "coloraxis": {
           "colorbar": {
            "outlinewidth": 0,
            "ticks": ""
           }
          },
          "colorscale": {
           "diverging": [
            [
             0,
             "#8e0152"
            ],
            [
             0.1,
             "#c51b7d"
            ],
            [
             0.2,
             "#de77ae"
            ],
            [
             0.3,
             "#f1b6da"
            ],
            [
             0.4,
             "#fde0ef"
            ],
            [
             0.5,
             "#f7f7f7"
            ],
            [
             0.6,
             "#e6f5d0"
            ],
            [
             0.7,
             "#b8e186"
            ],
            [
             0.8,
             "#7fbc41"
            ],
            [
             0.9,
             "#4d9221"
            ],
            [
             1,
             "#276419"
            ]
           ],
           "sequential": [
            [
             0,
             "#0d0887"
            ],
            [
             0.1111111111111111,
             "#46039f"
            ],
            [
             0.2222222222222222,
             "#7201a8"
            ],
            [
             0.3333333333333333,
             "#9c179e"
            ],
            [
             0.4444444444444444,
             "#bd3786"
            ],
            [
             0.5555555555555556,
             "#d8576b"
            ],
            [
             0.6666666666666666,
             "#ed7953"
            ],
            [
             0.7777777777777778,
             "#fb9f3a"
            ],
            [
             0.8888888888888888,
             "#fdca26"
            ],
            [
             1,
             "#f0f921"
            ]
           ],
           "sequentialminus": [
            [
             0,
             "#0d0887"
            ],
            [
             0.1111111111111111,
             "#46039f"
            ],
            [
             0.2222222222222222,
             "#7201a8"
            ],
            [
             0.3333333333333333,
             "#9c179e"
            ],
            [
             0.4444444444444444,
             "#bd3786"
            ],
            [
             0.5555555555555556,
             "#d8576b"
            ],
            [
             0.6666666666666666,
             "#ed7953"
            ],
            [
             0.7777777777777778,
             "#fb9f3a"
            ],
            [
             0.8888888888888888,
             "#fdca26"
            ],
            [
             1,
             "#f0f921"
            ]
           ]
          },
          "colorway": [
           "#636efa",
           "#EF553B",
           "#00cc96",
           "#ab63fa",
           "#FFA15A",
           "#19d3f3",
           "#FF6692",
           "#B6E880",
           "#FF97FF",
           "#FECB52"
          ],
          "font": {
           "color": "#2a3f5f"
          },
          "geo": {
           "bgcolor": "white",
           "lakecolor": "white",
           "landcolor": "#E5ECF6",
           "showlakes": true,
           "showland": true,
           "subunitcolor": "white"
          },
          "hoverlabel": {
           "align": "left"
          },
          "hovermode": "closest",
          "mapbox": {
           "style": "light"
          },
          "paper_bgcolor": "white",
          "plot_bgcolor": "#E5ECF6",
          "polar": {
           "angularaxis": {
            "gridcolor": "white",
            "linecolor": "white",
            "ticks": ""
           },
           "bgcolor": "#E5ECF6",
           "radialaxis": {
            "gridcolor": "white",
            "linecolor": "white",
            "ticks": ""
           }
          },
          "scene": {
           "xaxis": {
            "backgroundcolor": "#E5ECF6",
            "gridcolor": "white",
            "gridwidth": 2,
            "linecolor": "white",
            "showbackground": true,
            "ticks": "",
            "zerolinecolor": "white"
           },
           "yaxis": {
            "backgroundcolor": "#E5ECF6",
            "gridcolor": "white",
            "gridwidth": 2,
            "linecolor": "white",
            "showbackground": true,
            "ticks": "",
            "zerolinecolor": "white"
           },
           "zaxis": {
            "backgroundcolor": "#E5ECF6",
            "gridcolor": "white",
            "gridwidth": 2,
            "linecolor": "white",
            "showbackground": true,
            "ticks": "",
            "zerolinecolor": "white"
           }
          },
          "shapedefaults": {
           "line": {
            "color": "#2a3f5f"
           }
          },
          "ternary": {
           "aaxis": {
            "gridcolor": "white",
            "linecolor": "white",
            "ticks": ""
           },
           "baxis": {
            "gridcolor": "white",
            "linecolor": "white",
            "ticks": ""
           },
           "bgcolor": "#E5ECF6",
           "caxis": {
            "gridcolor": "white",
            "linecolor": "white",
            "ticks": ""
           }
          },
          "title": {
           "x": 0.05
          },
          "xaxis": {
           "automargin": true,
           "gridcolor": "white",
           "linecolor": "white",
           "ticks": "",
           "title": {
            "standoff": 15
           },
           "zerolinecolor": "white",
           "zerolinewidth": 2
          },
          "yaxis": {
           "automargin": true,
           "gridcolor": "white",
           "linecolor": "white",
           "ticks": "",
           "title": {
            "standoff": 15
           },
           "zerolinecolor": "white",
           "zerolinewidth": 2
          }
         }
        }
       }
      }
     },
     "metadata": {},
     "output_type": "display_data"
    }
   ],
   "source": [
    "import pandas as pd\n",
    "import plotly.express as px\n",
    "import datetime\n",
    "\n",
    "df = pd.read_csv(\"bio.csv\")\n",
    "df['length'] = (pd.to_datetime(df['end'].replace(\"Present\",datetime.datetime.now().strftime(\"%Y-%m\"))) - pd.to_datetime(df['beginning'])).dt.days\n",
    "df['text'] = 'Started: ' + df['beginning'].to_string() + '<br>Until: ' + df['end'].to_string()\n",
    "fig = px.scatter_mapbox(df, lat='lat', lon='lon', color=\"type\", hover_name=\"name\", \n",
    "                     size=\"length\",\n",
    "                     hover_data={'type':False,\n",
    "                                 'length':False,\n",
    "                                 'beginning':True,\n",
    "                                 'end':True,\n",
    "                                 'lat':False,\n",
    "                                 'lon':False},\n",
    "                    mapbox_style=\"carto-positron\")\n",
    "fig.update_traces(hovertemplate='<b>%{hovertext}</b><br>Began: %{customdata[2]} <br>Until: %{customdata[3]}')\n",
    "fig.update_layout(showlegend=False, margin={'t':0,'l':0,'b':0,'r':0})\n",
    "fig.update_geos(fitbounds=\"locations\")\n",
    "fig.show()"
   ]
  },
  {
   "cell_type": "markdown",
   "metadata": {},
   "source": [
    "## Employment\n",
    "<a name=\"emp\"></a>\n",
    "\n",
    "### 2023-Present: Teacher at University of Amsterdam\n",
    "After I finished my studies (for now), I stayed at the University of Amsterdam, now as a full-time teacher in the bachelor's programme in artificial intelligence. Here, I teach students, help professors in organizing their courses, and assist in ancillary activities such as study matching and evaluation of education. As an added bonus, being involved with these courses allows me to experience facets of the field of AI that weren't covered in the bachelor's programme in Utrecht.\n",
    "\n",
    "### 2021-2022: IT employee at Kliksafe\n",
    "As an IT employee at Kliksafe I worked in the business department, where we helped schools and companies access the internet safely. Among my tasks was safely processing data supplied by schools, installing operating systems, and tuning internet communication protocols.\n",
    "\n",
    "### 2015-2019: Employee at Het Goed Harderwijk\n",
    "When working at thrift store _Het Goed_, I helped behind the counter as well as in the store and by accepting donations. As the most experienced weekend employee, I was also often tasked with introducing new employees to the work done there, including people who worked at _Het Goed_ in the context of social programmes."
   ]
  },
  {
   "cell_type": "markdown",
   "metadata": {},
   "source": [
    "## Education\n",
    "<a name=\"edu\"></a>\n",
    "\n",
    "### 2021-2023: MSc Logic at University of Amsterdam\n",
    "\n",
    "After finishing my bachelor's degree, I continued with this master's degree at the Institute for Logic, Language and Computation. I took broad courses in logic as well as specialized courses in natural language processing, explainability in artificial intelligence, game theory, philosophy of technology and philosophy of mathematics. In 2023, I graduated from this degree _cum laude_.\n",
    "\n",
    "Highlights:\n",
    "- I wrote my master's thesis on the topic of _semantic underspecification_ under the supervision of [dr. Sandro Pezzelle](https://www.illc.uva.nl/People/person/4766/Dr-Sandro-Pezzelle). After finishing the thesis, we continued working on the topic, resulting in a paper accepted to the 2024 ACL Findings.\n",
    "- I took part in the [Philosophy of Mathematics Beyond the Armchair?!](https://beyond-the-armchair.netlify.app/) Summerschool on experimental methods in the philosophy of mathematics and, under the guidance of dr. Luca Incurvati, completed a project based on it.\n",
    "- For the course _Interpretability & Explainability in AI_ I presented our project at a student conference for all MSc AI students\n",
    "- I participated in a [project on Dialogue Modelling](https://msclogic.illc.uva.nl/current-students/courses/previous-projects/project/193/1st-Semester-2021-22-Dialogue-Modelling) under the guidance of dr. Raquel Fernández and Mario Giulianelli.\n",
    "\n",
    "\n",
    "### 2017-2020: BSc Artificial Intelligence at Utrecht University\n",
    "I began studying at the bachelor's degree in artificial intelligence at Utrecht University. After the broad introduction to all aspects of artificial intelligence I continued with two tracks: _Agents_, with courses on machine learning and intelligent systems, and _Reasoning and Language_, with courses on formal semantics and theoretical computer science. Besides the courses, I took part in many extracurricular activities.\n",
    "\n",
    "Highlights:\n",
    "- I took part in and completed the [Descartes College](https://students.uu.nl/onderwijs/honours/descartes-college) interdisciplinary honours programme, where I followed lectures and workshops by prominent speakers from academia and industry.\n",
    "- In the time between finishing my bachelor's degree and starting my master's degree, I finished a minor in computer science, during which I followed courses on computer science topics not covered during the AI bachelor programme.\n",
    "- I worked as a teaching assistant for the courses _Introduction to Adaptive Systems_, _Artificial Intelligence_ and _Intelligent Systems_ in the bachelor's programmes in artificial intelligence and computer science\n",
    "- I also completed the [Humanities Honours Programme](https://students.uu.nl/gw/honours), an interdisciplinary honours programme from students at the humanities faculty. Here, I learned to collaborate with students with very different backgrounds and gained my interest in the study of human culture.\n",
    "- With fellow students from the Humanities Honours Programme, I organized two conferences for students of the humanities faculty."
   ]
  },
  {
   "cell_type": "markdown",
   "metadata": {},
   "source": [
    "## Ancillary Activities\n",
    "<a name=\"anc\"></a>\n",
    "\n",
    "### 2022-2023: Secretary at S.V. Ergo\n",
    "Not satisfied with having been the secretary of the Descartes alumni society, I continued with a year as the secretary of study association Ergo of the Descartes honours programme.\n",
    "\n",
    "Highlights:\n",
    "- We organized a weekend trip to The Hague and a end-of-year weekend to Haarlem, with educative and social activity\n",
    "- With the honours study association from the UvA, we organized a _public sector event_ with speakers from the EU, OECD, WHO and other organisations working in the public sector.\n",
    "\n",
    "### 2021-2022: Secretary at Descartes Alumnigenootschap\n",
    "After finishing the Descartes college, I was the secretary of the _Descartes alumni society_, which attempts to provide further meetings for alumni of this interdisciplinary honours programme given at Utrecht University.\n",
    "\n",
    "Highlights:\n",
    "- We organized lectures by prominent speakers, such as distinguished professor prof. dr. Frits van Oostrom, member of the Dutch Outbreak Management Team and pediatrician drs. Károly Illy, and former _mbo-ambassadeur_ Desiree Hernandez\n",
    "- In collaboration with study association Ergo, we organized a gala for over 100 students"
   ]
  }
 ],
 "metadata": {
  "kernelspec": {
   "display_name": "Python 3 (ipykernel)",
   "language": "python",
   "name": "python3"
  },
  "language_info": {
   "codemirror_mode": {
    "name": "ipython",
    "version": 3
   },
   "file_extension": ".py",
   "mimetype": "text/x-python",
   "name": "python",
   "nbconvert_exporter": "python",
   "pygments_lexer": "ipython3",
   "version": "3.12.4"
  },
  "widgets": {
   "application/vnd.jupyter.widget-state+json": {
    "state": {},
    "version_major": 2,
    "version_minor": 0
   }
  }
 },
 "nbformat": 4,
 "nbformat_minor": 4
}
