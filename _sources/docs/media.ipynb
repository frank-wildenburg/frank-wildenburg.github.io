{
 "cells": [
  {
   "cell_type": "markdown",
   "metadata": {},
   "source": [
    "# Media"
   ]
  },
  {
   "cell_type": "code",
   "execution_count": 1,
   "metadata": {
    "tags": [
     "remove-input"
    ]
   },
   "outputs": [
    {
     "name": "stdout",
     "output_type": "stream",
     "text": [
      "Last updated: 2024-09-06\n"
     ]
    }
   ],
   "source": [
    "import datetime\n",
    "print(f\"Last updated: {str(datetime.datetime.now())[:10]}\")"
   ]
  },
  {
   "cell_type": "markdown",
   "metadata": {},
   "source": [
    "Since around 2020, I have been keeping track of almost all media I consume - mostly books and games, but also concerts (but not CD's), movies, museums, and other forms of culture. Here, you can find a quick summary of what I've been up to"
   ]
  },
  {
   "cell_type": "markdown",
   "metadata": {},
   "source": [
    "## Last enjoyed"
   ]
  },
  {
   "cell_type": "code",
   "execution_count": 2,
   "metadata": {
    "tags": [
     "remove-input"
    ]
   },
   "outputs": [
    {
     "name": "stdout",
     "output_type": "stream",
     "text": [
      "Last played: Tactical Breach Wizards by Tom Francis\n",
      "Which I thought was: close to perfect!\n"
     ]
    }
   ],
   "source": [
    "import pandas as pd\n",
    "df = pd.read_csv(\"media.csv\")\n",
    "\n",
    "verb_dict = {\"Book\":\"read\",\"Game\":\"played\",\"Movie\":\"watched\",\"Concert\":\"visited\",\"Museum\":\"visited\"}\n",
    "end = f\" by {df['creator'].iloc[-1]}\" if not any(df['creator'].iloc[-1:].isna()) else \"\"\n",
    "print(f\"Last {verb_dict.get(df['type'].iloc[-1], 'visited')}: {df['name'].iloc[-1]}{end}\")\n",
    "score_dict = {10:'close to perfect!', 9:'fantastic!', 8:'great', 7:'good', 6:'okay', 5:'meh...', 4:'not great', 3:'bad', 2:'terrible', 1: 'abhorrent', 0:'the worst!'}\n",
    "print(f\"Which I thought was: {score_dict[round(df['score'].iloc[-1])]}\")"
   ]
  },
  {
   "cell_type": "markdown",
   "metadata": {},
   "source": [
    "## All-time favorites"
   ]
  },
  {
   "cell_type": "code",
   "execution_count": 3,
   "metadata": {
    "tags": [
     "remove-input"
    ]
   },
   "outputs": [
    {
     "name": "stdout",
     "output_type": "stream",
     "text": [
      "Some works I can wholeheartedly recommend are:\n",
      "* When We Cease to Understand the World by Benjamin Labatut, which I rated at 9.5\n",
      "* Exhalation by Ted Chiang, which I rated at 10.0\n",
      "* Elden Ring by FromSoftware, which I rated at 9.5\n",
      "* Sable by Shedworks, which I rated at 9.5\n",
      "* One Finger Death Punch by Silver Dollar Games, which I rated at 9.5\n"
     ]
    }
   ],
   "source": [
    "df3 = df.copy()\n",
    "sample = df3[df3['score'] >= 9.5].sample(5).reset_index()\n",
    "print(\"Some works I can wholeheartedly recommend are:\")\n",
    "for i in range(len(sample)):\n",
    "    print(f\"* {sample['name'][i]} by {sample['creator'][i]}, which I rated at {sample['score'][i]}\")"
   ]
  },
  {
   "cell_type": "markdown",
   "metadata": {},
   "source": [
    "## What?"
   ]
  },
  {
   "cell_type": "code",
   "execution_count": 4,
   "metadata": {
    "tags": [
     "remove-input"
    ]
   },
   "outputs": [
    {
     "data": {
      "application/vnd.plotly.v1+json": {
       "config": {
        "plotlyServerURL": "https://plot.ly"
       },
       "data": [
        {
         "branchvalues": "total",
         "domain": {
          "x": [
           0,
           1
          ],
          "y": [
           0,
           1
          ]
         },
         "hovertemplate": "<b>Amount: %{value} </b><br>%{label}",
         "ids": [
          "Book/2023/8.5/2001: A Space Odyssey",
          "Book/2023/8.0/A Clockwork Orange",
          "Game/2024/9.0/A Dance of Ice and Fire",
          "Book/2021/7.5/A Mathematician's Apology",
          "Book/2023/9.0/A Science Fiction Omnibus",
          "Book/2022/8.0/A Year in the Linear City",
          "Book/2021/7.0/Aantekeningen uit het Ondergrondse",
          "Game/2024/8.5/Alba: A Wildlife Adventure",
          "Book/2023/8.5/Almond",
          "Book/2024/9.0/Als, Dan: Een Logische Roman",
          "Game/2021/8.0/Animal Crossing: New Horizons",
          "Book/2023/9.5/Animal Farm",
          "Book/2022/7.5/Annihilation",
          "Museum/2023/8.0/Antwerpen 2023: Chocolate Nation, Museum Plantin-Moretus",
          "Game/2024/9.0/Armored Core 6: Fires of Rubicon",
          "Book/2021/8.0/Art Nouveau",
          "Book/2022/9.0/Avatar, the Last Airbender: The Rise of Kyoshi",
          "Book/2022/9.0/Avatar, the Last Airbender: The Shadow of Kyoshi",
          "Concert/2022/7.5/BADBADNOTGOOD",
          "Game/2023/8.0/Baba is You",
          "Game/2021/8.0/Bayonetta",
          "Game/2023/8.0/Bayonetta 2",
          "Game/2023/7.0/Before Your Eyes",
          "Museum/2024/8.0/België 2024: Hortamuseum",
          "Game/2022/9.0/Bowser's Fury",
          "Concert/2023/8.0/Brass Against",
          "Game/2021/8.5/Cadence of Hyrule - Crypt of the NecroDancer feat. The Legend of Zelda",
          "Game/2021/8.5/Captain Toad: Treasure Tracker",
          "Book/2021/7.5/Cat's Cradle",
          "Museum/2023/7.0/Centraal Museum",
          "Concert/2023/8.0/Central Park Festival 2023",
          "Book/2023/8.5/Chain-Gang All-Stars",
          "Book/2024/7.5/Chernobyl Prayer",
          "Book/2023/9.0/Chess: A Novel",
          "Game/2023/9.0/Citizen Sleeper",
          "Book/2021/8.0/Claudius de God",
          "Book/2022/8.0/Cloud Atlas",
          "Book/2024/8.5/Cognitive Psychology and its Implications",
          "Concert/2023/7.5/Concertgebouworkest speelt Elgar en Vaughan Williams",
          "Game/2023/8.5/Control",
          "Book/2021/8.0/Cosmicomics",
          "Game/2022/9.5/Cuphead",
          "Game/2024/9.0/Cyberpunk 2077",
          "Museum/2022/9.0/DAG-Stadshuisbezoek",
          "Book/2021/8.5/De Adelaars",
          "Book/2023/7.5/De Avonden",
          "Book/2023/8.0/De Reyneart",
          "Book/2023/8.0/De Utrechtse Student: 1945 tot Nu",
          "Game/2021/8.5/Death Stranding",
          "Game/2023/8.0/Deathloop",
          "Game/2021/10.0/Deltarune: Chapter 2",
          "Book/2023/8.0/Deltora Quest - The Forests of Silence/The Lake of Tears",
          "Book/2021/7.5/Descartes Jaarboek",
          "Conference/2023/6.5/Digital Climate",
          "Game/2022/10.0/Disco Elysium",
          "Game/2021/8.5/Dishonored",
          "Game/2024/8.0/Dishonored 2",
          "Game/2024/8.0/Donkey Kong Country: Tropical Freeze",
          "Game/2021/8.0/Donut County",
          "Concert/2023/7.5/Dr. Atomic",
          "Movie/2023/8.5/Dr. Strangelove or: How I Learned to Stop Worrying and Love the Bomb",
          "Movie/2024/9.0/Dune: Part 2",
          "Concert/2024/8.5/Dvořáks Symfonie nr. 7 onder leiding van Lorenzo Viotti",
          "Book/2022/9.5/Educated",
          "Cabaret/2022/8.0/Ego",
          "Game/2023/9.5/Elden Ring",
          "Game/2022/10.0/Elden Ring",
          "Game/2024/9.0/Elden Ring - Shadow of the Erdtree",
          "Book/2021/9.5/Ella Minnow Pea",
          "Concert/2022/8.5/Enigma-Variaties met Adam Hickox",
          "Museum/2022/9.0/Escher in het Paleis",
          "Book/2021/10.0/Exhalation",
          "Concert/2023/8.5/Fantasia",
          "Book/2022/8.0/Ficciones",
          "Game/2022/9.0/Finding Paradise",
          "Book/2024/9.0/Flatland: A Romance of Many Dimensions",
          "Concert/2023/9.5/Footprints Festival 2023",
          "Game/2021/8.5/Forza Horizon 4",
          "Book/2022/9.5/Friday Black",
          "Book/2021/5.0/Geyerstein's Dynamiek",
          "Game/2022/9.0/God of War (2018)",
          "Museum/2023/7.5/Groningen 2023: Groninger Museum, Storyworld",
          "Book/2023/10.0/Guards! Guards!",
          "Game/2021/10.0/Hades",
          "Book/2021/8.0/Hallo Witte Mensen",
          "Book/2022/8.0/Happy Stories, Mostly",
          "Book/2021/9.0/Hard-Boiled Wonderland and the End of the World",
          "Concert/2024/8.0/Hedvig Mollestad Trio",
          "Book/2021/8.5/Het Arcanum",
          "Book/2024/7.0/Het Lijden van de Jonge Werther",
          "Museum/2023/7.5/Het Utrechts Archief",
          "Museum/2022/8.0/Het Utrechts Archief",
          "Theater/2023/9.0/Het Wrak van de Opulenta",
          "Game/2023/9.0/Hi-Fi Rush",
          "Game/2024/10.0/Hi-Fi Rush",
          "Series/2023/7.5/How to Build a Sex Room",
          "Movie/2022/8.0/How to Train Your Dragon: The Hidden World",
          "Book/2024/6.0/I Want to Die but I Want to Eat Tteokbokki",
          "Game/2021/7.5/INSIDE",
          "Book/2021/8.0/Ik, Claudius",
          "Game/2023/8.0/In Other Waters",
          "Game/2024/8.5/Inscryption",
          "Concert/2023/8.0/Internationaal Kamermuziek Festival Utrecht Avondconcert",
          "Game/2024/8.5/Islets",
          "Book/2021/7.0/Je Bent Jong en Je Rouwt Wat",
          "Book/2022/8.0/Je Kunt Het Maar Eén Keer Doen",
          "Game/2023/8.0/Katamari Damacy REROLL",
          "Game/2021/8.0/Katana ZERO",
          "Game/2023/8.0/Kid A Mnesia Exhibition",
          "Concert/2024/10.0/King Gizzard and the Lizard Wizard Live in AFAS",
          "Game/2022/8.5/Kirby and the Forgotten Land",
          "Book/2021/8.5/Klara and the Sun",
          "Book/2023/7.0/Kroniek van een Aangekondigde Dood",
          "Concert/2024/7.5/Laat Je Horen!",
          "Movie/2023/8.0/Legally Blonde",
          "Concert/2022/9.0/Liefdesdaad",
          "Book/2022/7.5/Living Proof",
          "Book/2021/9.0/Logicomix",
          "Book/2024/8.0/Lolita",
          "Movie/2023/7.0/Love, Actually",
          "Book/2021/7.5/Man's Search for Meaning",
          "Game/2024/7.0/Mario + Rabbids: Sparks of Hope",
          "Book/2023/10.0/Men at Arms",
          "Game/2021/9.0/Metroid Dread",
          "Game/2024/9.0/Metroid Dread",
          "Game/2023/8.5/Metroid Prime Remastered",
          "Book/2022/9.0/Monstrous Regiment",
          "Movie/2023/8.5/Monty Python and the Holy Grail",
          "Book/2023/8.5/Moving Pictures",
          "Book/2021/7.5/Museums and Women and Other Stories",
          "Book/2024/8.0/My Uncle Oswald",
          "Book/2021/8.5/My Uncle Oswald",
          "Museum/2023/7.5/NEMO Science Museum",
          "Museum/2023/7.5/Naturalis",
          "Game/2024/9.0/Neon White",
          "Book/2022/8.0/Neuromancer",
          "Game/2021/8.5/NieR: Automata",
          "Book/2024/8.0/Night",
          "Book/2024/9.0/Nine Tomorrows",
          "Concert/2023/8.0/North Sea Jazz 2023",
          "Book/2021/9.0/Oer en Andere Tijden",
          "Game/2023/9.0/Okami HD",
          "Book/2024/8.0/Onder Professoren",
          "Game/2022/9.5/One Finger Death Punch",
          "Book/2023/9.0/One Flew Over the Cuckoo's Nest",
          "Book/2022/8.5/Ontjoodst door de Wetenschap",
          "Museum/2024/8.0/Oost-Duitsland 2024: Herzogin Anna Amalia Bibliothek, Bauhaus Museum Weimar, Grünes Gewölbe, Dresdner Zwinger",
          "Concert/2023/7.5/Orelon Trio met Yukine Kuroki",
          "Game/2021/9.0/Ori and the Blind Forest",
          "Game/2024/8.5/Outer Wilds",
          "Game/2021/9.0/Overcooked 2",
          "Book/2022/9.0/Pale Fire",
          "Game/2024/9.0/Paper Mario: The Thousand-Year Door",
          "Game/2022/7.0/Persona 5 Strikers",
          "Game/2023/7.5/Pikmin",
          "Game/2023/8.5/Pikmin 2",
          "Game/2023/9.5/Pikmin 3 Deluxe",
          "Game/2023/10.0/Pikmin 4",
          "Concert/2023/9.0/Pinkpop 2023",
          "Game/2023/9.0/Pokémon Legends: Arceus",
          "Concert/2023/7.5/Prokofjev en Rachmaninov",
          "Concert/2024/9.0/Psychedelic Porn Crumpets Live in Paradiso",
          "Game/2021/8.0/Quarantine Circular",
          "Conference/2023/8.0/REAIM",
          "Concert/2022/8.0/Rabo Open Stage: Pega Loca",
          "Concert/2024/8.5/Rabo Open Stage: TivoliVredenburg Jamsessie",
          "Concert/2023/8.5/Randmeerconcert",
          "Game/2023/9.5/Rayman Legends",
          "Game/2022/8.0/Return of the Obra Dinn",
          "Museum/2022/9.0/Rietveld-Schröderhuis",
          "Theater/2022/10.0/Roshambo, of Waarom we Steen-Papier-Schaar Spelen",
          "Movie/2024/7.0/Rubber",
          "Game/2022/9.5/Sable",
          "Game/2023/7.5/Save Room - Organization Puzzle",
          "Game/2021/9.5/Sekiro: Shadows Die Twice",
          "Game/2023/10.0/Sekiro: Shadows Die Twice",
          "Game/2021/9.0/Shovel Knight: Treasure Trove",
          "Book/2024/9.0/Siddharta",
          "Game/2022/9.0/Sifu",
          "Book/2024/9.5/Slaughterhouse-Five",
          "Book/2021/8.5/Small Gods",
          "Game/2021/7.5/Sonic Mania",
          "Game/2021/8.5/Spider-Man (2018)",
          "Game/2021/8.5/Spiritfarer",
          "Game/2021/8.0/Splatoon 2",
          "Game/2021/9.0/Stardew Valley",
          "Game/2023/7.5/Starfield",
          "Movie/2024/8.5/Stop Making Sense",
          "Book/2021/10.0/Stories of Your Life and Others",
          "Game/2024/8.0/Stray Gods: The Roleplaying Musical",
          "Game/2021/9.0/Sunless Sea",
          "Game/2021/9.5/Super Mario 3D World + Bowser's Fury",
          "Game/2023/8.0/Super Mario Bros. Wonder",
          "Game/2022/9.0/Super Mario Galaxy",
          "Game/2021/9.0/Super Mario Maker 2",
          "Game/2023/9.0/Super Mario RPG",
          "Game/2021/9.0/Super Mario Sunshine",
          "Concert/2022/8.5/Symphonie Fantastique",
          "Game/2024/10.0/Tactical Breach Wizards",
          "Game/2022/9.0/Tactical Breach Wizards Beta",
          "Movie/2023/6.5/Ted",
          "Book/2023/7.5/Terraform: Watch/Worlds/Burn",
          "Game/2022/9.5/Terraria",
          "Game/2023/8.0/The Art of Cuphead",
          "Book/2022/8.0/The Art of How to Train Your Dragon",
          "Book/2022/7.5/The Capital",
          "Book/2021/9.0/The City and the City",
          "Game/2023/8.5/The Corridor",
          "Book/2022/8.0/The Devil Tree",
          "Series/2023/7.0/The Dragon Prince, Book 4: Earth",
          "Series/2023/8.5/The Dragon Prince, Book 5: Water",
          "Book/2024/6.5/The Fall",
          "Book/2021/8.0/The Fowl Twins",
          "Movie/2024/8.0/The Gentlemen",
          "Book/2024/9.0/The Information: A History, A Theory, A Flood",
          "Book/2024/8.5/The Last Days of Socrates",
          "Game/2022/8.0/The Last Guardian",
          "Book/2022/8.5/The Left Hand of Darkness",
          "Game/2023/10.0/The Legend of Zelda: A Link Between Worlds",
          "Book/2022/8.0/The Legend of Zelda: Breath of the Wild - Creating a Champion",
          "Game/2024/8.5/The Legend of Zelda: Link's Awakening",
          "Game/2023/10.0/The Legend of Zelda: Tears of the Kingdom",
          "Book/2022/7.5/The Legend of Zelda: Twilight Princess, Vol. 2",
          "Book/2023/10.0/The MANIAC",
          "Book/2023/7.0/The Machine Stops",
          "Book/2022/9.0/The Midnight Library",
          "Book/2024/7.5/The Motorcycle Diaries",
          "Book/2021/9.5/The Night Circus",
          "Book/2023/9.0/The Outsider",
          "Book/2022/9.0/The Paper Menagerie and Other Stories",
          "Book/2021/8.5/The Penelopiad",
          "Book/2024/7.0/The Penguin Book of Oulipo",
          "Book/2023/7.5/The Republic",
          "Book/2023/8.5/The Secret History",
          "Game/2021/8.0/The Sexy Brutale",
          "Book/2023/8.0/The Southern Book Club's Guide to Slaying Vampires",
          "Book/2023/8.5/The Time Traveler's Wife",
          "Book/2022/9.0/The Way of Kings, Part 1",
          "Book/2021/9.0/This is How You Lose the Time War",
          "Book/2021/9.0/Through the Moon",
          "Game/2023/9.5/Tunic",
          "Conference/2023/8.5/UU National Conference on Responsible AI (Spoorwegmuseum)",
          "Game/2021/8.0/Uncharted: The Lost Legacy",
          "Museum/2024/8.5/Van Nellefabriek",
          "Book/2024/8.0/Videogame Atlas: Mapping Interactive Worlds",
          "Game/2023/7.5/WarioWare: Get It Together",
          "Book/2021/7.0/Wat Maakt een Verzetsheld?",
          "Book/2021/9.0/Wat Wij Zagen",
          "Book/2023/8.5/We Need to Talk About Kevin",
          "Game/2024/9.5/Webbed",
          "Book/2022/8.5/Wegens Sterfgeval Gesloten (Commedia Della Morte)",
          "Game/2021/8.5/What Remains of Edith Finch",
          "Book/2021/9.0/When Einstein Walked with Gödel",
          "Book/2021/9.5/When We Cease to Understand the World",
          "Book/2024/9.0/Wij Slaven van Suriname",
          "Movie/2023/9.0/Wreck-It Ralph",
          "Game/2021/7.0/Xenoblade Chronicles 2",
          "Game/2022/8.5/Xenoblade Chronicles 3",
          "Game/2024/9.0/Yoku's Island Express",
          "Book/2024/8.5/Zazie in the Metro",
          "Museum/2024/9.0/Zuid-Frankrijk 2024: Musée du Pont du Gard, Maison Carrée, Arles Amphitheatre",
          "Book/2021/5.0",
          "Book/2024/6.0",
          "Conference/2023/6.5",
          "Movie/2023/6.5",
          "Book/2024/6.5",
          "Book/2021/7.0",
          "Game/2021/7.0",
          "Game/2022/7.0",
          "Book/2023/7.0",
          "Game/2023/7.0",
          "Movie/2023/7.0",
          "Museum/2023/7.0",
          "Series/2023/7.0",
          "Book/2024/7.0",
          "Game/2024/7.0",
          "Movie/2024/7.0",
          "Book/2021/7.5",
          "Game/2021/7.5",
          "Book/2022/7.5",
          "Concert/2022/7.5",
          "Book/2023/7.5",
          "Concert/2023/7.5",
          "Game/2023/7.5",
          "Museum/2023/7.5",
          "Series/2023/7.5",
          "Book/2024/7.5",
          "Concert/2024/7.5",
          "Book/2021/8.0",
          "Game/2021/8.0",
          "Book/2022/8.0",
          "Cabaret/2022/8.0",
          "Concert/2022/8.0",
          "Game/2022/8.0",
          "Movie/2022/8.0",
          "Museum/2022/8.0",
          "Book/2023/8.0",
          "Concert/2023/8.0",
          "Conference/2023/8.0",
          "Game/2023/8.0",
          "Movie/2023/8.0",
          "Museum/2023/8.0",
          "Book/2024/8.0",
          "Concert/2024/8.0",
          "Game/2024/8.0",
          "Movie/2024/8.0",
          "Museum/2024/8.0",
          "Book/2021/8.5",
          "Game/2021/8.5",
          "Book/2022/8.5",
          "Concert/2022/8.5",
          "Game/2022/8.5",
          "Book/2023/8.5",
          "Concert/2023/8.5",
          "Conference/2023/8.5",
          "Game/2023/8.5",
          "Movie/2023/8.5",
          "Series/2023/8.5",
          "Book/2024/8.5",
          "Concert/2024/8.5",
          "Game/2024/8.5",
          "Movie/2024/8.5",
          "Museum/2024/8.5",
          "Book/2021/9.0",
          "Game/2021/9.0",
          "Book/2022/9.0",
          "Concert/2022/9.0",
          "Game/2022/9.0",
          "Museum/2022/9.0",
          "Book/2023/9.0",
          "Concert/2023/9.0",
          "Game/2023/9.0",
          "Movie/2023/9.0",
          "Theater/2023/9.0",
          "Book/2024/9.0",
          "Concert/2024/9.0",
          "Game/2024/9.0",
          "Movie/2024/9.0",
          "Museum/2024/9.0",
          "Book/2021/9.5",
          "Game/2021/9.5",
          "Book/2022/9.5",
          "Game/2022/9.5",
          "Book/2023/9.5",
          "Concert/2023/9.5",
          "Game/2023/9.5",
          "Book/2024/9.5",
          "Game/2024/9.5",
          "Book/2021/10.0",
          "Game/2021/10.0",
          "Game/2022/10.0",
          "Theater/2022/10.0",
          "Book/2023/10.0",
          "Game/2023/10.0",
          "Concert/2024/10.0",
          "Game/2024/10.0",
          "Book/2021",
          "Game/2021",
          "Book/2022",
          "Cabaret/2022",
          "Concert/2022",
          "Game/2022",
          "Movie/2022",
          "Museum/2022",
          "Theater/2022",
          "Book/2023",
          "Concert/2023",
          "Conference/2023",
          "Game/2023",
          "Movie/2023",
          "Museum/2023",
          "Series/2023",
          "Theater/2023",
          "Book/2024",
          "Concert/2024",
          "Game/2024",
          "Movie/2024",
          "Museum/2024",
          "Book",
          "Cabaret",
          "Concert",
          "Conference",
          "Game",
          "Movie",
          "Museum",
          "Series",
          "Theater"
         ],
         "labels": [
          "2001: A Space Odyssey",
          "A Clockwork Orange",
          "A Dance of Ice and Fire",
          "A Mathematician's Apology",
          "A Science Fiction Omnibus",
          "A Year in the Linear City",
          "Aantekeningen uit het Ondergrondse",
          "Alba: A Wildlife Adventure",
          "Almond",
          "Als, Dan: Een Logische Roman",
          "Animal Crossing: New Horizons",
          "Animal Farm",
          "Annihilation",
          "Antwerpen 2023: Chocolate Nation, Museum Plantin-Moretus",
          "Armored Core 6: Fires of Rubicon",
          "Art Nouveau",
          "Avatar, the Last Airbender: The Rise of Kyoshi",
          "Avatar, the Last Airbender: The Shadow of Kyoshi",
          "BADBADNOTGOOD",
          "Baba is You",
          "Bayonetta",
          "Bayonetta 2",
          "Before Your Eyes",
          "België 2024: Hortamuseum",
          "Bowser's Fury",
          "Brass Against",
          "Cadence of Hyrule - Crypt of the NecroDancer feat. The Legend of Zelda",
          "Captain Toad: Treasure Tracker",
          "Cat's Cradle",
          "Centraal Museum",
          "Central Park Festival 2023",
          "Chain-Gang All-Stars",
          "Chernobyl Prayer",
          "Chess: A Novel",
          "Citizen Sleeper",
          "Claudius de God",
          "Cloud Atlas",
          "Cognitive Psychology and its Implications",
          "Concertgebouworkest speelt Elgar en Vaughan Williams",
          "Control",
          "Cosmicomics",
          "Cuphead",
          "Cyberpunk 2077",
          "DAG-Stadshuisbezoek",
          "De Adelaars",
          "De Avonden",
          "De Reyneart",
          "De Utrechtse Student: 1945 tot Nu",
          "Death Stranding",
          "Deathloop",
          "Deltarune: Chapter 2",
          "Deltora Quest - The Forests of Silence/The Lake of Tears",
          "Descartes Jaarboek",
          "Digital Climate",
          "Disco Elysium",
          "Dishonored",
          "Dishonored 2",
          "Donkey Kong Country: Tropical Freeze",
          "Donut County",
          "Dr. Atomic",
          "Dr. Strangelove or: How I Learned to Stop Worrying and Love the Bomb",
          "Dune: Part 2",
          "Dvořáks Symfonie nr. 7 onder leiding van Lorenzo Viotti",
          "Educated",
          "Ego",
          "Elden Ring",
          "Elden Ring",
          "Elden Ring - Shadow of the Erdtree",
          "Ella Minnow Pea",
          "Enigma-Variaties met Adam Hickox",
          "Escher in het Paleis",
          "Exhalation",
          "Fantasia",
          "Ficciones",
          "Finding Paradise",
          "Flatland: A Romance of Many Dimensions",
          "Footprints Festival 2023",
          "Forza Horizon 4",
          "Friday Black",
          "Geyerstein's Dynamiek",
          "God of War (2018)",
          "Groningen 2023: Groninger Museum, Storyworld",
          "Guards! Guards!",
          "Hades",
          "Hallo Witte Mensen",
          "Happy Stories, Mostly",
          "Hard-Boiled Wonderland and the End of the World",
          "Hedvig Mollestad Trio",
          "Het Arcanum",
          "Het Lijden van de Jonge Werther",
          "Het Utrechts Archief",
          "Het Utrechts Archief",
          "Het Wrak van de Opulenta",
          "Hi-Fi Rush",
          "Hi-Fi Rush",
          "How to Build a Sex Room",
          "How to Train Your Dragon: The Hidden World",
          "I Want to Die but I Want to Eat Tteokbokki",
          "INSIDE",
          "Ik, Claudius",
          "In Other Waters",
          "Inscryption",
          "Internationaal Kamermuziek Festival Utrecht Avondconcert",
          "Islets",
          "Je Bent Jong en Je Rouwt Wat",
          "Je Kunt Het Maar Eén Keer Doen",
          "Katamari Damacy REROLL",
          "Katana ZERO",
          "Kid A Mnesia Exhibition",
          "King Gizzard and the Lizard Wizard Live in AFAS",
          "Kirby and the Forgotten Land",
          "Klara and the Sun",
          "Kroniek van een Aangekondigde Dood",
          "Laat Je Horen!",
          "Legally Blonde",
          "Liefdesdaad",
          "Living Proof",
          "Logicomix",
          "Lolita",
          "Love, Actually",
          "Man's Search for Meaning",
          "Mario + Rabbids: Sparks of Hope",
          "Men at Arms",
          "Metroid Dread",
          "Metroid Dread",
          "Metroid Prime Remastered",
          "Monstrous Regiment",
          "Monty Python and the Holy Grail",
          "Moving Pictures",
          "Museums and Women and Other Stories",
          "My Uncle Oswald",
          "My Uncle Oswald",
          "NEMO Science Museum",
          "Naturalis",
          "Neon White",
          "Neuromancer",
          "NieR: Automata",
          "Night",
          "Nine Tomorrows",
          "North Sea Jazz 2023",
          "Oer en Andere Tijden",
          "Okami HD",
          "Onder Professoren",
          "One Finger Death Punch",
          "One Flew Over the Cuckoo's Nest",
          "Ontjoodst door de Wetenschap",
          "Oost-Duitsland 2024: Herzogin Anna Amalia Bibliothek, Bauhaus Museum Weimar, Grünes Gewölbe, Dresdner Zwinger",
          "Orelon Trio met Yukine Kuroki",
          "Ori and the Blind Forest",
          "Outer Wilds",
          "Overcooked 2",
          "Pale Fire",
          "Paper Mario: The Thousand-Year Door",
          "Persona 5 Strikers",
          "Pikmin",
          "Pikmin 2",
          "Pikmin 3 Deluxe",
          "Pikmin 4",
          "Pinkpop 2023",
          "Pokémon Legends: Arceus",
          "Prokofjev en Rachmaninov",
          "Psychedelic Porn Crumpets Live in Paradiso",
          "Quarantine Circular",
          "REAIM",
          "Rabo Open Stage: Pega Loca",
          "Rabo Open Stage: TivoliVredenburg Jamsessie",
          "Randmeerconcert",
          "Rayman Legends",
          "Return of the Obra Dinn",
          "Rietveld-Schröderhuis",
          "Roshambo, of Waarom we Steen-Papier-Schaar Spelen",
          "Rubber",
          "Sable",
          "Save Room - Organization Puzzle",
          "Sekiro: Shadows Die Twice",
          "Sekiro: Shadows Die Twice",
          "Shovel Knight: Treasure Trove",
          "Siddharta",
          "Sifu",
          "Slaughterhouse-Five",
          "Small Gods",
          "Sonic Mania",
          "Spider-Man (2018)",
          "Spiritfarer",
          "Splatoon 2",
          "Stardew Valley",
          "Starfield",
          "Stop Making Sense",
          "Stories of Your Life and Others",
          "Stray Gods: The Roleplaying Musical",
          "Sunless Sea",
          "Super Mario 3D World + Bowser's Fury",
          "Super Mario Bros. Wonder",
          "Super Mario Galaxy",
          "Super Mario Maker 2",
          "Super Mario RPG",
          "Super Mario Sunshine",
          "Symphonie Fantastique",
          "Tactical Breach Wizards",
          "Tactical Breach Wizards Beta",
          "Ted",
          "Terraform: Watch/Worlds/Burn",
          "Terraria",
          "The Art of Cuphead",
          "The Art of How to Train Your Dragon",
          "The Capital",
          "The City and the City",
          "The Corridor",
          "The Devil Tree",
          "The Dragon Prince, Book 4: Earth",
          "The Dragon Prince, Book 5: Water",
          "The Fall",
          "The Fowl Twins",
          "The Gentlemen",
          "The Information: A History, A Theory, A Flood",
          "The Last Days of Socrates",
          "The Last Guardian",
          "The Left Hand of Darkness",
          "The Legend of Zelda: A Link Between Worlds",
          "The Legend of Zelda: Breath of the Wild - Creating a Champion",
          "The Legend of Zelda: Link's Awakening",
          "The Legend of Zelda: Tears of the Kingdom",
          "The Legend of Zelda: Twilight Princess, Vol. 2",
          "The MANIAC",
          "The Machine Stops",
          "The Midnight Library",
          "The Motorcycle Diaries",
          "The Night Circus",
          "The Outsider",
          "The Paper Menagerie and Other Stories",
          "The Penelopiad",
          "The Penguin Book of Oulipo",
          "The Republic",
          "The Secret History",
          "The Sexy Brutale",
          "The Southern Book Club's Guide to Slaying Vampires",
          "The Time Traveler's Wife",
          "The Way of Kings, Part 1",
          "This is How You Lose the Time War",
          "Through the Moon",
          "Tunic",
          "UU National Conference on Responsible AI (Spoorwegmuseum)",
          "Uncharted: The Lost Legacy",
          "Van Nellefabriek",
          "Videogame Atlas: Mapping Interactive Worlds",
          "WarioWare: Get It Together",
          "Wat Maakt een Verzetsheld?",
          "Wat Wij Zagen",
          "We Need to Talk About Kevin",
          "Webbed",
          "Wegens Sterfgeval Gesloten (Commedia Della Morte)",
          "What Remains of Edith Finch",
          "When Einstein Walked with Gödel",
          "When We Cease to Understand the World",
          "Wij Slaven van Suriname",
          "Wreck-It Ralph",
          "Xenoblade Chronicles 2",
          "Xenoblade Chronicles 3",
          "Yoku's Island Express",
          "Zazie in the Metro",
          "Zuid-Frankrijk 2024: Musée du Pont du Gard, Maison Carrée, Arles Amphitheatre",
          "5.0",
          "6.0",
          "6.5",
          "6.5",
          "6.5",
          "7.0",
          "7.0",
          "7.0",
          "7.0",
          "7.0",
          "7.0",
          "7.0",
          "7.0",
          "7.0",
          "7.0",
          "7.0",
          "7.5",
          "7.5",
          "7.5",
          "7.5",
          "7.5",
          "7.5",
          "7.5",
          "7.5",
          "7.5",
          "7.5",
          "7.5",
          "8.0",
          "8.0",
          "8.0",
          "8.0",
          "8.0",
          "8.0",
          "8.0",
          "8.0",
          "8.0",
          "8.0",
          "8.0",
          "8.0",
          "8.0",
          "8.0",
          "8.0",
          "8.0",
          "8.0",
          "8.0",
          "8.0",
          "8.5",
          "8.5",
          "8.5",
          "8.5",
          "8.5",
          "8.5",
          "8.5",
          "8.5",
          "8.5",
          "8.5",
          "8.5",
          "8.5",
          "8.5",
          "8.5",
          "8.5",
          "8.5",
          "9.0",
          "9.0",
          "9.0",
          "9.0",
          "9.0",
          "9.0",
          "9.0",
          "9.0",
          "9.0",
          "9.0",
          "9.0",
          "9.0",
          "9.0",
          "9.0",
          "9.0",
          "9.0",
          "9.5",
          "9.5",
          "9.5",
          "9.5",
          "9.5",
          "9.5",
          "9.5",
          "9.5",
          "9.5",
          "10.0",
          "10.0",
          "10.0",
          "10.0",
          "10.0",
          "10.0",
          "10.0",
          "10.0",
          "2021",
          "2021",
          "2022",
          "2022",
          "2022",
          "2022",
          "2022",
          "2022",
          "2022",
          "2023",
          "2023",
          "2023",
          "2023",
          "2023",
          "2023",
          "2023",
          "2023",
          "2024",
          "2024",
          "2024",
          "2024",
          "2024",
          "Book",
          "Cabaret",
          "Concert",
          "Conference",
          "Game",
          "Movie",
          "Museum",
          "Series",
          "Theater"
         ],
         "maxdepth": 2,
         "name": "",
         "parents": [
          "Book/2023/8.5",
          "Book/2023/8.0",
          "Game/2024/9.0",
          "Book/2021/7.5",
          "Book/2023/9.0",
          "Book/2022/8.0",
          "Book/2021/7.0",
          "Game/2024/8.5",
          "Book/2023/8.5",
          "Book/2024/9.0",
          "Game/2021/8.0",
          "Book/2023/9.5",
          "Book/2022/7.5",
          "Museum/2023/8.0",
          "Game/2024/9.0",
          "Book/2021/8.0",
          "Book/2022/9.0",
          "Book/2022/9.0",
          "Concert/2022/7.5",
          "Game/2023/8.0",
          "Game/2021/8.0",
          "Game/2023/8.0",
          "Game/2023/7.0",
          "Museum/2024/8.0",
          "Game/2022/9.0",
          "Concert/2023/8.0",
          "Game/2021/8.5",
          "Game/2021/8.5",
          "Book/2021/7.5",
          "Museum/2023/7.0",
          "Concert/2023/8.0",
          "Book/2023/8.5",
          "Book/2024/7.5",
          "Book/2023/9.0",
          "Game/2023/9.0",
          "Book/2021/8.0",
          "Book/2022/8.0",
          "Book/2024/8.5",
          "Concert/2023/7.5",
          "Game/2023/8.5",
          "Book/2021/8.0",
          "Game/2022/9.5",
          "Game/2024/9.0",
          "Museum/2022/9.0",
          "Book/2021/8.5",
          "Book/2023/7.5",
          "Book/2023/8.0",
          "Book/2023/8.0",
          "Game/2021/8.5",
          "Game/2023/8.0",
          "Game/2021/10.0",
          "Book/2023/8.0",
          "Book/2021/7.5",
          "Conference/2023/6.5",
          "Game/2022/10.0",
          "Game/2021/8.5",
          "Game/2024/8.0",
          "Game/2024/8.0",
          "Game/2021/8.0",
          "Concert/2023/7.5",
          "Movie/2023/8.5",
          "Movie/2024/9.0",
          "Concert/2024/8.5",
          "Book/2022/9.5",
          "Cabaret/2022/8.0",
          "Game/2023/9.5",
          "Game/2022/10.0",
          "Game/2024/9.0",
          "Book/2021/9.5",
          "Concert/2022/8.5",
          "Museum/2022/9.0",
          "Book/2021/10.0",
          "Concert/2023/8.5",
          "Book/2022/8.0",
          "Game/2022/9.0",
          "Book/2024/9.0",
          "Concert/2023/9.5",
          "Game/2021/8.5",
          "Book/2022/9.5",
          "Book/2021/5.0",
          "Game/2022/9.0",
          "Museum/2023/7.5",
          "Book/2023/10.0",
          "Game/2021/10.0",
          "Book/2021/8.0",
          "Book/2022/8.0",
          "Book/2021/9.0",
          "Concert/2024/8.0",
          "Book/2021/8.5",
          "Book/2024/7.0",
          "Museum/2023/7.5",
          "Museum/2022/8.0",
          "Theater/2023/9.0",
          "Game/2023/9.0",
          "Game/2024/10.0",
          "Series/2023/7.5",
          "Movie/2022/8.0",
          "Book/2024/6.0",
          "Game/2021/7.5",
          "Book/2021/8.0",
          "Game/2023/8.0",
          "Game/2024/8.5",
          "Concert/2023/8.0",
          "Game/2024/8.5",
          "Book/2021/7.0",
          "Book/2022/8.0",
          "Game/2023/8.0",
          "Game/2021/8.0",
          "Game/2023/8.0",
          "Concert/2024/10.0",
          "Game/2022/8.5",
          "Book/2021/8.5",
          "Book/2023/7.0",
          "Concert/2024/7.5",
          "Movie/2023/8.0",
          "Concert/2022/9.0",
          "Book/2022/7.5",
          "Book/2021/9.0",
          "Book/2024/8.0",
          "Movie/2023/7.0",
          "Book/2021/7.5",
          "Game/2024/7.0",
          "Book/2023/10.0",
          "Game/2021/9.0",
          "Game/2024/9.0",
          "Game/2023/8.5",
          "Book/2022/9.0",
          "Movie/2023/8.5",
          "Book/2023/8.5",
          "Book/2021/7.5",
          "Book/2024/8.0",
          "Book/2021/8.5",
          "Museum/2023/7.5",
          "Museum/2023/7.5",
          "Game/2024/9.0",
          "Book/2022/8.0",
          "Game/2021/8.5",
          "Book/2024/8.0",
          "Book/2024/9.0",
          "Concert/2023/8.0",
          "Book/2021/9.0",
          "Game/2023/9.0",
          "Book/2024/8.0",
          "Game/2022/9.5",
          "Book/2023/9.0",
          "Book/2022/8.5",
          "Museum/2024/8.0",
          "Concert/2023/7.5",
          "Game/2021/9.0",
          "Game/2024/8.5",
          "Game/2021/9.0",
          "Book/2022/9.0",
          "Game/2024/9.0",
          "Game/2022/7.0",
          "Game/2023/7.5",
          "Game/2023/8.5",
          "Game/2023/9.5",
          "Game/2023/10.0",
          "Concert/2023/9.0",
          "Game/2023/9.0",
          "Concert/2023/7.5",
          "Concert/2024/9.0",
          "Game/2021/8.0",
          "Conference/2023/8.0",
          "Concert/2022/8.0",
          "Concert/2024/8.5",
          "Concert/2023/8.5",
          "Game/2023/9.5",
          "Game/2022/8.0",
          "Museum/2022/9.0",
          "Theater/2022/10.0",
          "Movie/2024/7.0",
          "Game/2022/9.5",
          "Game/2023/7.5",
          "Game/2021/9.5",
          "Game/2023/10.0",
          "Game/2021/9.0",
          "Book/2024/9.0",
          "Game/2022/9.0",
          "Book/2024/9.5",
          "Book/2021/8.5",
          "Game/2021/7.5",
          "Game/2021/8.5",
          "Game/2021/8.5",
          "Game/2021/8.0",
          "Game/2021/9.0",
          "Game/2023/7.5",
          "Movie/2024/8.5",
          "Book/2021/10.0",
          "Game/2024/8.0",
          "Game/2021/9.0",
          "Game/2021/9.5",
          "Game/2023/8.0",
          "Game/2022/9.0",
          "Game/2021/9.0",
          "Game/2023/9.0",
          "Game/2021/9.0",
          "Concert/2022/8.5",
          "Game/2024/10.0",
          "Game/2022/9.0",
          "Movie/2023/6.5",
          "Book/2023/7.5",
          "Game/2022/9.5",
          "Game/2023/8.0",
          "Book/2022/8.0",
          "Book/2022/7.5",
          "Book/2021/9.0",
          "Game/2023/8.5",
          "Book/2022/8.0",
          "Series/2023/7.0",
          "Series/2023/8.5",
          "Book/2024/6.5",
          "Book/2021/8.0",
          "Movie/2024/8.0",
          "Book/2024/9.0",
          "Book/2024/8.5",
          "Game/2022/8.0",
          "Book/2022/8.5",
          "Game/2023/10.0",
          "Book/2022/8.0",
          "Game/2024/8.5",
          "Game/2023/10.0",
          "Book/2022/7.5",
          "Book/2023/10.0",
          "Book/2023/7.0",
          "Book/2022/9.0",
          "Book/2024/7.5",
          "Book/2021/9.5",
          "Book/2023/9.0",
          "Book/2022/9.0",
          "Book/2021/8.5",
          "Book/2024/7.0",
          "Book/2023/7.5",
          "Book/2023/8.5",
          "Game/2021/8.0",
          "Book/2023/8.0",
          "Book/2023/8.5",
          "Book/2022/9.0",
          "Book/2021/9.0",
          "Book/2021/9.0",
          "Game/2023/9.5",
          "Conference/2023/8.5",
          "Game/2021/8.0",
          "Museum/2024/8.5",
          "Book/2024/8.0",
          "Game/2023/7.5",
          "Book/2021/7.0",
          "Book/2021/9.0",
          "Book/2023/8.5",
          "Game/2024/9.5",
          "Book/2022/8.5",
          "Game/2021/8.5",
          "Book/2021/9.0",
          "Book/2021/9.5",
          "Book/2024/9.0",
          "Movie/2023/9.0",
          "Game/2021/7.0",
          "Game/2022/8.5",
          "Game/2024/9.0",
          "Book/2024/8.5",
          "Museum/2024/9.0",
          "Book/2021",
          "Book/2024",
          "Conference/2023",
          "Movie/2023",
          "Book/2024",
          "Book/2021",
          "Game/2021",
          "Game/2022",
          "Book/2023",
          "Game/2023",
          "Movie/2023",
          "Museum/2023",
          "Series/2023",
          "Book/2024",
          "Game/2024",
          "Movie/2024",
          "Book/2021",
          "Game/2021",
          "Book/2022",
          "Concert/2022",
          "Book/2023",
          "Concert/2023",
          "Game/2023",
          "Museum/2023",
          "Series/2023",
          "Book/2024",
          "Concert/2024",
          "Book/2021",
          "Game/2021",
          "Book/2022",
          "Cabaret/2022",
          "Concert/2022",
          "Game/2022",
          "Movie/2022",
          "Museum/2022",
          "Book/2023",
          "Concert/2023",
          "Conference/2023",
          "Game/2023",
          "Movie/2023",
          "Museum/2023",
          "Book/2024",
          "Concert/2024",
          "Game/2024",
          "Movie/2024",
          "Museum/2024",
          "Book/2021",
          "Game/2021",
          "Book/2022",
          "Concert/2022",
          "Game/2022",
          "Book/2023",
          "Concert/2023",
          "Conference/2023",
          "Game/2023",
          "Movie/2023",
          "Series/2023",
          "Book/2024",
          "Concert/2024",
          "Game/2024",
          "Movie/2024",
          "Museum/2024",
          "Book/2021",
          "Game/2021",
          "Book/2022",
          "Concert/2022",
          "Game/2022",
          "Museum/2022",
          "Book/2023",
          "Concert/2023",
          "Game/2023",
          "Movie/2023",
          "Theater/2023",
          "Book/2024",
          "Concert/2024",
          "Game/2024",
          "Movie/2024",
          "Museum/2024",
          "Book/2021",
          "Game/2021",
          "Book/2022",
          "Game/2022",
          "Book/2023",
          "Concert/2023",
          "Game/2023",
          "Book/2024",
          "Game/2024",
          "Book/2021",
          "Game/2021",
          "Game/2022",
          "Theater/2022",
          "Book/2023",
          "Game/2023",
          "Concert/2024",
          "Game/2024",
          "Book",
          "Game",
          "Book",
          "Cabaret",
          "Concert",
          "Game",
          "Movie",
          "Museum",
          "Theater",
          "Book",
          "Concert",
          "Conference",
          "Game",
          "Movie",
          "Museum",
          "Series",
          "Theater",
          "Book",
          "Concert",
          "Game",
          "Movie",
          "Museum",
          "",
          "",
          "",
          "",
          "",
          "",
          "",
          "",
          ""
         ],
         "sort": false,
         "type": "sunburst",
         "values": [
          1,
          1,
          1,
          1,
          1,
          1,
          1,
          1,
          1,
          1,
          1,
          1,
          1,
          1,
          1,
          1,
          1,
          1,
          1,
          1,
          1,
          1,
          1,
          1,
          1,
          1,
          1,
          1,
          1,
          1,
          1,
          1,
          1,
          1,
          1,
          1,
          1,
          1,
          1,
          1,
          1,
          1,
          1,
          1,
          1,
          1,
          1,
          1,
          1,
          1,
          1,
          1,
          1,
          1,
          1,
          1,
          1,
          1,
          1,
          1,
          1,
          1,
          1,
          1,
          1,
          1,
          1,
          1,
          1,
          1,
          1,
          1,
          1,
          1,
          1,
          1,
          1,
          1,
          1,
          1,
          1,
          1,
          1,
          1,
          1,
          1,
          1,
          1,
          1,
          1,
          1,
          1,
          1,
          1,
          1,
          1,
          1,
          1,
          1,
          1,
          1,
          1,
          1,
          1,
          1,
          1,
          1,
          1,
          1,
          1,
          1,
          1,
          1,
          1,
          1,
          1,
          1,
          1,
          1,
          1,
          1,
          1,
          1,
          1,
          1,
          1,
          1,
          1,
          1,
          1,
          1,
          1,
          1,
          1,
          1,
          1,
          1,
          1,
          1,
          1,
          1,
          1,
          1,
          1,
          1,
          1,
          1,
          1,
          1,
          1,
          1,
          1,
          1,
          1,
          1,
          1,
          1,
          1,
          1,
          1,
          1,
          1,
          1,
          1,
          1,
          1,
          1,
          1,
          1,
          1,
          1,
          1,
          1,
          1,
          1,
          1,
          1,
          1,
          1,
          1,
          1,
          1,
          1,
          1,
          1,
          1,
          1,
          1,
          1,
          1,
          1,
          1,
          1,
          1,
          1,
          1,
          1,
          1,
          1,
          1,
          1,
          1,
          1,
          1,
          1,
          1,
          1,
          1,
          1,
          1,
          1,
          1,
          1,
          1,
          1,
          1,
          1,
          1,
          1,
          1,
          1,
          1,
          1,
          1,
          1,
          1,
          1,
          1,
          1,
          1,
          1,
          1,
          1,
          1,
          1,
          1,
          1,
          1,
          1,
          1,
          1,
          1,
          1,
          1,
          1,
          1,
          1,
          1,
          1,
          1,
          1,
          1,
          1,
          1,
          1,
          1,
          1,
          1,
          1,
          1,
          1,
          1,
          1,
          1,
          1,
          1,
          3,
          1,
          1,
          2,
          1,
          1,
          1,
          1,
          2,
          1,
          1,
          5,
          2,
          4,
          1,
          3,
          4,
          4,
          4,
          1,
          2,
          1,
          6,
          8,
          9,
          1,
          1,
          2,
          1,
          1,
          5,
          4,
          1,
          8,
          1,
          1,
          5,
          1,
          3,
          1,
          2,
          6,
          9,
          3,
          2,
          2,
          7,
          2,
          1,
          4,
          2,
          1,
          3,
          2,
          5,
          1,
          1,
          8,
          8,
          7,
          1,
          6,
          3,
          4,
          1,
          5,
          1,
          1,
          6,
          1,
          8,
          1,
          1,
          3,
          2,
          2,
          4,
          1,
          1,
          4,
          1,
          1,
          2,
          2,
          2,
          1,
          3,
          4,
          1,
          2,
          34,
          32,
          25,
          1,
          5,
          17,
          1,
          4,
          1,
          25,
          12,
          3,
          30,
          6,
          6,
          3,
          1,
          21,
          6,
          20,
          4,
          4,
          105,
          1,
          23,
          3,
          99,
          11,
          14,
          3,
          2
         ]
        }
       ],
       "layout": {
        "legend": {
         "tracegroupgap": 0
        },
        "margin": {
         "b": 5,
         "l": 5,
         "r": 5,
         "t": 5
        },
        "showlegend": false,
        "template": {
         "data": {
          "bar": [
           {
            "error_x": {
             "color": "#2a3f5f"
            },
            "error_y": {
             "color": "#2a3f5f"
            },
            "marker": {
             "line": {
              "color": "#E5ECF6",
              "width": 0.5
             },
             "pattern": {
              "fillmode": "overlay",
              "size": 10,
              "solidity": 0.2
             }
            },
            "type": "bar"
           }
          ],
          "barpolar": [
           {
            "marker": {
             "line": {
              "color": "#E5ECF6",
              "width": 0.5
             },
             "pattern": {
              "fillmode": "overlay",
              "size": 10,
              "solidity": 0.2
             }
            },
            "type": "barpolar"
           }
          ],
          "carpet": [
           {
            "aaxis": {
             "endlinecolor": "#2a3f5f",
             "gridcolor": "white",
             "linecolor": "white",
             "minorgridcolor": "white",
             "startlinecolor": "#2a3f5f"
            },
            "baxis": {
             "endlinecolor": "#2a3f5f",
             "gridcolor": "white",
             "linecolor": "white",
             "minorgridcolor": "white",
             "startlinecolor": "#2a3f5f"
            },
            "type": "carpet"
           }
          ],
          "choropleth": [
           {
            "colorbar": {
             "outlinewidth": 0,
             "ticks": ""
            },
            "type": "choropleth"
           }
          ],
          "contour": [
           {
            "colorbar": {
             "outlinewidth": 0,
             "ticks": ""
            },
            "colorscale": [
             [
              0,
              "#0d0887"
             ],
             [
              0.1111111111111111,
              "#46039f"
             ],
             [
              0.2222222222222222,
              "#7201a8"
             ],
             [
              0.3333333333333333,
              "#9c179e"
             ],
             [
              0.4444444444444444,
              "#bd3786"
             ],
             [
              0.5555555555555556,
              "#d8576b"
             ],
             [
              0.6666666666666666,
              "#ed7953"
             ],
             [
              0.7777777777777778,
              "#fb9f3a"
             ],
             [
              0.8888888888888888,
              "#fdca26"
             ],
             [
              1,
              "#f0f921"
             ]
            ],
            "type": "contour"
           }
          ],
          "contourcarpet": [
           {
            "colorbar": {
             "outlinewidth": 0,
             "ticks": ""
            },
            "type": "contourcarpet"
           }
          ],
          "heatmap": [
           {
            "colorbar": {
             "outlinewidth": 0,
             "ticks": ""
            },
            "colorscale": [
             [
              0,
              "#0d0887"
             ],
             [
              0.1111111111111111,
              "#46039f"
             ],
             [
              0.2222222222222222,
              "#7201a8"
             ],
             [
              0.3333333333333333,
              "#9c179e"
             ],
             [
              0.4444444444444444,
              "#bd3786"
             ],
             [
              0.5555555555555556,
              "#d8576b"
             ],
             [
              0.6666666666666666,
              "#ed7953"
             ],
             [
              0.7777777777777778,
              "#fb9f3a"
             ],
             [
              0.8888888888888888,
              "#fdca26"
             ],
             [
              1,
              "#f0f921"
             ]
            ],
            "type": "heatmap"
           }
          ],
          "heatmapgl": [
           {
            "colorbar": {
             "outlinewidth": 0,
             "ticks": ""
            },
            "colorscale": [
             [
              0,
              "#0d0887"
             ],
             [
              0.1111111111111111,
              "#46039f"
             ],
             [
              0.2222222222222222,
              "#7201a8"
             ],
             [
              0.3333333333333333,
              "#9c179e"
             ],
             [
              0.4444444444444444,
              "#bd3786"
             ],
             [
              0.5555555555555556,
              "#d8576b"
             ],
             [
              0.6666666666666666,
              "#ed7953"
             ],
             [
              0.7777777777777778,
              "#fb9f3a"
             ],
             [
              0.8888888888888888,
              "#fdca26"
             ],
             [
              1,
              "#f0f921"
             ]
            ],
            "type": "heatmapgl"
           }
          ],
          "histogram": [
           {
            "marker": {
             "pattern": {
              "fillmode": "overlay",
              "size": 10,
              "solidity": 0.2
             }
            },
            "type": "histogram"
           }
          ],
          "histogram2d": [
           {
            "colorbar": {
             "outlinewidth": 0,
             "ticks": ""
            },
            "colorscale": [
             [
              0,
              "#0d0887"
             ],
             [
              0.1111111111111111,
              "#46039f"
             ],
             [
              0.2222222222222222,
              "#7201a8"
             ],
             [
              0.3333333333333333,
              "#9c179e"
             ],
             [
              0.4444444444444444,
              "#bd3786"
             ],
             [
              0.5555555555555556,
              "#d8576b"
             ],
             [
              0.6666666666666666,
              "#ed7953"
             ],
             [
              0.7777777777777778,
              "#fb9f3a"
             ],
             [
              0.8888888888888888,
              "#fdca26"
             ],
             [
              1,
              "#f0f921"
             ]
            ],
            "type": "histogram2d"
           }
          ],
          "histogram2dcontour": [
           {
            "colorbar": {
             "outlinewidth": 0,
             "ticks": ""
            },
            "colorscale": [
             [
              0,
              "#0d0887"
             ],
             [
              0.1111111111111111,
              "#46039f"
             ],
             [
              0.2222222222222222,
              "#7201a8"
             ],
             [
              0.3333333333333333,
              "#9c179e"
             ],
             [
              0.4444444444444444,
              "#bd3786"
             ],
             [
              0.5555555555555556,
              "#d8576b"
             ],
             [
              0.6666666666666666,
              "#ed7953"
             ],
             [
              0.7777777777777778,
              "#fb9f3a"
             ],
             [
              0.8888888888888888,
              "#fdca26"
             ],
             [
              1,
              "#f0f921"
             ]
            ],
            "type": "histogram2dcontour"
           }
          ],
          "mesh3d": [
           {
            "colorbar": {
             "outlinewidth": 0,
             "ticks": ""
            },
            "type": "mesh3d"
           }
          ],
          "parcoords": [
           {
            "line": {
             "colorbar": {
              "outlinewidth": 0,
              "ticks": ""
             }
            },
            "type": "parcoords"
           }
          ],
          "pie": [
           {
            "automargin": true,
            "type": "pie"
           }
          ],
          "scatter": [
           {
            "fillpattern": {
             "fillmode": "overlay",
             "size": 10,
             "solidity": 0.2
            },
            "type": "scatter"
           }
          ],
          "scatter3d": [
           {
            "line": {
             "colorbar": {
              "outlinewidth": 0,
              "ticks": ""
             }
            },
            "marker": {
             "colorbar": {
              "outlinewidth": 0,
              "ticks": ""
             }
            },
            "type": "scatter3d"
           }
          ],
          "scattercarpet": [
           {
            "marker": {
             "colorbar": {
              "outlinewidth": 0,
              "ticks": ""
             }
            },
            "type": "scattercarpet"
           }
          ],
          "scattergeo": [
           {
            "marker": {
             "colorbar": {
              "outlinewidth": 0,
              "ticks": ""
             }
            },
            "type": "scattergeo"
           }
          ],
          "scattergl": [
           {
            "marker": {
             "colorbar": {
              "outlinewidth": 0,
              "ticks": ""
             }
            },
            "type": "scattergl"
           }
          ],
          "scattermapbox": [
           {
            "marker": {
             "colorbar": {
              "outlinewidth": 0,
              "ticks": ""
             }
            },
            "type": "scattermapbox"
           }
          ],
          "scatterpolar": [
           {
            "marker": {
             "colorbar": {
              "outlinewidth": 0,
              "ticks": ""
             }
            },
            "type": "scatterpolar"
           }
          ],
          "scatterpolargl": [
           {
            "marker": {
             "colorbar": {
              "outlinewidth": 0,
              "ticks": ""
             }
            },
            "type": "scatterpolargl"
           }
          ],
          "scatterternary": [
           {
            "marker": {
             "colorbar": {
              "outlinewidth": 0,
              "ticks": ""
             }
            },
            "type": "scatterternary"
           }
          ],
          "surface": [
           {
            "colorbar": {
             "outlinewidth": 0,
             "ticks": ""
            },
            "colorscale": [
             [
              0,
              "#0d0887"
             ],
             [
              0.1111111111111111,
              "#46039f"
             ],
             [
              0.2222222222222222,
              "#7201a8"
             ],
             [
              0.3333333333333333,
              "#9c179e"
             ],
             [
              0.4444444444444444,
              "#bd3786"
             ],
             [
              0.5555555555555556,
              "#d8576b"
             ],
             [
              0.6666666666666666,
              "#ed7953"
             ],
             [
              0.7777777777777778,
              "#fb9f3a"
             ],
             [
              0.8888888888888888,
              "#fdca26"
             ],
             [
              1,
              "#f0f921"
             ]
            ],
            "type": "surface"
           }
          ],
          "table": [
           {
            "cells": {
             "fill": {
              "color": "#EBF0F8"
             },
             "line": {
              "color": "white"
             }
            },
            "header": {
             "fill": {
              "color": "#C8D4E3"
             },
             "line": {
              "color": "white"
             }
            },
            "type": "table"
           }
          ]
         },
         "layout": {
          "annotationdefaults": {
           "arrowcolor": "#2a3f5f",
           "arrowhead": 0,
           "arrowwidth": 1
          },
          "autotypenumbers": "strict",
          "coloraxis": {
           "colorbar": {
            "outlinewidth": 0,
            "ticks": ""
           }
          },
          "colorscale": {
           "diverging": [
            [
             0,
             "#8e0152"
            ],
            [
             0.1,
             "#c51b7d"
            ],
            [
             0.2,
             "#de77ae"
            ],
            [
             0.3,
             "#f1b6da"
            ],
            [
             0.4,
             "#fde0ef"
            ],
            [
             0.5,
             "#f7f7f7"
            ],
            [
             0.6,
             "#e6f5d0"
            ],
            [
             0.7,
             "#b8e186"
            ],
            [
             0.8,
             "#7fbc41"
            ],
            [
             0.9,
             "#4d9221"
            ],
            [
             1,
             "#276419"
            ]
           ],
           "sequential": [
            [
             0,
             "#0d0887"
            ],
            [
             0.1111111111111111,
             "#46039f"
            ],
            [
             0.2222222222222222,
             "#7201a8"
            ],
            [
             0.3333333333333333,
             "#9c179e"
            ],
            [
             0.4444444444444444,
             "#bd3786"
            ],
            [
             0.5555555555555556,
             "#d8576b"
            ],
            [
             0.6666666666666666,
             "#ed7953"
            ],
            [
             0.7777777777777778,
             "#fb9f3a"
            ],
            [
             0.8888888888888888,
             "#fdca26"
            ],
            [
             1,
             "#f0f921"
            ]
           ],
           "sequentialminus": [
            [
             0,
             "#0d0887"
            ],
            [
             0.1111111111111111,
             "#46039f"
            ],
            [
             0.2222222222222222,
             "#7201a8"
            ],
            [
             0.3333333333333333,
             "#9c179e"
            ],
            [
             0.4444444444444444,
             "#bd3786"
            ],
            [
             0.5555555555555556,
             "#d8576b"
            ],
            [
             0.6666666666666666,
             "#ed7953"
            ],
            [
             0.7777777777777778,
             "#fb9f3a"
            ],
            [
             0.8888888888888888,
             "#fdca26"
            ],
            [
             1,
             "#f0f921"
            ]
           ]
          },
          "colorway": [
           "#636efa",
           "#EF553B",
           "#00cc96",
           "#ab63fa",
           "#FFA15A",
           "#19d3f3",
           "#FF6692",
           "#B6E880",
           "#FF97FF",
           "#FECB52"
          ],
          "font": {
           "color": "#2a3f5f"
          },
          "geo": {
           "bgcolor": "white",
           "lakecolor": "white",
           "landcolor": "#E5ECF6",
           "showlakes": true,
           "showland": true,
           "subunitcolor": "white"
          },
          "hoverlabel": {
           "align": "left"
          },
          "hovermode": "closest",
          "mapbox": {
           "style": "light"
          },
          "paper_bgcolor": "white",
          "plot_bgcolor": "#E5ECF6",
          "polar": {
           "angularaxis": {
            "gridcolor": "white",
            "linecolor": "white",
            "ticks": ""
           },
           "bgcolor": "#E5ECF6",
           "radialaxis": {
            "gridcolor": "white",
            "linecolor": "white",
            "ticks": ""
           }
          },
          "scene": {
           "xaxis": {
            "backgroundcolor": "#E5ECF6",
            "gridcolor": "white",
            "gridwidth": 2,
            "linecolor": "white",
            "showbackground": true,
            "ticks": "",
            "zerolinecolor": "white"
           },
           "yaxis": {
            "backgroundcolor": "#E5ECF6",
            "gridcolor": "white",
            "gridwidth": 2,
            "linecolor": "white",
            "showbackground": true,
            "ticks": "",
            "zerolinecolor": "white"
           },
           "zaxis": {
            "backgroundcolor": "#E5ECF6",
            "gridcolor": "white",
            "gridwidth": 2,
            "linecolor": "white",
            "showbackground": true,
            "ticks": "",
            "zerolinecolor": "white"
           }
          },
          "shapedefaults": {
           "line": {
            "color": "#2a3f5f"
           }
          },
          "ternary": {
           "aaxis": {
            "gridcolor": "white",
            "linecolor": "white",
            "ticks": ""
           },
           "baxis": {
            "gridcolor": "white",
            "linecolor": "white",
            "ticks": ""
           },
           "bgcolor": "#E5ECF6",
           "caxis": {
            "gridcolor": "white",
            "linecolor": "white",
            "ticks": ""
           }
          },
          "title": {
           "x": 0.05
          },
          "xaxis": {
           "automargin": true,
           "gridcolor": "white",
           "linecolor": "white",
           "ticks": "",
           "title": {
            "standoff": 15
           },
           "zerolinecolor": "white",
           "zerolinewidth": 2
          },
          "yaxis": {
           "automargin": true,
           "gridcolor": "white",
           "linecolor": "white",
           "ticks": "",
           "title": {
            "standoff": 15
           },
           "zerolinecolor": "white",
           "zerolinewidth": 2
          }
         }
        }
       }
      }
     },
     "metadata": {},
     "output_type": "display_data"
    }
   ],
   "source": [
    "import plotly.express as px\n",
    "def rounder(score):\n",
    "    score = float(round(score*2))/2\n",
    "    #if score == 10:\n",
    "    #    return \"score≈\" + str(9.9)\n",
    "    #return \"score≈\" + str(score)\n",
    "    return score\n",
    "\n",
    "def counter(type, score):\n",
    "    return len(df4[(df4['type'] == type) & (df4['score'] == score)])\n",
    "\n",
    "df4 = df.copy()\n",
    "df4[['year','month']] = df4['date'].str.split('-',expand=True)\n",
    "#df4 = df4.groupby(['type', 'score']).size().rename_axis(['type', 'score']).reset_index(name='counts')\n",
    "df4['counts'] = df4.apply(lambda x: counter(x.type, x.score), axis=1)\n",
    "df4['scoreactual'] = df4['score'].apply(lambda x: rounder(x))\n",
    "df4 = df4.sort_values(by=['type', 'score'])\n",
    "fig = px.sunburst(df4, path=['type', 'year', 'scoreactual', 'name'], \n",
    "                  labels=[''], maxdepth=2,\n",
    "                    hover_data={\n",
    "                    })\n",
    "fig.update_layout(margin={'t':5,'l':5,'b':5,'r':5}, showlegend=False)\n",
    "fig.update_traces(sort=False, hovertemplate='<b>Amount: %{value} </b><br>%{label}')\n",
    "fig.show()"
   ]
  },
  {
   "cell_type": "markdown",
   "metadata": {},
   "source": [
    "## How much?"
   ]
  },
  {
   "cell_type": "code",
   "execution_count": 5,
   "metadata": {
    "tags": [
     "remove-input"
    ]
   },
   "outputs": [
    {
     "data": {
      "application/vnd.plotly.v1+json": {
       "config": {
        "plotlyServerURL": "https://plot.ly"
       },
       "data": [
        {
         "customdata": [
          [
           "2021",
           "Book"
          ],
          [
           "2021",
           "Book"
          ],
          [
           "2021",
           "Book"
          ],
          [
           "2021",
           "Book"
          ],
          [
           "2021",
           "Book"
          ],
          [
           "2021",
           "Book"
          ],
          [
           "2021",
           "Book"
          ],
          [
           "2021",
           "Book"
          ],
          [
           "2021",
           "Book"
          ],
          [
           "2021",
           "Book"
          ],
          [
           "2021",
           "Book"
          ],
          [
           "2021",
           "Book"
          ]
         ],
         "hovertemplate": "%{customdata[0]}<extra></extra>",
         "legendgroup": "2021",
         "line": {
          "color": "#EF553B",
          "dash": "solid"
         },
         "marker": {
          "symbol": "circle"
         },
         "mode": "lines",
         "name": "2021",
         "opacity": 0.4,
         "orientation": "v",
         "showlegend": true,
         "type": "scatter",
         "x": [
          "01",
          "02",
          "03",
          "04",
          "05",
          "06",
          "07",
          "08",
          "09",
          "10",
          "11",
          "12"
         ],
         "xaxis": "x",
         "y": [
          1,
          4,
          5,
          2,
          2,
          3,
          2,
          3,
          3,
          2,
          3,
          4
         ],
         "yaxis": "y"
        },
        {
         "customdata": [
          [
           "2022",
           "Book"
          ],
          [
           "2022",
           "Book"
          ],
          [
           "2022",
           "Book"
          ],
          [
           "2022",
           "Book"
          ],
          [
           "2022",
           "Book"
          ],
          [
           "2022",
           "Book"
          ],
          [
           "2022",
           "Book"
          ],
          [
           "2022",
           "Book"
          ],
          [
           "2022",
           "Book"
          ],
          [
           "2022",
           "Book"
          ],
          [
           "2022",
           "Book"
          ],
          [
           "2022",
           "Book"
          ]
         ],
         "hovertemplate": "%{customdata[0]}<extra></extra>",
         "legendgroup": "2022",
         "line": {
          "color": "#00cc96",
          "dash": "solid"
         },
         "marker": {
          "symbol": "circle"
         },
         "mode": "lines",
         "name": "2022",
         "opacity": 0.4,
         "orientation": "v",
         "showlegend": true,
         "type": "scatter",
         "x": [
          "01",
          "02",
          "03",
          "04",
          "05",
          "06",
          "07",
          "08",
          "09",
          "10",
          "11",
          "12"
         ],
         "xaxis": "x",
         "y": [
          4,
          3,
          3,
          4,
          1,
          1,
          1,
          0,
          2,
          1,
          2,
          3
         ],
         "yaxis": "y"
        },
        {
         "customdata": [
          [
           "2023",
           "Book"
          ],
          [
           "2023",
           "Book"
          ],
          [
           "2023",
           "Book"
          ],
          [
           "2023",
           "Book"
          ],
          [
           "2023",
           "Book"
          ],
          [
           "2023",
           "Book"
          ],
          [
           "2023",
           "Book"
          ],
          [
           "2023",
           "Book"
          ],
          [
           "2023",
           "Book"
          ],
          [
           "2023",
           "Book"
          ],
          [
           "2023",
           "Book"
          ],
          [
           "2023",
           "Book"
          ]
         ],
         "hovertemplate": "%{customdata[0]}<extra></extra>",
         "legendgroup": "2023",
         "line": {
          "color": "#ab63fa",
          "dash": "solid"
         },
         "marker": {
          "symbol": "circle"
         },
         "mode": "lines",
         "name": "2023",
         "opacity": 0.4,
         "orientation": "v",
         "showlegend": true,
         "type": "scatter",
         "x": [
          "01",
          "02",
          "03",
          "04",
          "05",
          "06",
          "07",
          "08",
          "09",
          "10",
          "11",
          "12"
         ],
         "xaxis": "x",
         "y": [
          2,
          3,
          0,
          3,
          1,
          2,
          2,
          1,
          2,
          4,
          3,
          2
         ],
         "yaxis": "y"
        },
        {
         "customdata": [
          [
           "2024",
           "Book"
          ],
          [
           "2024",
           "Book"
          ],
          [
           "2024",
           "Book"
          ],
          [
           "2024",
           "Book"
          ],
          [
           "2024",
           "Book"
          ],
          [
           "2024",
           "Book"
          ],
          [
           "2024",
           "Book"
          ],
          [
           "2024",
           "Book"
          ],
          [
           "2024",
           "Book"
          ],
          [
           "2024",
           "Book"
          ],
          [
           "2024",
           "Book"
          ],
          [
           "2024",
           "Book"
          ]
         ],
         "hovertemplate": "%{customdata[0]}<extra></extra>",
         "legendgroup": "2024",
         "line": {
          "color": "#FFA15A",
          "dash": "solid"
         },
         "marker": {
          "symbol": "circle"
         },
         "mode": "lines",
         "name": "2024",
         "opacity": 0.4,
         "orientation": "v",
         "showlegend": true,
         "type": "scatter",
         "x": [
          "01",
          "02",
          "03",
          "04",
          "05",
          "06",
          "07",
          "08",
          "09",
          "10",
          "11",
          "12"
         ],
         "xaxis": "x",
         "y": [
          3,
          2,
          4,
          2,
          1,
          3,
          3,
          2,
          1,
          0,
          0,
          0
         ],
         "yaxis": "y"
        },
        {
         "customdata": [
          [
           "Mean",
           "Book"
          ],
          [
           "Mean",
           "Book"
          ],
          [
           "Mean",
           "Book"
          ],
          [
           "Mean",
           "Book"
          ],
          [
           "Mean",
           "Book"
          ],
          [
           "Mean",
           "Book"
          ],
          [
           "Mean",
           "Book"
          ],
          [
           "Mean",
           "Book"
          ],
          [
           "Mean",
           "Book"
          ],
          [
           "Mean",
           "Book"
          ],
          [
           "Mean",
           "Book"
          ],
          [
           "Mean",
           "Book"
          ]
         ],
         "hovertemplate": "%{customdata[0]}<extra></extra>",
         "legendgroup": "Mean",
         "line": {
          "color": "black",
          "dash": "solid"
         },
         "marker": {
          "symbol": "circle"
         },
         "mode": "lines",
         "name": "Mean",
         "opacity": 1,
         "orientation": "v",
         "showlegend": true,
         "type": "scatter",
         "x": [
          "01",
          "02",
          "03",
          "04",
          "05",
          "06",
          "07",
          "08",
          "09",
          "10",
          "11",
          "12"
         ],
         "xaxis": "x",
         "y": [
          2.5,
          3,
          3,
          2.75,
          1.25,
          2.25,
          2,
          1.5,
          2,
          1.75,
          2,
          2.25
         ],
         "yaxis": "y"
        }
       ],
       "frames": [
        {
         "data": [
          {
           "customdata": [
            [
             "2021",
             "Book"
            ],
            [
             "2021",
             "Book"
            ],
            [
             "2021",
             "Book"
            ],
            [
             "2021",
             "Book"
            ],
            [
             "2021",
             "Book"
            ],
            [
             "2021",
             "Book"
            ],
            [
             "2021",
             "Book"
            ],
            [
             "2021",
             "Book"
            ],
            [
             "2021",
             "Book"
            ],
            [
             "2021",
             "Book"
            ],
            [
             "2021",
             "Book"
            ],
            [
             "2021",
             "Book"
            ]
           ],
           "hovertemplate": "Year=2021<extra></extra>",
           "legendgroup": "2021",
           "line": {
            "color": "#EF553B",
            "dash": "solid"
           },
           "marker": {
            "symbol": "circle"
           },
           "mode": "lines",
           "name": "2021",
           "orientation": "v",
           "showlegend": true,
           "type": "scatter",
           "x": [
            "01",
            "02",
            "03",
            "04",
            "05",
            "06",
            "07",
            "08",
            "09",
            "10",
            "11",
            "12"
           ],
           "xaxis": "x",
           "y": [
            1,
            4,
            5,
            2,
            2,
            3,
            2,
            3,
            3,
            2,
            3,
            4
           ],
           "yaxis": "y"
          },
          {
           "customdata": [
            [
             "2022",
             "Book"
            ],
            [
             "2022",
             "Book"
            ],
            [
             "2022",
             "Book"
            ],
            [
             "2022",
             "Book"
            ],
            [
             "2022",
             "Book"
            ],
            [
             "2022",
             "Book"
            ],
            [
             "2022",
             "Book"
            ],
            [
             "2022",
             "Book"
            ],
            [
             "2022",
             "Book"
            ],
            [
             "2022",
             "Book"
            ],
            [
             "2022",
             "Book"
            ],
            [
             "2022",
             "Book"
            ]
           ],
           "hovertemplate": "Year=2022<extra></extra>",
           "legendgroup": "2022",
           "line": {
            "color": "#00cc96",
            "dash": "solid"
           },
           "marker": {
            "symbol": "circle"
           },
           "mode": "lines",
           "name": "2022",
           "orientation": "v",
           "showlegend": true,
           "type": "scatter",
           "x": [
            "01",
            "02",
            "03",
            "04",
            "05",
            "06",
            "07",
            "08",
            "09",
            "10",
            "11",
            "12"
           ],
           "xaxis": "x",
           "y": [
            4,
            3,
            3,
            4,
            1,
            1,
            1,
            0,
            2,
            1,
            2,
            3
           ],
           "yaxis": "y"
          },
          {
           "customdata": [
            [
             "2023",
             "Book"
            ],
            [
             "2023",
             "Book"
            ],
            [
             "2023",
             "Book"
            ],
            [
             "2023",
             "Book"
            ],
            [
             "2023",
             "Book"
            ],
            [
             "2023",
             "Book"
            ],
            [
             "2023",
             "Book"
            ],
            [
             "2023",
             "Book"
            ],
            [
             "2023",
             "Book"
            ],
            [
             "2023",
             "Book"
            ],
            [
             "2023",
             "Book"
            ],
            [
             "2023",
             "Book"
            ]
           ],
           "hovertemplate": "Year=2023<extra></extra>",
           "legendgroup": "2023",
           "line": {
            "color": "#ab63fa",
            "dash": "solid"
           },
           "marker": {
            "symbol": "circle"
           },
           "mode": "lines",
           "name": "2023",
           "orientation": "v",
           "showlegend": true,
           "type": "scatter",
           "x": [
            "01",
            "02",
            "03",
            "04",
            "05",
            "06",
            "07",
            "08",
            "09",
            "10",
            "11",
            "12"
           ],
           "xaxis": "x",
           "y": [
            2,
            3,
            0,
            3,
            1,
            2,
            2,
            1,
            2,
            4,
            3,
            2
           ],
           "yaxis": "y"
          },
          {
           "customdata": [
            [
             "2024",
             "Book"
            ],
            [
             "2024",
             "Book"
            ],
            [
             "2024",
             "Book"
            ],
            [
             "2024",
             "Book"
            ],
            [
             "2024",
             "Book"
            ],
            [
             "2024",
             "Book"
            ],
            [
             "2024",
             "Book"
            ],
            [
             "2024",
             "Book"
            ],
            [
             "2024",
             "Book"
            ],
            [
             "2024",
             "Book"
            ],
            [
             "2024",
             "Book"
            ],
            [
             "2024",
             "Book"
            ]
           ],
           "hovertemplate": "Year=2024<extra></extra>",
           "legendgroup": "2024",
           "line": {
            "color": "#FFA15A",
            "dash": "solid"
           },
           "marker": {
            "symbol": "circle"
           },
           "mode": "lines",
           "name": "2024",
           "orientation": "v",
           "showlegend": true,
           "type": "scatter",
           "x": [
            "01",
            "02",
            "03",
            "04",
            "05",
            "06",
            "07",
            "08",
            "09",
            "10",
            "11",
            "12"
           ],
           "xaxis": "x",
           "y": [
            3,
            2,
            4,
            2,
            1,
            3,
            3,
            2,
            1,
            0,
            0,
            0
           ],
           "yaxis": "y"
          },
          {
           "customdata": [
            [
             "Mean",
             "Book"
            ],
            [
             "Mean",
             "Book"
            ],
            [
             "Mean",
             "Book"
            ],
            [
             "Mean",
             "Book"
            ],
            [
             "Mean",
             "Book"
            ],
            [
             "Mean",
             "Book"
            ],
            [
             "Mean",
             "Book"
            ],
            [
             "Mean",
             "Book"
            ],
            [
             "Mean",
             "Book"
            ],
            [
             "Mean",
             "Book"
            ],
            [
             "Mean",
             "Book"
            ],
            [
             "Mean",
             "Book"
            ]
           ],
           "hovertemplate": "Year=Mean<extra></extra>",
           "legendgroup": "Mean",
           "line": {
            "color": "black",
            "dash": "solid"
           },
           "marker": {
            "symbol": "circle"
           },
           "mode": "lines",
           "name": "Mean",
           "orientation": "v",
           "showlegend": true,
           "type": "scatter",
           "x": [
            "01",
            "02",
            "03",
            "04",
            "05",
            "06",
            "07",
            "08",
            "09",
            "10",
            "11",
            "12"
           ],
           "xaxis": "x",
           "y": [
            2.5,
            3,
            3,
            2.75,
            1.25,
            2.25,
            2,
            1.5,
            2,
            1.75,
            2,
            2.25
           ],
           "yaxis": "y"
          }
         ],
         "name": "Book"
        },
        {
         "data": [
          {
           "customdata": [
            [
             "2021",
             "Game"
            ],
            [
             "2021",
             "Game"
            ],
            [
             "2021",
             "Game"
            ],
            [
             "2021",
             "Game"
            ],
            [
             "2021",
             "Game"
            ],
            [
             "2021",
             "Game"
            ],
            [
             "2021",
             "Game"
            ],
            [
             "2021",
             "Game"
            ],
            [
             "2021",
             "Game"
            ],
            [
             "2021",
             "Game"
            ],
            [
             "2021",
             "Game"
            ],
            [
             "2021",
             "Game"
            ]
           ],
           "hovertemplate": "Year=2021<extra></extra>",
           "legendgroup": "2021",
           "line": {
            "color": "#EF553B",
            "dash": "solid"
           },
           "marker": {
            "symbol": "circle"
           },
           "mode": "lines",
           "name": "2021",
           "orientation": "v",
           "showlegend": true,
           "type": "scatter",
           "x": [
            "01",
            "02",
            "03",
            "04",
            "05",
            "06",
            "07",
            "08",
            "09",
            "10",
            "11",
            "12"
           ],
           "xaxis": "x",
           "y": [
            2,
            3,
            2,
            2,
            3,
            2,
            7,
            5,
            2,
            1,
            2,
            1
           ],
           "yaxis": "y"
          },
          {
           "customdata": [
            [
             "2022",
             "Game"
            ],
            [
             "2022",
             "Game"
            ],
            [
             "2022",
             "Game"
            ],
            [
             "2022",
             "Game"
            ],
            [
             "2022",
             "Game"
            ],
            [
             "2022",
             "Game"
            ],
            [
             "2022",
             "Game"
            ],
            [
             "2022",
             "Game"
            ],
            [
             "2022",
             "Game"
            ],
            [
             "2022",
             "Game"
            ],
            [
             "2022",
             "Game"
            ],
            [
             "2022",
             "Game"
            ]
           ],
           "hovertemplate": "Year=2022<extra></extra>",
           "legendgroup": "2022",
           "line": {
            "color": "#00cc96",
            "dash": "solid"
           },
           "marker": {
            "symbol": "circle"
           },
           "mode": "lines",
           "name": "2022",
           "orientation": "v",
           "showlegend": true,
           "type": "scatter",
           "x": [
            "01",
            "02",
            "03",
            "04",
            "05",
            "06",
            "07",
            "08",
            "09",
            "10",
            "11",
            "12"
           ],
           "xaxis": "x",
           "y": [
            2,
            2,
            2,
            1,
            1,
            3,
            1,
            1,
            0,
            0,
            1,
            3
           ],
           "yaxis": "y"
          },
          {
           "customdata": [
            [
             "2023",
             "Game"
            ],
            [
             "2023",
             "Game"
            ],
            [
             "2023",
             "Game"
            ],
            [
             "2023",
             "Game"
            ],
            [
             "2023",
             "Game"
            ],
            [
             "2023",
             "Game"
            ],
            [
             "2023",
             "Game"
            ],
            [
             "2023",
             "Game"
            ],
            [
             "2023",
             "Game"
            ],
            [
             "2023",
             "Game"
            ],
            [
             "2023",
             "Game"
            ],
            [
             "2023",
             "Game"
            ]
           ],
           "hovertemplate": "Year=2023<extra></extra>",
           "legendgroup": "2023",
           "line": {
            "color": "#ab63fa",
            "dash": "solid"
           },
           "marker": {
            "symbol": "circle"
           },
           "mode": "lines",
           "name": "2023",
           "orientation": "v",
           "showlegend": true,
           "type": "scatter",
           "x": [
            "01",
            "02",
            "03",
            "04",
            "05",
            "06",
            "07",
            "08",
            "09",
            "10",
            "11",
            "12"
           ],
           "xaxis": "x",
           "y": [
            6,
            2,
            2,
            0,
            1,
            2,
            3,
            2,
            5,
            2,
            2,
            3
           ],
           "yaxis": "y"
          },
          {
           "customdata": [
            [
             "2024",
             "Game"
            ],
            [
             "2024",
             "Game"
            ],
            [
             "2024",
             "Game"
            ],
            [
             "2024",
             "Game"
            ],
            [
             "2024",
             "Game"
            ],
            [
             "2024",
             "Game"
            ],
            [
             "2024",
             "Game"
            ],
            [
             "2024",
             "Game"
            ],
            [
             "2024",
             "Game"
            ],
            [
             "2024",
             "Game"
            ],
            [
             "2024",
             "Game"
            ],
            [
             "2024",
             "Game"
            ]
           ],
           "hovertemplate": "Year=2024<extra></extra>",
           "legendgroup": "2024",
           "line": {
            "color": "#FFA15A",
            "dash": "solid"
           },
           "marker": {
            "symbol": "circle"
           },
           "mode": "lines",
           "name": "2024",
           "orientation": "v",
           "showlegend": true,
           "type": "scatter",
           "x": [
            "01",
            "02",
            "03",
            "04",
            "05",
            "06",
            "07",
            "08",
            "09",
            "10",
            "11",
            "12"
           ],
           "xaxis": "x",
           "y": [
            1,
            2,
            2,
            1,
            3,
            3,
            4,
            3,
            1,
            0,
            0,
            0
           ],
           "yaxis": "y"
          },
          {
           "customdata": [
            [
             "Mean",
             "Game"
            ],
            [
             "Mean",
             "Game"
            ],
            [
             "Mean",
             "Game"
            ],
            [
             "Mean",
             "Game"
            ],
            [
             "Mean",
             "Game"
            ],
            [
             "Mean",
             "Game"
            ],
            [
             "Mean",
             "Game"
            ],
            [
             "Mean",
             "Game"
            ],
            [
             "Mean",
             "Game"
            ],
            [
             "Mean",
             "Game"
            ],
            [
             "Mean",
             "Game"
            ],
            [
             "Mean",
             "Game"
            ]
           ],
           "hovertemplate": "Year=Mean<extra></extra>",
           "legendgroup": "Mean",
           "line": {
            "color": "black",
            "dash": "solid"
           },
           "marker": {
            "symbol": "circle"
           },
           "mode": "lines",
           "name": "Mean",
           "orientation": "v",
           "showlegend": true,
           "type": "scatter",
           "x": [
            "01",
            "02",
            "03",
            "04",
            "05",
            "06",
            "07",
            "08",
            "09",
            "10",
            "11",
            "12"
           ],
           "xaxis": "x",
           "y": [
            2.75,
            2.25,
            2,
            1,
            2,
            2.5,
            3.75,
            2.75,
            2,
            0.75,
            1.25,
            1.75
           ],
           "yaxis": "y"
          }
         ],
         "name": "Game"
        },
        {
         "data": [
          {
           "customdata": [
            [
             "2021",
             "Cabaret"
            ],
            [
             "2021",
             "Cabaret"
            ],
            [
             "2021",
             "Cabaret"
            ],
            [
             "2021",
             "Cabaret"
            ],
            [
             "2021",
             "Cabaret"
            ],
            [
             "2021",
             "Cabaret"
            ],
            [
             "2021",
             "Cabaret"
            ],
            [
             "2021",
             "Cabaret"
            ],
            [
             "2021",
             "Cabaret"
            ],
            [
             "2021",
             "Cabaret"
            ],
            [
             "2021",
             "Cabaret"
            ],
            [
             "2021",
             "Cabaret"
            ]
           ],
           "hovertemplate": "Year=2021<extra></extra>",
           "legendgroup": "2021",
           "line": {
            "color": "#EF553B",
            "dash": "solid"
           },
           "marker": {
            "symbol": "circle"
           },
           "mode": "lines",
           "name": "2021",
           "orientation": "v",
           "showlegend": true,
           "type": "scatter",
           "x": [
            "01",
            "02",
            "03",
            "04",
            "05",
            "06",
            "07",
            "08",
            "09",
            "10",
            "11",
            "12"
           ],
           "xaxis": "x",
           "y": [
            0,
            0,
            0,
            0,
            0,
            0,
            0,
            0,
            0,
            0,
            0,
            0
           ],
           "yaxis": "y"
          },
          {
           "customdata": [
            [
             "2022",
             "Cabaret"
            ],
            [
             "2022",
             "Cabaret"
            ],
            [
             "2022",
             "Cabaret"
            ],
            [
             "2022",
             "Cabaret"
            ],
            [
             "2022",
             "Cabaret"
            ],
            [
             "2022",
             "Cabaret"
            ],
            [
             "2022",
             "Cabaret"
            ],
            [
             "2022",
             "Cabaret"
            ],
            [
             "2022",
             "Cabaret"
            ],
            [
             "2022",
             "Cabaret"
            ],
            [
             "2022",
             "Cabaret"
            ],
            [
             "2022",
             "Cabaret"
            ]
           ],
           "hovertemplate": "Year=2022<extra></extra>",
           "legendgroup": "2022",
           "line": {
            "color": "#00cc96",
            "dash": "solid"
           },
           "marker": {
            "symbol": "circle"
           },
           "mode": "lines",
           "name": "2022",
           "orientation": "v",
           "showlegend": true,
           "type": "scatter",
           "x": [
            "01",
            "02",
            "03",
            "04",
            "05",
            "06",
            "07",
            "08",
            "09",
            "10",
            "11",
            "12"
           ],
           "xaxis": "x",
           "y": [
            0,
            0,
            0,
            0,
            1,
            0,
            0,
            0,
            0,
            0,
            0,
            0
           ],
           "yaxis": "y"
          },
          {
           "customdata": [
            [
             "2023",
             "Cabaret"
            ],
            [
             "2023",
             "Cabaret"
            ],
            [
             "2023",
             "Cabaret"
            ],
            [
             "2023",
             "Cabaret"
            ],
            [
             "2023",
             "Cabaret"
            ],
            [
             "2023",
             "Cabaret"
            ],
            [
             "2023",
             "Cabaret"
            ],
            [
             "2023",
             "Cabaret"
            ],
            [
             "2023",
             "Cabaret"
            ],
            [
             "2023",
             "Cabaret"
            ],
            [
             "2023",
             "Cabaret"
            ],
            [
             "2023",
             "Cabaret"
            ]
           ],
           "hovertemplate": "Year=2023<extra></extra>",
           "legendgroup": "2023",
           "line": {
            "color": "#ab63fa",
            "dash": "solid"
           },
           "marker": {
            "symbol": "circle"
           },
           "mode": "lines",
           "name": "2023",
           "orientation": "v",
           "showlegend": true,
           "type": "scatter",
           "x": [
            "01",
            "02",
            "03",
            "04",
            "05",
            "06",
            "07",
            "08",
            "09",
            "10",
            "11",
            "12"
           ],
           "xaxis": "x",
           "y": [
            0,
            0,
            0,
            0,
            0,
            0,
            0,
            0,
            0,
            0,
            0,
            0
           ],
           "yaxis": "y"
          },
          {
           "customdata": [
            [
             "2024",
             "Cabaret"
            ],
            [
             "2024",
             "Cabaret"
            ],
            [
             "2024",
             "Cabaret"
            ],
            [
             "2024",
             "Cabaret"
            ],
            [
             "2024",
             "Cabaret"
            ],
            [
             "2024",
             "Cabaret"
            ],
            [
             "2024",
             "Cabaret"
            ],
            [
             "2024",
             "Cabaret"
            ],
            [
             "2024",
             "Cabaret"
            ],
            [
             "2024",
             "Cabaret"
            ],
            [
             "2024",
             "Cabaret"
            ],
            [
             "2024",
             "Cabaret"
            ]
           ],
           "hovertemplate": "Year=2024<extra></extra>",
           "legendgroup": "2024",
           "line": {
            "color": "#FFA15A",
            "dash": "solid"
           },
           "marker": {
            "symbol": "circle"
           },
           "mode": "lines",
           "name": "2024",
           "orientation": "v",
           "showlegend": true,
           "type": "scatter",
           "x": [
            "01",
            "02",
            "03",
            "04",
            "05",
            "06",
            "07",
            "08",
            "09",
            "10",
            "11",
            "12"
           ],
           "xaxis": "x",
           "y": [
            0,
            0,
            0,
            0,
            0,
            0,
            0,
            0,
            0,
            0,
            0,
            0
           ],
           "yaxis": "y"
          },
          {
           "customdata": [
            [
             "Mean",
             "Cabaret"
            ],
            [
             "Mean",
             "Cabaret"
            ],
            [
             "Mean",
             "Cabaret"
            ],
            [
             "Mean",
             "Cabaret"
            ],
            [
             "Mean",
             "Cabaret"
            ],
            [
             "Mean",
             "Cabaret"
            ],
            [
             "Mean",
             "Cabaret"
            ],
            [
             "Mean",
             "Cabaret"
            ],
            [
             "Mean",
             "Cabaret"
            ],
            [
             "Mean",
             "Cabaret"
            ],
            [
             "Mean",
             "Cabaret"
            ],
            [
             "Mean",
             "Cabaret"
            ]
           ],
           "hovertemplate": "Year=Mean<extra></extra>",
           "legendgroup": "Mean",
           "line": {
            "color": "black",
            "dash": "solid"
           },
           "marker": {
            "symbol": "circle"
           },
           "mode": "lines",
           "name": "Mean",
           "orientation": "v",
           "showlegend": true,
           "type": "scatter",
           "x": [
            "01",
            "02",
            "03",
            "04",
            "05",
            "06",
            "07",
            "08",
            "09",
            "10",
            "11",
            "12"
           ],
           "xaxis": "x",
           "y": [
            0,
            0,
            0,
            0,
            0.25,
            0,
            0,
            0,
            0,
            0,
            0,
            0
           ],
           "yaxis": "y"
          }
         ],
         "name": "Cabaret"
        },
        {
         "data": [
          {
           "customdata": [
            [
             "2021",
             "Concert"
            ],
            [
             "2021",
             "Concert"
            ],
            [
             "2021",
             "Concert"
            ],
            [
             "2021",
             "Concert"
            ],
            [
             "2021",
             "Concert"
            ],
            [
             "2021",
             "Concert"
            ],
            [
             "2021",
             "Concert"
            ],
            [
             "2021",
             "Concert"
            ],
            [
             "2021",
             "Concert"
            ],
            [
             "2021",
             "Concert"
            ],
            [
             "2021",
             "Concert"
            ],
            [
             "2021",
             "Concert"
            ]
           ],
           "hovertemplate": "Year=2021<extra></extra>",
           "legendgroup": "2021",
           "line": {
            "color": "#EF553B",
            "dash": "solid"
           },
           "marker": {
            "symbol": "circle"
           },
           "mode": "lines",
           "name": "2021",
           "orientation": "v",
           "showlegend": true,
           "type": "scatter",
           "x": [
            "01",
            "02",
            "03",
            "04",
            "05",
            "06",
            "07",
            "08",
            "09",
            "10",
            "11",
            "12"
           ],
           "xaxis": "x",
           "y": [
            0,
            0,
            0,
            0,
            0,
            0,
            0,
            0,
            0,
            0,
            0,
            0
           ],
           "yaxis": "y"
          },
          {
           "customdata": [
            [
             "2022",
             "Concert"
            ],
            [
             "2022",
             "Concert"
            ],
            [
             "2022",
             "Concert"
            ],
            [
             "2022",
             "Concert"
            ],
            [
             "2022",
             "Concert"
            ],
            [
             "2022",
             "Concert"
            ],
            [
             "2022",
             "Concert"
            ],
            [
             "2022",
             "Concert"
            ],
            [
             "2022",
             "Concert"
            ],
            [
             "2022",
             "Concert"
            ],
            [
             "2022",
             "Concert"
            ],
            [
             "2022",
             "Concert"
            ]
           ],
           "hovertemplate": "Year=2022<extra></extra>",
           "legendgroup": "2022",
           "line": {
            "color": "#00cc96",
            "dash": "solid"
           },
           "marker": {
            "symbol": "circle"
           },
           "mode": "lines",
           "name": "2022",
           "orientation": "v",
           "showlegend": true,
           "type": "scatter",
           "x": [
            "01",
            "02",
            "03",
            "04",
            "05",
            "06",
            "07",
            "08",
            "09",
            "10",
            "11",
            "12"
           ],
           "xaxis": "x",
           "y": [
            0,
            0,
            0,
            0,
            1,
            0,
            0,
            0,
            0,
            0,
            2,
            2
           ],
           "yaxis": "y"
          },
          {
           "customdata": [
            [
             "2023",
             "Concert"
            ],
            [
             "2023",
             "Concert"
            ],
            [
             "2023",
             "Concert"
            ],
            [
             "2023",
             "Concert"
            ],
            [
             "2023",
             "Concert"
            ],
            [
             "2023",
             "Concert"
            ],
            [
             "2023",
             "Concert"
            ],
            [
             "2023",
             "Concert"
            ],
            [
             "2023",
             "Concert"
            ],
            [
             "2023",
             "Concert"
            ],
            [
             "2023",
             "Concert"
            ],
            [
             "2023",
             "Concert"
            ]
           ],
           "hovertemplate": "Year=2023<extra></extra>",
           "legendgroup": "2023",
           "line": {
            "color": "#ab63fa",
            "dash": "solid"
           },
           "marker": {
            "symbol": "circle"
           },
           "mode": "lines",
           "name": "2023",
           "orientation": "v",
           "showlegend": true,
           "type": "scatter",
           "x": [
            "01",
            "02",
            "03",
            "04",
            "05",
            "06",
            "07",
            "08",
            "09",
            "10",
            "11",
            "12"
           ],
           "xaxis": "x",
           "y": [
            0,
            1,
            2,
            0,
            0,
            3,
            2,
            0,
            0,
            2,
            1,
            1
           ],
           "yaxis": "y"
          },
          {
           "customdata": [
            [
             "2024",
             "Concert"
            ],
            [
             "2024",
             "Concert"
            ],
            [
             "2024",
             "Concert"
            ],
            [
             "2024",
             "Concert"
            ],
            [
             "2024",
             "Concert"
            ],
            [
             "2024",
             "Concert"
            ],
            [
             "2024",
             "Concert"
            ],
            [
             "2024",
             "Concert"
            ],
            [
             "2024",
             "Concert"
            ],
            [
             "2024",
             "Concert"
            ],
            [
             "2024",
             "Concert"
            ],
            [
             "2024",
             "Concert"
            ]
           ],
           "hovertemplate": "Year=2024<extra></extra>",
           "legendgroup": "2024",
           "line": {
            "color": "#FFA15A",
            "dash": "solid"
           },
           "marker": {
            "symbol": "circle"
           },
           "mode": "lines",
           "name": "2024",
           "orientation": "v",
           "showlegend": true,
           "type": "scatter",
           "x": [
            "01",
            "02",
            "03",
            "04",
            "05",
            "06",
            "07",
            "08",
            "09",
            "10",
            "11",
            "12"
           ],
           "xaxis": "x",
           "y": [
            0,
            2,
            0,
            1,
            2,
            0,
            1,
            0,
            0,
            0,
            0,
            0
           ],
           "yaxis": "y"
          },
          {
           "customdata": [
            [
             "Mean",
             "Concert"
            ],
            [
             "Mean",
             "Concert"
            ],
            [
             "Mean",
             "Concert"
            ],
            [
             "Mean",
             "Concert"
            ],
            [
             "Mean",
             "Concert"
            ],
            [
             "Mean",
             "Concert"
            ],
            [
             "Mean",
             "Concert"
            ],
            [
             "Mean",
             "Concert"
            ],
            [
             "Mean",
             "Concert"
            ],
            [
             "Mean",
             "Concert"
            ],
            [
             "Mean",
             "Concert"
            ],
            [
             "Mean",
             "Concert"
            ]
           ],
           "hovertemplate": "Year=Mean<extra></extra>",
           "legendgroup": "Mean",
           "line": {
            "color": "black",
            "dash": "solid"
           },
           "marker": {
            "symbol": "circle"
           },
           "mode": "lines",
           "name": "Mean",
           "orientation": "v",
           "showlegend": true,
           "type": "scatter",
           "x": [
            "01",
            "02",
            "03",
            "04",
            "05",
            "06",
            "07",
            "08",
            "09",
            "10",
            "11",
            "12"
           ],
           "xaxis": "x",
           "y": [
            0,
            0.75,
            0.5,
            0.25,
            0.75,
            0.75,
            0.75,
            0,
            0,
            0.5,
            0.75,
            0.75
           ],
           "yaxis": "y"
          }
         ],
         "name": "Concert"
        },
        {
         "data": [
          {
           "customdata": [
            [
             "2021",
             "Conference"
            ],
            [
             "2021",
             "Conference"
            ],
            [
             "2021",
             "Conference"
            ],
            [
             "2021",
             "Conference"
            ],
            [
             "2021",
             "Conference"
            ],
            [
             "2021",
             "Conference"
            ],
            [
             "2021",
             "Conference"
            ],
            [
             "2021",
             "Conference"
            ],
            [
             "2021",
             "Conference"
            ],
            [
             "2021",
             "Conference"
            ],
            [
             "2021",
             "Conference"
            ],
            [
             "2021",
             "Conference"
            ]
           ],
           "hovertemplate": "Year=2021<extra></extra>",
           "legendgroup": "2021",
           "line": {
            "color": "#EF553B",
            "dash": "solid"
           },
           "marker": {
            "symbol": "circle"
           },
           "mode": "lines",
           "name": "2021",
           "orientation": "v",
           "showlegend": true,
           "type": "scatter",
           "x": [
            "01",
            "02",
            "03",
            "04",
            "05",
            "06",
            "07",
            "08",
            "09",
            "10",
            "11",
            "12"
           ],
           "xaxis": "x",
           "y": [
            0,
            0,
            0,
            0,
            0,
            0,
            0,
            0,
            0,
            0,
            0,
            0
           ],
           "yaxis": "y"
          },
          {
           "customdata": [
            [
             "2022",
             "Conference"
            ],
            [
             "2022",
             "Conference"
            ],
            [
             "2022",
             "Conference"
            ],
            [
             "2022",
             "Conference"
            ],
            [
             "2022",
             "Conference"
            ],
            [
             "2022",
             "Conference"
            ],
            [
             "2022",
             "Conference"
            ],
            [
             "2022",
             "Conference"
            ],
            [
             "2022",
             "Conference"
            ],
            [
             "2022",
             "Conference"
            ],
            [
             "2022",
             "Conference"
            ],
            [
             "2022",
             "Conference"
            ]
           ],
           "hovertemplate": "Year=2022<extra></extra>",
           "legendgroup": "2022",
           "line": {
            "color": "#00cc96",
            "dash": "solid"
           },
           "marker": {
            "symbol": "circle"
           },
           "mode": "lines",
           "name": "2022",
           "orientation": "v",
           "showlegend": true,
           "type": "scatter",
           "x": [
            "01",
            "02",
            "03",
            "04",
            "05",
            "06",
            "07",
            "08",
            "09",
            "10",
            "11",
            "12"
           ],
           "xaxis": "x",
           "y": [
            0,
            0,
            0,
            0,
            0,
            0,
            0,
            0,
            0,
            0,
            0,
            0
           ],
           "yaxis": "y"
          },
          {
           "customdata": [
            [
             "2023",
             "Conference"
            ],
            [
             "2023",
             "Conference"
            ],
            [
             "2023",
             "Conference"
            ],
            [
             "2023",
             "Conference"
            ],
            [
             "2023",
             "Conference"
            ],
            [
             "2023",
             "Conference"
            ],
            [
             "2023",
             "Conference"
            ],
            [
             "2023",
             "Conference"
            ],
            [
             "2023",
             "Conference"
            ],
            [
             "2023",
             "Conference"
            ],
            [
             "2023",
             "Conference"
            ],
            [
             "2023",
             "Conference"
            ]
           ],
           "hovertemplate": "Year=2023<extra></extra>",
           "legendgroup": "2023",
           "line": {
            "color": "#ab63fa",
            "dash": "solid"
           },
           "marker": {
            "symbol": "circle"
           },
           "mode": "lines",
           "name": "2023",
           "orientation": "v",
           "showlegend": true,
           "type": "scatter",
           "x": [
            "01",
            "02",
            "03",
            "04",
            "05",
            "06",
            "07",
            "08",
            "09",
            "10",
            "11",
            "12"
           ],
           "xaxis": "x",
           "y": [
            0,
            2,
            0,
            0,
            0,
            1,
            0,
            0,
            0,
            0,
            0,
            0
           ],
           "yaxis": "y"
          },
          {
           "customdata": [
            [
             "2024",
             "Conference"
            ],
            [
             "2024",
             "Conference"
            ],
            [
             "2024",
             "Conference"
            ],
            [
             "2024",
             "Conference"
            ],
            [
             "2024",
             "Conference"
            ],
            [
             "2024",
             "Conference"
            ],
            [
             "2024",
             "Conference"
            ],
            [
             "2024",
             "Conference"
            ],
            [
             "2024",
             "Conference"
            ],
            [
             "2024",
             "Conference"
            ],
            [
             "2024",
             "Conference"
            ],
            [
             "2024",
             "Conference"
            ]
           ],
           "hovertemplate": "Year=2024<extra></extra>",
           "legendgroup": "2024",
           "line": {
            "color": "#FFA15A",
            "dash": "solid"
           },
           "marker": {
            "symbol": "circle"
           },
           "mode": "lines",
           "name": "2024",
           "orientation": "v",
           "showlegend": true,
           "type": "scatter",
           "x": [
            "01",
            "02",
            "03",
            "04",
            "05",
            "06",
            "07",
            "08",
            "09",
            "10",
            "11",
            "12"
           ],
           "xaxis": "x",
           "y": [
            0,
            0,
            0,
            0,
            0,
            0,
            0,
            0,
            0,
            0,
            0,
            0
           ],
           "yaxis": "y"
          },
          {
           "customdata": [
            [
             "Mean",
             "Conference"
            ],
            [
             "Mean",
             "Conference"
            ],
            [
             "Mean",
             "Conference"
            ],
            [
             "Mean",
             "Conference"
            ],
            [
             "Mean",
             "Conference"
            ],
            [
             "Mean",
             "Conference"
            ],
            [
             "Mean",
             "Conference"
            ],
            [
             "Mean",
             "Conference"
            ],
            [
             "Mean",
             "Conference"
            ],
            [
             "Mean",
             "Conference"
            ],
            [
             "Mean",
             "Conference"
            ],
            [
             "Mean",
             "Conference"
            ]
           ],
           "hovertemplate": "Year=Mean<extra></extra>",
           "legendgroup": "Mean",
           "line": {
            "color": "black",
            "dash": "solid"
           },
           "marker": {
            "symbol": "circle"
           },
           "mode": "lines",
           "name": "Mean",
           "orientation": "v",
           "showlegend": true,
           "type": "scatter",
           "x": [
            "01",
            "02",
            "03",
            "04",
            "05",
            "06",
            "07",
            "08",
            "09",
            "10",
            "11",
            "12"
           ],
           "xaxis": "x",
           "y": [
            0,
            0.5,
            0,
            0,
            0,
            0.25,
            0,
            0,
            0,
            0,
            0,
            0
           ],
           "yaxis": "y"
          }
         ],
         "name": "Conference"
        },
        {
         "data": [
          {
           "customdata": [
            [
             "2021",
             "Movie"
            ],
            [
             "2021",
             "Movie"
            ],
            [
             "2021",
             "Movie"
            ],
            [
             "2021",
             "Movie"
            ],
            [
             "2021",
             "Movie"
            ],
            [
             "2021",
             "Movie"
            ],
            [
             "2021",
             "Movie"
            ],
            [
             "2021",
             "Movie"
            ],
            [
             "2021",
             "Movie"
            ],
            [
             "2021",
             "Movie"
            ],
            [
             "2021",
             "Movie"
            ],
            [
             "2021",
             "Movie"
            ]
           ],
           "hovertemplate": "Year=2021<extra></extra>",
           "legendgroup": "2021",
           "line": {
            "color": "#EF553B",
            "dash": "solid"
           },
           "marker": {
            "symbol": "circle"
           },
           "mode": "lines",
           "name": "2021",
           "orientation": "v",
           "showlegend": true,
           "type": "scatter",
           "x": [
            "01",
            "02",
            "03",
            "04",
            "05",
            "06",
            "07",
            "08",
            "09",
            "10",
            "11",
            "12"
           ],
           "xaxis": "x",
           "y": [
            0,
            0,
            0,
            0,
            0,
            0,
            0,
            0,
            0,
            0,
            0,
            0
           ],
           "yaxis": "y"
          },
          {
           "customdata": [
            [
             "2022",
             "Movie"
            ],
            [
             "2022",
             "Movie"
            ],
            [
             "2022",
             "Movie"
            ],
            [
             "2022",
             "Movie"
            ],
            [
             "2022",
             "Movie"
            ],
            [
             "2022",
             "Movie"
            ],
            [
             "2022",
             "Movie"
            ],
            [
             "2022",
             "Movie"
            ],
            [
             "2022",
             "Movie"
            ],
            [
             "2022",
             "Movie"
            ],
            [
             "2022",
             "Movie"
            ],
            [
             "2022",
             "Movie"
            ]
           ],
           "hovertemplate": "Year=2022<extra></extra>",
           "legendgroup": "2022",
           "line": {
            "color": "#00cc96",
            "dash": "solid"
           },
           "marker": {
            "symbol": "circle"
           },
           "mode": "lines",
           "name": "2022",
           "orientation": "v",
           "showlegend": true,
           "type": "scatter",
           "x": [
            "01",
            "02",
            "03",
            "04",
            "05",
            "06",
            "07",
            "08",
            "09",
            "10",
            "11",
            "12"
           ],
           "xaxis": "x",
           "y": [
            1,
            0,
            0,
            0,
            0,
            0,
            0,
            0,
            0,
            0,
            0,
            0
           ],
           "yaxis": "y"
          },
          {
           "customdata": [
            [
             "2023",
             "Movie"
            ],
            [
             "2023",
             "Movie"
            ],
            [
             "2023",
             "Movie"
            ],
            [
             "2023",
             "Movie"
            ],
            [
             "2023",
             "Movie"
            ],
            [
             "2023",
             "Movie"
            ],
            [
             "2023",
             "Movie"
            ],
            [
             "2023",
             "Movie"
            ],
            [
             "2023",
             "Movie"
            ],
            [
             "2023",
             "Movie"
            ],
            [
             "2023",
             "Movie"
            ],
            [
             "2023",
             "Movie"
            ]
           ],
           "hovertemplate": "Year=2023<extra></extra>",
           "legendgroup": "2023",
           "line": {
            "color": "#ab63fa",
            "dash": "solid"
           },
           "marker": {
            "symbol": "circle"
           },
           "mode": "lines",
           "name": "2023",
           "orientation": "v",
           "showlegend": true,
           "type": "scatter",
           "x": [
            "01",
            "02",
            "03",
            "04",
            "05",
            "06",
            "07",
            "08",
            "09",
            "10",
            "11",
            "12"
           ],
           "xaxis": "x",
           "y": [
            0,
            0,
            0,
            0,
            0,
            0,
            4,
            0,
            0,
            0,
            1,
            1
           ],
           "yaxis": "y"
          },
          {
           "customdata": [
            [
             "2024",
             "Movie"
            ],
            [
             "2024",
             "Movie"
            ],
            [
             "2024",
             "Movie"
            ],
            [
             "2024",
             "Movie"
            ],
            [
             "2024",
             "Movie"
            ],
            [
             "2024",
             "Movie"
            ],
            [
             "2024",
             "Movie"
            ],
            [
             "2024",
             "Movie"
            ],
            [
             "2024",
             "Movie"
            ],
            [
             "2024",
             "Movie"
            ],
            [
             "2024",
             "Movie"
            ],
            [
             "2024",
             "Movie"
            ]
           ],
           "hovertemplate": "Year=2024<extra></extra>",
           "legendgroup": "2024",
           "line": {
            "color": "#FFA15A",
            "dash": "solid"
           },
           "marker": {
            "symbol": "circle"
           },
           "mode": "lines",
           "name": "2024",
           "orientation": "v",
           "showlegend": true,
           "type": "scatter",
           "x": [
            "01",
            "02",
            "03",
            "04",
            "05",
            "06",
            "07",
            "08",
            "09",
            "10",
            "11",
            "12"
           ],
           "xaxis": "x",
           "y": [
            1,
            0,
            1,
            0,
            0,
            0,
            2,
            0,
            0,
            0,
            0,
            0
           ],
           "yaxis": "y"
          },
          {
           "customdata": [
            [
             "Mean",
             "Movie"
            ],
            [
             "Mean",
             "Movie"
            ],
            [
             "Mean",
             "Movie"
            ],
            [
             "Mean",
             "Movie"
            ],
            [
             "Mean",
             "Movie"
            ],
            [
             "Mean",
             "Movie"
            ],
            [
             "Mean",
             "Movie"
            ],
            [
             "Mean",
             "Movie"
            ],
            [
             "Mean",
             "Movie"
            ],
            [
             "Mean",
             "Movie"
            ],
            [
             "Mean",
             "Movie"
            ],
            [
             "Mean",
             "Movie"
            ]
           ],
           "hovertemplate": "Year=Mean<extra></extra>",
           "legendgroup": "Mean",
           "line": {
            "color": "black",
            "dash": "solid"
           },
           "marker": {
            "symbol": "circle"
           },
           "mode": "lines",
           "name": "Mean",
           "orientation": "v",
           "showlegend": true,
           "type": "scatter",
           "x": [
            "01",
            "02",
            "03",
            "04",
            "05",
            "06",
            "07",
            "08",
            "09",
            "10",
            "11",
            "12"
           ],
           "xaxis": "x",
           "y": [
            0.5,
            0,
            0.25,
            0,
            0,
            0,
            1.5,
            0,
            0,
            0,
            0.25,
            0.25
           ],
           "yaxis": "y"
          }
         ],
         "name": "Movie"
        },
        {
         "data": [
          {
           "customdata": [
            [
             "2021",
             "Museum"
            ],
            [
             "2021",
             "Museum"
            ],
            [
             "2021",
             "Museum"
            ],
            [
             "2021",
             "Museum"
            ],
            [
             "2021",
             "Museum"
            ],
            [
             "2021",
             "Museum"
            ],
            [
             "2021",
             "Museum"
            ],
            [
             "2021",
             "Museum"
            ],
            [
             "2021",
             "Museum"
            ],
            [
             "2021",
             "Museum"
            ],
            [
             "2021",
             "Museum"
            ],
            [
             "2021",
             "Museum"
            ]
           ],
           "hovertemplate": "Year=2021<extra></extra>",
           "legendgroup": "2021",
           "line": {
            "color": "#EF553B",
            "dash": "solid"
           },
           "marker": {
            "symbol": "circle"
           },
           "mode": "lines",
           "name": "2021",
           "orientation": "v",
           "showlegend": true,
           "type": "scatter",
           "x": [
            "01",
            "02",
            "03",
            "04",
            "05",
            "06",
            "07",
            "08",
            "09",
            "10",
            "11",
            "12"
           ],
           "xaxis": "x",
           "y": [
            0,
            0,
            0,
            0,
            0,
            0,
            0,
            0,
            0,
            0,
            0,
            0
           ],
           "yaxis": "y"
          },
          {
           "customdata": [
            [
             "2022",
             "Museum"
            ],
            [
             "2022",
             "Museum"
            ],
            [
             "2022",
             "Museum"
            ],
            [
             "2022",
             "Museum"
            ],
            [
             "2022",
             "Museum"
            ],
            [
             "2022",
             "Museum"
            ],
            [
             "2022",
             "Museum"
            ],
            [
             "2022",
             "Museum"
            ],
            [
             "2022",
             "Museum"
            ],
            [
             "2022",
             "Museum"
            ],
            [
             "2022",
             "Museum"
            ],
            [
             "2022",
             "Museum"
            ]
           ],
           "hovertemplate": "Year=2022<extra></extra>",
           "legendgroup": "2022",
           "line": {
            "color": "#00cc96",
            "dash": "solid"
           },
           "marker": {
            "symbol": "circle"
           },
           "mode": "lines",
           "name": "2022",
           "orientation": "v",
           "showlegend": true,
           "type": "scatter",
           "x": [
            "01",
            "02",
            "03",
            "04",
            "05",
            "06",
            "07",
            "08",
            "09",
            "10",
            "11",
            "12"
           ],
           "xaxis": "x",
           "y": [
            0,
            0,
            0,
            0,
            0,
            0,
            0,
            1,
            1,
            1,
            1,
            0
           ],
           "yaxis": "y"
          },
          {
           "customdata": [
            [
             "2023",
             "Museum"
            ],
            [
             "2023",
             "Museum"
            ],
            [
             "2023",
             "Museum"
            ],
            [
             "2023",
             "Museum"
            ],
            [
             "2023",
             "Museum"
            ],
            [
             "2023",
             "Museum"
            ],
            [
             "2023",
             "Museum"
            ],
            [
             "2023",
             "Museum"
            ],
            [
             "2023",
             "Museum"
            ],
            [
             "2023",
             "Museum"
            ],
            [
             "2023",
             "Museum"
            ],
            [
             "2023",
             "Museum"
            ]
           ],
           "hovertemplate": "Year=2023<extra></extra>",
           "legendgroup": "2023",
           "line": {
            "color": "#ab63fa",
            "dash": "solid"
           },
           "marker": {
            "symbol": "circle"
           },
           "mode": "lines",
           "name": "2023",
           "orientation": "v",
           "showlegend": true,
           "type": "scatter",
           "x": [
            "01",
            "02",
            "03",
            "04",
            "05",
            "06",
            "07",
            "08",
            "09",
            "10",
            "11",
            "12"
           ],
           "xaxis": "x",
           "y": [
            1,
            0,
            0,
            1,
            0,
            0,
            2,
            1,
            0,
            0,
            0,
            1
           ],
           "yaxis": "y"
          },
          {
           "customdata": [
            [
             "2024",
             "Museum"
            ],
            [
             "2024",
             "Museum"
            ],
            [
             "2024",
             "Museum"
            ],
            [
             "2024",
             "Museum"
            ],
            [
             "2024",
             "Museum"
            ],
            [
             "2024",
             "Museum"
            ],
            [
             "2024",
             "Museum"
            ],
            [
             "2024",
             "Museum"
            ],
            [
             "2024",
             "Museum"
            ],
            [
             "2024",
             "Museum"
            ],
            [
             "2024",
             "Museum"
            ],
            [
             "2024",
             "Museum"
            ]
           ],
           "hovertemplate": "Year=2024<extra></extra>",
           "legendgroup": "2024",
           "line": {
            "color": "#FFA15A",
            "dash": "solid"
           },
           "marker": {
            "symbol": "circle"
           },
           "mode": "lines",
           "name": "2024",
           "orientation": "v",
           "showlegend": true,
           "type": "scatter",
           "x": [
            "01",
            "02",
            "03",
            "04",
            "05",
            "06",
            "07",
            "08",
            "09",
            "10",
            "11",
            "12"
           ],
           "xaxis": "x",
           "y": [
            0,
            0,
            0,
            0,
            1,
            1,
            1,
            1,
            0,
            0,
            0,
            0
           ],
           "yaxis": "y"
          },
          {
           "customdata": [
            [
             "Mean",
             "Museum"
            ],
            [
             "Mean",
             "Museum"
            ],
            [
             "Mean",
             "Museum"
            ],
            [
             "Mean",
             "Museum"
            ],
            [
             "Mean",
             "Museum"
            ],
            [
             "Mean",
             "Museum"
            ],
            [
             "Mean",
             "Museum"
            ],
            [
             "Mean",
             "Museum"
            ],
            [
             "Mean",
             "Museum"
            ],
            [
             "Mean",
             "Museum"
            ],
            [
             "Mean",
             "Museum"
            ],
            [
             "Mean",
             "Museum"
            ]
           ],
           "hovertemplate": "Year=Mean<extra></extra>",
           "legendgroup": "Mean",
           "line": {
            "color": "black",
            "dash": "solid"
           },
           "marker": {
            "symbol": "circle"
           },
           "mode": "lines",
           "name": "Mean",
           "orientation": "v",
           "showlegend": true,
           "type": "scatter",
           "x": [
            "01",
            "02",
            "03",
            "04",
            "05",
            "06",
            "07",
            "08",
            "09",
            "10",
            "11",
            "12"
           ],
           "xaxis": "x",
           "y": [
            0.25,
            0,
            0,
            0.25,
            0.25,
            0.25,
            0.75,
            0.75,
            0.25,
            0.25,
            0.25,
            0.25
           ],
           "yaxis": "y"
          }
         ],
         "name": "Museum"
        },
        {
         "data": [
          {
           "customdata": [
            [
             "2021",
             "Series"
            ],
            [
             "2021",
             "Series"
            ],
            [
             "2021",
             "Series"
            ],
            [
             "2021",
             "Series"
            ],
            [
             "2021",
             "Series"
            ],
            [
             "2021",
             "Series"
            ],
            [
             "2021",
             "Series"
            ],
            [
             "2021",
             "Series"
            ],
            [
             "2021",
             "Series"
            ],
            [
             "2021",
             "Series"
            ],
            [
             "2021",
             "Series"
            ],
            [
             "2021",
             "Series"
            ]
           ],
           "hovertemplate": "Year=2021<extra></extra>",
           "legendgroup": "2021",
           "line": {
            "color": "#EF553B",
            "dash": "solid"
           },
           "marker": {
            "symbol": "circle"
           },
           "mode": "lines",
           "name": "2021",
           "orientation": "v",
           "showlegend": true,
           "type": "scatter",
           "x": [
            "01",
            "02",
            "03",
            "04",
            "05",
            "06",
            "07",
            "08",
            "09",
            "10",
            "11",
            "12"
           ],
           "xaxis": "x",
           "y": [
            0,
            0,
            0,
            0,
            0,
            0,
            0,
            0,
            0,
            0,
            0,
            0
           ],
           "yaxis": "y"
          },
          {
           "customdata": [
            [
             "2022",
             "Series"
            ],
            [
             "2022",
             "Series"
            ],
            [
             "2022",
             "Series"
            ],
            [
             "2022",
             "Series"
            ],
            [
             "2022",
             "Series"
            ],
            [
             "2022",
             "Series"
            ],
            [
             "2022",
             "Series"
            ],
            [
             "2022",
             "Series"
            ],
            [
             "2022",
             "Series"
            ],
            [
             "2022",
             "Series"
            ],
            [
             "2022",
             "Series"
            ],
            [
             "2022",
             "Series"
            ]
           ],
           "hovertemplate": "Year=2022<extra></extra>",
           "legendgroup": "2022",
           "line": {
            "color": "#00cc96",
            "dash": "solid"
           },
           "marker": {
            "symbol": "circle"
           },
           "mode": "lines",
           "name": "2022",
           "orientation": "v",
           "showlegend": true,
           "type": "scatter",
           "x": [
            "01",
            "02",
            "03",
            "04",
            "05",
            "06",
            "07",
            "08",
            "09",
            "10",
            "11",
            "12"
           ],
           "xaxis": "x",
           "y": [
            0,
            0,
            0,
            0,
            0,
            0,
            0,
            0,
            0,
            0,
            0,
            0
           ],
           "yaxis": "y"
          },
          {
           "customdata": [
            [
             "2023",
             "Series"
            ],
            [
             "2023",
             "Series"
            ],
            [
             "2023",
             "Series"
            ],
            [
             "2023",
             "Series"
            ],
            [
             "2023",
             "Series"
            ],
            [
             "2023",
             "Series"
            ],
            [
             "2023",
             "Series"
            ],
            [
             "2023",
             "Series"
            ],
            [
             "2023",
             "Series"
            ],
            [
             "2023",
             "Series"
            ],
            [
             "2023",
             "Series"
            ],
            [
             "2023",
             "Series"
            ]
           ],
           "hovertemplate": "Year=2023<extra></extra>",
           "legendgroup": "2023",
           "line": {
            "color": "#ab63fa",
            "dash": "solid"
           },
           "marker": {
            "symbol": "circle"
           },
           "mode": "lines",
           "name": "2023",
           "orientation": "v",
           "showlegend": true,
           "type": "scatter",
           "x": [
            "01",
            "02",
            "03",
            "04",
            "05",
            "06",
            "07",
            "08",
            "09",
            "10",
            "11",
            "12"
           ],
           "xaxis": "x",
           "y": [
            1,
            0,
            0,
            0,
            0,
            1,
            0,
            0,
            1,
            0,
            0,
            0
           ],
           "yaxis": "y"
          },
          {
           "customdata": [
            [
             "2024",
             "Series"
            ],
            [
             "2024",
             "Series"
            ],
            [
             "2024",
             "Series"
            ],
            [
             "2024",
             "Series"
            ],
            [
             "2024",
             "Series"
            ],
            [
             "2024",
             "Series"
            ],
            [
             "2024",
             "Series"
            ],
            [
             "2024",
             "Series"
            ],
            [
             "2024",
             "Series"
            ],
            [
             "2024",
             "Series"
            ],
            [
             "2024",
             "Series"
            ],
            [
             "2024",
             "Series"
            ]
           ],
           "hovertemplate": "Year=2024<extra></extra>",
           "legendgroup": "2024",
           "line": {
            "color": "#FFA15A",
            "dash": "solid"
           },
           "marker": {
            "symbol": "circle"
           },
           "mode": "lines",
           "name": "2024",
           "orientation": "v",
           "showlegend": true,
           "type": "scatter",
           "x": [
            "01",
            "02",
            "03",
            "04",
            "05",
            "06",
            "07",
            "08",
            "09",
            "10",
            "11",
            "12"
           ],
           "xaxis": "x",
           "y": [
            0,
            0,
            0,
            0,
            0,
            0,
            0,
            0,
            0,
            0,
            0,
            0
           ],
           "yaxis": "y"
          },
          {
           "customdata": [
            [
             "Mean",
             "Series"
            ],
            [
             "Mean",
             "Series"
            ],
            [
             "Mean",
             "Series"
            ],
            [
             "Mean",
             "Series"
            ],
            [
             "Mean",
             "Series"
            ],
            [
             "Mean",
             "Series"
            ],
            [
             "Mean",
             "Series"
            ],
            [
             "Mean",
             "Series"
            ],
            [
             "Mean",
             "Series"
            ],
            [
             "Mean",
             "Series"
            ],
            [
             "Mean",
             "Series"
            ],
            [
             "Mean",
             "Series"
            ]
           ],
           "hovertemplate": "Year=Mean<extra></extra>",
           "legendgroup": "Mean",
           "line": {
            "color": "black",
            "dash": "solid"
           },
           "marker": {
            "symbol": "circle"
           },
           "mode": "lines",
           "name": "Mean",
           "orientation": "v",
           "showlegend": true,
           "type": "scatter",
           "x": [
            "01",
            "02",
            "03",
            "04",
            "05",
            "06",
            "07",
            "08",
            "09",
            "10",
            "11",
            "12"
           ],
           "xaxis": "x",
           "y": [
            0.25,
            0,
            0,
            0,
            0,
            0.25,
            0,
            0,
            0.25,
            0,
            0,
            0
           ],
           "yaxis": "y"
          }
         ],
         "name": "Series"
        },
        {
         "data": [
          {
           "customdata": [
            [
             "2021",
             "Theater"
            ],
            [
             "2021",
             "Theater"
            ],
            [
             "2021",
             "Theater"
            ],
            [
             "2021",
             "Theater"
            ],
            [
             "2021",
             "Theater"
            ],
            [
             "2021",
             "Theater"
            ],
            [
             "2021",
             "Theater"
            ],
            [
             "2021",
             "Theater"
            ],
            [
             "2021",
             "Theater"
            ],
            [
             "2021",
             "Theater"
            ],
            [
             "2021",
             "Theater"
            ],
            [
             "2021",
             "Theater"
            ]
           ],
           "hovertemplate": "Year=2021<extra></extra>",
           "legendgroup": "2021",
           "line": {
            "color": "#EF553B",
            "dash": "solid"
           },
           "marker": {
            "symbol": "circle"
           },
           "mode": "lines",
           "name": "2021",
           "orientation": "v",
           "showlegend": true,
           "type": "scatter",
           "x": [
            "01",
            "02",
            "03",
            "04",
            "05",
            "06",
            "07",
            "08",
            "09",
            "10",
            "11",
            "12"
           ],
           "xaxis": "x",
           "y": [
            0,
            0,
            0,
            0,
            0,
            0,
            0,
            0,
            0,
            0,
            0,
            0
           ],
           "yaxis": "y"
          },
          {
           "customdata": [
            [
             "2022",
             "Theater"
            ],
            [
             "2022",
             "Theater"
            ],
            [
             "2022",
             "Theater"
            ],
            [
             "2022",
             "Theater"
            ],
            [
             "2022",
             "Theater"
            ],
            [
             "2022",
             "Theater"
            ],
            [
             "2022",
             "Theater"
            ],
            [
             "2022",
             "Theater"
            ],
            [
             "2022",
             "Theater"
            ],
            [
             "2022",
             "Theater"
            ],
            [
             "2022",
             "Theater"
            ],
            [
             "2022",
             "Theater"
            ]
           ],
           "hovertemplate": "Year=2022<extra></extra>",
           "legendgroup": "2022",
           "line": {
            "color": "#00cc96",
            "dash": "solid"
           },
           "marker": {
            "symbol": "circle"
           },
           "mode": "lines",
           "name": "2022",
           "orientation": "v",
           "showlegend": true,
           "type": "scatter",
           "x": [
            "01",
            "02",
            "03",
            "04",
            "05",
            "06",
            "07",
            "08",
            "09",
            "10",
            "11",
            "12"
           ],
           "xaxis": "x",
           "y": [
            0,
            0,
            0,
            0,
            1,
            0,
            0,
            0,
            0,
            0,
            0,
            0
           ],
           "yaxis": "y"
          },
          {
           "customdata": [
            [
             "2023",
             "Theater"
            ],
            [
             "2023",
             "Theater"
            ],
            [
             "2023",
             "Theater"
            ],
            [
             "2023",
             "Theater"
            ],
            [
             "2023",
             "Theater"
            ],
            [
             "2023",
             "Theater"
            ],
            [
             "2023",
             "Theater"
            ],
            [
             "2023",
             "Theater"
            ],
            [
             "2023",
             "Theater"
            ],
            [
             "2023",
             "Theater"
            ],
            [
             "2023",
             "Theater"
            ],
            [
             "2023",
             "Theater"
            ]
           ],
           "hovertemplate": "Year=2023<extra></extra>",
           "legendgroup": "2023",
           "line": {
            "color": "#ab63fa",
            "dash": "solid"
           },
           "marker": {
            "symbol": "circle"
           },
           "mode": "lines",
           "name": "2023",
           "orientation": "v",
           "showlegend": true,
           "type": "scatter",
           "x": [
            "01",
            "02",
            "03",
            "04",
            "05",
            "06",
            "07",
            "08",
            "09",
            "10",
            "11",
            "12"
           ],
           "xaxis": "x",
           "y": [
            0,
            1,
            0,
            0,
            0,
            0,
            0,
            0,
            0,
            0,
            0,
            0
           ],
           "yaxis": "y"
          },
          {
           "customdata": [
            [
             "2024",
             "Theater"
            ],
            [
             "2024",
             "Theater"
            ],
            [
             "2024",
             "Theater"
            ],
            [
             "2024",
             "Theater"
            ],
            [
             "2024",
             "Theater"
            ],
            [
             "2024",
             "Theater"
            ],
            [
             "2024",
             "Theater"
            ],
            [
             "2024",
             "Theater"
            ],
            [
             "2024",
             "Theater"
            ],
            [
             "2024",
             "Theater"
            ],
            [
             "2024",
             "Theater"
            ],
            [
             "2024",
             "Theater"
            ]
           ],
           "hovertemplate": "Year=2024<extra></extra>",
           "legendgroup": "2024",
           "line": {
            "color": "#FFA15A",
            "dash": "solid"
           },
           "marker": {
            "symbol": "circle"
           },
           "mode": "lines",
           "name": "2024",
           "orientation": "v",
           "showlegend": true,
           "type": "scatter",
           "x": [
            "01",
            "02",
            "03",
            "04",
            "05",
            "06",
            "07",
            "08",
            "09",
            "10",
            "11",
            "12"
           ],
           "xaxis": "x",
           "y": [
            0,
            0,
            0,
            0,
            0,
            0,
            0,
            0,
            0,
            0,
            0,
            0
           ],
           "yaxis": "y"
          },
          {
           "customdata": [
            [
             "Mean",
             "Theater"
            ],
            [
             "Mean",
             "Theater"
            ],
            [
             "Mean",
             "Theater"
            ],
            [
             "Mean",
             "Theater"
            ],
            [
             "Mean",
             "Theater"
            ],
            [
             "Mean",
             "Theater"
            ],
            [
             "Mean",
             "Theater"
            ],
            [
             "Mean",
             "Theater"
            ],
            [
             "Mean",
             "Theater"
            ],
            [
             "Mean",
             "Theater"
            ],
            [
             "Mean",
             "Theater"
            ],
            [
             "Mean",
             "Theater"
            ]
           ],
           "hovertemplate": "Year=Mean<extra></extra>",
           "legendgroup": "Mean",
           "line": {
            "color": "black",
            "dash": "solid"
           },
           "marker": {
            "symbol": "circle"
           },
           "mode": "lines",
           "name": "Mean",
           "orientation": "v",
           "showlegend": true,
           "type": "scatter",
           "x": [
            "01",
            "02",
            "03",
            "04",
            "05",
            "06",
            "07",
            "08",
            "09",
            "10",
            "11",
            "12"
           ],
           "xaxis": "x",
           "y": [
            0,
            0.25,
            0,
            0,
            0.25,
            0,
            0,
            0,
            0,
            0,
            0,
            0
           ],
           "yaxis": "y"
          }
         ],
         "name": "Theater"
        },
        {
         "data": [
          {
           "customdata": [
            [
             "2021",
             "All"
            ],
            [
             "2021",
             "All"
            ],
            [
             "2021",
             "All"
            ],
            [
             "2021",
             "All"
            ],
            [
             "2021",
             "All"
            ],
            [
             "2021",
             "All"
            ],
            [
             "2021",
             "All"
            ],
            [
             "2021",
             "All"
            ],
            [
             "2021",
             "All"
            ],
            [
             "2021",
             "All"
            ],
            [
             "2021",
             "All"
            ],
            [
             "2021",
             "All"
            ]
           ],
           "hovertemplate": "Year=2021<extra></extra>",
           "legendgroup": "2021",
           "line": {
            "color": "#EF553B",
            "dash": "solid"
           },
           "marker": {
            "symbol": "circle"
           },
           "mode": "lines",
           "name": "2021",
           "orientation": "v",
           "showlegend": true,
           "type": "scatter",
           "x": [
            "01",
            "02",
            "03",
            "04",
            "05",
            "06",
            "07",
            "08",
            "09",
            "10",
            "11",
            "12"
           ],
           "xaxis": "x",
           "y": [
            3,
            7,
            7,
            4,
            5,
            5,
            9,
            8,
            5,
            3,
            5,
            5
           ],
           "yaxis": "y"
          },
          {
           "customdata": [
            [
             "2022",
             "All"
            ],
            [
             "2022",
             "All"
            ],
            [
             "2022",
             "All"
            ],
            [
             "2022",
             "All"
            ],
            [
             "2022",
             "All"
            ],
            [
             "2022",
             "All"
            ],
            [
             "2022",
             "All"
            ],
            [
             "2022",
             "All"
            ],
            [
             "2022",
             "All"
            ],
            [
             "2022",
             "All"
            ],
            [
             "2022",
             "All"
            ],
            [
             "2022",
             "All"
            ]
           ],
           "hovertemplate": "Year=2022<extra></extra>",
           "legendgroup": "2022",
           "line": {
            "color": "#00cc96",
            "dash": "solid"
           },
           "marker": {
            "symbol": "circle"
           },
           "mode": "lines",
           "name": "2022",
           "orientation": "v",
           "showlegend": true,
           "type": "scatter",
           "x": [
            "01",
            "02",
            "03",
            "04",
            "05",
            "06",
            "07",
            "08",
            "09",
            "10",
            "11",
            "12"
           ],
           "xaxis": "x",
           "y": [
            7,
            5,
            5,
            5,
            5,
            4,
            2,
            2,
            3,
            2,
            6,
            8
           ],
           "yaxis": "y"
          },
          {
           "customdata": [
            [
             "2023",
             "All"
            ],
            [
             "2023",
             "All"
            ],
            [
             "2023",
             "All"
            ],
            [
             "2023",
             "All"
            ],
            [
             "2023",
             "All"
            ],
            [
             "2023",
             "All"
            ],
            [
             "2023",
             "All"
            ],
            [
             "2023",
             "All"
            ],
            [
             "2023",
             "All"
            ],
            [
             "2023",
             "All"
            ],
            [
             "2023",
             "All"
            ],
            [
             "2023",
             "All"
            ]
           ],
           "hovertemplate": "Year=2023<extra></extra>",
           "legendgroup": "2023",
           "line": {
            "color": "#ab63fa",
            "dash": "solid"
           },
           "marker": {
            "symbol": "circle"
           },
           "mode": "lines",
           "name": "2023",
           "orientation": "v",
           "showlegend": true,
           "type": "scatter",
           "x": [
            "01",
            "02",
            "03",
            "04",
            "05",
            "06",
            "07",
            "08",
            "09",
            "10",
            "11",
            "12"
           ],
           "xaxis": "x",
           "y": [
            10,
            9,
            4,
            4,
            2,
            9,
            13,
            4,
            8,
            8,
            7,
            8
           ],
           "yaxis": "y"
          },
          {
           "customdata": [
            [
             "2024",
             "All"
            ],
            [
             "2024",
             "All"
            ],
            [
             "2024",
             "All"
            ],
            [
             "2024",
             "All"
            ],
            [
             "2024",
             "All"
            ],
            [
             "2024",
             "All"
            ],
            [
             "2024",
             "All"
            ],
            [
             "2024",
             "All"
            ],
            [
             "2024",
             "All"
            ],
            [
             "2024",
             "All"
            ],
            [
             "2024",
             "All"
            ],
            [
             "2024",
             "All"
            ]
           ],
           "hovertemplate": "Year=2024<extra></extra>",
           "legendgroup": "2024",
           "line": {
            "color": "#FFA15A",
            "dash": "solid"
           },
           "marker": {
            "symbol": "circle"
           },
           "mode": "lines",
           "name": "2024",
           "orientation": "v",
           "showlegend": true,
           "type": "scatter",
           "x": [
            "01",
            "02",
            "03",
            "04",
            "05",
            "06",
            "07",
            "08",
            "09",
            "10",
            "11",
            "12"
           ],
           "xaxis": "x",
           "y": [
            5,
            6,
            7,
            4,
            7,
            7,
            11,
            6,
            2,
            0,
            0,
            0
           ],
           "yaxis": "y"
          },
          {
           "customdata": [
            [
             "Mean",
             "All"
            ],
            [
             "Mean",
             "All"
            ],
            [
             "Mean",
             "All"
            ],
            [
             "Mean",
             "All"
            ],
            [
             "Mean",
             "All"
            ],
            [
             "Mean",
             "All"
            ],
            [
             "Mean",
             "All"
            ],
            [
             "Mean",
             "All"
            ],
            [
             "Mean",
             "All"
            ],
            [
             "Mean",
             "All"
            ],
            [
             "Mean",
             "All"
            ],
            [
             "Mean",
             "All"
            ]
           ],
           "hovertemplate": "Year=Mean<extra></extra>",
           "legendgroup": "Mean",
           "line": {
            "color": "black",
            "dash": "solid"
           },
           "marker": {
            "symbol": "circle"
           },
           "mode": "lines",
           "name": "Mean",
           "orientation": "v",
           "showlegend": true,
           "type": "scatter",
           "x": [
            "01",
            "02",
            "03",
            "04",
            "05",
            "06",
            "07",
            "08",
            "09",
            "10",
            "11",
            "12"
           ],
           "xaxis": "x",
           "y": [
            6.25,
            6.75,
            5.75,
            4.25,
            4.75,
            6.25,
            8.75,
            5,
            4.5,
            3.25,
            4.5,
            5.25
           ],
           "yaxis": "y"
          }
         ],
         "name": "All"
        }
       ],
       "layout": {
        "legend": {
         "title": {
          "text": "Year"
         },
         "tracegroupgap": 0
        },
        "margin": {
         "b": 0,
         "l": 0,
         "r": 0,
         "t": 10
        },
        "showlegend": false,
        "sliders": [
         {
          "active": 0,
          "currentvalue": {
           "prefix": "type="
          },
          "len": 0.9,
          "pad": {
           "b": 20,
           "r": 10,
           "t": 20
          },
          "steps": [
           {
            "args": [
             [
              "Book"
             ],
             {
              "frame": {
               "duration": 0,
               "redraw": false
              },
              "fromcurrent": true,
              "mode": "immediate",
              "transition": {
               "duration": 0,
               "easing": "linear"
              }
             }
            ],
            "label": "Book",
            "method": "animate"
           },
           {
            "args": [
             [
              "Game"
             ],
             {
              "frame": {
               "duration": 0,
               "redraw": false
              },
              "fromcurrent": true,
              "mode": "immediate",
              "transition": {
               "duration": 0,
               "easing": "linear"
              }
             }
            ],
            "label": "Game",
            "method": "animate"
           },
           {
            "args": [
             [
              "Cabaret"
             ],
             {
              "frame": {
               "duration": 0,
               "redraw": false
              },
              "fromcurrent": true,
              "mode": "immediate",
              "transition": {
               "duration": 0,
               "easing": "linear"
              }
             }
            ],
            "label": "Cabaret",
            "method": "animate"
           },
           {
            "args": [
             [
              "Concert"
             ],
             {
              "frame": {
               "duration": 0,
               "redraw": false
              },
              "fromcurrent": true,
              "mode": "immediate",
              "transition": {
               "duration": 0,
               "easing": "linear"
              }
             }
            ],
            "label": "Concert",
            "method": "animate"
           },
           {
            "args": [
             [
              "Conference"
             ],
             {
              "frame": {
               "duration": 0,
               "redraw": false
              },
              "fromcurrent": true,
              "mode": "immediate",
              "transition": {
               "duration": 0,
               "easing": "linear"
              }
             }
            ],
            "label": "Conference",
            "method": "animate"
           },
           {
            "args": [
             [
              "Movie"
             ],
             {
              "frame": {
               "duration": 0,
               "redraw": false
              },
              "fromcurrent": true,
              "mode": "immediate",
              "transition": {
               "duration": 0,
               "easing": "linear"
              }
             }
            ],
            "label": "Movie",
            "method": "animate"
           },
           {
            "args": [
             [
              "Museum"
             ],
             {
              "frame": {
               "duration": 0,
               "redraw": false
              },
              "fromcurrent": true,
              "mode": "immediate",
              "transition": {
               "duration": 0,
               "easing": "linear"
              }
             }
            ],
            "label": "Museum",
            "method": "animate"
           },
           {
            "args": [
             [
              "Series"
             ],
             {
              "frame": {
               "duration": 0,
               "redraw": false
              },
              "fromcurrent": true,
              "mode": "immediate",
              "transition": {
               "duration": 0,
               "easing": "linear"
              }
             }
            ],
            "label": "Series",
            "method": "animate"
           },
           {
            "args": [
             [
              "Theater"
             ],
             {
              "frame": {
               "duration": 0,
               "redraw": false
              },
              "fromcurrent": true,
              "mode": "immediate",
              "transition": {
               "duration": 0,
               "easing": "linear"
              }
             }
            ],
            "label": "Theater",
            "method": "animate"
           },
           {
            "args": [
             [
              "All"
             ],
             {
              "frame": {
               "duration": 0,
               "redraw": false
              },
              "fromcurrent": true,
              "mode": "immediate",
              "transition": {
               "duration": 0,
               "easing": "linear"
              }
             }
            ],
            "label": "All",
            "method": "animate"
           }
          ],
          "x": 0.1,
          "xanchor": "left",
          "y": 0,
          "yanchor": "top"
         }
        ],
        "template": {
         "data": {
          "bar": [
           {
            "error_x": {
             "color": "#2a3f5f"
            },
            "error_y": {
             "color": "#2a3f5f"
            },
            "marker": {
             "line": {
              "color": "white",
              "width": 0.5
             },
             "pattern": {
              "fillmode": "overlay",
              "size": 10,
              "solidity": 0.2
             }
            },
            "type": "bar"
           }
          ],
          "barpolar": [
           {
            "marker": {
             "line": {
              "color": "white",
              "width": 0.5
             },
             "pattern": {
              "fillmode": "overlay",
              "size": 10,
              "solidity": 0.2
             }
            },
            "type": "barpolar"
           }
          ],
          "carpet": [
           {
            "aaxis": {
             "endlinecolor": "#2a3f5f",
             "gridcolor": "#C8D4E3",
             "linecolor": "#C8D4E3",
             "minorgridcolor": "#C8D4E3",
             "startlinecolor": "#2a3f5f"
            },
            "baxis": {
             "endlinecolor": "#2a3f5f",
             "gridcolor": "#C8D4E3",
             "linecolor": "#C8D4E3",
             "minorgridcolor": "#C8D4E3",
             "startlinecolor": "#2a3f5f"
            },
            "type": "carpet"
           }
          ],
          "choropleth": [
           {
            "colorbar": {
             "outlinewidth": 0,
             "ticks": ""
            },
            "type": "choropleth"
           }
          ],
          "contour": [
           {
            "colorbar": {
             "outlinewidth": 0,
             "ticks": ""
            },
            "colorscale": [
             [
              0,
              "#0d0887"
             ],
             [
              0.1111111111111111,
              "#46039f"
             ],
             [
              0.2222222222222222,
              "#7201a8"
             ],
             [
              0.3333333333333333,
              "#9c179e"
             ],
             [
              0.4444444444444444,
              "#bd3786"
             ],
             [
              0.5555555555555556,
              "#d8576b"
             ],
             [
              0.6666666666666666,
              "#ed7953"
             ],
             [
              0.7777777777777778,
              "#fb9f3a"
             ],
             [
              0.8888888888888888,
              "#fdca26"
             ],
             [
              1,
              "#f0f921"
             ]
            ],
            "type": "contour"
           }
          ],
          "contourcarpet": [
           {
            "colorbar": {
             "outlinewidth": 0,
             "ticks": ""
            },
            "type": "contourcarpet"
           }
          ],
          "heatmap": [
           {
            "colorbar": {
             "outlinewidth": 0,
             "ticks": ""
            },
            "colorscale": [
             [
              0,
              "#0d0887"
             ],
             [
              0.1111111111111111,
              "#46039f"
             ],
             [
              0.2222222222222222,
              "#7201a8"
             ],
             [
              0.3333333333333333,
              "#9c179e"
             ],
             [
              0.4444444444444444,
              "#bd3786"
             ],
             [
              0.5555555555555556,
              "#d8576b"
             ],
             [
              0.6666666666666666,
              "#ed7953"
             ],
             [
              0.7777777777777778,
              "#fb9f3a"
             ],
             [
              0.8888888888888888,
              "#fdca26"
             ],
             [
              1,
              "#f0f921"
             ]
            ],
            "type": "heatmap"
           }
          ],
          "heatmapgl": [
           {
            "colorbar": {
             "outlinewidth": 0,
             "ticks": ""
            },
            "colorscale": [
             [
              0,
              "#0d0887"
             ],
             [
              0.1111111111111111,
              "#46039f"
             ],
             [
              0.2222222222222222,
              "#7201a8"
             ],
             [
              0.3333333333333333,
              "#9c179e"
             ],
             [
              0.4444444444444444,
              "#bd3786"
             ],
             [
              0.5555555555555556,
              "#d8576b"
             ],
             [
              0.6666666666666666,
              "#ed7953"
             ],
             [
              0.7777777777777778,
              "#fb9f3a"
             ],
             [
              0.8888888888888888,
              "#fdca26"
             ],
             [
              1,
              "#f0f921"
             ]
            ],
            "type": "heatmapgl"
           }
          ],
          "histogram": [
           {
            "marker": {
             "pattern": {
              "fillmode": "overlay",
              "size": 10,
              "solidity": 0.2
             }
            },
            "type": "histogram"
           }
          ],
          "histogram2d": [
           {
            "colorbar": {
             "outlinewidth": 0,
             "ticks": ""
            },
            "colorscale": [
             [
              0,
              "#0d0887"
             ],
             [
              0.1111111111111111,
              "#46039f"
             ],
             [
              0.2222222222222222,
              "#7201a8"
             ],
             [
              0.3333333333333333,
              "#9c179e"
             ],
             [
              0.4444444444444444,
              "#bd3786"
             ],
             [
              0.5555555555555556,
              "#d8576b"
             ],
             [
              0.6666666666666666,
              "#ed7953"
             ],
             [
              0.7777777777777778,
              "#fb9f3a"
             ],
             [
              0.8888888888888888,
              "#fdca26"
             ],
             [
              1,
              "#f0f921"
             ]
            ],
            "type": "histogram2d"
           }
          ],
          "histogram2dcontour": [
           {
            "colorbar": {
             "outlinewidth": 0,
             "ticks": ""
            },
            "colorscale": [
             [
              0,
              "#0d0887"
             ],
             [
              0.1111111111111111,
              "#46039f"
             ],
             [
              0.2222222222222222,
              "#7201a8"
             ],
             [
              0.3333333333333333,
              "#9c179e"
             ],
             [
              0.4444444444444444,
              "#bd3786"
             ],
             [
              0.5555555555555556,
              "#d8576b"
             ],
             [
              0.6666666666666666,
              "#ed7953"
             ],
             [
              0.7777777777777778,
              "#fb9f3a"
             ],
             [
              0.8888888888888888,
              "#fdca26"
             ],
             [
              1,
              "#f0f921"
             ]
            ],
            "type": "histogram2dcontour"
           }
          ],
          "mesh3d": [
           {
            "colorbar": {
             "outlinewidth": 0,
             "ticks": ""
            },
            "type": "mesh3d"
           }
          ],
          "parcoords": [
           {
            "line": {
             "colorbar": {
              "outlinewidth": 0,
              "ticks": ""
             }
            },
            "type": "parcoords"
           }
          ],
          "pie": [
           {
            "automargin": true,
            "type": "pie"
           }
          ],
          "scatter": [
           {
            "fillpattern": {
             "fillmode": "overlay",
             "size": 10,
             "solidity": 0.2
            },
            "type": "scatter"
           }
          ],
          "scatter3d": [
           {
            "line": {
             "colorbar": {
              "outlinewidth": 0,
              "ticks": ""
             }
            },
            "marker": {
             "colorbar": {
              "outlinewidth": 0,
              "ticks": ""
             }
            },
            "type": "scatter3d"
           }
          ],
          "scattercarpet": [
           {
            "marker": {
             "colorbar": {
              "outlinewidth": 0,
              "ticks": ""
             }
            },
            "type": "scattercarpet"
           }
          ],
          "scattergeo": [
           {
            "marker": {
             "colorbar": {
              "outlinewidth": 0,
              "ticks": ""
             }
            },
            "type": "scattergeo"
           }
          ],
          "scattergl": [
           {
            "marker": {
             "colorbar": {
              "outlinewidth": 0,
              "ticks": ""
             }
            },
            "type": "scattergl"
           }
          ],
          "scattermapbox": [
           {
            "marker": {
             "colorbar": {
              "outlinewidth": 0,
              "ticks": ""
             }
            },
            "type": "scattermapbox"
           }
          ],
          "scatterpolar": [
           {
            "marker": {
             "colorbar": {
              "outlinewidth": 0,
              "ticks": ""
             }
            },
            "type": "scatterpolar"
           }
          ],
          "scatterpolargl": [
           {
            "marker": {
             "colorbar": {
              "outlinewidth": 0,
              "ticks": ""
             }
            },
            "type": "scatterpolargl"
           }
          ],
          "scatterternary": [
           {
            "marker": {
             "colorbar": {
              "outlinewidth": 0,
              "ticks": ""
             }
            },
            "type": "scatterternary"
           }
          ],
          "surface": [
           {
            "colorbar": {
             "outlinewidth": 0,
             "ticks": ""
            },
            "colorscale": [
             [
              0,
              "#0d0887"
             ],
             [
              0.1111111111111111,
              "#46039f"
             ],
             [
              0.2222222222222222,
              "#7201a8"
             ],
             [
              0.3333333333333333,
              "#9c179e"
             ],
             [
              0.4444444444444444,
              "#bd3786"
             ],
             [
              0.5555555555555556,
              "#d8576b"
             ],
             [
              0.6666666666666666,
              "#ed7953"
             ],
             [
              0.7777777777777778,
              "#fb9f3a"
             ],
             [
              0.8888888888888888,
              "#fdca26"
             ],
             [
              1,
              "#f0f921"
             ]
            ],
            "type": "surface"
           }
          ],
          "table": [
           {
            "cells": {
             "fill": {
              "color": "#EBF0F8"
             },
             "line": {
              "color": "white"
             }
            },
            "header": {
             "fill": {
              "color": "#C8D4E3"
             },
             "line": {
              "color": "white"
             }
            },
            "type": "table"
           }
          ]
         },
         "layout": {
          "annotationdefaults": {
           "arrowcolor": "#2a3f5f",
           "arrowhead": 0,
           "arrowwidth": 1
          },
          "autotypenumbers": "strict",
          "coloraxis": {
           "colorbar": {
            "outlinewidth": 0,
            "ticks": ""
           }
          },
          "colorscale": {
           "diverging": [
            [
             0,
             "#8e0152"
            ],
            [
             0.1,
             "#c51b7d"
            ],
            [
             0.2,
             "#de77ae"
            ],
            [
             0.3,
             "#f1b6da"
            ],
            [
             0.4,
             "#fde0ef"
            ],
            [
             0.5,
             "#f7f7f7"
            ],
            [
             0.6,
             "#e6f5d0"
            ],
            [
             0.7,
             "#b8e186"
            ],
            [
             0.8,
             "#7fbc41"
            ],
            [
             0.9,
             "#4d9221"
            ],
            [
             1,
             "#276419"
            ]
           ],
           "sequential": [
            [
             0,
             "#0d0887"
            ],
            [
             0.1111111111111111,
             "#46039f"
            ],
            [
             0.2222222222222222,
             "#7201a8"
            ],
            [
             0.3333333333333333,
             "#9c179e"
            ],
            [
             0.4444444444444444,
             "#bd3786"
            ],
            [
             0.5555555555555556,
             "#d8576b"
            ],
            [
             0.6666666666666666,
             "#ed7953"
            ],
            [
             0.7777777777777778,
             "#fb9f3a"
            ],
            [
             0.8888888888888888,
             "#fdca26"
            ],
            [
             1,
             "#f0f921"
            ]
           ],
           "sequentialminus": [
            [
             0,
             "#0d0887"
            ],
            [
             0.1111111111111111,
             "#46039f"
            ],
            [
             0.2222222222222222,
             "#7201a8"
            ],
            [
             0.3333333333333333,
             "#9c179e"
            ],
            [
             0.4444444444444444,
             "#bd3786"
            ],
            [
             0.5555555555555556,
             "#d8576b"
            ],
            [
             0.6666666666666666,
             "#ed7953"
            ],
            [
             0.7777777777777778,
             "#fb9f3a"
            ],
            [
             0.8888888888888888,
             "#fdca26"
            ],
            [
             1,
             "#f0f921"
            ]
           ]
          },
          "colorway": [
           "#636efa",
           "#EF553B",
           "#00cc96",
           "#ab63fa",
           "#FFA15A",
           "#19d3f3",
           "#FF6692",
           "#B6E880",
           "#FF97FF",
           "#FECB52"
          ],
          "font": {
           "color": "#2a3f5f"
          },
          "geo": {
           "bgcolor": "white",
           "lakecolor": "white",
           "landcolor": "white",
           "showlakes": true,
           "showland": true,
           "subunitcolor": "#C8D4E3"
          },
          "hoverlabel": {
           "align": "left"
          },
          "hovermode": "closest",
          "mapbox": {
           "style": "light"
          },
          "paper_bgcolor": "white",
          "plot_bgcolor": "white",
          "polar": {
           "angularaxis": {
            "gridcolor": "#EBF0F8",
            "linecolor": "#EBF0F8",
            "ticks": ""
           },
           "bgcolor": "white",
           "radialaxis": {
            "gridcolor": "#EBF0F8",
            "linecolor": "#EBF0F8",
            "ticks": ""
           }
          },
          "scene": {
           "xaxis": {
            "backgroundcolor": "white",
            "gridcolor": "#DFE8F3",
            "gridwidth": 2,
            "linecolor": "#EBF0F8",
            "showbackground": true,
            "ticks": "",
            "zerolinecolor": "#EBF0F8"
           },
           "yaxis": {
            "backgroundcolor": "white",
            "gridcolor": "#DFE8F3",
            "gridwidth": 2,
            "linecolor": "#EBF0F8",
            "showbackground": true,
            "ticks": "",
            "zerolinecolor": "#EBF0F8"
           },
           "zaxis": {
            "backgroundcolor": "white",
            "gridcolor": "#DFE8F3",
            "gridwidth": 2,
            "linecolor": "#EBF0F8",
            "showbackground": true,
            "ticks": "",
            "zerolinecolor": "#EBF0F8"
           }
          },
          "shapedefaults": {
           "line": {
            "color": "#2a3f5f"
           }
          },
          "ternary": {
           "aaxis": {
            "gridcolor": "#DFE8F3",
            "linecolor": "#A2B1C6",
            "ticks": ""
           },
           "baxis": {
            "gridcolor": "#DFE8F3",
            "linecolor": "#A2B1C6",
            "ticks": ""
           },
           "bgcolor": "white",
           "caxis": {
            "gridcolor": "#DFE8F3",
            "linecolor": "#A2B1C6",
            "ticks": ""
           }
          },
          "title": {
           "x": 0.05
          },
          "xaxis": {
           "automargin": true,
           "gridcolor": "#EBF0F8",
           "linecolor": "#EBF0F8",
           "ticks": "",
           "title": {
            "standoff": 15
           },
           "zerolinecolor": "#EBF0F8",
           "zerolinewidth": 2
          },
          "yaxis": {
           "automargin": true,
           "gridcolor": "#EBF0F8",
           "linecolor": "#EBF0F8",
           "ticks": "",
           "title": {
            "standoff": 15
           },
           "zerolinecolor": "#EBF0F8",
           "zerolinewidth": 2
          }
         }
        },
        "xaxis": {
         "anchor": "y",
         "domain": [
          0,
          1
         ],
         "range": [
          0,
          11
         ],
         "tickmode": "array",
         "ticktext": [
          "Jan",
          "Feb",
          "Mar",
          "Apr",
          "May",
          "Jun",
          "Jul",
          "Aug",
          "Sep",
          "Oct",
          "Nov",
          "Dec"
         ],
         "tickvals": [
          "01",
          "02",
          "03",
          "04",
          "05",
          "06",
          "07",
          "08",
          "09",
          "10",
          "11",
          "12"
         ],
         "title": {
          "text": "Month"
         }
        },
        "yaxis": {
         "anchor": "x",
         "domain": [
          0,
          1
         ],
         "range": [
          0,
          15
         ],
         "title": {
          "text": "Amount"
         }
        }
       }
      }
     },
     "metadata": {},
     "output_type": "display_data"
    }
   ],
   "source": [
    "import plotly.express as px\n",
    "import numpy as np\n",
    "\n",
    "df2 = df.copy()\n",
    "df2 = df2.groupby(['type', 'date']).size().rename_axis(['type', 'date']).reset_index(name='counts')\n",
    "df2[['year','month']] = df2['date'].str.split('-',expand=True)\n",
    "df2 = df2.drop(columns=['date'])\n",
    "types = []; counts = []; years = []; months = []\n",
    "for year in range(min(df2['year'].astype(int)), max(df2['year'].astype(int)) + 1):\n",
    "    for month in range(1, 13):\n",
    "        actualmonth = '0' * (2 - len(str(month))) + str(month)\n",
    "        for type in df2['type'].unique():\n",
    "            if not ((df2['year'] == str(year)) & (df2['month'] == actualmonth) & (df2['type'] == type)).any():\n",
    "                types.append(type); counts.append(0); years.append(str(year)); months.append(actualmonth)\n",
    "for year in range(min(df2['year'].astype(int)), max(df2['year'].astype(int)) + 1):\n",
    "    for month in range(1, 13):\n",
    "        actualmonth = '0' * (2 - len(str(month))) + str(month)\n",
    "        types.append(\"All\"); counts.append(df2[(df2['year'] == str(year)) & (df2['month'] == actualmonth)]['counts'].sum()); years.append(str(year)); months.append(actualmonth)\n",
    "added_rows = pd.DataFrame({'type':types, 'counts':counts, 'year':years, 'month':months})\n",
    "df2 = pd.concat([df2, added_rows], ignore_index=True)\n",
    "types = []; counts = []; years = []; months = []\n",
    "for month in range(1, 13):\n",
    "    actualmonth = '0' * (2 - len(str(month))) + str(month)\n",
    "    for type in df2['type'].unique():\n",
    "        count = sum(df2[(df2['type'] == type) & (df2['month'] == actualmonth)]['counts']) / len(df2['year'].unique())\n",
    "        count = count if not np.isnan(count) else 0\n",
    "        types.append(type); counts.append(count); years.append(\"Mean\"); months.append(actualmonth)\n",
    "added_rows = pd.DataFrame({'type':types, 'counts':counts, 'year':years, 'month':months})\n",
    "df2 = pd.concat([df2, added_rows], ignore_index=True)\n",
    "df2 = df2.sort_values(by=['year', 'month'])\n",
    "fig = px.line(df2, x='month', y='counts', color='year', animation_frame='type',\n",
    "              color_discrete_map={\"Mean\": 'black'}, custom_data=['year'], template='plotly_white',\n",
    "              labels={\n",
    "                     \"month\": \"Month\",\n",
    "                     \"counts\": \"Amount\",\n",
    "                     \"year\": \"Year\"\n",
    "                 },\n",
    "                 hover_data={\n",
    "                            'type':False,\n",
    "                            'month':False,\n",
    "                            'counts':False\n",
    "                        })\n",
    "fig.update_layout(margin={'t':10,'l':0,'b':0,'r':0}, yaxis_range=[0,15], xaxis_range=[0,11],\n",
    "                  xaxis = dict(\n",
    "                    tickmode = 'array',\n",
    "                    tickvals = ['01', '02', '03', '04', '05', '06', '07', '08', '09', '10', '11', '12'],\n",
    "                    ticktext = ['Jan', 'Feb', 'Mar', 'Apr', 'May', 'Jun', 'Jul', 'Aug', 'Sep', 'Oct', 'Nov', 'Dec']\n",
    "                ), showlegend=False)\n",
    "fig.update_traces(opacity=.4)\n",
    "fig.update_traces(selector=dict(line_color=\"black\"), opacity=1)\n",
    "fig.update_traces(hovertemplate='%{customdata[0]}<extra></extra>')\n",
    "fig['layout']['sliders'][0]['pad']=dict(r= 10, t= 20, b=20)\n",
    "fig[\"layout\"].pop(\"updatemenus\")\n",
    "fig.show()\n"
   ]
  },
  {
   "cell_type": "markdown",
   "metadata": {},
   "source": [
    "## Albums\n",
    "One particular interest I have is collecting albums out of Rolling Stone's Top 500 Albums list. Below, you can see how many I already have (out of the 2020 list)."
   ]
  },
  {
   "cell_type": "code",
   "execution_count": 6,
   "metadata": {
    "tags": [
     "remove-input"
    ]
   },
   "outputs": [
    {
     "name": "stdout",
     "output_type": "stream",
     "text": [
      "Total:     [+++++++++...............................] 119 out of 500\n",
      "\n",
      "1955-1964: [++......................................] 2 out of 28\n",
      "1965-1974: [+++++++++...............................] 36 out of 146\n",
      "1975-1984: [+++++++++...............................] 25 out of 106\n",
      "1985-1994: [+++++++++++.............................] 26 out of 88\n",
      "1995-2004: [+++++++++...............................] 20 out of 83\n",
      "2005-2014: [++++++++++..............................] 8 out of 31\n",
      "2015-2024: [++++....................................] 2 out of 18\n"
     ]
    }
   ],
   "source": [
    "albums_df = pd.read_csv(\"albums.csv\", sep=';')\n",
    "albums_df['Rounded year'] = albums_df['Year'].apply(lambda x: 10 * round(int(x) / 10))\n",
    "albums_df['Have'] = albums_df['Have'].apply(lambda x: 1 if x == \"X\" else x)\n",
    "score = len(albums_df[(albums_df['Have'] == 1)]) / len(albums_df)\n",
    "displays = int(score * 40)\n",
    "print(f\"Total:     [{'+' * displays}{'.' * (40 - displays)}] {len(albums_df[(albums_df['Have'] == 1)])} out of {len(albums_df)}\\n\")\n",
    "for year in sorted(albums_df['Rounded year'].unique()):\n",
    "    score = len(albums_df[(albums_df['Rounded year'] == year) & (albums_df['Have'] == 1)]) / len(albums_df[albums_df['Rounded year'] == year])\n",
    "    symbol = \"⋆\" if score == 1 else \"+\"\n",
    "    displays = int(score * 40)\n",
    "    print(f\"{year-5}-{year+4}: [{symbol * displays}{'.' * (40 - displays)}] {len(albums_df[(albums_df['Rounded year'] == year) & (albums_df['Have'] == 1)])} out of {len(albums_df[albums_df['Rounded year'] == year])}\")"
   ]
  },
  {
   "cell_type": "code",
   "execution_count": 7,
   "metadata": {
    "tags": [
     "remove-input"
    ]
   },
   "outputs": [
    {
     "data": {
      "application/vnd.plotly.v1+json": {
       "config": {
        "plotlyServerURL": "https://plot.ly"
       },
       "data": [
        {
         "hovertemplate": "Number of albums in top 500=%{x}<br>Amount in collection=%{y}<extra></extra>",
         "legendgroup": "",
         "line": {
          "color": "#636efa",
          "dash": "solid"
         },
         "marker": {
          "symbol": "circle"
         },
         "mode": "lines",
         "name": "",
         "orientation": "v",
         "showlegend": false,
         "type": "scatter",
         "x": [
          1,
          2,
          4,
          5,
          6,
          7,
          8,
          10,
          12,
          13,
          14,
          17,
          19,
          20,
          23,
          24,
          28,
          30,
          31,
          32,
          33,
          34,
          39,
          40,
          41,
          42,
          43,
          46,
          47,
          48,
          53,
          55,
          58,
          60,
          62,
          69,
          70,
          72,
          77,
          80,
          81,
          84,
          86,
          90,
          96,
          97,
          107,
          109,
          114,
          115,
          117,
          118,
          122,
          123,
          124,
          128,
          129,
          130,
          131,
          133,
          135,
          137,
          139,
          140,
          142,
          145,
          160,
          161,
          165,
          172,
          173,
          179,
          186,
          190,
          192,
          194,
          200,
          211,
          217,
          220,
          221,
          226,
          234,
          235,
          236,
          248,
          253,
          264,
          276,
          279,
          280,
          286,
          292,
          294,
          298,
          300,
          316,
          317,
          324,
          327,
          331,
          334,
          341,
          351,
          352,
          355,
          357,
          361,
          375,
          379,
          381,
          383,
          408,
          418,
          449,
          457,
          461,
          484,
          496
         ],
         "xaxis": "x",
         "y": [
          1,
          2,
          3,
          4,
          5,
          6,
          7,
          8,
          9,
          10,
          11,
          12,
          13,
          14,
          15,
          16,
          17,
          18,
          19,
          20,
          21,
          22,
          23,
          24,
          25,
          26,
          27,
          28,
          29,
          30,
          31,
          32,
          33,
          34,
          35,
          36,
          37,
          38,
          39,
          40,
          41,
          42,
          43,
          44,
          45,
          46,
          47,
          48,
          49,
          50,
          51,
          52,
          53,
          54,
          55,
          56,
          57,
          58,
          59,
          60,
          61,
          62,
          63,
          64,
          65,
          66,
          67,
          68,
          69,
          70,
          71,
          72,
          73,
          74,
          75,
          76,
          77,
          78,
          79,
          80,
          81,
          82,
          83,
          84,
          85,
          86,
          87,
          88,
          89,
          90,
          91,
          92,
          93,
          94,
          95,
          96,
          97,
          98,
          99,
          100,
          101,
          102,
          103,
          104,
          105,
          106,
          107,
          108,
          109,
          110,
          111,
          112,
          113,
          114,
          115,
          116,
          117,
          118,
          119
         ],
         "yaxis": "y"
        }
       ],
       "layout": {
        "legend": {
         "tracegroupgap": 0
        },
        "margin": {
         "b": 0,
         "l": 0,
         "r": 10,
         "t": 10
        },
        "showlegend": false,
        "template": {
         "data": {
          "bar": [
           {
            "error_x": {
             "color": "#2a3f5f"
            },
            "error_y": {
             "color": "#2a3f5f"
            },
            "marker": {
             "line": {
              "color": "white",
              "width": 0.5
             },
             "pattern": {
              "fillmode": "overlay",
              "size": 10,
              "solidity": 0.2
             }
            },
            "type": "bar"
           }
          ],
          "barpolar": [
           {
            "marker": {
             "line": {
              "color": "white",
              "width": 0.5
             },
             "pattern": {
              "fillmode": "overlay",
              "size": 10,
              "solidity": 0.2
             }
            },
            "type": "barpolar"
           }
          ],
          "carpet": [
           {
            "aaxis": {
             "endlinecolor": "#2a3f5f",
             "gridcolor": "#C8D4E3",
             "linecolor": "#C8D4E3",
             "minorgridcolor": "#C8D4E3",
             "startlinecolor": "#2a3f5f"
            },
            "baxis": {
             "endlinecolor": "#2a3f5f",
             "gridcolor": "#C8D4E3",
             "linecolor": "#C8D4E3",
             "minorgridcolor": "#C8D4E3",
             "startlinecolor": "#2a3f5f"
            },
            "type": "carpet"
           }
          ],
          "choropleth": [
           {
            "colorbar": {
             "outlinewidth": 0,
             "ticks": ""
            },
            "type": "choropleth"
           }
          ],
          "contour": [
           {
            "colorbar": {
             "outlinewidth": 0,
             "ticks": ""
            },
            "colorscale": [
             [
              0,
              "#0d0887"
             ],
             [
              0.1111111111111111,
              "#46039f"
             ],
             [
              0.2222222222222222,
              "#7201a8"
             ],
             [
              0.3333333333333333,
              "#9c179e"
             ],
             [
              0.4444444444444444,
              "#bd3786"
             ],
             [
              0.5555555555555556,
              "#d8576b"
             ],
             [
              0.6666666666666666,
              "#ed7953"
             ],
             [
              0.7777777777777778,
              "#fb9f3a"
             ],
             [
              0.8888888888888888,
              "#fdca26"
             ],
             [
              1,
              "#f0f921"
             ]
            ],
            "type": "contour"
           }
          ],
          "contourcarpet": [
           {
            "colorbar": {
             "outlinewidth": 0,
             "ticks": ""
            },
            "type": "contourcarpet"
           }
          ],
          "heatmap": [
           {
            "colorbar": {
             "outlinewidth": 0,
             "ticks": ""
            },
            "colorscale": [
             [
              0,
              "#0d0887"
             ],
             [
              0.1111111111111111,
              "#46039f"
             ],
             [
              0.2222222222222222,
              "#7201a8"
             ],
             [
              0.3333333333333333,
              "#9c179e"
             ],
             [
              0.4444444444444444,
              "#bd3786"
             ],
             [
              0.5555555555555556,
              "#d8576b"
             ],
             [
              0.6666666666666666,
              "#ed7953"
             ],
             [
              0.7777777777777778,
              "#fb9f3a"
             ],
             [
              0.8888888888888888,
              "#fdca26"
             ],
             [
              1,
              "#f0f921"
             ]
            ],
            "type": "heatmap"
           }
          ],
          "heatmapgl": [
           {
            "colorbar": {
             "outlinewidth": 0,
             "ticks": ""
            },
            "colorscale": [
             [
              0,
              "#0d0887"
             ],
             [
              0.1111111111111111,
              "#46039f"
             ],
             [
              0.2222222222222222,
              "#7201a8"
             ],
             [
              0.3333333333333333,
              "#9c179e"
             ],
             [
              0.4444444444444444,
              "#bd3786"
             ],
             [
              0.5555555555555556,
              "#d8576b"
             ],
             [
              0.6666666666666666,
              "#ed7953"
             ],
             [
              0.7777777777777778,
              "#fb9f3a"
             ],
             [
              0.8888888888888888,
              "#fdca26"
             ],
             [
              1,
              "#f0f921"
             ]
            ],
            "type": "heatmapgl"
           }
          ],
          "histogram": [
           {
            "marker": {
             "pattern": {
              "fillmode": "overlay",
              "size": 10,
              "solidity": 0.2
             }
            },
            "type": "histogram"
           }
          ],
          "histogram2d": [
           {
            "colorbar": {
             "outlinewidth": 0,
             "ticks": ""
            },
            "colorscale": [
             [
              0,
              "#0d0887"
             ],
             [
              0.1111111111111111,
              "#46039f"
             ],
             [
              0.2222222222222222,
              "#7201a8"
             ],
             [
              0.3333333333333333,
              "#9c179e"
             ],
             [
              0.4444444444444444,
              "#bd3786"
             ],
             [
              0.5555555555555556,
              "#d8576b"
             ],
             [
              0.6666666666666666,
              "#ed7953"
             ],
             [
              0.7777777777777778,
              "#fb9f3a"
             ],
             [
              0.8888888888888888,
              "#fdca26"
             ],
             [
              1,
              "#f0f921"
             ]
            ],
            "type": "histogram2d"
           }
          ],
          "histogram2dcontour": [
           {
            "colorbar": {
             "outlinewidth": 0,
             "ticks": ""
            },
            "colorscale": [
             [
              0,
              "#0d0887"
             ],
             [
              0.1111111111111111,
              "#46039f"
             ],
             [
              0.2222222222222222,
              "#7201a8"
             ],
             [
              0.3333333333333333,
              "#9c179e"
             ],
             [
              0.4444444444444444,
              "#bd3786"
             ],
             [
              0.5555555555555556,
              "#d8576b"
             ],
             [
              0.6666666666666666,
              "#ed7953"
             ],
             [
              0.7777777777777778,
              "#fb9f3a"
             ],
             [
              0.8888888888888888,
              "#fdca26"
             ],
             [
              1,
              "#f0f921"
             ]
            ],
            "type": "histogram2dcontour"
           }
          ],
          "mesh3d": [
           {
            "colorbar": {
             "outlinewidth": 0,
             "ticks": ""
            },
            "type": "mesh3d"
           }
          ],
          "parcoords": [
           {
            "line": {
             "colorbar": {
              "outlinewidth": 0,
              "ticks": ""
             }
            },
            "type": "parcoords"
           }
          ],
          "pie": [
           {
            "automargin": true,
            "type": "pie"
           }
          ],
          "scatter": [
           {
            "fillpattern": {
             "fillmode": "overlay",
             "size": 10,
             "solidity": 0.2
            },
            "type": "scatter"
           }
          ],
          "scatter3d": [
           {
            "line": {
             "colorbar": {
              "outlinewidth": 0,
              "ticks": ""
             }
            },
            "marker": {
             "colorbar": {
              "outlinewidth": 0,
              "ticks": ""
             }
            },
            "type": "scatter3d"
           }
          ],
          "scattercarpet": [
           {
            "marker": {
             "colorbar": {
              "outlinewidth": 0,
              "ticks": ""
             }
            },
            "type": "scattercarpet"
           }
          ],
          "scattergeo": [
           {
            "marker": {
             "colorbar": {
              "outlinewidth": 0,
              "ticks": ""
             }
            },
            "type": "scattergeo"
           }
          ],
          "scattergl": [
           {
            "marker": {
             "colorbar": {
              "outlinewidth": 0,
              "ticks": ""
             }
            },
            "type": "scattergl"
           }
          ],
          "scattermapbox": [
           {
            "marker": {
             "colorbar": {
              "outlinewidth": 0,
              "ticks": ""
             }
            },
            "type": "scattermapbox"
           }
          ],
          "scatterpolar": [
           {
            "marker": {
             "colorbar": {
              "outlinewidth": 0,
              "ticks": ""
             }
            },
            "type": "scatterpolar"
           }
          ],
          "scatterpolargl": [
           {
            "marker": {
             "colorbar": {
              "outlinewidth": 0,
              "ticks": ""
             }
            },
            "type": "scatterpolargl"
           }
          ],
          "scatterternary": [
           {
            "marker": {
             "colorbar": {
              "outlinewidth": 0,
              "ticks": ""
             }
            },
            "type": "scatterternary"
           }
          ],
          "surface": [
           {
            "colorbar": {
             "outlinewidth": 0,
             "ticks": ""
            },
            "colorscale": [
             [
              0,
              "#0d0887"
             ],
             [
              0.1111111111111111,
              "#46039f"
             ],
             [
              0.2222222222222222,
              "#7201a8"
             ],
             [
              0.3333333333333333,
              "#9c179e"
             ],
             [
              0.4444444444444444,
              "#bd3786"
             ],
             [
              0.5555555555555556,
              "#d8576b"
             ],
             [
              0.6666666666666666,
              "#ed7953"
             ],
             [
              0.7777777777777778,
              "#fb9f3a"
             ],
             [
              0.8888888888888888,
              "#fdca26"
             ],
             [
              1,
              "#f0f921"
             ]
            ],
            "type": "surface"
           }
          ],
          "table": [
           {
            "cells": {
             "fill": {
              "color": "#EBF0F8"
             },
             "line": {
              "color": "white"
             }
            },
            "header": {
             "fill": {
              "color": "#C8D4E3"
             },
             "line": {
              "color": "white"
             }
            },
            "type": "table"
           }
          ]
         },
         "layout": {
          "annotationdefaults": {
           "arrowcolor": "#2a3f5f",
           "arrowhead": 0,
           "arrowwidth": 1
          },
          "autotypenumbers": "strict",
          "coloraxis": {
           "colorbar": {
            "outlinewidth": 0,
            "ticks": ""
           }
          },
          "colorscale": {
           "diverging": [
            [
             0,
             "#8e0152"
            ],
            [
             0.1,
             "#c51b7d"
            ],
            [
             0.2,
             "#de77ae"
            ],
            [
             0.3,
             "#f1b6da"
            ],
            [
             0.4,
             "#fde0ef"
            ],
            [
             0.5,
             "#f7f7f7"
            ],
            [
             0.6,
             "#e6f5d0"
            ],
            [
             0.7,
             "#b8e186"
            ],
            [
             0.8,
             "#7fbc41"
            ],
            [
             0.9,
             "#4d9221"
            ],
            [
             1,
             "#276419"
            ]
           ],
           "sequential": [
            [
             0,
             "#0d0887"
            ],
            [
             0.1111111111111111,
             "#46039f"
            ],
            [
             0.2222222222222222,
             "#7201a8"
            ],
            [
             0.3333333333333333,
             "#9c179e"
            ],
            [
             0.4444444444444444,
             "#bd3786"
            ],
            [
             0.5555555555555556,
             "#d8576b"
            ],
            [
             0.6666666666666666,
             "#ed7953"
            ],
            [
             0.7777777777777778,
             "#fb9f3a"
            ],
            [
             0.8888888888888888,
             "#fdca26"
            ],
            [
             1,
             "#f0f921"
            ]
           ],
           "sequentialminus": [
            [
             0,
             "#0d0887"
            ],
            [
             0.1111111111111111,
             "#46039f"
            ],
            [
             0.2222222222222222,
             "#7201a8"
            ],
            [
             0.3333333333333333,
             "#9c179e"
            ],
            [
             0.4444444444444444,
             "#bd3786"
            ],
            [
             0.5555555555555556,
             "#d8576b"
            ],
            [
             0.6666666666666666,
             "#ed7953"
            ],
            [
             0.7777777777777778,
             "#fb9f3a"
            ],
            [
             0.8888888888888888,
             "#fdca26"
            ],
            [
             1,
             "#f0f921"
            ]
           ]
          },
          "colorway": [
           "#636efa",
           "#EF553B",
           "#00cc96",
           "#ab63fa",
           "#FFA15A",
           "#19d3f3",
           "#FF6692",
           "#B6E880",
           "#FF97FF",
           "#FECB52"
          ],
          "font": {
           "color": "#2a3f5f"
          },
          "geo": {
           "bgcolor": "white",
           "lakecolor": "white",
           "landcolor": "white",
           "showlakes": true,
           "showland": true,
           "subunitcolor": "#C8D4E3"
          },
          "hoverlabel": {
           "align": "left"
          },
          "hovermode": "closest",
          "mapbox": {
           "style": "light"
          },
          "paper_bgcolor": "white",
          "plot_bgcolor": "white",
          "polar": {
           "angularaxis": {
            "gridcolor": "#EBF0F8",
            "linecolor": "#EBF0F8",
            "ticks": ""
           },
           "bgcolor": "white",
           "radialaxis": {
            "gridcolor": "#EBF0F8",
            "linecolor": "#EBF0F8",
            "ticks": ""
           }
          },
          "scene": {
           "xaxis": {
            "backgroundcolor": "white",
            "gridcolor": "#DFE8F3",
            "gridwidth": 2,
            "linecolor": "#EBF0F8",
            "showbackground": true,
            "ticks": "",
            "zerolinecolor": "#EBF0F8"
           },
           "yaxis": {
            "backgroundcolor": "white",
            "gridcolor": "#DFE8F3",
            "gridwidth": 2,
            "linecolor": "#EBF0F8",
            "showbackground": true,
            "ticks": "",
            "zerolinecolor": "#EBF0F8"
           },
           "zaxis": {
            "backgroundcolor": "white",
            "gridcolor": "#DFE8F3",
            "gridwidth": 2,
            "linecolor": "#EBF0F8",
            "showbackground": true,
            "ticks": "",
            "zerolinecolor": "#EBF0F8"
           }
          },
          "shapedefaults": {
           "line": {
            "color": "#2a3f5f"
           }
          },
          "ternary": {
           "aaxis": {
            "gridcolor": "#DFE8F3",
            "linecolor": "#A2B1C6",
            "ticks": ""
           },
           "baxis": {
            "gridcolor": "#DFE8F3",
            "linecolor": "#A2B1C6",
            "ticks": ""
           },
           "bgcolor": "white",
           "caxis": {
            "gridcolor": "#DFE8F3",
            "linecolor": "#A2B1C6",
            "ticks": ""
           }
          },
          "title": {
           "x": 0.05
          },
          "xaxis": {
           "automargin": true,
           "gridcolor": "#EBF0F8",
           "linecolor": "#EBF0F8",
           "ticks": "",
           "title": {
            "standoff": 15
           },
           "zerolinecolor": "#EBF0F8",
           "zerolinewidth": 2
          },
          "yaxis": {
           "automargin": true,
           "gridcolor": "#EBF0F8",
           "linecolor": "#EBF0F8",
           "ticks": "",
           "title": {
            "standoff": 15
           },
           "zerolinecolor": "#EBF0F8",
           "zerolinewidth": 2
          }
         }
        },
        "xaxis": {
         "anchor": "y",
         "domain": [
          0,
          1
         ],
         "title": {
          "text": "Number of albums in top 500"
         }
        },
        "yaxis": {
         "anchor": "x",
         "domain": [
          0,
          1
         ],
         "title": {
          "text": "Amount in collection"
         }
        }
       }
      }
     },
     "metadata": {},
     "output_type": "display_data"
    }
   ],
   "source": [
    "albums_df['Have'] = albums_df['Have'].cumsum()\n",
    "albums_df = albums_df[albums_df['Have'].notnull()]\n",
    "fig = px.line(albums_df, x='#', y='Have', template='plotly_white',\n",
    "              labels={\n",
    "                     \"#\": \"Number of albums in top 500\",\n",
    "                     \"Have\": \"Amount in collection\",\n",
    "                 },)\n",
    "fig.update_layout(margin={'t':10,'l':0,'b':0,'r':10}, showlegend=False)\n",
    "fig.show()"
   ]
  }
 ],
 "metadata": {
  "kernelspec": {
   "display_name": "Python 3 (ipykernel)",
   "language": "python",
   "name": "python3"
  },
  "language_info": {
   "codemirror_mode": {
    "name": "ipython",
    "version": 3
   },
   "file_extension": ".py",
   "mimetype": "text/x-python",
   "name": "python",
   "nbconvert_exporter": "python",
   "pygments_lexer": "ipython3",
   "version": "3.12.4"
  },
  "widgets": {
   "application/vnd.jupyter.widget-state+json": {
    "state": {},
    "version_major": 2,
    "version_minor": 0
   }
  }
 },
 "nbformat": 4,
 "nbformat_minor": 4
}
