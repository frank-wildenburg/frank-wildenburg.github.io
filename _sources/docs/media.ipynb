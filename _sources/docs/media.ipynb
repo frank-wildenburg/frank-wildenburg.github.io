{
 "cells": [
  {
   "cell_type": "markdown",
   "metadata": {},
   "source": [
    "# Media"
   ]
  },
  {
   "cell_type": "code",
   "execution_count": 1,
   "metadata": {
    "tags": [
     "remove-input"
    ]
   },
   "outputs": [
    {
     "name": "stdout",
     "output_type": "stream",
     "text": [
      "Last updated: 2025-07-29\n"
     ]
    }
   ],
   "source": [
    "import datetime\n",
    "print(f\"Last updated: {str(datetime.datetime.now())[:10]}\")"
   ]
  },
  {
   "cell_type": "markdown",
   "metadata": {},
   "source": [
    "Since around 2020, I have been keeping track of almost all media I consume - mostly books and games, but also concerts (but not CD's), movies, museums, and other forms of culture. Here, you can find a quick summary of what I've been up to"
   ]
  },
  {
   "cell_type": "markdown",
   "metadata": {},
   "source": [
    "## Last enjoyed"
   ]
  },
  {
   "cell_type": "code",
   "execution_count": 2,
   "metadata": {
    "tags": [
     "remove-input"
    ]
   },
   "outputs": [
    {
     "name": "stdout",
     "output_type": "stream",
     "text": [
      "Last played: Furi by The Game Bakers\n",
      "Which I thought was: good\n"
     ]
    }
   ],
   "source": [
    "#GNU STP\n",
    "import pandas as pd\n",
    "import math\n",
    "df = pd.read_csv(\"media.csv\")\n",
    "\n",
    "verb_dict = {\"Book\":\"read\",\"Game\":\"played\",\"Movie\":\"watched\",\"Concert\":\"visited\",\"Museum\":\"visited\"}\n",
    "end = f\" by {df['creator'].iloc[-1]}\" if not any(df['creator'].iloc[-1:].isna()) else \"\"\n",
    "print(f\"Last {verb_dict.get(df['type'].iloc[-1], 'visited')}: {df['name'].iloc[-1]}{end}\")\n",
    "score_dict = {10:'close to perfect!', 9:'fantastic!', 8:'great', 7:'good', 6:'okay', 5:'meh...', 4:'not great', 3:'bad', 2:'terrible', 1: 'abhorrent', 0:'the worst!'}\n",
    "print(f\"Which I thought was: {score_dict[math.floor(df['score'].iloc[-1])]}\")"
   ]
  },
  {
   "cell_type": "markdown",
   "metadata": {},
   "source": [
    "## Favorites"
   ]
  },
  {
   "cell_type": "markdown",
   "metadata": {},
   "source": [
    "A good story, to me, is defined as something that keeps you thinking about long after you finished reading/watching/playing it. Hence, even if I didn't really enjoy something at the moment itself, it may turn out to be a favorite later. Here are my some of my favorite pieces of media for each of the years I have been keeping track:\n",
    "\n",
    "<details>\n",
    "  <summary>2024</summary>\n",
    "\n",
    "  - _Wij Slaven van Suriname_ by Anton de Kom\n",
    "  - _Live in AFAS_ by King Gizzard and the Lizard Wizard\n",
    "  - _Tactical Breach Wizards_ by Tom Francis\n",
    "  - _The Planets & Sinfonia Antarctica_ by Rotterdams Philharmonisch Orkest\n",
    "</details>\n",
    "<details>\n",
    "  <summary>2023</summary>\n",
    "\n",
    "  - _The Legend of Zelda: A Link Between Worlds_ by Nintendo\n",
    "  - _Chain-Gang All-Stars_ by Nana Kwame Adjei-Brenyah\n",
    "  - _Pinkpop 2023_\n",
    "  - _Dr. Atomic_ by Utrechtsch Studenten Concert\n",
    "  - _The MANIAC_ by Benjamín Labatut\n",
    "</details>\n",
    "<details>\n",
    "  <summary>2022</summary>\n",
    "\n",
    "  - _Ficciones_ by Jorge Luis Borges\n",
    "  - _Ontjoodst door de Wetenschap_ by Hans Jessurun d'Oliveira (ed.)\n",
    "  - _Educated_ by Tara Westover\n",
    "  - _Sable_ by Shedworks\n",
    "</details>\n",
    "<details>\n",
    "  <summary>2021</summary>\n",
    "\n",
    "  - _The City and the City_ by China Miéville\n",
    "  - _Sekiro: Shadows Die Twice_ by FromSoftware\n",
    "  - _Stories of Your Life and Others_ and _Exhalation_ by Ted Chiang\n",
    "  - _Wat Wij Zagen_ by Hanna Bervoets\n",
    "  - _When We Cease to Understand the World_ by Benjamín Labatut\n",
    "  - _When Einstein Walked with Gödel_ by Jim Holt\n",
    "</details>"
   ]
  },
  {
   "cell_type": "markdown",
   "metadata": {},
   "source": [
    "## What?"
   ]
  },
  {
   "cell_type": "code",
   "execution_count": 3,
   "metadata": {
    "tags": [
     "remove-input"
    ]
   },
   "outputs": [
    {
     "data": {
      "application/vnd.plotly.v1+json": {
       "config": {
        "plotlyServerURL": "https://plot.ly"
       },
       "data": [
        {
         "branchvalues": "total",
         "domain": {
          "x": [
           0,
           1
          ],
          "y": [
           0,
           1
          ]
         },
         "hovertemplate": "<b>Amount: %{value} </b><br>%{label}",
         "ids": [
          "Book/2023/8.5/2001: A Space <br>Odyssey by <br>Arthur C. Clarke ",
          "Book/2023/8.0/A Clockwork <br>Orange by Anthony <br>Burgess ",
          "Game/2024/9.0/A Dance of <br>Ice and Fire <br>by 7th Beat <br>Games ",
          "Book/2021/7.5/A Mathematician's <br>Apology by <br>G.H. Hardy ",
          "Book/2023/9.0/A Science Fiction <br>Omnibus by <br>Brian Aldiss <br>(ed.) ",
          "Book/2022/8.0/A Year in the <br>Linear City <br>by Paul Di <br>Filippo ",
          "Concert/2025/8.0/AVROTROS Filmmuziekconcert <br>by Radio Filharmonisch <br>Orkest ",
          "Book/2021/7.0/Aantekeningen <br>uit het Ondergrondse <br>by Fyodor Dostoevsky ",
          "Game/2024/8.5/Alba: A Wildlife <br>Adventure by <br>Ustwo Games ",
          "Movie/2024/8.0/All That Breathes <br>by Shaunak <br>Sen ",
          "Book/2023/8.5/Almond by Won-Pyung <br>Sohn ",
          "Book/2024/9.0/Als, Dan: Een <br>Logische Roman <br>by Janneke <br>de Bijl ",
          "Museum/2024/8.0/Amsterdam Light <br>Festival ",
          "Game/2021/8.0/Animal Crossing: <br>New Horizons <br>by Nintendo ",
          "Book/2023/9.5/Animal Farm <br>by George Orwell ",
          "Book/2022/7.5/Annihilation <br>by Jeff VanderMeer ",
          "Museum/2023/8.0/Antwerpen 2023: <br>Chocolate Nation, <br>Museum Plantin-Moretus ",
          "Game/2024/9.0/Armored Core <br>6: Fires of <br>Rubicon by <br>FromSoftware ",
          "Book/2021/8.0/Art Nouveau <br>by Paul Hamlyn ",
          "Book/2022/9.0/Avatar, the <br>Last Airbender: <br>The Rise of <br>Kyoshi by F.C. <br>Yee ",
          "Book/2022/9.0/Avatar, the <br>Last Airbender: <br>The Shadow <br>of Kyoshi by <br>F.C. Yee ",
          "Game/2023/8.0/Baba is You <br>by Hempuli ",
          "Game/2024/9.0/Balatro by <br>LocalThunk ",
          "Movie/2025/7.5/Barbie by Greta <br>Gerwig ",
          "Movie/2025/8.5/Batman Begins <br>by Christopher <br>Nolan ",
          "Game/2023/8.0/Bayonetta 2 <br>by PlatinumGames ",
          "Game/2021/8.0/Bayonetta by <br>PlatinumGames ",
          "Concert/2025/7.0/Beethoven 3 <br>en Tsjaikovski <br>Pianoconcert <br>1 by Radio <br>Filharmonisch <br>Orkest ",
          "Concert/2025/9.0/Beethoven 9 <br>en Koorfantasie <br>by Symfonieorkest <br>Vlaanderen ",
          "Game/2023/7.0/Before Your <br>Eyes by GoodbyeWorld <br>Games ",
          "Museum/2024/8.0/België 2024: <br>Hortamuseum ",
          "Book/2025/9.0/Blindness by <br>José Saramago ",
          "Game/2022/9.0/Bowser's Fury <br>by Nintendo ",
          "Game/2021/8.5/Cadence of <br>Hyrule - Crypt <br>of the NecroDancer <br>feat. The Legend <br>of Zelda by <br>Brace Yourself <br>Games ",
          "Game/2021/8.5/Captain Toad: <br>Treasure Tracker <br>by Nintendo ",
          "Book/2021/7.5/Cat's Cradle <br>by Kurt Vonnegut ",
          "Museum/2023/7.0/Centraal Museum <br>by Ergo ",
          "Concert/2023/8.0/Central Park <br>Festival 2023 ",
          "Book/2023/8.5/Chain-Gang <br>All-Stars by <br>Nana Kwame <br>Adjei-Brenyah ",
          "Book/2024/7.5/Chernobyl Prayer <br>by Svetlana <br>Alexievich ",
          "Book/2023/9.0/Chess: A Novel <br>by Stefan Zweig ",
          "Game/2023/9.0/Citizen Sleeper <br>by Jump Over <br>The Age ",
          "Game/2025/10.0/Clair Obscur: <br>Expedition <br>33 by Sandfall <br>Interactive ",
          "Book/2021/8.0/Claudius de <br>God by Robert <br>Graves ",
          "Book/2022/8.0/Cloud Atlas <br>by David Mitchell ",
          "Book/2024/8.5/Cognitive Psychology <br>and its Implications <br>by J.R. Anderson ",
          "Concert/2023/7.5/Concertgebouworkest <br>speelt Elgar <br>en Vaughan <br>Williams by <br>Concertgebouworkest ",
          "Game/2023/8.5/Control by <br>Remedy Entertainment ",
          "Book/2021/8.0/Cosmicomics <br>by Italo Calvino ",
          "Game/2022/9.5/Cuphead by <br>Studio MDHR ",
          "Game/2024/9.0/Cyberpunk 2077 <br>by CD Project <br>Red ",
          "Museum/2022/9.0/DAG-Stadshuisbezoek <br>by Descartes <br>Alumnigenootschap ",
          "Game/2025/9.0/DOOM (2016) <br>by id Software ",
          "Game/2025/8.0/Dark Souls <br>2: Scholar <br>of the First <br>Sin by FromSoftware ",
          "Book/2021/8.5/De Adelaars <br>by Kader Abdolah ",
          "Book/2023/7.5/De Avonden <br>by Gerard Reve ",
          "Museum/2025/2.0/De Beemster ",
          "Concert/2024/10.0/De Notenkraker <br>by Radio Filharmonisch <br>Orkest ",
          "Book/2023/8.0/De Reyneart <br>by Frits van <br>Oostrom ",
          "Book/2023/8.0/De Utrechtse <br>Student: 1945 <br>tot Nu by Leen <br>Dorsman, Pieter <br>Stolk, Hylke <br>Faber ",
          "Book/2024/8.0/De Zaak van <br>de Grotverkenners <br>by Lon L. Fuller ",
          "Game/2021/8.5/Death Stranding <br>by Kojima Productions ",
          "Game/2023/8.0/Deathloop by <br>Arkane Lyon ",
          "Game/2021/10.0/Deltarune: <br>Chapter 2 by <br>Toby Fox ",
          "Book/2023/8.0/Deltora Quest <br>- The Forests <br>of Silence/The <br>Lake of Tears <br>by Emily Rodda ",
          "Book/2021/7.5/Descartes Jaarboek <br>by Descartes <br>College ",
          "Conference/2023/6.5/Digital Climate <br>by U.S.C.K.I. <br>Incognito ",
          "Game/2022/10.0/Disco Elysium <br>by ZA/UM ",
          "Game/2024/8.0/Dishonored <br>2 by Arkane <br>Lyon ",
          "Game/2021/8.5/Dishonored <br>by Arkane Studios ",
          "Game/2024/8.0/Donkey Kong <br>Country: Tropical <br>Freeze by Tetro <br>Studios ",
          "Game/2021/8.0/Donut County <br>by Ben Esposito ",
          "Concert/2023/7.5/Dr. Atomic <br>by Utrechtsch <br>Studenten Concert ",
          "Movie/2023/8.5/Dr. Strangelove <br>or: How I Learned <br>to Stop Worrying <br>and Love the <br>Bomb by Stanley <br>Kubrick ",
          "Game/2025/9.0/Dredge by Black <br>Salt Games ",
          "Movie/2024/9.0/Dune: Part <br>2 by Dennis <br>Villeneuve ",
          "Concert/2024/8.5/Dvořáks Symfonie <br>nr. 7 onder <br>leiding van <br>Lorenzo Viotti <br>by Nederlands <br>Philharmonisch <br>Orkest ",
          "Book/2022/9.5/Educated by <br>Tara Westover ",
          "Cabaret/2022/8.0/Ego by Alex <br>Ploeg ",
          "Game/2024/9.0/Elden Ring <br>- Shadow of <br>the Erdtree <br>by FromSoftware ",
          "Game/2023/9.5/Elden Ring <br>by FromSoftware ",
          "Game/2022/10.0/Elden Ring <br>by FromSoftware ",
          "Book/2021/9.5/Ella Minnow <br>Pea by Mark <br>Dunn ",
          "Concert/2022/8.5/Enigma-Variaties <br>met Adam Hickox <br>by Rotterdams <br>Philharmonisch <br>Orkest ",
          "Museum/2022/9.0/Escher in het <br>Paleis by Ergo ",
          "Book/2025/9.0/Essays on Immigration <br>by Bob Blaisdell <br>(ed.) ",
          "Book/2021/10.0/Exhalation <br>by Ted Chiang ",
          "Concert/2023/8.5/Fantasia by <br>UvA-Orkest <br>J.Pzn Sweelinck ",
          "Concert/2025/8.0/Fearless Movement <br>Europe Tour <br>by Kamasi Washington ",
          "Book/2022/8.0/Ficciones by <br>Jorge Luis <br>Borges ",
          "Game/2022/9.0/Finding Paradise <br>by Freebird <br>Games ",
          "Book/2024/9.0/Flatland: A <br>Romance of <br>Many Dimensions <br>by Edwin Abbott <br>Abbott ",
          "Game/2025/8.0/Florence by <br>Mountains ",
          "Concert/2023/9.5/Footprints <br>Festival 2023 ",
          "Game/2021/8.5/Forza Horizon <br>4 by Playground <br>Games ",
          "Book/2022/9.5/Friday Black <br>by Nana Kwame <br>Adjei-Brenyah ",
          "Game/2025/7.0/Furi by The <br>Game Bakers ",
          "Book/2021/5.0/Geyerstein's <br>Dynamiek by <br>Willem Frederik <br>Hermans ",
          "Book/2025/9.0/Girl, Woman, <br>Other by Bernardine <br>Evaristo ",
          "Game/2022/9.0/God of War <br>(2018) by Sony <br>Santa Monica ",
          "Game/2025/9.0/Grand Theft <br>Auto IV by <br>Rockstar North ",
          "Museum/2023/7.5/Groningen 2023: <br>Groninger Museum, <br>Storyworld ",
          "Book/2023/10.0/Guards! Guards! <br>by Terry Pratchett ",
          "Game/2021/10.0/Hades by Supergiant <br>Games ",
          "Book/2021/8.0/Hallo Witte <br>Mensen by Anousha <br>Nzume ",
          "Book/2022/8.0/Happy Stories, <br>Mostly by Norman <br>E. Pasaribu ",
          "Book/2021/9.0/Hard-Boiled <br>Wonderland <br>and the End <br>of the World <br>by Murakami ",
          "Series/2024/8.5/Heartstopper <br>S1 by Alice <br>Oseman ",
          "Game/2024/8.5/Heave Ho by <br>Le Cartel Studio ",
          "Book/2021/8.5/Het Arcanum <br>by Janet Gleeson ",
          "Book/2025/10.0/Het Diner by <br>Herman Koch ",
          "Book/2024/7.0/Het Lijden <br>van de Jonge <br>Werther by <br>Johann Wolfgang <br>von Goethe ",
          "Museum/2023/7.5/Het Utrechts <br>Archief ",
          "Museum/2022/8.0/Het Utrechts <br>Archief by <br>Ergo ",
          "Theater/2023/9.0/Het Wrak van <br>de Opulenta <br>by DraeCKI ",
          "Game/2023/9.0/Hi-Fi Rush <br>by Tango Gameworks ",
          "Game/2024/10.0/Hi-Fi Rush <br>by Tango Gameworks ",
          "Concert/2025/10.0/How To Train <br>Your Dragon <br>- Live in Concert <br>by Residentie <br>Orkest ",
          "Series/2023/7.5/How to Build <br>a Sex Room <br>by Netflix ",
          "Movie/2022/8.0/How to Train <br>Your Dragon: <br>The Hidden <br>World by Dreamworks ",
          "Book/2025/9.0/Hyperion by <br>Dan Simmons ",
          "Book/2024/6.0/I Want to Die <br>but I Want <br>to Eat Tteokbokki <br>by Baek Sehee ",
          "Game/2021/7.5/INSIDE by Playdead ",
          "Book/2021/8.0/Ik, Claudius <br>by Robert Graves ",
          "Game/2023/8.0/In Other Waters <br>by Jump Over <br>The Age ",
          "Game/2024/8.5/Inscryption <br>by Daniel Mullins ",
          "Concert/2023/8.0/Internationaal <br>Kamermuziek <br>Festival Utrecht <br>Avondconcert <br>by Janine Jansen ",
          "Book/2025/9.5/Invisible Cities <br>by Italo Calvino ",
          "Game/2024/8.5/Islets by Kyle <br>Thompson ",
          "Book/2021/7.0/Je Bent Jong <br>en Je Rouwt <br>Wat by Lisanne <br>van Sadelhoff ",
          "Book/2022/8.0/Je Kunt Het <br>Maar Eén Keer <br>Doen by Barbara <br>van Beukering ",
          "Game/2024/9.0/Jusant by Don't <br>Nod ",
          "Game/2023/8.0/Katamari Damacy <br>REROLL by Namco ",
          "Game/2021/8.0/Katana ZERO <br>by Askiisoft ",
          "Game/2023/8.0/Kid A Mnesia <br>Exhibition <br>by Radiohead ",
          "Game/2022/8.5/Kirby and the <br>Forgotten Land <br>by Nintendo ",
          "Book/2021/8.5/Klara and the <br>Sun by Kazuo <br>Ishiguro ",
          "Book/2025/9.0/Koning van <br>Katoren by <br>Jan Terlouw ",
          "Book/2023/7.0/Kroniek van <br>een Aangekondigde <br>Dood by Gabriel <br>García Márquez ",
          "Concert/2024/7.5/Laat Je Horen! <br>by Nederlands <br>Studenten Orkest ",
          "Movie/2023/8.0/Legally Blonde <br>by Robert Luketic ",
          "Concert/2022/9.0/Liefdesdaad <br>by UvA-Orkest <br>J.Pzn Sweelinck ",
          "Concert/2024/10.0/Live in AFAS <br>by King Gizzard <br>and the Lizard <br>Wizard ",
          "Concert/2024/9.0/Live in Paradiso <br>by Psychedelic <br>Porn Crumpets ",
          "Concert/2022/7.5/Live in TivoliVredenburg <br>by BADBADNOTGOOD ",
          "Concert/2023/8.0/Live in TivoliVredenburg <br>by Brass Against ",
          "Concert/2024/8.0/Live in TivoliVredenburg <br>by Hedvig Mollestad <br>Trio ",
          "Concert/2024/9.0/Live in TivoliVredenburg <br>by Yellowjackets ",
          "Book/2022/7.5/Living Proof <br>by Allison <br>K. Henrich <br>(ed.) ",
          "Book/2021/9.0/Logicomix by <br>Apostolos Doxiadis, <br>Christos H. <br>Papadimitriou ",
          "Book/2024/8.0/Lolita by Vladimir <br>Nabokov ",
          "Movie/2023/7.0/Love, Actually <br>by Richard <br>Curtis ",
          "Game/2025/7.0/Luigi's Mansion <br>3 by Nintendo ",
          "Book/2021/7.5/Man's Search <br>for Meaning <br>by Viktor Frankl ",
          "Game/2024/7.0/Mario + Rabbids: <br>Sparks of Hope <br>by Ubisoft ",
          "Book/2023/10.0/Men at Arms <br>by Terry Pratchett ",
          "Game/2021/9.0/Metroid Dread <br>by Nintendo, <br>MercurySteam ",
          "Game/2024/9.0/Metroid Dread <br>by Nintendo, <br>MercurySteam ",
          "Game/2023/8.5/Metroid Prime <br>Remastered <br>by Retro Studios ",
          "Book/2022/9.0/Monstrous Regiment <br>by Terry Pratchett ",
          "Movie/2023/8.5/Monty Python <br>and the Holy <br>Grail by Monty <br>Python ",
          "Book/2023/8.5/Moving Pictures <br>by Terry Pratchett ",
          "Book/2021/7.5/Museums and <br>Women and Other <br>Stories by <br>John Updike ",
          "Book/2024/8.0/My Uncle Oswald <br>by Roald Dahl ",
          "Book/2021/8.5/My Uncle Oswald <br>by Roald Dahl ",
          "Museum/2023/7.5/NEMO Science <br>Museum by Ergo ",
          "Museum/2023/7.5/Naturalis by <br>Ergo ",
          "Game/2024/9.0/Neon White <br>by Angel Matrix ",
          "Book/2022/8.0/Neuromancer <br>by William <br>Gibson ",
          "Game/2021/8.5/NieR: Automata <br>by PlatinumGames ",
          "Book/2024/8.0/Night by Elie <br>Wiesel ",
          "Book/2024/9.0/Nine Tomorrows <br>by Isaac Asimov ",
          "Concert/2023/8.0/North Sea Jazz <br>2023 ",
          "Book/2021/9.0/Oer en Andere <br>Tijden by Olga <br>Tokarczuk ",
          "Game/2023/9.0/Okami HD by <br>Clover Studios ",
          "Book/2024/8.0/Onder Professoren <br>by Willem Frederik <br>Hermans ",
          "Game/2022/9.5/One Finger <br>Death Punch <br>by Silver Dollar <br>Games ",
          "Book/2023/9.0/One Flew Over <br>the Cuckoo's <br>Nest by Ken <br>Kesey ",
          "Book/2022/8.5/Ontjoodst door <br>de Wetenschap <br>by Hans Jessurun <br>d'Oliveira <br>(ed.) ",
          "Museum/2024/8.0/Oost-Duitsland <br>2024: Herzogin <br>Anna Amalia <br>Bibliothek, <br>Bauhaus Museum <br>Weimar, Grünes <br>Gewölbe, Dresdner <br>Zwinger ",
          "Museum/2025/8.5/Oost-VS 2025: <br>Smithsonian, <br>Jazz at Lincoln <br>Center, The <br>Met, MoMA ",
          "Concert/2023/7.5/Orelon Trio <br>met Yukine <br>Kuroki by TivoliVredenburg ",
          "Game/2021/9.0/Ori and the <br>Blind Forest <br>by Moon Studios ",
          "Game/2024/8.5/Outer Wilds <br>by Mobius Digital ",
          "Game/2021/9.0/Overcooked <br>2 by Team17 ",
          "Book/2022/9.0/Pale Fire by <br>Vladimir Nabokov ",
          "Game/2024/9.0/Paper Mario: <br>The Thousand-Year <br>Door by Nintendo ",
          "Game/2022/7.0/Persona 5 Strikers <br>by Atlus ",
          "Game/2023/8.5/Pikmin 2 by <br>Nintendo ",
          "Game/2023/9.5/Pikmin 3 Deluxe <br>by Nintendo ",
          "Game/2023/10.0/Pikmin 4 by <br>Nintendo ",
          "Game/2023/7.5/Pikmin by Nintendo ",
          "Concert/2023/9.0/Pinkpop 2023 ",
          "Game/2023/9.0/Pokémon Legends: <br>Arceus by Game <br>Freak ",
          "Game/2024/8.5/Prince of Persia: <br>The Lost Crown <br>by Ubisoft ",
          "Concert/2023/7.5/Prokofjev en <br>Rachmaninov <br>by Rotterdams <br>Philharmonisch <br>Orkest ",
          "Conference/2025/8.0/Proofs: From <br>Euclid to AI <br>by Koninklijke <br>Nederlandse <br>Akademie van <br>Wetenschappen ",
          "Game/2021/8.0/Quarantine <br>Circular by <br>Mike Bithell <br>Games ",
          "Conference/2023/8.0/REAIM ",
          "Concert/2022/8.0/Rabo Open Stage: <br>Pega Loca by <br>Pega Loca ",
          "Concert/2024/8.5/Rabo Open Stage: <br>TivoliVredenburg <br>Jamsessie ",
          "Book/2024/9.0/Radicalized <br>by Cory Doctorow ",
          "Concert/2023/8.5/Randmeerconcert <br>by Utrechts <br>Harptrio ",
          "Game/2023/9.5/Rayman Legends <br>by Ubisoft <br>Montpellier ",
          "Game/2022/8.0/Return of the <br>Obra Dinn by <br>Lucas Pope ",
          "Museum/2022/9.0/Rietveld-Schröderhuis <br>by Gerrit Rietveld ",
          "Theater/2022/10.0/Roshambo, of <br>Waarom we Steen-Papier-Schaar <br>Spelen by DraeCKI ",
          "Movie/2024/7.0/Rubber by Quentin <br>Dupieux ",
          "Book/2025/7.5/Sable Design <br>Works by Lost <br>in Cult ",
          "Game/2022/9.5/Sable by Shedworks ",
          "Game/2023/7.5/Save Room - <br>Organization <br>Puzzle by Fractal <br>Projects ",
          "Concert/2024/9.0/Schijn by UvA-Orkest <br>J.Pzn Sweelinck ",
          "Book/2025/6.0/Scrum voor <br>Dummies by <br>Michael Franken ",
          "Game/2025/9.0/Sea of Stars <br>by Sabotage <br>Studio ",
          "Game/2021/9.5/Sekiro: Shadows <br>Die Twice by <br>FromSoftware ",
          "Game/2023/10.0/Sekiro: Shadows <br>Die Twice by <br>FromSoftware ",
          "Game/2021/9.0/Shovel Knight: <br>Treasure Trove <br>by Yacht Club <br>Games ",
          "Book/2024/9.0/Siddharta by <br>Hermann Hesse ",
          "Game/2022/9.0/Sifu by Sloclap ",
          "Game/2025/10.0/Sifu by Sloclap ",
          "Book/2024/9.5/Slaughterhouse-Five <br>by Kurt Vonnegut ",
          "Book/2021/8.5/Small Gods <br>by Terry Pratchett ",
          "Game/2021/7.5/Sonic Mania <br>by PagodaWest <br>Games ",
          "Movie/2025/7.5/Sonic the Hedgehog <br>1/2/3 by Jeff <br>Fowler ",
          "Game/2021/8.5/Spider-Man <br>(2018) by Insomniac <br>Games ",
          "Game/2021/8.5/Spiritfarer <br>by Thunder <br>Lotus Games ",
          "Game/2021/8.0/Splatoon 2 <br>by Nintendo ",
          "Game/2021/9.0/Stardew Valley <br>by ConcernedApe ",
          "Game/2023/7.5/Starfield by <br>Bethesda Game <br>Studios ",
          "Movie/2024/8.5/Stop Making <br>Sense by Talking <br>Heads ",
          "Book/2021/10.0/Stories of <br>Your Life and <br>Others by Ted <br>Chiang ",
          "Game/2024/8.0/Stray Gods: <br>The Roleplaying <br>Musical by <br>Summerfall <br>Studios ",
          "Game/2021/9.0/Sunless Sea <br>by Failbetter <br>Games ",
          "Game/2021/9.5/Super Mario <br>3D World + <br>Bowser's Fury <br>by Nintendo ",
          "Game/2023/8.0/Super Mario <br>Bros. Wonder <br>by Nintendo ",
          "Game/2022/9.0/Super Mario <br>Galaxy by Nintendo ",
          "Game/2021/9.0/Super Mario <br>Maker 2 by <br>Nintendo ",
          "Game/2025/8.0/Super Mario <br>Party Jamboree <br>by Nintendo ",
          "Game/2023/9.0/Super Mario <br>RPG by Nintendo, <br>Square Enix ",
          "Game/2021/9.0/Super Mario <br>Sunshine by <br>Nintendo ",
          "Concert/2022/8.5/Symphonie Fantastique <br>by Philips <br>Symfonie Orkest ",
          "Game/2025/9.5/TOEM by Something <br>We Made ",
          "Game/2022/9.0/Tactical Breach <br>Wizards Beta <br>by Suspicious <br>Developments ",
          "Game/2024/10.0/Tactical Breach <br>Wizards by <br>Tom Francis ",
          "Movie/2023/6.5/Ted by Seth <br>MacFarlane ",
          "Book/2023/7.5/Terraform: <br>Watch/Worlds/Burn <br>by Brian Merchant, <br>Claire L. Evens <br>(eds.) ",
          "Game/2022/9.5/Terraria by <br>Re-Logic ",
          "Book/2025/7.0/The 500 Greatest <br>Albums of All <br>Time by Rolling <br>Stone ",
          "Game/2023/8.0/The Art of <br>Cuphead by <br>Studio MDHR ",
          "Book/2022/8.0/The Art of <br>How to Train <br>Your Dragon <br>by Tracey Miller-Zameke ",
          "Book/2022/7.5/The Capital <br>by Robert Menasse ",
          "Book/2021/9.0/The City and <br>the City by <br>China Miéville ",
          "Game/2023/8.5/The Corridor <br>by Thomas Mackinnon ",
          "Book/2022/8.0/The Devil Tree <br>by Jerzy Kosinski ",
          "Book/2025/7.0/The Doors of <br>Perception <br>by Aldous Huxley ",
          "Series/2023/7.0/The Dragon <br>Prince, Book <br>4: Earth by <br>Wonderstorm ",
          "Series/2023/8.5/The Dragon <br>Prince, Book <br>5: Water by <br>Wonderstorm ",
          "Series/2024/9.5/The Dragon <br>Prince, Book <br>6: Stars by <br>Wonderstorm ",
          "Series/2025/7.0/The Dragon <br>Prince, Book <br>7: Dark by <br>Wonderstorm ",
          "Book/2024/6.5/The Fall by <br>Albert Camus ",
          "Book/2021/8.0/The Fowl Twins <br>by Eion Colfer ",
          "Movie/2024/8.0/The Gentlemen <br>by Guy Ritchie ",
          "Book/2024/10.0/The Handmaid's <br>Tale by Margaret <br>Atwood ",
          "Book/2024/9.0/The Information: <br>A History, <br>A Theory, A <br>Flood by James <br>Gleick ",
          "Book/2024/8.5/The Last Days <br>of Socrates <br>by Plato ",
          "Game/2022/8.0/The Last Guardian <br>by Team Ico ",
          "Book/2022/8.5/The Left Hand <br>of Darkness <br>by Ursula K. <br>Le Guin ",
          "Game/2023/10.0/The Legend <br>of Zelda: A <br>Link Between <br>Worlds by Nintendo ",
          "Book/2022/8.0/The Legend <br>of Zelda: Breath <br>of the Wild <br>- Creating <br>a Champion <br>by Nintendo ",
          "Game/2024/9.0/The Legend <br>of Zelda: Echoes <br>of Wisdom by <br>Nintendo, Grezzo ",
          "Game/2024/8.5/The Legend <br>of Zelda: Link's <br>Awakening by <br>Nintendo ",
          "Game/2025/7.5/The Legend <br>of Zelda: Skyward <br>Sword by Nintendo ",
          "Game/2023/10.0/The Legend <br>of Zelda: Tears <br>of the Kingdom <br>by Nintendo ",
          "Book/2022/7.5/The Legend <br>of Zelda: Twilight <br>Princess, Vol. <br>2 by Akira <br>Himekawa ",
          "Book/2023/10.0/The MANIAC <br>by Benjamin <br>Labatut ",
          "Book/2023/7.0/The Machine <br>Stops by E.M. <br>Forster ",
          "Book/2022/9.0/The Midnight <br>Library by <br>Matt Haig ",
          "Book/2024/7.5/The Motorcycle <br>Diaries by <br>Ernesto Che <br>Guevara ",
          "Book/2021/9.5/The Night Circus <br>by Erin Morgenstern ",
          "Book/2023/9.0/The Outsider <br>by Albert Camus ",
          "Book/2022/9.0/The Paper Menagerie <br>and Other Stories <br>by Ken Liu ",
          "Book/2021/8.5/The Penelopiad <br>by Margaret <br>Atwood ",
          "Book/2024/7.0/The Penguin <br>Book of Oulipo <br>by Philip Terry <br>(ed.) ",
          "Concert/2024/10.0/The Planets <br>& Sinfonia <br>Antarctica <br>by Rotterdams <br>Philharmonisch <br>Orkest ",
          "Book/2025/8.0/The Political <br>Philosophy <br>of AI by Mark <br>Coeckelbergh ",
          "Book/2025/8.0/The Prince <br>by Niccolò <br>Machiavelli ",
          "Conference/2024/8.0/The Quest for <br>Vision (Nexus-Conference <br>2024) by Nexus <br>Instituut ",
          "Book/2023/7.5/The Republic <br>by Plato ",
          "Book/2023/8.5/The Secret <br>History by <br>Donna Tartt ",
          "Game/2021/8.0/The Sexy Brutale <br>by Cavalier <br>Game Studios ",
          "Book/2023/8.0/The Southern <br>Book Club's <br>Guide to Slaying <br>Vampires by <br>Grady Hendrix ",
          "Book/2023/8.5/The Time Traveler's <br>Wife by Audrey <br>Niffenegger ",
          "Book/2025/7.5/The Trial by <br>Franz Kafka ",
          "Book/2025/9.0/The Truth by <br>Terry Pratchett ",
          "Book/2022/9.0/The Way of <br>Kings, Part <br>1 by Brandon <br>Sanderson ",
          "Book/2025/7.5/Thinking, Fast <br>and Slow by <br>Daniel Kahneman ",
          "Book/2021/9.0/This is How <br>You Lose the <br>Time War by <br>Amal El-Mohtar, <br>Max Gladstone ",
          "Book/2021/9.0/Through the <br>Moon by Peter <br>Wartman ",
          "Game/2023/9.5/Tunic by Isometricorp <br>Games ",
          "Conference/2023/8.5/UU National <br>Conference <br>on Responsible <br>AI (Spoorwegmuseum) <br>by Utrecht <br>University ",
          "Game/2021/8.0/Uncharted: <br>The Lost Legacy <br>by Naughty <br>Dog ",
          "Museum/2024/8.5/Van Nellefabriek ",
          "Book/2024/8.0/Videogame Atlas: <br>Mapping Interactive <br>Worlds by Luke <br>Caspar Pearson, <br>Sandra Youkkana ",
          "Concert/2025/8.5/Waanzin by <br>Nederlands <br>Studenten Orkest ",
          "Game/2023/7.5/WarioWare: <br>Get It Together <br>by Nintendo ",
          "Book/2021/7.0/Wat Maakt een <br>Verzetsheld? <br>by Rutger Bregman ",
          "Book/2021/9.0/Wat Wij Zagen <br>by Hanna Bervoets ",
          "Book/2023/8.5/We Need to <br>Talk About <br>Kevin by Lionel <br>Shriver ",
          "Game/2024/9.5/Webbed by Sbug <br>Games ",
          "Book/2022/8.5/Wegens Sterfgeval <br>Gesloten (Commedia <br>Della Morte) <br>by Jan Wolkers ",
          "Game/2021/8.5/What Remains <br>of Edith Finch <br>by Giant Sparrow ",
          "Book/2021/9.0/When Einstein <br>Walked with <br>Gödel by Jim <br>Holt ",
          "Book/2021/9.5/When We Cease <br>to Understand <br>the World by <br>Benjamin Labatut ",
          "Book/2024/9.0/Wij Slaven <br>van Suriname <br>by Anton de <br>Kom ",
          "Movie/2023/9.0/Wreck-It Ralph <br>by Walt Disney <br>Animation Studios ",
          "Game/2021/7.0/Xenoblade Chronicles <br>2 by Monolith <br>Soft ",
          "Game/2022/8.5/Xenoblade Chronicles <br>3 by Monolith <br>Soft ",
          "Game/2025/9.0/Xenoblade Chronicles <br>X by Monolith <br>Soft ",
          "Game/2024/9.0/Yoku's Island <br>Express by <br>Villa Gorilla ",
          "Book/2024/8.5/Zazie in the <br>Metro by Raymond <br>Queneau ",
          "Museum/2024/9.0/Zuid-Frankrijk <br>2024: Musée <br>du Pont du <br>Gard, Maison <br>Carrée, Arles <br>Amphitheatre ",
          "Museum/2025/2.0",
          "Book/2021/5.0",
          "Book/2024/6.0",
          "Book/2025/6.0",
          "Conference/2023/6.5",
          "Movie/2023/6.5",
          "Book/2024/6.5",
          "Book/2021/7.0",
          "Game/2021/7.0",
          "Game/2022/7.0",
          "Book/2023/7.0",
          "Game/2023/7.0",
          "Movie/2023/7.0",
          "Museum/2023/7.0",
          "Series/2023/7.0",
          "Book/2024/7.0",
          "Game/2024/7.0",
          "Movie/2024/7.0",
          "Book/2025/7.0",
          "Concert/2025/7.0",
          "Game/2025/7.0",
          "Series/2025/7.0",
          "Book/2021/7.5",
          "Game/2021/7.5",
          "Book/2022/7.5",
          "Concert/2022/7.5",
          "Book/2023/7.5",
          "Concert/2023/7.5",
          "Game/2023/7.5",
          "Museum/2023/7.5",
          "Series/2023/7.5",
          "Book/2024/7.5",
          "Concert/2024/7.5",
          "Book/2025/7.5",
          "Game/2025/7.5",
          "Movie/2025/7.5",
          "Book/2021/8.0",
          "Game/2021/8.0",
          "Book/2022/8.0",
          "Cabaret/2022/8.0",
          "Concert/2022/8.0",
          "Game/2022/8.0",
          "Movie/2022/8.0",
          "Museum/2022/8.0",
          "Book/2023/8.0",
          "Concert/2023/8.0",
          "Conference/2023/8.0",
          "Game/2023/8.0",
          "Movie/2023/8.0",
          "Museum/2023/8.0",
          "Book/2024/8.0",
          "Concert/2024/8.0",
          "Conference/2024/8.0",
          "Game/2024/8.0",
          "Movie/2024/8.0",
          "Museum/2024/8.0",
          "Book/2025/8.0",
          "Concert/2025/8.0",
          "Conference/2025/8.0",
          "Game/2025/8.0",
          "Book/2021/8.5",
          "Game/2021/8.5",
          "Book/2022/8.5",
          "Concert/2022/8.5",
          "Game/2022/8.5",
          "Book/2023/8.5",
          "Concert/2023/8.5",
          "Conference/2023/8.5",
          "Game/2023/8.5",
          "Movie/2023/8.5",
          "Series/2023/8.5",
          "Book/2024/8.5",
          "Concert/2024/8.5",
          "Game/2024/8.5",
          "Movie/2024/8.5",
          "Museum/2024/8.5",
          "Series/2024/8.5",
          "Concert/2025/8.5",
          "Movie/2025/8.5",
          "Museum/2025/8.5",
          "Book/2021/9.0",
          "Game/2021/9.0",
          "Book/2022/9.0",
          "Concert/2022/9.0",
          "Game/2022/9.0",
          "Museum/2022/9.0",
          "Book/2023/9.0",
          "Concert/2023/9.0",
          "Game/2023/9.0",
          "Movie/2023/9.0",
          "Theater/2023/9.0",
          "Book/2024/9.0",
          "Concert/2024/9.0",
          "Game/2024/9.0",
          "Movie/2024/9.0",
          "Museum/2024/9.0",
          "Book/2025/9.0",
          "Concert/2025/9.0",
          "Game/2025/9.0",
          "Book/2021/9.5",
          "Game/2021/9.5",
          "Book/2022/9.5",
          "Game/2022/9.5",
          "Book/2023/9.5",
          "Concert/2023/9.5",
          "Game/2023/9.5",
          "Book/2024/9.5",
          "Game/2024/9.5",
          "Series/2024/9.5",
          "Book/2025/9.5",
          "Game/2025/9.5",
          "Book/2021/10.0",
          "Game/2021/10.0",
          "Game/2022/10.0",
          "Theater/2022/10.0",
          "Book/2023/10.0",
          "Game/2023/10.0",
          "Book/2024/10.0",
          "Concert/2024/10.0",
          "Game/2024/10.0",
          "Book/2025/10.0",
          "Concert/2025/10.0",
          "Game/2025/10.0",
          "Book/2021",
          "Game/2021",
          "Book/2022",
          "Cabaret/2022",
          "Concert/2022",
          "Game/2022",
          "Movie/2022",
          "Museum/2022",
          "Theater/2022",
          "Book/2023",
          "Concert/2023",
          "Conference/2023",
          "Game/2023",
          "Movie/2023",
          "Museum/2023",
          "Series/2023",
          "Theater/2023",
          "Book/2024",
          "Concert/2024",
          "Conference/2024",
          "Game/2024",
          "Movie/2024",
          "Museum/2024",
          "Series/2024",
          "Book/2025",
          "Concert/2025",
          "Conference/2025",
          "Game/2025",
          "Movie/2025",
          "Museum/2025",
          "Series/2025",
          "Book",
          "Cabaret",
          "Concert",
          "Conference",
          "Game",
          "Movie",
          "Museum",
          "Series",
          "Theater"
         ],
         "labels": [
          "2001: A Space <br>Odyssey by <br>Arthur C. Clarke ",
          "A Clockwork <br>Orange by Anthony <br>Burgess ",
          "A Dance of <br>Ice and Fire <br>by 7th Beat <br>Games ",
          "A Mathematician's <br>Apology by <br>G.H. Hardy ",
          "A Science Fiction <br>Omnibus by <br>Brian Aldiss <br>(ed.) ",
          "A Year in the <br>Linear City <br>by Paul Di <br>Filippo ",
          "AVROTROS Filmmuziekconcert <br>by Radio Filharmonisch <br>Orkest ",
          "Aantekeningen <br>uit het Ondergrondse <br>by Fyodor Dostoevsky ",
          "Alba: A Wildlife <br>Adventure by <br>Ustwo Games ",
          "All That Breathes <br>by Shaunak <br>Sen ",
          "Almond by Won-Pyung <br>Sohn ",
          "Als, Dan: Een <br>Logische Roman <br>by Janneke <br>de Bijl ",
          "Amsterdam Light <br>Festival ",
          "Animal Crossing: <br>New Horizons <br>by Nintendo ",
          "Animal Farm <br>by George Orwell ",
          "Annihilation <br>by Jeff VanderMeer ",
          "Antwerpen 2023: <br>Chocolate Nation, <br>Museum Plantin-Moretus ",
          "Armored Core <br>6: Fires of <br>Rubicon by <br>FromSoftware ",
          "Art Nouveau <br>by Paul Hamlyn ",
          "Avatar, the <br>Last Airbender: <br>The Rise of <br>Kyoshi by F.C. <br>Yee ",
          "Avatar, the <br>Last Airbender: <br>The Shadow <br>of Kyoshi by <br>F.C. Yee ",
          "Baba is You <br>by Hempuli ",
          "Balatro by <br>LocalThunk ",
          "Barbie by Greta <br>Gerwig ",
          "Batman Begins <br>by Christopher <br>Nolan ",
          "Bayonetta 2 <br>by PlatinumGames ",
          "Bayonetta by <br>PlatinumGames ",
          "Beethoven 3 <br>en Tsjaikovski <br>Pianoconcert <br>1 by Radio <br>Filharmonisch <br>Orkest ",
          "Beethoven 9 <br>en Koorfantasie <br>by Symfonieorkest <br>Vlaanderen ",
          "Before Your <br>Eyes by GoodbyeWorld <br>Games ",
          "België 2024: <br>Hortamuseum ",
          "Blindness by <br>José Saramago ",
          "Bowser's Fury <br>by Nintendo ",
          "Cadence of <br>Hyrule - Crypt <br>of the NecroDancer <br>feat. The Legend <br>of Zelda by <br>Brace Yourself <br>Games ",
          "Captain Toad: <br>Treasure Tracker <br>by Nintendo ",
          "Cat's Cradle <br>by Kurt Vonnegut ",
          "Centraal Museum <br>by Ergo ",
          "Central Park <br>Festival 2023 ",
          "Chain-Gang <br>All-Stars by <br>Nana Kwame <br>Adjei-Brenyah ",
          "Chernobyl Prayer <br>by Svetlana <br>Alexievich ",
          "Chess: A Novel <br>by Stefan Zweig ",
          "Citizen Sleeper <br>by Jump Over <br>The Age ",
          "Clair Obscur: <br>Expedition <br>33 by Sandfall <br>Interactive ",
          "Claudius de <br>God by Robert <br>Graves ",
          "Cloud Atlas <br>by David Mitchell ",
          "Cognitive Psychology <br>and its Implications <br>by J.R. Anderson ",
          "Concertgebouworkest <br>speelt Elgar <br>en Vaughan <br>Williams by <br>Concertgebouworkest ",
          "Control by <br>Remedy Entertainment ",
          "Cosmicomics <br>by Italo Calvino ",
          "Cuphead by <br>Studio MDHR ",
          "Cyberpunk 2077 <br>by CD Project <br>Red ",
          "DAG-Stadshuisbezoek <br>by Descartes <br>Alumnigenootschap ",
          "DOOM (2016) <br>by id Software ",
          "Dark Souls <br>2: Scholar <br>of the First <br>Sin by FromSoftware ",
          "De Adelaars <br>by Kader Abdolah ",
          "De Avonden <br>by Gerard Reve ",
          "De Beemster ",
          "De Notenkraker <br>by Radio Filharmonisch <br>Orkest ",
          "De Reyneart <br>by Frits van <br>Oostrom ",
          "De Utrechtse <br>Student: 1945 <br>tot Nu by Leen <br>Dorsman, Pieter <br>Stolk, Hylke <br>Faber ",
          "De Zaak van <br>de Grotverkenners <br>by Lon L. Fuller ",
          "Death Stranding <br>by Kojima Productions ",
          "Deathloop by <br>Arkane Lyon ",
          "Deltarune: <br>Chapter 2 by <br>Toby Fox ",
          "Deltora Quest <br>- The Forests <br>of Silence/The <br>Lake of Tears <br>by Emily Rodda ",
          "Descartes Jaarboek <br>by Descartes <br>College ",
          "Digital Climate <br>by U.S.C.K.I. <br>Incognito ",
          "Disco Elysium <br>by ZA/UM ",
          "Dishonored <br>2 by Arkane <br>Lyon ",
          "Dishonored <br>by Arkane Studios ",
          "Donkey Kong <br>Country: Tropical <br>Freeze by Tetro <br>Studios ",
          "Donut County <br>by Ben Esposito ",
          "Dr. Atomic <br>by Utrechtsch <br>Studenten Concert ",
          "Dr. Strangelove <br>or: How I Learned <br>to Stop Worrying <br>and Love the <br>Bomb by Stanley <br>Kubrick ",
          "Dredge by Black <br>Salt Games ",
          "Dune: Part <br>2 by Dennis <br>Villeneuve ",
          "Dvořáks Symfonie <br>nr. 7 onder <br>leiding van <br>Lorenzo Viotti <br>by Nederlands <br>Philharmonisch <br>Orkest ",
          "Educated by <br>Tara Westover ",
          "Ego by Alex <br>Ploeg ",
          "Elden Ring <br>- Shadow of <br>the Erdtree <br>by FromSoftware ",
          "Elden Ring <br>by FromSoftware ",
          "Elden Ring <br>by FromSoftware ",
          "Ella Minnow <br>Pea by Mark <br>Dunn ",
          "Enigma-Variaties <br>met Adam Hickox <br>by Rotterdams <br>Philharmonisch <br>Orkest ",
          "Escher in het <br>Paleis by Ergo ",
          "Essays on Immigration <br>by Bob Blaisdell <br>(ed.) ",
          "Exhalation <br>by Ted Chiang ",
          "Fantasia by <br>UvA-Orkest <br>J.Pzn Sweelinck ",
          "Fearless Movement <br>Europe Tour <br>by Kamasi Washington ",
          "Ficciones by <br>Jorge Luis <br>Borges ",
          "Finding Paradise <br>by Freebird <br>Games ",
          "Flatland: A <br>Romance of <br>Many Dimensions <br>by Edwin Abbott <br>Abbott ",
          "Florence by <br>Mountains ",
          "Footprints <br>Festival 2023 ",
          "Forza Horizon <br>4 by Playground <br>Games ",
          "Friday Black <br>by Nana Kwame <br>Adjei-Brenyah ",
          "Furi by The <br>Game Bakers ",
          "Geyerstein's <br>Dynamiek by <br>Willem Frederik <br>Hermans ",
          "Girl, Woman, <br>Other by Bernardine <br>Evaristo ",
          "God of War <br>(2018) by Sony <br>Santa Monica ",
          "Grand Theft <br>Auto IV by <br>Rockstar North ",
          "Groningen 2023: <br>Groninger Museum, <br>Storyworld ",
          "Guards! Guards! <br>by Terry Pratchett ",
          "Hades by Supergiant <br>Games ",
          "Hallo Witte <br>Mensen by Anousha <br>Nzume ",
          "Happy Stories, <br>Mostly by Norman <br>E. Pasaribu ",
          "Hard-Boiled <br>Wonderland <br>and the End <br>of the World <br>by Murakami ",
          "Heartstopper <br>S1 by Alice <br>Oseman ",
          "Heave Ho by <br>Le Cartel Studio ",
          "Het Arcanum <br>by Janet Gleeson ",
          "Het Diner by <br>Herman Koch ",
          "Het Lijden <br>van de Jonge <br>Werther by <br>Johann Wolfgang <br>von Goethe ",
          "Het Utrechts <br>Archief ",
          "Het Utrechts <br>Archief by <br>Ergo ",
          "Het Wrak van <br>de Opulenta <br>by DraeCKI ",
          "Hi-Fi Rush <br>by Tango Gameworks ",
          "Hi-Fi Rush <br>by Tango Gameworks ",
          "How To Train <br>Your Dragon <br>- Live in Concert <br>by Residentie <br>Orkest ",
          "How to Build <br>a Sex Room <br>by Netflix ",
          "How to Train <br>Your Dragon: <br>The Hidden <br>World by Dreamworks ",
          "Hyperion by <br>Dan Simmons ",
          "I Want to Die <br>but I Want <br>to Eat Tteokbokki <br>by Baek Sehee ",
          "INSIDE by Playdead ",
          "Ik, Claudius <br>by Robert Graves ",
          "In Other Waters <br>by Jump Over <br>The Age ",
          "Inscryption <br>by Daniel Mullins ",
          "Internationaal <br>Kamermuziek <br>Festival Utrecht <br>Avondconcert <br>by Janine Jansen ",
          "Invisible Cities <br>by Italo Calvino ",
          "Islets by Kyle <br>Thompson ",
          "Je Bent Jong <br>en Je Rouwt <br>Wat by Lisanne <br>van Sadelhoff ",
          "Je Kunt Het <br>Maar Eén Keer <br>Doen by Barbara <br>van Beukering ",
          "Jusant by Don't <br>Nod ",
          "Katamari Damacy <br>REROLL by Namco ",
          "Katana ZERO <br>by Askiisoft ",
          "Kid A Mnesia <br>Exhibition <br>by Radiohead ",
          "Kirby and the <br>Forgotten Land <br>by Nintendo ",
          "Klara and the <br>Sun by Kazuo <br>Ishiguro ",
          "Koning van <br>Katoren by <br>Jan Terlouw ",
          "Kroniek van <br>een Aangekondigde <br>Dood by Gabriel <br>García Márquez ",
          "Laat Je Horen! <br>by Nederlands <br>Studenten Orkest ",
          "Legally Blonde <br>by Robert Luketic ",
          "Liefdesdaad <br>by UvA-Orkest <br>J.Pzn Sweelinck ",
          "Live in AFAS <br>by King Gizzard <br>and the Lizard <br>Wizard ",
          "Live in Paradiso <br>by Psychedelic <br>Porn Crumpets ",
          "Live in TivoliVredenburg <br>by BADBADNOTGOOD ",
          "Live in TivoliVredenburg <br>by Brass Against ",
          "Live in TivoliVredenburg <br>by Hedvig Mollestad <br>Trio ",
          "Live in TivoliVredenburg <br>by Yellowjackets ",
          "Living Proof <br>by Allison <br>K. Henrich <br>(ed.) ",
          "Logicomix by <br>Apostolos Doxiadis, <br>Christos H. <br>Papadimitriou ",
          "Lolita by Vladimir <br>Nabokov ",
          "Love, Actually <br>by Richard <br>Curtis ",
          "Luigi's Mansion <br>3 by Nintendo ",
          "Man's Search <br>for Meaning <br>by Viktor Frankl ",
          "Mario + Rabbids: <br>Sparks of Hope <br>by Ubisoft ",
          "Men at Arms <br>by Terry Pratchett ",
          "Metroid Dread <br>by Nintendo, <br>MercurySteam ",
          "Metroid Dread <br>by Nintendo, <br>MercurySteam ",
          "Metroid Prime <br>Remastered <br>by Retro Studios ",
          "Monstrous Regiment <br>by Terry Pratchett ",
          "Monty Python <br>and the Holy <br>Grail by Monty <br>Python ",
          "Moving Pictures <br>by Terry Pratchett ",
          "Museums and <br>Women and Other <br>Stories by <br>John Updike ",
          "My Uncle Oswald <br>by Roald Dahl ",
          "My Uncle Oswald <br>by Roald Dahl ",
          "NEMO Science <br>Museum by Ergo ",
          "Naturalis by <br>Ergo ",
          "Neon White <br>by Angel Matrix ",
          "Neuromancer <br>by William <br>Gibson ",
          "NieR: Automata <br>by PlatinumGames ",
          "Night by Elie <br>Wiesel ",
          "Nine Tomorrows <br>by Isaac Asimov ",
          "North Sea Jazz <br>2023 ",
          "Oer en Andere <br>Tijden by Olga <br>Tokarczuk ",
          "Okami HD by <br>Clover Studios ",
          "Onder Professoren <br>by Willem Frederik <br>Hermans ",
          "One Finger <br>Death Punch <br>by Silver Dollar <br>Games ",
          "One Flew Over <br>the Cuckoo's <br>Nest by Ken <br>Kesey ",
          "Ontjoodst door <br>de Wetenschap <br>by Hans Jessurun <br>d'Oliveira <br>(ed.) ",
          "Oost-Duitsland <br>2024: Herzogin <br>Anna Amalia <br>Bibliothek, <br>Bauhaus Museum <br>Weimar, Grünes <br>Gewölbe, Dresdner <br>Zwinger ",
          "Oost-VS 2025: <br>Smithsonian, <br>Jazz at Lincoln <br>Center, The <br>Met, MoMA ",
          "Orelon Trio <br>met Yukine <br>Kuroki by TivoliVredenburg ",
          "Ori and the <br>Blind Forest <br>by Moon Studios ",
          "Outer Wilds <br>by Mobius Digital ",
          "Overcooked <br>2 by Team17 ",
          "Pale Fire by <br>Vladimir Nabokov ",
          "Paper Mario: <br>The Thousand-Year <br>Door by Nintendo ",
          "Persona 5 Strikers <br>by Atlus ",
          "Pikmin 2 by <br>Nintendo ",
          "Pikmin 3 Deluxe <br>by Nintendo ",
          "Pikmin 4 by <br>Nintendo ",
          "Pikmin by Nintendo ",
          "Pinkpop 2023 ",
          "Pokémon Legends: <br>Arceus by Game <br>Freak ",
          "Prince of Persia: <br>The Lost Crown <br>by Ubisoft ",
          "Prokofjev en <br>Rachmaninov <br>by Rotterdams <br>Philharmonisch <br>Orkest ",
          "Proofs: From <br>Euclid to AI <br>by Koninklijke <br>Nederlandse <br>Akademie van <br>Wetenschappen ",
          "Quarantine <br>Circular by <br>Mike Bithell <br>Games ",
          "REAIM ",
          "Rabo Open Stage: <br>Pega Loca by <br>Pega Loca ",
          "Rabo Open Stage: <br>TivoliVredenburg <br>Jamsessie ",
          "Radicalized <br>by Cory Doctorow ",
          "Randmeerconcert <br>by Utrechts <br>Harptrio ",
          "Rayman Legends <br>by Ubisoft <br>Montpellier ",
          "Return of the <br>Obra Dinn by <br>Lucas Pope ",
          "Rietveld-Schröderhuis <br>by Gerrit Rietveld ",
          "Roshambo, of <br>Waarom we Steen-Papier-Schaar <br>Spelen by DraeCKI ",
          "Rubber by Quentin <br>Dupieux ",
          "Sable Design <br>Works by Lost <br>in Cult ",
          "Sable by Shedworks ",
          "Save Room - <br>Organization <br>Puzzle by Fractal <br>Projects ",
          "Schijn by UvA-Orkest <br>J.Pzn Sweelinck ",
          "Scrum voor <br>Dummies by <br>Michael Franken ",
          "Sea of Stars <br>by Sabotage <br>Studio ",
          "Sekiro: Shadows <br>Die Twice by <br>FromSoftware ",
          "Sekiro: Shadows <br>Die Twice by <br>FromSoftware ",
          "Shovel Knight: <br>Treasure Trove <br>by Yacht Club <br>Games ",
          "Siddharta by <br>Hermann Hesse ",
          "Sifu by Sloclap ",
          "Sifu by Sloclap ",
          "Slaughterhouse-Five <br>by Kurt Vonnegut ",
          "Small Gods <br>by Terry Pratchett ",
          "Sonic Mania <br>by PagodaWest <br>Games ",
          "Sonic the Hedgehog <br>1/2/3 by Jeff <br>Fowler ",
          "Spider-Man <br>(2018) by Insomniac <br>Games ",
          "Spiritfarer <br>by Thunder <br>Lotus Games ",
          "Splatoon 2 <br>by Nintendo ",
          "Stardew Valley <br>by ConcernedApe ",
          "Starfield by <br>Bethesda Game <br>Studios ",
          "Stop Making <br>Sense by Talking <br>Heads ",
          "Stories of <br>Your Life and <br>Others by Ted <br>Chiang ",
          "Stray Gods: <br>The Roleplaying <br>Musical by <br>Summerfall <br>Studios ",
          "Sunless Sea <br>by Failbetter <br>Games ",
          "Super Mario <br>3D World + <br>Bowser's Fury <br>by Nintendo ",
          "Super Mario <br>Bros. Wonder <br>by Nintendo ",
          "Super Mario <br>Galaxy by Nintendo ",
          "Super Mario <br>Maker 2 by <br>Nintendo ",
          "Super Mario <br>Party Jamboree <br>by Nintendo ",
          "Super Mario <br>RPG by Nintendo, <br>Square Enix ",
          "Super Mario <br>Sunshine by <br>Nintendo ",
          "Symphonie Fantastique <br>by Philips <br>Symfonie Orkest ",
          "TOEM by Something <br>We Made ",
          "Tactical Breach <br>Wizards Beta <br>by Suspicious <br>Developments ",
          "Tactical Breach <br>Wizards by <br>Tom Francis ",
          "Ted by Seth <br>MacFarlane ",
          "Terraform: <br>Watch/Worlds/Burn <br>by Brian Merchant, <br>Claire L. Evens <br>(eds.) ",
          "Terraria by <br>Re-Logic ",
          "The 500 Greatest <br>Albums of All <br>Time by Rolling <br>Stone ",
          "The Art of <br>Cuphead by <br>Studio MDHR ",
          "The Art of <br>How to Train <br>Your Dragon <br>by Tracey Miller-Zameke ",
          "The Capital <br>by Robert Menasse ",
          "The City and <br>the City by <br>China Miéville ",
          "The Corridor <br>by Thomas Mackinnon ",
          "The Devil Tree <br>by Jerzy Kosinski ",
          "The Doors of <br>Perception <br>by Aldous Huxley ",
          "The Dragon <br>Prince, Book <br>4: Earth by <br>Wonderstorm ",
          "The Dragon <br>Prince, Book <br>5: Water by <br>Wonderstorm ",
          "The Dragon <br>Prince, Book <br>6: Stars by <br>Wonderstorm ",
          "The Dragon <br>Prince, Book <br>7: Dark by <br>Wonderstorm ",
          "The Fall by <br>Albert Camus ",
          "The Fowl Twins <br>by Eion Colfer ",
          "The Gentlemen <br>by Guy Ritchie ",
          "The Handmaid's <br>Tale by Margaret <br>Atwood ",
          "The Information: <br>A History, <br>A Theory, A <br>Flood by James <br>Gleick ",
          "The Last Days <br>of Socrates <br>by Plato ",
          "The Last Guardian <br>by Team Ico ",
          "The Left Hand <br>of Darkness <br>by Ursula K. <br>Le Guin ",
          "The Legend <br>of Zelda: A <br>Link Between <br>Worlds by Nintendo ",
          "The Legend <br>of Zelda: Breath <br>of the Wild <br>- Creating <br>a Champion <br>by Nintendo ",
          "The Legend <br>of Zelda: Echoes <br>of Wisdom by <br>Nintendo, Grezzo ",
          "The Legend <br>of Zelda: Link's <br>Awakening by <br>Nintendo ",
          "The Legend <br>of Zelda: Skyward <br>Sword by Nintendo ",
          "The Legend <br>of Zelda: Tears <br>of the Kingdom <br>by Nintendo ",
          "The Legend <br>of Zelda: Twilight <br>Princess, Vol. <br>2 by Akira <br>Himekawa ",
          "The MANIAC <br>by Benjamin <br>Labatut ",
          "The Machine <br>Stops by E.M. <br>Forster ",
          "The Midnight <br>Library by <br>Matt Haig ",
          "The Motorcycle <br>Diaries by <br>Ernesto Che <br>Guevara ",
          "The Night Circus <br>by Erin Morgenstern ",
          "The Outsider <br>by Albert Camus ",
          "The Paper Menagerie <br>and Other Stories <br>by Ken Liu ",
          "The Penelopiad <br>by Margaret <br>Atwood ",
          "The Penguin <br>Book of Oulipo <br>by Philip Terry <br>(ed.) ",
          "The Planets <br>& Sinfonia <br>Antarctica <br>by Rotterdams <br>Philharmonisch <br>Orkest ",
          "The Political <br>Philosophy <br>of AI by Mark <br>Coeckelbergh ",
          "The Prince <br>by Niccolò <br>Machiavelli ",
          "The Quest for <br>Vision (Nexus-Conference <br>2024) by Nexus <br>Instituut ",
          "The Republic <br>by Plato ",
          "The Secret <br>History by <br>Donna Tartt ",
          "The Sexy Brutale <br>by Cavalier <br>Game Studios ",
          "The Southern <br>Book Club's <br>Guide to Slaying <br>Vampires by <br>Grady Hendrix ",
          "The Time Traveler's <br>Wife by Audrey <br>Niffenegger ",
          "The Trial by <br>Franz Kafka ",
          "The Truth by <br>Terry Pratchett ",
          "The Way of <br>Kings, Part <br>1 by Brandon <br>Sanderson ",
          "Thinking, Fast <br>and Slow by <br>Daniel Kahneman ",
          "This is How <br>You Lose the <br>Time War by <br>Amal El-Mohtar, <br>Max Gladstone ",
          "Through the <br>Moon by Peter <br>Wartman ",
          "Tunic by Isometricorp <br>Games ",
          "UU National <br>Conference <br>on Responsible <br>AI (Spoorwegmuseum) <br>by Utrecht <br>University ",
          "Uncharted: <br>The Lost Legacy <br>by Naughty <br>Dog ",
          "Van Nellefabriek ",
          "Videogame Atlas: <br>Mapping Interactive <br>Worlds by Luke <br>Caspar Pearson, <br>Sandra Youkkana ",
          "Waanzin by <br>Nederlands <br>Studenten Orkest ",
          "WarioWare: <br>Get It Together <br>by Nintendo ",
          "Wat Maakt een <br>Verzetsheld? <br>by Rutger Bregman ",
          "Wat Wij Zagen <br>by Hanna Bervoets ",
          "We Need to <br>Talk About <br>Kevin by Lionel <br>Shriver ",
          "Webbed by Sbug <br>Games ",
          "Wegens Sterfgeval <br>Gesloten (Commedia <br>Della Morte) <br>by Jan Wolkers ",
          "What Remains <br>of Edith Finch <br>by Giant Sparrow ",
          "When Einstein <br>Walked with <br>Gödel by Jim <br>Holt ",
          "When We Cease <br>to Understand <br>the World by <br>Benjamin Labatut ",
          "Wij Slaven <br>van Suriname <br>by Anton de <br>Kom ",
          "Wreck-It Ralph <br>by Walt Disney <br>Animation Studios ",
          "Xenoblade Chronicles <br>2 by Monolith <br>Soft ",
          "Xenoblade Chronicles <br>3 by Monolith <br>Soft ",
          "Xenoblade Chronicles <br>X by Monolith <br>Soft ",
          "Yoku's Island <br>Express by <br>Villa Gorilla ",
          "Zazie in the <br>Metro by Raymond <br>Queneau ",
          "Zuid-Frankrijk <br>2024: Musée <br>du Pont du <br>Gard, Maison <br>Carrée, Arles <br>Amphitheatre ",
          "2.0",
          "5.0",
          "6.0",
          "6.0",
          "6.5",
          "6.5",
          "6.5",
          "7.0",
          "7.0",
          "7.0",
          "7.0",
          "7.0",
          "7.0",
          "7.0",
          "7.0",
          "7.0",
          "7.0",
          "7.0",
          "7.0",
          "7.0",
          "7.0",
          "7.0",
          "7.5",
          "7.5",
          "7.5",
          "7.5",
          "7.5",
          "7.5",
          "7.5",
          "7.5",
          "7.5",
          "7.5",
          "7.5",
          "7.5",
          "7.5",
          "7.5",
          "8.0",
          "8.0",
          "8.0",
          "8.0",
          "8.0",
          "8.0",
          "8.0",
          "8.0",
          "8.0",
          "8.0",
          "8.0",
          "8.0",
          "8.0",
          "8.0",
          "8.0",
          "8.0",
          "8.0",
          "8.0",
          "8.0",
          "8.0",
          "8.0",
          "8.0",
          "8.0",
          "8.0",
          "8.5",
          "8.5",
          "8.5",
          "8.5",
          "8.5",
          "8.5",
          "8.5",
          "8.5",
          "8.5",
          "8.5",
          "8.5",
          "8.5",
          "8.5",
          "8.5",
          "8.5",
          "8.5",
          "8.5",
          "8.5",
          "8.5",
          "8.5",
          "9.0",
          "9.0",
          "9.0",
          "9.0",
          "9.0",
          "9.0",
          "9.0",
          "9.0",
          "9.0",
          "9.0",
          "9.0",
          "9.0",
          "9.0",
          "9.0",
          "9.0",
          "9.0",
          "9.0",
          "9.0",
          "9.0",
          "9.5",
          "9.5",
          "9.5",
          "9.5",
          "9.5",
          "9.5",
          "9.5",
          "9.5",
          "9.5",
          "9.5",
          "9.5",
          "9.5",
          "10.0",
          "10.0",
          "10.0",
          "10.0",
          "10.0",
          "10.0",
          "10.0",
          "10.0",
          "10.0",
          "10.0",
          "10.0",
          "10.0",
          "2021",
          "2021",
          "2022",
          "2022",
          "2022",
          "2022",
          "2022",
          "2022",
          "2022",
          "2023",
          "2023",
          "2023",
          "2023",
          "2023",
          "2023",
          "2023",
          "2023",
          "2024",
          "2024",
          "2024",
          "2024",
          "2024",
          "2024",
          "2024",
          "2025",
          "2025",
          "2025",
          "2025",
          "2025",
          "2025",
          "2025",
          "Book",
          "Cabaret",
          "Concert",
          "Conference",
          "Game",
          "Movie",
          "Museum",
          "Series",
          "Theater"
         ],
         "maxdepth": 2,
         "name": "",
         "parents": [
          "Book/2023/8.5",
          "Book/2023/8.0",
          "Game/2024/9.0",
          "Book/2021/7.5",
          "Book/2023/9.0",
          "Book/2022/8.0",
          "Concert/2025/8.0",
          "Book/2021/7.0",
          "Game/2024/8.5",
          "Movie/2024/8.0",
          "Book/2023/8.5",
          "Book/2024/9.0",
          "Museum/2024/8.0",
          "Game/2021/8.0",
          "Book/2023/9.5",
          "Book/2022/7.5",
          "Museum/2023/8.0",
          "Game/2024/9.0",
          "Book/2021/8.0",
          "Book/2022/9.0",
          "Book/2022/9.0",
          "Game/2023/8.0",
          "Game/2024/9.0",
          "Movie/2025/7.5",
          "Movie/2025/8.5",
          "Game/2023/8.0",
          "Game/2021/8.0",
          "Concert/2025/7.0",
          "Concert/2025/9.0",
          "Game/2023/7.0",
          "Museum/2024/8.0",
          "Book/2025/9.0",
          "Game/2022/9.0",
          "Game/2021/8.5",
          "Game/2021/8.5",
          "Book/2021/7.5",
          "Museum/2023/7.0",
          "Concert/2023/8.0",
          "Book/2023/8.5",
          "Book/2024/7.5",
          "Book/2023/9.0",
          "Game/2023/9.0",
          "Game/2025/10.0",
          "Book/2021/8.0",
          "Book/2022/8.0",
          "Book/2024/8.5",
          "Concert/2023/7.5",
          "Game/2023/8.5",
          "Book/2021/8.0",
          "Game/2022/9.5",
          "Game/2024/9.0",
          "Museum/2022/9.0",
          "Game/2025/9.0",
          "Game/2025/8.0",
          "Book/2021/8.5",
          "Book/2023/7.5",
          "Museum/2025/2.0",
          "Concert/2024/10.0",
          "Book/2023/8.0",
          "Book/2023/8.0",
          "Book/2024/8.0",
          "Game/2021/8.5",
          "Game/2023/8.0",
          "Game/2021/10.0",
          "Book/2023/8.0",
          "Book/2021/7.5",
          "Conference/2023/6.5",
          "Game/2022/10.0",
          "Game/2024/8.0",
          "Game/2021/8.5",
          "Game/2024/8.0",
          "Game/2021/8.0",
          "Concert/2023/7.5",
          "Movie/2023/8.5",
          "Game/2025/9.0",
          "Movie/2024/9.0",
          "Concert/2024/8.5",
          "Book/2022/9.5",
          "Cabaret/2022/8.0",
          "Game/2024/9.0",
          "Game/2023/9.5",
          "Game/2022/10.0",
          "Book/2021/9.5",
          "Concert/2022/8.5",
          "Museum/2022/9.0",
          "Book/2025/9.0",
          "Book/2021/10.0",
          "Concert/2023/8.5",
          "Concert/2025/8.0",
          "Book/2022/8.0",
          "Game/2022/9.0",
          "Book/2024/9.0",
          "Game/2025/8.0",
          "Concert/2023/9.5",
          "Game/2021/8.5",
          "Book/2022/9.5",
          "Game/2025/7.0",
          "Book/2021/5.0",
          "Book/2025/9.0",
          "Game/2022/9.0",
          "Game/2025/9.0",
          "Museum/2023/7.5",
          "Book/2023/10.0",
          "Game/2021/10.0",
          "Book/2021/8.0",
          "Book/2022/8.0",
          "Book/2021/9.0",
          "Series/2024/8.5",
          "Game/2024/8.5",
          "Book/2021/8.5",
          "Book/2025/10.0",
          "Book/2024/7.0",
          "Museum/2023/7.5",
          "Museum/2022/8.0",
          "Theater/2023/9.0",
          "Game/2023/9.0",
          "Game/2024/10.0",
          "Concert/2025/10.0",
          "Series/2023/7.5",
          "Movie/2022/8.0",
          "Book/2025/9.0",
          "Book/2024/6.0",
          "Game/2021/7.5",
          "Book/2021/8.0",
          "Game/2023/8.0",
          "Game/2024/8.5",
          "Concert/2023/8.0",
          "Book/2025/9.5",
          "Game/2024/8.5",
          "Book/2021/7.0",
          "Book/2022/8.0",
          "Game/2024/9.0",
          "Game/2023/8.0",
          "Game/2021/8.0",
          "Game/2023/8.0",
          "Game/2022/8.5",
          "Book/2021/8.5",
          "Book/2025/9.0",
          "Book/2023/7.0",
          "Concert/2024/7.5",
          "Movie/2023/8.0",
          "Concert/2022/9.0",
          "Concert/2024/10.0",
          "Concert/2024/9.0",
          "Concert/2022/7.5",
          "Concert/2023/8.0",
          "Concert/2024/8.0",
          "Concert/2024/9.0",
          "Book/2022/7.5",
          "Book/2021/9.0",
          "Book/2024/8.0",
          "Movie/2023/7.0",
          "Game/2025/7.0",
          "Book/2021/7.5",
          "Game/2024/7.0",
          "Book/2023/10.0",
          "Game/2021/9.0",
          "Game/2024/9.0",
          "Game/2023/8.5",
          "Book/2022/9.0",
          "Movie/2023/8.5",
          "Book/2023/8.5",
          "Book/2021/7.5",
          "Book/2024/8.0",
          "Book/2021/8.5",
          "Museum/2023/7.5",
          "Museum/2023/7.5",
          "Game/2024/9.0",
          "Book/2022/8.0",
          "Game/2021/8.5",
          "Book/2024/8.0",
          "Book/2024/9.0",
          "Concert/2023/8.0",
          "Book/2021/9.0",
          "Game/2023/9.0",
          "Book/2024/8.0",
          "Game/2022/9.5",
          "Book/2023/9.0",
          "Book/2022/8.5",
          "Museum/2024/8.0",
          "Museum/2025/8.5",
          "Concert/2023/7.5",
          "Game/2021/9.0",
          "Game/2024/8.5",
          "Game/2021/9.0",
          "Book/2022/9.0",
          "Game/2024/9.0",
          "Game/2022/7.0",
          "Game/2023/8.5",
          "Game/2023/9.5",
          "Game/2023/10.0",
          "Game/2023/7.5",
          "Concert/2023/9.0",
          "Game/2023/9.0",
          "Game/2024/8.5",
          "Concert/2023/7.5",
          "Conference/2025/8.0",
          "Game/2021/8.0",
          "Conference/2023/8.0",
          "Concert/2022/8.0",
          "Concert/2024/8.5",
          "Book/2024/9.0",
          "Concert/2023/8.5",
          "Game/2023/9.5",
          "Game/2022/8.0",
          "Museum/2022/9.0",
          "Theater/2022/10.0",
          "Movie/2024/7.0",
          "Book/2025/7.5",
          "Game/2022/9.5",
          "Game/2023/7.5",
          "Concert/2024/9.0",
          "Book/2025/6.0",
          "Game/2025/9.0",
          "Game/2021/9.5",
          "Game/2023/10.0",
          "Game/2021/9.0",
          "Book/2024/9.0",
          "Game/2022/9.0",
          "Game/2025/10.0",
          "Book/2024/9.5",
          "Book/2021/8.5",
          "Game/2021/7.5",
          "Movie/2025/7.5",
          "Game/2021/8.5",
          "Game/2021/8.5",
          "Game/2021/8.0",
          "Game/2021/9.0",
          "Game/2023/7.5",
          "Movie/2024/8.5",
          "Book/2021/10.0",
          "Game/2024/8.0",
          "Game/2021/9.0",
          "Game/2021/9.5",
          "Game/2023/8.0",
          "Game/2022/9.0",
          "Game/2021/9.0",
          "Game/2025/8.0",
          "Game/2023/9.0",
          "Game/2021/9.0",
          "Concert/2022/8.5",
          "Game/2025/9.5",
          "Game/2022/9.0",
          "Game/2024/10.0",
          "Movie/2023/6.5",
          "Book/2023/7.5",
          "Game/2022/9.5",
          "Book/2025/7.0",
          "Game/2023/8.0",
          "Book/2022/8.0",
          "Book/2022/7.5",
          "Book/2021/9.0",
          "Game/2023/8.5",
          "Book/2022/8.0",
          "Book/2025/7.0",
          "Series/2023/7.0",
          "Series/2023/8.5",
          "Series/2024/9.5",
          "Series/2025/7.0",
          "Book/2024/6.5",
          "Book/2021/8.0",
          "Movie/2024/8.0",
          "Book/2024/10.0",
          "Book/2024/9.0",
          "Book/2024/8.5",
          "Game/2022/8.0",
          "Book/2022/8.5",
          "Game/2023/10.0",
          "Book/2022/8.0",
          "Game/2024/9.0",
          "Game/2024/8.5",
          "Game/2025/7.5",
          "Game/2023/10.0",
          "Book/2022/7.5",
          "Book/2023/10.0",
          "Book/2023/7.0",
          "Book/2022/9.0",
          "Book/2024/7.5",
          "Book/2021/9.5",
          "Book/2023/9.0",
          "Book/2022/9.0",
          "Book/2021/8.5",
          "Book/2024/7.0",
          "Concert/2024/10.0",
          "Book/2025/8.0",
          "Book/2025/8.0",
          "Conference/2024/8.0",
          "Book/2023/7.5",
          "Book/2023/8.5",
          "Game/2021/8.0",
          "Book/2023/8.0",
          "Book/2023/8.5",
          "Book/2025/7.5",
          "Book/2025/9.0",
          "Book/2022/9.0",
          "Book/2025/7.5",
          "Book/2021/9.0",
          "Book/2021/9.0",
          "Game/2023/9.5",
          "Conference/2023/8.5",
          "Game/2021/8.0",
          "Museum/2024/8.5",
          "Book/2024/8.0",
          "Concert/2025/8.5",
          "Game/2023/7.5",
          "Book/2021/7.0",
          "Book/2021/9.0",
          "Book/2023/8.5",
          "Game/2024/9.5",
          "Book/2022/8.5",
          "Game/2021/8.5",
          "Book/2021/9.0",
          "Book/2021/9.5",
          "Book/2024/9.0",
          "Movie/2023/9.0",
          "Game/2021/7.0",
          "Game/2022/8.5",
          "Game/2025/9.0",
          "Game/2024/9.0",
          "Book/2024/8.5",
          "Museum/2024/9.0",
          "Museum/2025",
          "Book/2021",
          "Book/2024",
          "Book/2025",
          "Conference/2023",
          "Movie/2023",
          "Book/2024",
          "Book/2021",
          "Game/2021",
          "Game/2022",
          "Book/2023",
          "Game/2023",
          "Movie/2023",
          "Museum/2023",
          "Series/2023",
          "Book/2024",
          "Game/2024",
          "Movie/2024",
          "Book/2025",
          "Concert/2025",
          "Game/2025",
          "Series/2025",
          "Book/2021",
          "Game/2021",
          "Book/2022",
          "Concert/2022",
          "Book/2023",
          "Concert/2023",
          "Game/2023",
          "Museum/2023",
          "Series/2023",
          "Book/2024",
          "Concert/2024",
          "Book/2025",
          "Game/2025",
          "Movie/2025",
          "Book/2021",
          "Game/2021",
          "Book/2022",
          "Cabaret/2022",
          "Concert/2022",
          "Game/2022",
          "Movie/2022",
          "Museum/2022",
          "Book/2023",
          "Concert/2023",
          "Conference/2023",
          "Game/2023",
          "Movie/2023",
          "Museum/2023",
          "Book/2024",
          "Concert/2024",
          "Conference/2024",
          "Game/2024",
          "Movie/2024",
          "Museum/2024",
          "Book/2025",
          "Concert/2025",
          "Conference/2025",
          "Game/2025",
          "Book/2021",
          "Game/2021",
          "Book/2022",
          "Concert/2022",
          "Game/2022",
          "Book/2023",
          "Concert/2023",
          "Conference/2023",
          "Game/2023",
          "Movie/2023",
          "Series/2023",
          "Book/2024",
          "Concert/2024",
          "Game/2024",
          "Movie/2024",
          "Museum/2024",
          "Series/2024",
          "Concert/2025",
          "Movie/2025",
          "Museum/2025",
          "Book/2021",
          "Game/2021",
          "Book/2022",
          "Concert/2022",
          "Game/2022",
          "Museum/2022",
          "Book/2023",
          "Concert/2023",
          "Game/2023",
          "Movie/2023",
          "Theater/2023",
          "Book/2024",
          "Concert/2024",
          "Game/2024",
          "Movie/2024",
          "Museum/2024",
          "Book/2025",
          "Concert/2025",
          "Game/2025",
          "Book/2021",
          "Game/2021",
          "Book/2022",
          "Game/2022",
          "Book/2023",
          "Concert/2023",
          "Game/2023",
          "Book/2024",
          "Game/2024",
          "Series/2024",
          "Book/2025",
          "Game/2025",
          "Book/2021",
          "Game/2021",
          "Game/2022",
          "Theater/2022",
          "Book/2023",
          "Game/2023",
          "Book/2024",
          "Concert/2024",
          "Game/2024",
          "Book/2025",
          "Concert/2025",
          "Game/2025",
          "Book",
          "Game",
          "Book",
          "Cabaret",
          "Concert",
          "Game",
          "Movie",
          "Museum",
          "Theater",
          "Book",
          "Concert",
          "Conference",
          "Game",
          "Movie",
          "Museum",
          "Series",
          "Theater",
          "Book",
          "Concert",
          "Conference",
          "Game",
          "Movie",
          "Museum",
          "Series",
          "Book",
          "Concert",
          "Conference",
          "Game",
          "Movie",
          "Museum",
          "Series",
          "",
          "",
          "",
          "",
          "",
          "",
          "",
          "",
          ""
         ],
         "sort": false,
         "type": "sunburst",
         "values": [
          1,
          1,
          1,
          1,
          1,
          1,
          1,
          1,
          1,
          1,
          1,
          1,
          1,
          1,
          1,
          1,
          1,
          1,
          1,
          1,
          1,
          1,
          1,
          1,
          1,
          1,
          1,
          1,
          1,
          1,
          1,
          1,
          1,
          1,
          1,
          1,
          1,
          1,
          1,
          1,
          1,
          1,
          1,
          1,
          1,
          1,
          1,
          1,
          1,
          1,
          1,
          1,
          1,
          1,
          1,
          1,
          1,
          1,
          1,
          1,
          1,
          1,
          1,
          1,
          1,
          1,
          1,
          1,
          1,
          1,
          1,
          1,
          1,
          1,
          1,
          1,
          1,
          1,
          1,
          1,
          1,
          1,
          1,
          1,
          1,
          1,
          1,
          1,
          1,
          1,
          1,
          1,
          1,
          1,
          1,
          1,
          1,
          1,
          1,
          1,
          1,
          1,
          1,
          1,
          1,
          1,
          1,
          1,
          1,
          1,
          1,
          1,
          1,
          1,
          1,
          1,
          1,
          1,
          1,
          1,
          1,
          1,
          1,
          1,
          1,
          1,
          1,
          1,
          1,
          1,
          1,
          1,
          1,
          1,
          1,
          1,
          1,
          1,
          1,
          1,
          1,
          1,
          1,
          1,
          1,
          1,
          1,
          1,
          1,
          1,
          1,
          1,
          1,
          1,
          1,
          1,
          1,
          1,
          1,
          1,
          1,
          1,
          1,
          1,
          1,
          1,
          1,
          1,
          1,
          1,
          1,
          1,
          1,
          1,
          1,
          1,
          1,
          1,
          1,
          1,
          1,
          1,
          1,
          1,
          1,
          1,
          1,
          1,
          1,
          1,
          1,
          1,
          1,
          1,
          1,
          1,
          1,
          1,
          1,
          1,
          1,
          1,
          1,
          1,
          1,
          1,
          1,
          1,
          1,
          1,
          1,
          1,
          1,
          1,
          1,
          1,
          1,
          1,
          1,
          1,
          1,
          1,
          1,
          1,
          1,
          1,
          1,
          1,
          1,
          1,
          1,
          1,
          1,
          1,
          1,
          1,
          1,
          1,
          1,
          1,
          1,
          1,
          1,
          1,
          1,
          1,
          1,
          1,
          1,
          1,
          1,
          1,
          1,
          1,
          1,
          1,
          1,
          1,
          1,
          1,
          1,
          1,
          1,
          1,
          1,
          1,
          1,
          1,
          1,
          1,
          1,
          1,
          1,
          1,
          1,
          1,
          1,
          1,
          1,
          1,
          1,
          1,
          1,
          1,
          1,
          1,
          1,
          1,
          1,
          1,
          1,
          1,
          1,
          1,
          1,
          1,
          1,
          1,
          1,
          1,
          1,
          1,
          1,
          1,
          1,
          1,
          1,
          1,
          1,
          1,
          1,
          1,
          1,
          1,
          1,
          1,
          1,
          1,
          1,
          1,
          1,
          1,
          1,
          1,
          1,
          1,
          1,
          1,
          3,
          1,
          1,
          2,
          1,
          1,
          1,
          1,
          2,
          1,
          1,
          2,
          1,
          2,
          1,
          5,
          2,
          4,
          1,
          3,
          4,
          4,
          4,
          1,
          2,
          1,
          3,
          1,
          2,
          6,
          8,
          9,
          1,
          1,
          2,
          1,
          1,
          5,
          4,
          1,
          8,
          1,
          1,
          6,
          1,
          1,
          3,
          2,
          3,
          2,
          2,
          1,
          3,
          6,
          9,
          3,
          2,
          2,
          7,
          2,
          1,
          4,
          2,
          1,
          3,
          2,
          7,
          1,
          1,
          1,
          1,
          1,
          1,
          8,
          8,
          7,
          1,
          6,
          3,
          4,
          1,
          5,
          1,
          1,
          7,
          3,
          11,
          1,
          1,
          6,
          1,
          5,
          3,
          2,
          2,
          4,
          1,
          1,
          4,
          1,
          1,
          1,
          1,
          1,
          2,
          2,
          2,
          1,
          3,
          4,
          1,
          3,
          2,
          1,
          1,
          2,
          34,
          32,
          25,
          1,
          5,
          17,
          1,
          4,
          1,
          25,
          12,
          3,
          30,
          6,
          6,
          3,
          1,
          24,
          10,
          1,
          25,
          5,
          5,
          2,
          16,
          6,
          1,
          14,
          3,
          2,
          1,
          124,
          1,
          33,
          5,
          118,
          15,
          17,
          6,
          2
         ]
        }
       ],
       "layout": {
        "legend": {
         "tracegroupgap": 0
        },
        "margin": {
         "b": 5,
         "l": 5,
         "r": 5,
         "t": 5
        },
        "showlegend": false,
        "template": {
         "data": {
          "bar": [
           {
            "error_x": {
             "color": "#2a3f5f"
            },
            "error_y": {
             "color": "#2a3f5f"
            },
            "marker": {
             "line": {
              "color": "#E5ECF6",
              "width": 0.5
             },
             "pattern": {
              "fillmode": "overlay",
              "size": 10,
              "solidity": 0.2
             }
            },
            "type": "bar"
           }
          ],
          "barpolar": [
           {
            "marker": {
             "line": {
              "color": "#E5ECF6",
              "width": 0.5
             },
             "pattern": {
              "fillmode": "overlay",
              "size": 10,
              "solidity": 0.2
             }
            },
            "type": "barpolar"
           }
          ],
          "carpet": [
           {
            "aaxis": {
             "endlinecolor": "#2a3f5f",
             "gridcolor": "white",
             "linecolor": "white",
             "minorgridcolor": "white",
             "startlinecolor": "#2a3f5f"
            },
            "baxis": {
             "endlinecolor": "#2a3f5f",
             "gridcolor": "white",
             "linecolor": "white",
             "minorgridcolor": "white",
             "startlinecolor": "#2a3f5f"
            },
            "type": "carpet"
           }
          ],
          "choropleth": [
           {
            "colorbar": {
             "outlinewidth": 0,
             "ticks": ""
            },
            "type": "choropleth"
           }
          ],
          "contour": [
           {
            "colorbar": {
             "outlinewidth": 0,
             "ticks": ""
            },
            "colorscale": [
             [
              0,
              "#0d0887"
             ],
             [
              0.1111111111111111,
              "#46039f"
             ],
             [
              0.2222222222222222,
              "#7201a8"
             ],
             [
              0.3333333333333333,
              "#9c179e"
             ],
             [
              0.4444444444444444,
              "#bd3786"
             ],
             [
              0.5555555555555556,
              "#d8576b"
             ],
             [
              0.6666666666666666,
              "#ed7953"
             ],
             [
              0.7777777777777778,
              "#fb9f3a"
             ],
             [
              0.8888888888888888,
              "#fdca26"
             ],
             [
              1,
              "#f0f921"
             ]
            ],
            "type": "contour"
           }
          ],
          "contourcarpet": [
           {
            "colorbar": {
             "outlinewidth": 0,
             "ticks": ""
            },
            "type": "contourcarpet"
           }
          ],
          "heatmap": [
           {
            "colorbar": {
             "outlinewidth": 0,
             "ticks": ""
            },
            "colorscale": [
             [
              0,
              "#0d0887"
             ],
             [
              0.1111111111111111,
              "#46039f"
             ],
             [
              0.2222222222222222,
              "#7201a8"
             ],
             [
              0.3333333333333333,
              "#9c179e"
             ],
             [
              0.4444444444444444,
              "#bd3786"
             ],
             [
              0.5555555555555556,
              "#d8576b"
             ],
             [
              0.6666666666666666,
              "#ed7953"
             ],
             [
              0.7777777777777778,
              "#fb9f3a"
             ],
             [
              0.8888888888888888,
              "#fdca26"
             ],
             [
              1,
              "#f0f921"
             ]
            ],
            "type": "heatmap"
           }
          ],
          "heatmapgl": [
           {
            "colorbar": {
             "outlinewidth": 0,
             "ticks": ""
            },
            "colorscale": [
             [
              0,
              "#0d0887"
             ],
             [
              0.1111111111111111,
              "#46039f"
             ],
             [
              0.2222222222222222,
              "#7201a8"
             ],
             [
              0.3333333333333333,
              "#9c179e"
             ],
             [
              0.4444444444444444,
              "#bd3786"
             ],
             [
              0.5555555555555556,
              "#d8576b"
             ],
             [
              0.6666666666666666,
              "#ed7953"
             ],
             [
              0.7777777777777778,
              "#fb9f3a"
             ],
             [
              0.8888888888888888,
              "#fdca26"
             ],
             [
              1,
              "#f0f921"
             ]
            ],
            "type": "heatmapgl"
           }
          ],
          "histogram": [
           {
            "marker": {
             "pattern": {
              "fillmode": "overlay",
              "size": 10,
              "solidity": 0.2
             }
            },
            "type": "histogram"
           }
          ],
          "histogram2d": [
           {
            "colorbar": {
             "outlinewidth": 0,
             "ticks": ""
            },
            "colorscale": [
             [
              0,
              "#0d0887"
             ],
             [
              0.1111111111111111,
              "#46039f"
             ],
             [
              0.2222222222222222,
              "#7201a8"
             ],
             [
              0.3333333333333333,
              "#9c179e"
             ],
             [
              0.4444444444444444,
              "#bd3786"
             ],
             [
              0.5555555555555556,
              "#d8576b"
             ],
             [
              0.6666666666666666,
              "#ed7953"
             ],
             [
              0.7777777777777778,
              "#fb9f3a"
             ],
             [
              0.8888888888888888,
              "#fdca26"
             ],
             [
              1,
              "#f0f921"
             ]
            ],
            "type": "histogram2d"
           }
          ],
          "histogram2dcontour": [
           {
            "colorbar": {
             "outlinewidth": 0,
             "ticks": ""
            },
            "colorscale": [
             [
              0,
              "#0d0887"
             ],
             [
              0.1111111111111111,
              "#46039f"
             ],
             [
              0.2222222222222222,
              "#7201a8"
             ],
             [
              0.3333333333333333,
              "#9c179e"
             ],
             [
              0.4444444444444444,
              "#bd3786"
             ],
             [
              0.5555555555555556,
              "#d8576b"
             ],
             [
              0.6666666666666666,
              "#ed7953"
             ],
             [
              0.7777777777777778,
              "#fb9f3a"
             ],
             [
              0.8888888888888888,
              "#fdca26"
             ],
             [
              1,
              "#f0f921"
             ]
            ],
            "type": "histogram2dcontour"
           }
          ],
          "mesh3d": [
           {
            "colorbar": {
             "outlinewidth": 0,
             "ticks": ""
            },
            "type": "mesh3d"
           }
          ],
          "parcoords": [
           {
            "line": {
             "colorbar": {
              "outlinewidth": 0,
              "ticks": ""
             }
            },
            "type": "parcoords"
           }
          ],
          "pie": [
           {
            "automargin": true,
            "type": "pie"
           }
          ],
          "scatter": [
           {
            "fillpattern": {
             "fillmode": "overlay",
             "size": 10,
             "solidity": 0.2
            },
            "type": "scatter"
           }
          ],
          "scatter3d": [
           {
            "line": {
             "colorbar": {
              "outlinewidth": 0,
              "ticks": ""
             }
            },
            "marker": {
             "colorbar": {
              "outlinewidth": 0,
              "ticks": ""
             }
            },
            "type": "scatter3d"
           }
          ],
          "scattercarpet": [
           {
            "marker": {
             "colorbar": {
              "outlinewidth": 0,
              "ticks": ""
             }
            },
            "type": "scattercarpet"
           }
          ],
          "scattergeo": [
           {
            "marker": {
             "colorbar": {
              "outlinewidth": 0,
              "ticks": ""
             }
            },
            "type": "scattergeo"
           }
          ],
          "scattergl": [
           {
            "marker": {
             "colorbar": {
              "outlinewidth": 0,
              "ticks": ""
             }
            },
            "type": "scattergl"
           }
          ],
          "scattermapbox": [
           {
            "marker": {
             "colorbar": {
              "outlinewidth": 0,
              "ticks": ""
             }
            },
            "type": "scattermapbox"
           }
          ],
          "scatterpolar": [
           {
            "marker": {
             "colorbar": {
              "outlinewidth": 0,
              "ticks": ""
             }
            },
            "type": "scatterpolar"
           }
          ],
          "scatterpolargl": [
           {
            "marker": {
             "colorbar": {
              "outlinewidth": 0,
              "ticks": ""
             }
            },
            "type": "scatterpolargl"
           }
          ],
          "scatterternary": [
           {
            "marker": {
             "colorbar": {
              "outlinewidth": 0,
              "ticks": ""
             }
            },
            "type": "scatterternary"
           }
          ],
          "surface": [
           {
            "colorbar": {
             "outlinewidth": 0,
             "ticks": ""
            },
            "colorscale": [
             [
              0,
              "#0d0887"
             ],
             [
              0.1111111111111111,
              "#46039f"
             ],
             [
              0.2222222222222222,
              "#7201a8"
             ],
             [
              0.3333333333333333,
              "#9c179e"
             ],
             [
              0.4444444444444444,
              "#bd3786"
             ],
             [
              0.5555555555555556,
              "#d8576b"
             ],
             [
              0.6666666666666666,
              "#ed7953"
             ],
             [
              0.7777777777777778,
              "#fb9f3a"
             ],
             [
              0.8888888888888888,
              "#fdca26"
             ],
             [
              1,
              "#f0f921"
             ]
            ],
            "type": "surface"
           }
          ],
          "table": [
           {
            "cells": {
             "fill": {
              "color": "#EBF0F8"
             },
             "line": {
              "color": "white"
             }
            },
            "header": {
             "fill": {
              "color": "#C8D4E3"
             },
             "line": {
              "color": "white"
             }
            },
            "type": "table"
           }
          ]
         },
         "layout": {
          "annotationdefaults": {
           "arrowcolor": "#2a3f5f",
           "arrowhead": 0,
           "arrowwidth": 1
          },
          "autotypenumbers": "strict",
          "coloraxis": {
           "colorbar": {
            "outlinewidth": 0,
            "ticks": ""
           }
          },
          "colorscale": {
           "diverging": [
            [
             0,
             "#8e0152"
            ],
            [
             0.1,
             "#c51b7d"
            ],
            [
             0.2,
             "#de77ae"
            ],
            [
             0.3,
             "#f1b6da"
            ],
            [
             0.4,
             "#fde0ef"
            ],
            [
             0.5,
             "#f7f7f7"
            ],
            [
             0.6,
             "#e6f5d0"
            ],
            [
             0.7,
             "#b8e186"
            ],
            [
             0.8,
             "#7fbc41"
            ],
            [
             0.9,
             "#4d9221"
            ],
            [
             1,
             "#276419"
            ]
           ],
           "sequential": [
            [
             0,
             "#0d0887"
            ],
            [
             0.1111111111111111,
             "#46039f"
            ],
            [
             0.2222222222222222,
             "#7201a8"
            ],
            [
             0.3333333333333333,
             "#9c179e"
            ],
            [
             0.4444444444444444,
             "#bd3786"
            ],
            [
             0.5555555555555556,
             "#d8576b"
            ],
            [
             0.6666666666666666,
             "#ed7953"
            ],
            [
             0.7777777777777778,
             "#fb9f3a"
            ],
            [
             0.8888888888888888,
             "#fdca26"
            ],
            [
             1,
             "#f0f921"
            ]
           ],
           "sequentialminus": [
            [
             0,
             "#0d0887"
            ],
            [
             0.1111111111111111,
             "#46039f"
            ],
            [
             0.2222222222222222,
             "#7201a8"
            ],
            [
             0.3333333333333333,
             "#9c179e"
            ],
            [
             0.4444444444444444,
             "#bd3786"
            ],
            [
             0.5555555555555556,
             "#d8576b"
            ],
            [
             0.6666666666666666,
             "#ed7953"
            ],
            [
             0.7777777777777778,
             "#fb9f3a"
            ],
            [
             0.8888888888888888,
             "#fdca26"
            ],
            [
             1,
             "#f0f921"
            ]
           ]
          },
          "colorway": [
           "#636efa",
           "#EF553B",
           "#00cc96",
           "#ab63fa",
           "#FFA15A",
           "#19d3f3",
           "#FF6692",
           "#B6E880",
           "#FF97FF",
           "#FECB52"
          ],
          "font": {
           "color": "#2a3f5f"
          },
          "geo": {
           "bgcolor": "white",
           "lakecolor": "white",
           "landcolor": "#E5ECF6",
           "showlakes": true,
           "showland": true,
           "subunitcolor": "white"
          },
          "hoverlabel": {
           "align": "left"
          },
          "hovermode": "closest",
          "mapbox": {
           "style": "light"
          },
          "paper_bgcolor": "white",
          "plot_bgcolor": "#E5ECF6",
          "polar": {
           "angularaxis": {
            "gridcolor": "white",
            "linecolor": "white",
            "ticks": ""
           },
           "bgcolor": "#E5ECF6",
           "radialaxis": {
            "gridcolor": "white",
            "linecolor": "white",
            "ticks": ""
           }
          },
          "scene": {
           "xaxis": {
            "backgroundcolor": "#E5ECF6",
            "gridcolor": "white",
            "gridwidth": 2,
            "linecolor": "white",
            "showbackground": true,
            "ticks": "",
            "zerolinecolor": "white"
           },
           "yaxis": {
            "backgroundcolor": "#E5ECF6",
            "gridcolor": "white",
            "gridwidth": 2,
            "linecolor": "white",
            "showbackground": true,
            "ticks": "",
            "zerolinecolor": "white"
           },
           "zaxis": {
            "backgroundcolor": "#E5ECF6",
            "gridcolor": "white",
            "gridwidth": 2,
            "linecolor": "white",
            "showbackground": true,
            "ticks": "",
            "zerolinecolor": "white"
           }
          },
          "shapedefaults": {
           "line": {
            "color": "#2a3f5f"
           }
          },
          "ternary": {
           "aaxis": {
            "gridcolor": "white",
            "linecolor": "white",
            "ticks": ""
           },
           "baxis": {
            "gridcolor": "white",
            "linecolor": "white",
            "ticks": ""
           },
           "bgcolor": "#E5ECF6",
           "caxis": {
            "gridcolor": "white",
            "linecolor": "white",
            "ticks": ""
           }
          },
          "title": {
           "x": 0.05
          },
          "xaxis": {
           "automargin": true,
           "gridcolor": "white",
           "linecolor": "white",
           "ticks": "",
           "title": {
            "standoff": 15
           },
           "zerolinecolor": "white",
           "zerolinewidth": 2
          },
          "yaxis": {
           "automargin": true,
           "gridcolor": "white",
           "linecolor": "white",
           "ticks": "",
           "title": {
            "standoff": 15
           },
           "zerolinecolor": "white",
           "zerolinewidth": 2
          }
         }
        }
       }
      }
     },
     "metadata": {},
     "output_type": "display_data"
    }
   ],
   "source": [
    "import plotly.express as px\n",
    "def widthsplitter(s, width):\n",
    "    s_split = s.split(' ')\n",
    "    output = []\n",
    "    current = \"\"\n",
    "    for item in s_split:\n",
    "        current += item + ' '\n",
    "        if len(current) > width:\n",
    "            output.append(current)\n",
    "            current = \"\"\n",
    "    if current != \"\":\n",
    "        output.append(current)\n",
    "    return output\n",
    "\n",
    "def rounder(score):\n",
    "    return float(round(score*2))/2\n",
    "\n",
    "def customwrap(s, width=10):\n",
    "    return \"<br>\".join(widthsplitter(s, width))\n",
    "\n",
    "df4 = df.copy()\n",
    "df4[['year','month']] = df4['date'].str.split('-',expand=True)\n",
    "df4['scoreactual'] = df4['score'].apply(lambda x: rounder(x))\n",
    "df4['displayname'] = [\n",
    "    customwrap(f\"{name} by {creator}\") if not pd.isna(creator) else customwrap(f\"{name}\")\n",
    "    for name, creator in zip(df4['name'], df4['creator'])\n",
    "    ]\n",
    "fig = px.sunburst(\n",
    "    df4, path=['type', 'year', 'scoreactual', 'displayname'], maxdepth=2,\n",
    ")\n",
    "fig.update_layout(margin={'t':5,'l':5,'b':5,'r':5}, showlegend=False)\n",
    "fig.update_traces(sort=False, hovertemplate='<b>Amount: %{value} </b><br>%{label}')\n",
    "fig.show()"
   ]
  },
  {
   "cell_type": "markdown",
   "metadata": {},
   "source": [
    "<p style=\"text-align: center;\">↑ Click me!</p>"
   ]
  },
  {
   "cell_type": "markdown",
   "metadata": {},
   "source": [
    "## How much?"
   ]
  },
  {
   "cell_type": "code",
   "execution_count": 35,
   "metadata": {
    "tags": [
     "remove-input"
    ]
   },
   "outputs": [
    {
     "data": {
      "application/vnd.plotly.v1+json": {
       "config": {
        "plotlyServerURL": "https://plot.ly"
       },
       "data": [
        {
         "connectgaps": false,
         "customdata": [
          [
           "2021",
           "All"
          ],
          [
           "2021",
           "All"
          ],
          [
           "2021",
           "All"
          ],
          [
           "2021",
           "All"
          ],
          [
           "2021",
           "All"
          ],
          [
           "2021",
           "All"
          ],
          [
           "2021",
           "All"
          ],
          [
           "2021",
           "All"
          ],
          [
           "2021",
           "All"
          ],
          [
           "2021",
           "All"
          ],
          [
           "2021",
           "All"
          ],
          [
           "2021",
           "All"
          ]
         ],
         "hovertemplate": "%{customdata[0]}",
         "legendgroup": "2021",
         "line": {
          "color": "#EF553B",
          "dash": "solid"
         },
         "marker": {
          "symbol": "circle"
         },
         "mode": "lines",
         "name": "2021",
         "opacity": 0.4,
         "orientation": "v",
         "showlegend": true,
         "type": "scatter",
         "x": [
          "01",
          "02",
          "03",
          "04",
          "05",
          "06",
          "07",
          "08",
          "09",
          "10",
          "11",
          "12"
         ],
         "xaxis": "x",
         "y": [
          3,
          7,
          7,
          4,
          5,
          5,
          9,
          8,
          5,
          3,
          5,
          5
         ],
         "yaxis": "y"
        },
        {
         "connectgaps": false,
         "customdata": [
          [
           "2022",
           "All"
          ],
          [
           "2022",
           "All"
          ],
          [
           "2022",
           "All"
          ],
          [
           "2022",
           "All"
          ],
          [
           "2022",
           "All"
          ],
          [
           "2022",
           "All"
          ],
          [
           "2022",
           "All"
          ],
          [
           "2022",
           "All"
          ],
          [
           "2022",
           "All"
          ],
          [
           "2022",
           "All"
          ],
          [
           "2022",
           "All"
          ],
          [
           "2022",
           "All"
          ]
         ],
         "hovertemplate": "%{customdata[0]}",
         "legendgroup": "2022",
         "line": {
          "color": "#00cc96",
          "dash": "solid"
         },
         "marker": {
          "symbol": "circle"
         },
         "mode": "lines",
         "name": "2022",
         "opacity": 0.4,
         "orientation": "v",
         "showlegend": true,
         "type": "scatter",
         "x": [
          "01",
          "02",
          "03",
          "04",
          "05",
          "06",
          "07",
          "08",
          "09",
          "10",
          "11",
          "12"
         ],
         "xaxis": "x",
         "y": [
          7,
          5,
          5,
          5,
          5,
          4,
          2,
          2,
          3,
          2,
          6,
          8
         ],
         "yaxis": "y"
        },
        {
         "connectgaps": false,
         "customdata": [
          [
           "2023",
           "All"
          ],
          [
           "2023",
           "All"
          ],
          [
           "2023",
           "All"
          ],
          [
           "2023",
           "All"
          ],
          [
           "2023",
           "All"
          ],
          [
           "2023",
           "All"
          ],
          [
           "2023",
           "All"
          ],
          [
           "2023",
           "All"
          ],
          [
           "2023",
           "All"
          ],
          [
           "2023",
           "All"
          ],
          [
           "2023",
           "All"
          ],
          [
           "2023",
           "All"
          ]
         ],
         "hovertemplate": "%{customdata[0]}",
         "legendgroup": "2023",
         "line": {
          "color": "#ab63fa",
          "dash": "solid"
         },
         "marker": {
          "symbol": "circle"
         },
         "mode": "lines",
         "name": "2023",
         "opacity": 0.4,
         "orientation": "v",
         "showlegend": true,
         "type": "scatter",
         "x": [
          "01",
          "02",
          "03",
          "04",
          "05",
          "06",
          "07",
          "08",
          "09",
          "10",
          "11",
          "12"
         ],
         "xaxis": "x",
         "y": [
          10,
          9,
          4,
          4,
          2,
          9,
          13,
          4,
          8,
          8,
          7,
          8
         ],
         "yaxis": "y"
        },
        {
         "connectgaps": false,
         "customdata": [
          [
           "2024",
           "All"
          ],
          [
           "2024",
           "All"
          ],
          [
           "2024",
           "All"
          ],
          [
           "2024",
           "All"
          ],
          [
           "2024",
           "All"
          ],
          [
           "2024",
           "All"
          ],
          [
           "2024",
           "All"
          ],
          [
           "2024",
           "All"
          ],
          [
           "2024",
           "All"
          ],
          [
           "2024",
           "All"
          ],
          [
           "2024",
           "All"
          ],
          [
           "2024",
           "All"
          ]
         ],
         "hovertemplate": "%{customdata[0]}",
         "legendgroup": "2024",
         "line": {
          "color": "#FFA15A",
          "dash": "solid"
         },
         "marker": {
          "symbol": "circle"
         },
         "mode": "lines",
         "name": "2024",
         "opacity": 0.4,
         "orientation": "v",
         "showlegend": true,
         "type": "scatter",
         "x": [
          "01",
          "02",
          "03",
          "04",
          "05",
          "06",
          "07",
          "08",
          "09",
          "10",
          "11",
          "12"
         ],
         "xaxis": "x",
         "y": [
          5,
          6,
          7,
          4,
          7,
          7,
          11,
          6,
          4,
          2,
          5,
          8
         ],
         "yaxis": "y"
        },
        {
         "connectgaps": false,
         "customdata": [
          [
           "2025",
           "All"
          ],
          [
           "2025",
           "All"
          ],
          [
           "2025",
           "All"
          ],
          [
           "2025",
           "All"
          ],
          [
           "2025",
           "All"
          ],
          [
           "2025",
           "All"
          ],
          [
           "2025",
           "All"
          ],
          [
           "2025",
           "All"
          ],
          [
           "2025",
           "All"
          ],
          [
           "2025",
           "All"
          ],
          [
           "2025",
           "All"
          ],
          [
           "2025",
           "All"
          ]
         ],
         "hovertemplate": "%{customdata[0]}",
         "legendgroup": "2025",
         "line": {
          "color": "#19d3f3",
          "dash": "solid"
         },
         "marker": {
          "symbol": "circle"
         },
         "mode": "lines",
         "name": "2025",
         "opacity": 0.4,
         "orientation": "v",
         "showlegend": true,
         "type": "scatter",
         "x": [
          "01",
          "02",
          "03",
          "04",
          "05",
          "06",
          "07",
          "08",
          "09",
          "10",
          "11",
          "12"
         ],
         "xaxis": "x",
         "y": [
          5,
          7,
          7,
          5,
          7,
          3,
          9,
          0,
          0,
          0,
          0,
          0
         ],
         "yaxis": "y"
        },
        {
         "connectgaps": false,
         "customdata": [
          [
           "Mean",
           "All"
          ],
          [
           "Mean",
           "All"
          ],
          [
           "Mean",
           "All"
          ],
          [
           "Mean",
           "All"
          ],
          [
           "Mean",
           "All"
          ],
          [
           "Mean",
           "All"
          ],
          [
           "Mean",
           "All"
          ],
          [
           "Mean",
           "All"
          ],
          [
           "Mean",
           "All"
          ],
          [
           "Mean",
           "All"
          ],
          [
           "Mean",
           "All"
          ],
          [
           "Mean",
           "All"
          ]
         ],
         "hovertemplate": "%{customdata[0]}",
         "legendgroup": "Mean",
         "line": {
          "color": "black",
          "dash": "solid"
         },
         "marker": {
          "symbol": "circle"
         },
         "mode": "lines",
         "name": "Mean",
         "opacity": 1,
         "orientation": "v",
         "showlegend": true,
         "type": "scatter",
         "x": [
          "01",
          "02",
          "03",
          "04",
          "05",
          "06",
          "07",
          "08",
          "09",
          "10",
          "11",
          "12"
         ],
         "xaxis": "x",
         "y": [
          6.25,
          6.75,
          5.75,
          4.25,
          4.75,
          6.25,
          8.75,
          5,
          5,
          3.75,
          5.75,
          7.25
         ],
         "yaxis": "y"
        }
       ],
       "frames": [
        {
         "data": [
          {
           "customdata": [
            [
             "2021",
             "All"
            ],
            [
             "2021",
             "All"
            ],
            [
             "2021",
             "All"
            ],
            [
             "2021",
             "All"
            ],
            [
             "2021",
             "All"
            ],
            [
             "2021",
             "All"
            ],
            [
             "2021",
             "All"
            ],
            [
             "2021",
             "All"
            ],
            [
             "2021",
             "All"
            ],
            [
             "2021",
             "All"
            ],
            [
             "2021",
             "All"
            ],
            [
             "2021",
             "All"
            ]
           ],
           "hovertemplate": "Year=2021<extra></extra>",
           "legendgroup": "2021",
           "line": {
            "color": "#EF553B",
            "dash": "solid"
           },
           "marker": {
            "symbol": "circle"
           },
           "mode": "lines",
           "name": "2021",
           "orientation": "v",
           "showlegend": true,
           "type": "scatter",
           "x": [
            "01",
            "02",
            "03",
            "04",
            "05",
            "06",
            "07",
            "08",
            "09",
            "10",
            "11",
            "12"
           ],
           "xaxis": "x",
           "y": [
            3,
            7,
            7,
            4,
            5,
            5,
            9,
            8,
            5,
            3,
            5,
            5
           ],
           "yaxis": "y"
          },
          {
           "customdata": [
            [
             "2022",
             "All"
            ],
            [
             "2022",
             "All"
            ],
            [
             "2022",
             "All"
            ],
            [
             "2022",
             "All"
            ],
            [
             "2022",
             "All"
            ],
            [
             "2022",
             "All"
            ],
            [
             "2022",
             "All"
            ],
            [
             "2022",
             "All"
            ],
            [
             "2022",
             "All"
            ],
            [
             "2022",
             "All"
            ],
            [
             "2022",
             "All"
            ],
            [
             "2022",
             "All"
            ]
           ],
           "hovertemplate": "Year=2022<extra></extra>",
           "legendgroup": "2022",
           "line": {
            "color": "#00cc96",
            "dash": "solid"
           },
           "marker": {
            "symbol": "circle"
           },
           "mode": "lines",
           "name": "2022",
           "orientation": "v",
           "showlegend": true,
           "type": "scatter",
           "x": [
            "01",
            "02",
            "03",
            "04",
            "05",
            "06",
            "07",
            "08",
            "09",
            "10",
            "11",
            "12"
           ],
           "xaxis": "x",
           "y": [
            7,
            5,
            5,
            5,
            5,
            4,
            2,
            2,
            3,
            2,
            6,
            8
           ],
           "yaxis": "y"
          },
          {
           "customdata": [
            [
             "2023",
             "All"
            ],
            [
             "2023",
             "All"
            ],
            [
             "2023",
             "All"
            ],
            [
             "2023",
             "All"
            ],
            [
             "2023",
             "All"
            ],
            [
             "2023",
             "All"
            ],
            [
             "2023",
             "All"
            ],
            [
             "2023",
             "All"
            ],
            [
             "2023",
             "All"
            ],
            [
             "2023",
             "All"
            ],
            [
             "2023",
             "All"
            ],
            [
             "2023",
             "All"
            ]
           ],
           "hovertemplate": "Year=2023<extra></extra>",
           "legendgroup": "2023",
           "line": {
            "color": "#ab63fa",
            "dash": "solid"
           },
           "marker": {
            "symbol": "circle"
           },
           "mode": "lines",
           "name": "2023",
           "orientation": "v",
           "showlegend": true,
           "type": "scatter",
           "x": [
            "01",
            "02",
            "03",
            "04",
            "05",
            "06",
            "07",
            "08",
            "09",
            "10",
            "11",
            "12"
           ],
           "xaxis": "x",
           "y": [
            10,
            9,
            4,
            4,
            2,
            9,
            13,
            4,
            8,
            8,
            7,
            8
           ],
           "yaxis": "y"
          },
          {
           "customdata": [
            [
             "2024",
             "All"
            ],
            [
             "2024",
             "All"
            ],
            [
             "2024",
             "All"
            ],
            [
             "2024",
             "All"
            ],
            [
             "2024",
             "All"
            ],
            [
             "2024",
             "All"
            ],
            [
             "2024",
             "All"
            ],
            [
             "2024",
             "All"
            ],
            [
             "2024",
             "All"
            ],
            [
             "2024",
             "All"
            ],
            [
             "2024",
             "All"
            ],
            [
             "2024",
             "All"
            ]
           ],
           "hovertemplate": "Year=2024<extra></extra>",
           "legendgroup": "2024",
           "line": {
            "color": "#FFA15A",
            "dash": "solid"
           },
           "marker": {
            "symbol": "circle"
           },
           "mode": "lines",
           "name": "2024",
           "orientation": "v",
           "showlegend": true,
           "type": "scatter",
           "x": [
            "01",
            "02",
            "03",
            "04",
            "05",
            "06",
            "07",
            "08",
            "09",
            "10",
            "11",
            "12"
           ],
           "xaxis": "x",
           "y": [
            5,
            6,
            7,
            4,
            7,
            7,
            11,
            6,
            4,
            2,
            5,
            8
           ],
           "yaxis": "y"
          },
          {
           "customdata": [
            [
             "2025",
             "All"
            ],
            [
             "2025",
             "All"
            ],
            [
             "2025",
             "All"
            ],
            [
             "2025",
             "All"
            ],
            [
             "2025",
             "All"
            ],
            [
             "2025",
             "All"
            ],
            [
             "2025",
             "All"
            ],
            [
             "2025",
             "All"
            ],
            [
             "2025",
             "All"
            ],
            [
             "2025",
             "All"
            ],
            [
             "2025",
             "All"
            ],
            [
             "2025",
             "All"
            ]
           ],
           "hovertemplate": "Year=2025<extra></extra>",
           "legendgroup": "2025",
           "line": {
            "color": "#19d3f3",
            "dash": "solid"
           },
           "marker": {
            "symbol": "circle"
           },
           "mode": "lines",
           "name": "2025",
           "orientation": "v",
           "showlegend": true,
           "type": "scatter",
           "x": [
            "01",
            "02",
            "03",
            "04",
            "05",
            "06",
            "07",
            "08",
            "09",
            "10",
            "11",
            "12"
           ],
           "xaxis": "x",
           "y": [
            5,
            7,
            7,
            5,
            7,
            3,
            9,
            0,
            0,
            0,
            0,
            0
           ],
           "yaxis": "y"
          },
          {
           "customdata": [
            [
             "Mean",
             "All"
            ],
            [
             "Mean",
             "All"
            ],
            [
             "Mean",
             "All"
            ],
            [
             "Mean",
             "All"
            ],
            [
             "Mean",
             "All"
            ],
            [
             "Mean",
             "All"
            ],
            [
             "Mean",
             "All"
            ],
            [
             "Mean",
             "All"
            ],
            [
             "Mean",
             "All"
            ],
            [
             "Mean",
             "All"
            ],
            [
             "Mean",
             "All"
            ],
            [
             "Mean",
             "All"
            ]
           ],
           "hovertemplate": "Year=Mean<extra></extra>",
           "legendgroup": "Mean",
           "line": {
            "color": "black",
            "dash": "solid"
           },
           "marker": {
            "symbol": "circle"
           },
           "mode": "lines",
           "name": "Mean",
           "orientation": "v",
           "showlegend": true,
           "type": "scatter",
           "x": [
            "01",
            "02",
            "03",
            "04",
            "05",
            "06",
            "07",
            "08",
            "09",
            "10",
            "11",
            "12"
           ],
           "xaxis": "x",
           "y": [
            6.25,
            6.75,
            5.75,
            4.25,
            4.75,
            6.25,
            8.75,
            5,
            5,
            3.75,
            5.75,
            7.25
           ],
           "yaxis": "y"
          }
         ],
         "name": "All"
        },
        {
         "data": [
          {
           "customdata": [
            [
             "2021",
             "Book"
            ],
            [
             "2021",
             "Book"
            ],
            [
             "2021",
             "Book"
            ],
            [
             "2021",
             "Book"
            ],
            [
             "2021",
             "Book"
            ],
            [
             "2021",
             "Book"
            ],
            [
             "2021",
             "Book"
            ],
            [
             "2021",
             "Book"
            ],
            [
             "2021",
             "Book"
            ],
            [
             "2021",
             "Book"
            ],
            [
             "2021",
             "Book"
            ],
            [
             "2021",
             "Book"
            ]
           ],
           "hovertemplate": "Year=2021<extra></extra>",
           "legendgroup": "2021",
           "line": {
            "color": "#EF553B",
            "dash": "solid"
           },
           "marker": {
            "symbol": "circle"
           },
           "mode": "lines",
           "name": "2021",
           "orientation": "v",
           "showlegend": true,
           "type": "scatter",
           "x": [
            "01",
            "02",
            "03",
            "04",
            "05",
            "06",
            "07",
            "08",
            "09",
            "10",
            "11",
            "12"
           ],
           "xaxis": "x",
           "y": [
            1,
            4,
            5,
            2,
            2,
            3,
            2,
            3,
            3,
            2,
            3,
            4
           ],
           "yaxis": "y"
          },
          {
           "customdata": [
            [
             "2022",
             "Book"
            ],
            [
             "2022",
             "Book"
            ],
            [
             "2022",
             "Book"
            ],
            [
             "2022",
             "Book"
            ],
            [
             "2022",
             "Book"
            ],
            [
             "2022",
             "Book"
            ],
            [
             "2022",
             "Book"
            ],
            [
             "2022",
             "Book"
            ],
            [
             "2022",
             "Book"
            ],
            [
             "2022",
             "Book"
            ],
            [
             "2022",
             "Book"
            ],
            [
             "2022",
             "Book"
            ]
           ],
           "hovertemplate": "Year=2022<extra></extra>",
           "legendgroup": "2022",
           "line": {
            "color": "#00cc96",
            "dash": "solid"
           },
           "marker": {
            "symbol": "circle"
           },
           "mode": "lines",
           "name": "2022",
           "orientation": "v",
           "showlegend": true,
           "type": "scatter",
           "x": [
            "01",
            "02",
            "03",
            "04",
            "05",
            "06",
            "07",
            "08",
            "09",
            "10",
            "11",
            "12"
           ],
           "xaxis": "x",
           "y": [
            4,
            3,
            3,
            4,
            1,
            1,
            1,
            0,
            2,
            1,
            2,
            3
           ],
           "yaxis": "y"
          },
          {
           "customdata": [
            [
             "2023",
             "Book"
            ],
            [
             "2023",
             "Book"
            ],
            [
             "2023",
             "Book"
            ],
            [
             "2023",
             "Book"
            ],
            [
             "2023",
             "Book"
            ],
            [
             "2023",
             "Book"
            ],
            [
             "2023",
             "Book"
            ],
            [
             "2023",
             "Book"
            ],
            [
             "2023",
             "Book"
            ],
            [
             "2023",
             "Book"
            ],
            [
             "2023",
             "Book"
            ],
            [
             "2023",
             "Book"
            ]
           ],
           "hovertemplate": "Year=2023<extra></extra>",
           "legendgroup": "2023",
           "line": {
            "color": "#ab63fa",
            "dash": "solid"
           },
           "marker": {
            "symbol": "circle"
           },
           "mode": "lines",
           "name": "2023",
           "orientation": "v",
           "showlegend": true,
           "type": "scatter",
           "x": [
            "01",
            "02",
            "03",
            "04",
            "05",
            "06",
            "07",
            "08",
            "09",
            "10",
            "11",
            "12"
           ],
           "xaxis": "x",
           "y": [
            2,
            3,
            0,
            3,
            1,
            2,
            2,
            1,
            2,
            4,
            3,
            2
           ],
           "yaxis": "y"
          },
          {
           "customdata": [
            [
             "2024",
             "Book"
            ],
            [
             "2024",
             "Book"
            ],
            [
             "2024",
             "Book"
            ],
            [
             "2024",
             "Book"
            ],
            [
             "2024",
             "Book"
            ],
            [
             "2024",
             "Book"
            ],
            [
             "2024",
             "Book"
            ],
            [
             "2024",
             "Book"
            ],
            [
             "2024",
             "Book"
            ],
            [
             "2024",
             "Book"
            ],
            [
             "2024",
             "Book"
            ],
            [
             "2024",
             "Book"
            ]
           ],
           "hovertemplate": "Year=2024<extra></extra>",
           "legendgroup": "2024",
           "line": {
            "color": "#FFA15A",
            "dash": "solid"
           },
           "marker": {
            "symbol": "circle"
           },
           "mode": "lines",
           "name": "2024",
           "orientation": "v",
           "showlegend": true,
           "type": "scatter",
           "x": [
            "01",
            "02",
            "03",
            "04",
            "05",
            "06",
            "07",
            "08",
            "09",
            "10",
            "11",
            "12"
           ],
           "xaxis": "x",
           "y": [
            3,
            2,
            4,
            2,
            1,
            3,
            3,
            2,
            2,
            0,
            1,
            1
           ],
           "yaxis": "y"
          },
          {
           "customdata": [
            [
             "2025",
             "Book"
            ],
            [
             "2025",
             "Book"
            ],
            [
             "2025",
             "Book"
            ],
            [
             "2025",
             "Book"
            ],
            [
             "2025",
             "Book"
            ],
            [
             "2025",
             "Book"
            ],
            [
             "2025",
             "Book"
            ],
            [
             "2025",
             "Book"
            ],
            [
             "2025",
             "Book"
            ],
            [
             "2025",
             "Book"
            ],
            [
             "2025",
             "Book"
            ],
            [
             "2025",
             "Book"
            ]
           ],
           "hovertemplate": "Year=2025<extra></extra>",
           "legendgroup": "2025",
           "line": {
            "color": "#19d3f3",
            "dash": "solid"
           },
           "marker": {
            "symbol": "circle"
           },
           "mode": "lines",
           "name": "2025",
           "orientation": "v",
           "showlegend": true,
           "type": "scatter",
           "x": [
            "01",
            "02",
            "03",
            "04",
            "05",
            "06",
            "07",
            "08",
            "09",
            "10",
            "11",
            "12"
           ],
           "xaxis": "x",
           "y": [
            2,
            3,
            2,
            1,
            2,
            2,
            4,
            0,
            0,
            0,
            0,
            0
           ],
           "yaxis": "y"
          },
          {
           "customdata": [
            [
             "Mean",
             "Book"
            ],
            [
             "Mean",
             "Book"
            ],
            [
             "Mean",
             "Book"
            ],
            [
             "Mean",
             "Book"
            ],
            [
             "Mean",
             "Book"
            ],
            [
             "Mean",
             "Book"
            ],
            [
             "Mean",
             "Book"
            ],
            [
             "Mean",
             "Book"
            ],
            [
             "Mean",
             "Book"
            ],
            [
             "Mean",
             "Book"
            ],
            [
             "Mean",
             "Book"
            ],
            [
             "Mean",
             "Book"
            ]
           ],
           "hovertemplate": "Year=Mean<extra></extra>",
           "legendgroup": "Mean",
           "line": {
            "color": "black",
            "dash": "solid"
           },
           "marker": {
            "symbol": "circle"
           },
           "mode": "lines",
           "name": "Mean",
           "orientation": "v",
           "showlegend": true,
           "type": "scatter",
           "x": [
            "01",
            "02",
            "03",
            "04",
            "05",
            "06",
            "07",
            "08",
            "09",
            "10",
            "11",
            "12"
           ],
           "xaxis": "x",
           "y": [
            2.5,
            3,
            3,
            2.75,
            1.25,
            2.25,
            2,
            1.5,
            2.25,
            1.75,
            2.25,
            2.5
           ],
           "yaxis": "y"
          }
         ],
         "name": "Book"
        },
        {
         "data": [
          {
           "customdata": [
            [
             "2021",
             "Game"
            ],
            [
             "2021",
             "Game"
            ],
            [
             "2021",
             "Game"
            ],
            [
             "2021",
             "Game"
            ],
            [
             "2021",
             "Game"
            ],
            [
             "2021",
             "Game"
            ],
            [
             "2021",
             "Game"
            ],
            [
             "2021",
             "Game"
            ],
            [
             "2021",
             "Game"
            ],
            [
             "2021",
             "Game"
            ],
            [
             "2021",
             "Game"
            ],
            [
             "2021",
             "Game"
            ]
           ],
           "hovertemplate": "Year=2021<extra></extra>",
           "legendgroup": "2021",
           "line": {
            "color": "#EF553B",
            "dash": "solid"
           },
           "marker": {
            "symbol": "circle"
           },
           "mode": "lines",
           "name": "2021",
           "orientation": "v",
           "showlegend": true,
           "type": "scatter",
           "x": [
            "01",
            "02",
            "03",
            "04",
            "05",
            "06",
            "07",
            "08",
            "09",
            "10",
            "11",
            "12"
           ],
           "xaxis": "x",
           "y": [
            2,
            3,
            2,
            2,
            3,
            2,
            7,
            5,
            2,
            1,
            2,
            1
           ],
           "yaxis": "y"
          },
          {
           "customdata": [
            [
             "2022",
             "Game"
            ],
            [
             "2022",
             "Game"
            ],
            [
             "2022",
             "Game"
            ],
            [
             "2022",
             "Game"
            ],
            [
             "2022",
             "Game"
            ],
            [
             "2022",
             "Game"
            ],
            [
             "2022",
             "Game"
            ],
            [
             "2022",
             "Game"
            ],
            [
             "2022",
             "Game"
            ],
            [
             "2022",
             "Game"
            ],
            [
             "2022",
             "Game"
            ],
            [
             "2022",
             "Game"
            ]
           ],
           "hovertemplate": "Year=2022<extra></extra>",
           "legendgroup": "2022",
           "line": {
            "color": "#00cc96",
            "dash": "solid"
           },
           "marker": {
            "symbol": "circle"
           },
           "mode": "lines",
           "name": "2022",
           "orientation": "v",
           "showlegend": true,
           "type": "scatter",
           "x": [
            "01",
            "02",
            "03",
            "04",
            "05",
            "06",
            "07",
            "08",
            "09",
            "10",
            "11",
            "12"
           ],
           "xaxis": "x",
           "y": [
            2,
            2,
            2,
            1,
            1,
            3,
            1,
            1,
            0,
            0,
            1,
            3
           ],
           "yaxis": "y"
          },
          {
           "customdata": [
            [
             "2023",
             "Game"
            ],
            [
             "2023",
             "Game"
            ],
            [
             "2023",
             "Game"
            ],
            [
             "2023",
             "Game"
            ],
            [
             "2023",
             "Game"
            ],
            [
             "2023",
             "Game"
            ],
            [
             "2023",
             "Game"
            ],
            [
             "2023",
             "Game"
            ],
            [
             "2023",
             "Game"
            ],
            [
             "2023",
             "Game"
            ],
            [
             "2023",
             "Game"
            ],
            [
             "2023",
             "Game"
            ]
           ],
           "hovertemplate": "Year=2023<extra></extra>",
           "legendgroup": "2023",
           "line": {
            "color": "#ab63fa",
            "dash": "solid"
           },
           "marker": {
            "symbol": "circle"
           },
           "mode": "lines",
           "name": "2023",
           "orientation": "v",
           "showlegend": true,
           "type": "scatter",
           "x": [
            "01",
            "02",
            "03",
            "04",
            "05",
            "06",
            "07",
            "08",
            "09",
            "10",
            "11",
            "12"
           ],
           "xaxis": "x",
           "y": [
            6,
            2,
            2,
            0,
            1,
            2,
            3,
            2,
            5,
            2,
            2,
            3
           ],
           "yaxis": "y"
          },
          {
           "customdata": [
            [
             "2024",
             "Game"
            ],
            [
             "2024",
             "Game"
            ],
            [
             "2024",
             "Game"
            ],
            [
             "2024",
             "Game"
            ],
            [
             "2024",
             "Game"
            ],
            [
             "2024",
             "Game"
            ],
            [
             "2024",
             "Game"
            ],
            [
             "2024",
             "Game"
            ],
            [
             "2024",
             "Game"
            ],
            [
             "2024",
             "Game"
            ],
            [
             "2024",
             "Game"
            ],
            [
             "2024",
             "Game"
            ]
           ],
           "hovertemplate": "Year=2024<extra></extra>",
           "legendgroup": "2024",
           "line": {
            "color": "#FFA15A",
            "dash": "solid"
           },
           "marker": {
            "symbol": "circle"
           },
           "mode": "lines",
           "name": "2024",
           "orientation": "v",
           "showlegend": true,
           "type": "scatter",
           "x": [
            "01",
            "02",
            "03",
            "04",
            "05",
            "06",
            "07",
            "08",
            "09",
            "10",
            "11",
            "12"
           ],
           "xaxis": "x",
           "y": [
            1,
            2,
            2,
            1,
            3,
            3,
            4,
            3,
            2,
            1,
            1,
            2
           ],
           "yaxis": "y"
          },
          {
           "customdata": [
            [
             "2025",
             "Game"
            ],
            [
             "2025",
             "Game"
            ],
            [
             "2025",
             "Game"
            ],
            [
             "2025",
             "Game"
            ],
            [
             "2025",
             "Game"
            ],
            [
             "2025",
             "Game"
            ],
            [
             "2025",
             "Game"
            ],
            [
             "2025",
             "Game"
            ],
            [
             "2025",
             "Game"
            ],
            [
             "2025",
             "Game"
            ],
            [
             "2025",
             "Game"
            ],
            [
             "2025",
             "Game"
            ]
           ],
           "hovertemplate": "Year=2025<extra></extra>",
           "legendgroup": "2025",
           "line": {
            "color": "#19d3f3",
            "dash": "solid"
           },
           "marker": {
            "symbol": "circle"
           },
           "mode": "lines",
           "name": "2025",
           "orientation": "v",
           "showlegend": true,
           "type": "scatter",
           "x": [
            "01",
            "02",
            "03",
            "04",
            "05",
            "06",
            "07",
            "08",
            "09",
            "10",
            "11",
            "12"
           ],
           "xaxis": "x",
           "y": [
            3,
            3,
            3,
            0,
            2,
            1,
            2,
            0,
            0,
            0,
            0,
            0
           ],
           "yaxis": "y"
          },
          {
           "customdata": [
            [
             "Mean",
             "Game"
            ],
            [
             "Mean",
             "Game"
            ],
            [
             "Mean",
             "Game"
            ],
            [
             "Mean",
             "Game"
            ],
            [
             "Mean",
             "Game"
            ],
            [
             "Mean",
             "Game"
            ],
            [
             "Mean",
             "Game"
            ],
            [
             "Mean",
             "Game"
            ],
            [
             "Mean",
             "Game"
            ],
            [
             "Mean",
             "Game"
            ],
            [
             "Mean",
             "Game"
            ],
            [
             "Mean",
             "Game"
            ]
           ],
           "hovertemplate": "Year=Mean<extra></extra>",
           "legendgroup": "Mean",
           "line": {
            "color": "black",
            "dash": "solid"
           },
           "marker": {
            "symbol": "circle"
           },
           "mode": "lines",
           "name": "Mean",
           "orientation": "v",
           "showlegend": true,
           "type": "scatter",
           "x": [
            "01",
            "02",
            "03",
            "04",
            "05",
            "06",
            "07",
            "08",
            "09",
            "10",
            "11",
            "12"
           ],
           "xaxis": "x",
           "y": [
            2.75,
            2.25,
            2,
            1,
            2,
            2.5,
            3.75,
            2.75,
            2.25,
            1,
            1.5,
            2.25
           ],
           "yaxis": "y"
          }
         ],
         "name": "Game"
        },
        {
         "data": [
          {
           "customdata": [
            [
             "2021",
             "Other"
            ],
            [
             "2021",
             "Other"
            ],
            [
             "2021",
             "Other"
            ],
            [
             "2021",
             "Other"
            ],
            [
             "2021",
             "Other"
            ],
            [
             "2021",
             "Other"
            ],
            [
             "2021",
             "Other"
            ],
            [
             "2021",
             "Other"
            ],
            [
             "2021",
             "Other"
            ],
            [
             "2021",
             "Other"
            ],
            [
             "2021",
             "Other"
            ],
            [
             "2021",
             "Other"
            ]
           ],
           "hovertemplate": "Year=2021<extra></extra>",
           "legendgroup": "2021",
           "line": {
            "color": "#EF553B",
            "dash": "solid"
           },
           "marker": {
            "symbol": "circle"
           },
           "mode": "lines",
           "name": "2021",
           "orientation": "v",
           "showlegend": true,
           "type": "scatter",
           "x": [
            "01",
            "02",
            "03",
            "04",
            "05",
            "06",
            "07",
            "08",
            "09",
            "10",
            "11",
            "12"
           ],
           "xaxis": "x",
           "y": [
            0,
            0,
            0,
            0,
            0,
            0,
            0,
            0,
            0,
            0,
            0,
            0
           ],
           "yaxis": "y"
          },
          {
           "customdata": [
            [
             "2022",
             "Other"
            ],
            [
             "2022",
             "Other"
            ],
            [
             "2022",
             "Other"
            ],
            [
             "2022",
             "Other"
            ],
            [
             "2022",
             "Other"
            ],
            [
             "2022",
             "Other"
            ],
            [
             "2022",
             "Other"
            ],
            [
             "2022",
             "Other"
            ],
            [
             "2022",
             "Other"
            ],
            [
             "2022",
             "Other"
            ],
            [
             "2022",
             "Other"
            ],
            [
             "2022",
             "Other"
            ]
           ],
           "hovertemplate": "Year=2022<extra></extra>",
           "legendgroup": "2022",
           "line": {
            "color": "#00cc96",
            "dash": "solid"
           },
           "marker": {
            "symbol": "circle"
           },
           "mode": "lines",
           "name": "2022",
           "orientation": "v",
           "showlegend": true,
           "type": "scatter",
           "x": [
            "01",
            "02",
            "03",
            "04",
            "05",
            "06",
            "07",
            "08",
            "09",
            "10",
            "11",
            "12"
           ],
           "xaxis": "x",
           "y": [
            1,
            0,
            0,
            0,
            3,
            0,
            0,
            1,
            1,
            1,
            3,
            2
           ],
           "yaxis": "y"
          },
          {
           "customdata": [
            [
             "2023",
             "Other"
            ],
            [
             "2023",
             "Other"
            ],
            [
             "2023",
             "Other"
            ],
            [
             "2023",
             "Other"
            ],
            [
             "2023",
             "Other"
            ],
            [
             "2023",
             "Other"
            ],
            [
             "2023",
             "Other"
            ],
            [
             "2023",
             "Other"
            ],
            [
             "2023",
             "Other"
            ],
            [
             "2023",
             "Other"
            ],
            [
             "2023",
             "Other"
            ],
            [
             "2023",
             "Other"
            ]
           ],
           "hovertemplate": "Year=2023<extra></extra>",
           "legendgroup": "2023",
           "line": {
            "color": "#ab63fa",
            "dash": "solid"
           },
           "marker": {
            "symbol": "circle"
           },
           "mode": "lines",
           "name": "2023",
           "orientation": "v",
           "showlegend": true,
           "type": "scatter",
           "x": [
            "01",
            "02",
            "03",
            "04",
            "05",
            "06",
            "07",
            "08",
            "09",
            "10",
            "11",
            "12"
           ],
           "xaxis": "x",
           "y": [
            2,
            4,
            2,
            1,
            0,
            5,
            8,
            1,
            1,
            2,
            2,
            3
           ],
           "yaxis": "y"
          },
          {
           "customdata": [
            [
             "2024",
             "Other"
            ],
            [
             "2024",
             "Other"
            ],
            [
             "2024",
             "Other"
            ],
            [
             "2024",
             "Other"
            ],
            [
             "2024",
             "Other"
            ],
            [
             "2024",
             "Other"
            ],
            [
             "2024",
             "Other"
            ],
            [
             "2024",
             "Other"
            ],
            [
             "2024",
             "Other"
            ],
            [
             "2024",
             "Other"
            ],
            [
             "2024",
             "Other"
            ],
            [
             "2024",
             "Other"
            ]
           ],
           "hovertemplate": "Year=2024<extra></extra>",
           "legendgroup": "2024",
           "line": {
            "color": "#FFA15A",
            "dash": "solid"
           },
           "marker": {
            "symbol": "circle"
           },
           "mode": "lines",
           "name": "2024",
           "orientation": "v",
           "showlegend": true,
           "type": "scatter",
           "x": [
            "01",
            "02",
            "03",
            "04",
            "05",
            "06",
            "07",
            "08",
            "09",
            "10",
            "11",
            "12"
           ],
           "xaxis": "x",
           "y": [
            1,
            2,
            1,
            1,
            3,
            1,
            4,
            1,
            0,
            1,
            3,
            5
           ],
           "yaxis": "y"
          },
          {
           "customdata": [
            [
             "2025",
             "Other"
            ],
            [
             "2025",
             "Other"
            ],
            [
             "2025",
             "Other"
            ],
            [
             "2025",
             "Other"
            ],
            [
             "2025",
             "Other"
            ],
            [
             "2025",
             "Other"
            ],
            [
             "2025",
             "Other"
            ],
            [
             "2025",
             "Other"
            ],
            [
             "2025",
             "Other"
            ],
            [
             "2025",
             "Other"
            ],
            [
             "2025",
             "Other"
            ],
            [
             "2025",
             "Other"
            ]
           ],
           "hovertemplate": "Year=2025<extra></extra>",
           "legendgroup": "2025",
           "line": {
            "color": "#19d3f3",
            "dash": "solid"
           },
           "marker": {
            "symbol": "circle"
           },
           "mode": "lines",
           "name": "2025",
           "orientation": "v",
           "showlegend": true,
           "type": "scatter",
           "x": [
            "01",
            "02",
            "03",
            "04",
            "05",
            "06",
            "07",
            "08",
            "09",
            "10",
            "11",
            "12"
           ],
           "xaxis": "x",
           "y": [
            0,
            1,
            2,
            4,
            3,
            0,
            3,
            0,
            0,
            0,
            0,
            0
           ],
           "yaxis": "y"
          },
          {
           "customdata": [
            [
             "Mean",
             "Other"
            ],
            [
             "Mean",
             "Other"
            ],
            [
             "Mean",
             "Other"
            ],
            [
             "Mean",
             "Other"
            ],
            [
             "Mean",
             "Other"
            ],
            [
             "Mean",
             "Other"
            ],
            [
             "Mean",
             "Other"
            ],
            [
             "Mean",
             "Other"
            ],
            [
             "Mean",
             "Other"
            ],
            [
             "Mean",
             "Other"
            ],
            [
             "Mean",
             "Other"
            ],
            [
             "Mean",
             "Other"
            ]
           ],
           "hovertemplate": "Year=Mean<extra></extra>",
           "legendgroup": "Mean",
           "line": {
            "color": "black",
            "dash": "solid"
           },
           "marker": {
            "symbol": "circle"
           },
           "mode": "lines",
           "name": "Mean",
           "orientation": "v",
           "showlegend": true,
           "type": "scatter",
           "x": [
            "01",
            "02",
            "03",
            "04",
            "05",
            "06",
            "07",
            "08",
            "09",
            "10",
            "11",
            "12"
           ],
           "xaxis": "x",
           "y": [
            1,
            1.5,
            0.75,
            0.5,
            1.5,
            1.5,
            3,
            0.75,
            0.5,
            1,
            2,
            2.5
           ],
           "yaxis": "y"
          }
         ],
         "name": "Other"
        }
       ],
       "layout": {
        "legend": {
         "orientation": "h",
         "title": {
          "text": "Year"
         },
         "tracegroupgap": 0,
         "x": 1,
         "xanchor": "right",
         "y": 0,
         "yanchor": "bottom"
        },
        "margin": {
         "b": 0,
         "l": 0,
         "r": 10,
         "t": 10
        },
        "sliders": [
         {
          "active": 0,
          "currentvalue": {
           "prefix": "type="
          },
          "len": 0.9,
          "pad": {
           "b": 20,
           "r": 100,
           "t": 20
          },
          "steps": [
           {
            "args": [
             [
              "All"
             ],
             {
              "frame": {
               "duration": 0,
               "redraw": false
              },
              "fromcurrent": true,
              "mode": "immediate",
              "transition": {
               "duration": 0,
               "easing": "linear"
              }
             }
            ],
            "label": "All",
            "method": "animate"
           },
           {
            "args": [
             [
              "Book"
             ],
             {
              "frame": {
               "duration": 0,
               "redraw": false
              },
              "fromcurrent": true,
              "mode": "immediate",
              "transition": {
               "duration": 0,
               "easing": "linear"
              }
             }
            ],
            "label": "Book",
            "method": "animate"
           },
           {
            "args": [
             [
              "Game"
             ],
             {
              "frame": {
               "duration": 0,
               "redraw": false
              },
              "fromcurrent": true,
              "mode": "immediate",
              "transition": {
               "duration": 0,
               "easing": "linear"
              }
             }
            ],
            "label": "Game",
            "method": "animate"
           },
           {
            "args": [
             [
              "Other"
             ],
             {
              "frame": {
               "duration": 0,
               "redraw": false
              },
              "fromcurrent": true,
              "mode": "immediate",
              "transition": {
               "duration": 0,
               "easing": "linear"
              }
             }
            ],
            "label": "Other",
            "method": "animate"
           }
          ],
          "x": 0.1,
          "xanchor": "left",
          "y": 0,
          "yanchor": "top"
         }
        ],
        "template": {
         "data": {
          "bar": [
           {
            "error_x": {
             "color": "#2a3f5f"
            },
            "error_y": {
             "color": "#2a3f5f"
            },
            "marker": {
             "line": {
              "color": "white",
              "width": 0.5
             },
             "pattern": {
              "fillmode": "overlay",
              "size": 10,
              "solidity": 0.2
             }
            },
            "type": "bar"
           }
          ],
          "barpolar": [
           {
            "marker": {
             "line": {
              "color": "white",
              "width": 0.5
             },
             "pattern": {
              "fillmode": "overlay",
              "size": 10,
              "solidity": 0.2
             }
            },
            "type": "barpolar"
           }
          ],
          "carpet": [
           {
            "aaxis": {
             "endlinecolor": "#2a3f5f",
             "gridcolor": "#C8D4E3",
             "linecolor": "#C8D4E3",
             "minorgridcolor": "#C8D4E3",
             "startlinecolor": "#2a3f5f"
            },
            "baxis": {
             "endlinecolor": "#2a3f5f",
             "gridcolor": "#C8D4E3",
             "linecolor": "#C8D4E3",
             "minorgridcolor": "#C8D4E3",
             "startlinecolor": "#2a3f5f"
            },
            "type": "carpet"
           }
          ],
          "choropleth": [
           {
            "colorbar": {
             "outlinewidth": 0,
             "ticks": ""
            },
            "type": "choropleth"
           }
          ],
          "contour": [
           {
            "colorbar": {
             "outlinewidth": 0,
             "ticks": ""
            },
            "colorscale": [
             [
              0,
              "#0d0887"
             ],
             [
              0.1111111111111111,
              "#46039f"
             ],
             [
              0.2222222222222222,
              "#7201a8"
             ],
             [
              0.3333333333333333,
              "#9c179e"
             ],
             [
              0.4444444444444444,
              "#bd3786"
             ],
             [
              0.5555555555555556,
              "#d8576b"
             ],
             [
              0.6666666666666666,
              "#ed7953"
             ],
             [
              0.7777777777777778,
              "#fb9f3a"
             ],
             [
              0.8888888888888888,
              "#fdca26"
             ],
             [
              1,
              "#f0f921"
             ]
            ],
            "type": "contour"
           }
          ],
          "contourcarpet": [
           {
            "colorbar": {
             "outlinewidth": 0,
             "ticks": ""
            },
            "type": "contourcarpet"
           }
          ],
          "heatmap": [
           {
            "colorbar": {
             "outlinewidth": 0,
             "ticks": ""
            },
            "colorscale": [
             [
              0,
              "#0d0887"
             ],
             [
              0.1111111111111111,
              "#46039f"
             ],
             [
              0.2222222222222222,
              "#7201a8"
             ],
             [
              0.3333333333333333,
              "#9c179e"
             ],
             [
              0.4444444444444444,
              "#bd3786"
             ],
             [
              0.5555555555555556,
              "#d8576b"
             ],
             [
              0.6666666666666666,
              "#ed7953"
             ],
             [
              0.7777777777777778,
              "#fb9f3a"
             ],
             [
              0.8888888888888888,
              "#fdca26"
             ],
             [
              1,
              "#f0f921"
             ]
            ],
            "type": "heatmap"
           }
          ],
          "heatmapgl": [
           {
            "colorbar": {
             "outlinewidth": 0,
             "ticks": ""
            },
            "colorscale": [
             [
              0,
              "#0d0887"
             ],
             [
              0.1111111111111111,
              "#46039f"
             ],
             [
              0.2222222222222222,
              "#7201a8"
             ],
             [
              0.3333333333333333,
              "#9c179e"
             ],
             [
              0.4444444444444444,
              "#bd3786"
             ],
             [
              0.5555555555555556,
              "#d8576b"
             ],
             [
              0.6666666666666666,
              "#ed7953"
             ],
             [
              0.7777777777777778,
              "#fb9f3a"
             ],
             [
              0.8888888888888888,
              "#fdca26"
             ],
             [
              1,
              "#f0f921"
             ]
            ],
            "type": "heatmapgl"
           }
          ],
          "histogram": [
           {
            "marker": {
             "pattern": {
              "fillmode": "overlay",
              "size": 10,
              "solidity": 0.2
             }
            },
            "type": "histogram"
           }
          ],
          "histogram2d": [
           {
            "colorbar": {
             "outlinewidth": 0,
             "ticks": ""
            },
            "colorscale": [
             [
              0,
              "#0d0887"
             ],
             [
              0.1111111111111111,
              "#46039f"
             ],
             [
              0.2222222222222222,
              "#7201a8"
             ],
             [
              0.3333333333333333,
              "#9c179e"
             ],
             [
              0.4444444444444444,
              "#bd3786"
             ],
             [
              0.5555555555555556,
              "#d8576b"
             ],
             [
              0.6666666666666666,
              "#ed7953"
             ],
             [
              0.7777777777777778,
              "#fb9f3a"
             ],
             [
              0.8888888888888888,
              "#fdca26"
             ],
             [
              1,
              "#f0f921"
             ]
            ],
            "type": "histogram2d"
           }
          ],
          "histogram2dcontour": [
           {
            "colorbar": {
             "outlinewidth": 0,
             "ticks": ""
            },
            "colorscale": [
             [
              0,
              "#0d0887"
             ],
             [
              0.1111111111111111,
              "#46039f"
             ],
             [
              0.2222222222222222,
              "#7201a8"
             ],
             [
              0.3333333333333333,
              "#9c179e"
             ],
             [
              0.4444444444444444,
              "#bd3786"
             ],
             [
              0.5555555555555556,
              "#d8576b"
             ],
             [
              0.6666666666666666,
              "#ed7953"
             ],
             [
              0.7777777777777778,
              "#fb9f3a"
             ],
             [
              0.8888888888888888,
              "#fdca26"
             ],
             [
              1,
              "#f0f921"
             ]
            ],
            "type": "histogram2dcontour"
           }
          ],
          "mesh3d": [
           {
            "colorbar": {
             "outlinewidth": 0,
             "ticks": ""
            },
            "type": "mesh3d"
           }
          ],
          "parcoords": [
           {
            "line": {
             "colorbar": {
              "outlinewidth": 0,
              "ticks": ""
             }
            },
            "type": "parcoords"
           }
          ],
          "pie": [
           {
            "automargin": true,
            "type": "pie"
           }
          ],
          "scatter": [
           {
            "fillpattern": {
             "fillmode": "overlay",
             "size": 10,
             "solidity": 0.2
            },
            "type": "scatter"
           }
          ],
          "scatter3d": [
           {
            "line": {
             "colorbar": {
              "outlinewidth": 0,
              "ticks": ""
             }
            },
            "marker": {
             "colorbar": {
              "outlinewidth": 0,
              "ticks": ""
             }
            },
            "type": "scatter3d"
           }
          ],
          "scattercarpet": [
           {
            "marker": {
             "colorbar": {
              "outlinewidth": 0,
              "ticks": ""
             }
            },
            "type": "scattercarpet"
           }
          ],
          "scattergeo": [
           {
            "marker": {
             "colorbar": {
              "outlinewidth": 0,
              "ticks": ""
             }
            },
            "type": "scattergeo"
           }
          ],
          "scattergl": [
           {
            "marker": {
             "colorbar": {
              "outlinewidth": 0,
              "ticks": ""
             }
            },
            "type": "scattergl"
           }
          ],
          "scattermapbox": [
           {
            "marker": {
             "colorbar": {
              "outlinewidth": 0,
              "ticks": ""
             }
            },
            "type": "scattermapbox"
           }
          ],
          "scatterpolar": [
           {
            "marker": {
             "colorbar": {
              "outlinewidth": 0,
              "ticks": ""
             }
            },
            "type": "scatterpolar"
           }
          ],
          "scatterpolargl": [
           {
            "marker": {
             "colorbar": {
              "outlinewidth": 0,
              "ticks": ""
             }
            },
            "type": "scatterpolargl"
           }
          ],
          "scatterternary": [
           {
            "marker": {
             "colorbar": {
              "outlinewidth": 0,
              "ticks": ""
             }
            },
            "type": "scatterternary"
           }
          ],
          "surface": [
           {
            "colorbar": {
             "outlinewidth": 0,
             "ticks": ""
            },
            "colorscale": [
             [
              0,
              "#0d0887"
             ],
             [
              0.1111111111111111,
              "#46039f"
             ],
             [
              0.2222222222222222,
              "#7201a8"
             ],
             [
              0.3333333333333333,
              "#9c179e"
             ],
             [
              0.4444444444444444,
              "#bd3786"
             ],
             [
              0.5555555555555556,
              "#d8576b"
             ],
             [
              0.6666666666666666,
              "#ed7953"
             ],
             [
              0.7777777777777778,
              "#fb9f3a"
             ],
             [
              0.8888888888888888,
              "#fdca26"
             ],
             [
              1,
              "#f0f921"
             ]
            ],
            "type": "surface"
           }
          ],
          "table": [
           {
            "cells": {
             "fill": {
              "color": "#EBF0F8"
             },
             "line": {
              "color": "white"
             }
            },
            "header": {
             "fill": {
              "color": "#C8D4E3"
             },
             "line": {
              "color": "white"
             }
            },
            "type": "table"
           }
          ]
         },
         "layout": {
          "annotationdefaults": {
           "arrowcolor": "#2a3f5f",
           "arrowhead": 0,
           "arrowwidth": 1
          },
          "autotypenumbers": "strict",
          "coloraxis": {
           "colorbar": {
            "outlinewidth": 0,
            "ticks": ""
           }
          },
          "colorscale": {
           "diverging": [
            [
             0,
             "#8e0152"
            ],
            [
             0.1,
             "#c51b7d"
            ],
            [
             0.2,
             "#de77ae"
            ],
            [
             0.3,
             "#f1b6da"
            ],
            [
             0.4,
             "#fde0ef"
            ],
            [
             0.5,
             "#f7f7f7"
            ],
            [
             0.6,
             "#e6f5d0"
            ],
            [
             0.7,
             "#b8e186"
            ],
            [
             0.8,
             "#7fbc41"
            ],
            [
             0.9,
             "#4d9221"
            ],
            [
             1,
             "#276419"
            ]
           ],
           "sequential": [
            [
             0,
             "#0d0887"
            ],
            [
             0.1111111111111111,
             "#46039f"
            ],
            [
             0.2222222222222222,
             "#7201a8"
            ],
            [
             0.3333333333333333,
             "#9c179e"
            ],
            [
             0.4444444444444444,
             "#bd3786"
            ],
            [
             0.5555555555555556,
             "#d8576b"
            ],
            [
             0.6666666666666666,
             "#ed7953"
            ],
            [
             0.7777777777777778,
             "#fb9f3a"
            ],
            [
             0.8888888888888888,
             "#fdca26"
            ],
            [
             1,
             "#f0f921"
            ]
           ],
           "sequentialminus": [
            [
             0,
             "#0d0887"
            ],
            [
             0.1111111111111111,
             "#46039f"
            ],
            [
             0.2222222222222222,
             "#7201a8"
            ],
            [
             0.3333333333333333,
             "#9c179e"
            ],
            [
             0.4444444444444444,
             "#bd3786"
            ],
            [
             0.5555555555555556,
             "#d8576b"
            ],
            [
             0.6666666666666666,
             "#ed7953"
            ],
            [
             0.7777777777777778,
             "#fb9f3a"
            ],
            [
             0.8888888888888888,
             "#fdca26"
            ],
            [
             1,
             "#f0f921"
            ]
           ]
          },
          "colorway": [
           "#636efa",
           "#EF553B",
           "#00cc96",
           "#ab63fa",
           "#FFA15A",
           "#19d3f3",
           "#FF6692",
           "#B6E880",
           "#FF97FF",
           "#FECB52"
          ],
          "font": {
           "color": "#2a3f5f"
          },
          "geo": {
           "bgcolor": "white",
           "lakecolor": "white",
           "landcolor": "white",
           "showlakes": true,
           "showland": true,
           "subunitcolor": "#C8D4E3"
          },
          "hoverlabel": {
           "align": "left"
          },
          "hovermode": "closest",
          "mapbox": {
           "style": "light"
          },
          "paper_bgcolor": "white",
          "plot_bgcolor": "white",
          "polar": {
           "angularaxis": {
            "gridcolor": "#EBF0F8",
            "linecolor": "#EBF0F8",
            "ticks": ""
           },
           "bgcolor": "white",
           "radialaxis": {
            "gridcolor": "#EBF0F8",
            "linecolor": "#EBF0F8",
            "ticks": ""
           }
          },
          "scene": {
           "xaxis": {
            "backgroundcolor": "white",
            "gridcolor": "#DFE8F3",
            "gridwidth": 2,
            "linecolor": "#EBF0F8",
            "showbackground": true,
            "ticks": "",
            "zerolinecolor": "#EBF0F8"
           },
           "yaxis": {
            "backgroundcolor": "white",
            "gridcolor": "#DFE8F3",
            "gridwidth": 2,
            "linecolor": "#EBF0F8",
            "showbackground": true,
            "ticks": "",
            "zerolinecolor": "#EBF0F8"
           },
           "zaxis": {
            "backgroundcolor": "white",
            "gridcolor": "#DFE8F3",
            "gridwidth": 2,
            "linecolor": "#EBF0F8",
            "showbackground": true,
            "ticks": "",
            "zerolinecolor": "#EBF0F8"
           }
          },
          "shapedefaults": {
           "line": {
            "color": "#2a3f5f"
           }
          },
          "ternary": {
           "aaxis": {
            "gridcolor": "#DFE8F3",
            "linecolor": "#A2B1C6",
            "ticks": ""
           },
           "baxis": {
            "gridcolor": "#DFE8F3",
            "linecolor": "#A2B1C6",
            "ticks": ""
           },
           "bgcolor": "white",
           "caxis": {
            "gridcolor": "#DFE8F3",
            "linecolor": "#A2B1C6",
            "ticks": ""
           }
          },
          "title": {
           "x": 0.05
          },
          "xaxis": {
           "automargin": true,
           "gridcolor": "#EBF0F8",
           "linecolor": "#EBF0F8",
           "ticks": "",
           "title": {
            "standoff": 15
           },
           "zerolinecolor": "#EBF0F8",
           "zerolinewidth": 2
          },
          "yaxis": {
           "automargin": true,
           "gridcolor": "#EBF0F8",
           "linecolor": "#EBF0F8",
           "ticks": "",
           "title": {
            "standoff": 15
           },
           "zerolinecolor": "#EBF0F8",
           "zerolinewidth": 2
          }
         }
        },
        "xaxis": {
         "anchor": "y",
         "domain": [
          0,
          1
         ],
         "range": [
          0,
          11
         ],
         "tickmode": "array",
         "ticktext": [
          "",
          "Feb",
          "Mar",
          "Apr",
          "May",
          "Jun",
          "Jul",
          "Aug",
          "Sep",
          "Oct",
          "Nov",
          ""
         ],
         "tickvals": [
          "01",
          "02",
          "03",
          "04",
          "05",
          "06",
          "07",
          "08",
          "09",
          "10",
          "11",
          "12"
         ],
         "title": {
          "text": "Month"
         }
        },
        "yaxis": {
         "anchor": "x",
         "domain": [
          0,
          1
         ],
         "range": [
          0,
          15
         ],
         "title": {
          "text": "Amount"
         }
        }
       }
      }
     },
     "metadata": {},
     "output_type": "display_data"
    }
   ],
   "source": [
    "# Split year and month values\n",
    "df2 = df.copy()\n",
    "df2[['year','month']] = df2['date'].str.split('-',expand=True)\n",
    "df2 = df2.drop(columns=['date'])\n",
    "\n",
    "# All possible values for types, years and months\n",
    "types = [\"All\", \"Game\", \"Book\", \"Other\"]\n",
    "years = [str(x) for x in range(min(df2['year'].astype(int)), max(df2['year'].astype(int)) + 1)]\n",
    "months = [f\"{month:>2}\".replace(' ', '0') for month in range(1, 13)]\n",
    "\n",
    "# Create a default where all values are zero\n",
    "idx = pd.MultiIndex.from_product([years, months, types], names=['year', 'month', 'type'])\n",
    "base = pd.DataFrame(index=idx).reset_index()\n",
    "base['count'] = [0.0] * len(base)\n",
    "\n",
    "# Calculate actual values and sum of values with groupby \n",
    "df2.loc[(df2['type'] != \"Game\") & (df2['type'] != \"Book\"), ['type']] = \"Other\"\n",
    "df2 = df2[['year', 'month', 'type', 'name']].groupby(['year', 'month', 'type']).count().reset_index()\n",
    "df2 = df2.rename(columns={\"name\": \"count\"})\n",
    "all = df2[['year', 'month', 'count']].groupby(['year', 'month']).sum().reset_index()\n",
    "all['type'] = ['All'] * len(all)\n",
    "df2 = pd.concat([df2, all])\n",
    "\n",
    "# Merge default values and calculated values and sum these\n",
    "df2 = base.merge(df2, how='outer')\n",
    "df2 = df2.groupby(['year', 'month', 'type'])['count'].sum().reset_index()\n",
    "\n",
    "# Calculate mean values\n",
    "means = df2[df2['year'] != str(max(years))].groupby(['month', 'type'])['count'].mean().reset_index()\n",
    "means['year'] = ['Mean'] * len(means)\n",
    "df2 = pd.concat([df2, means])\n",
    "\n",
    "# Create plot\n",
    "fig = px.line(df2, x='month', y='count', color='year', animation_frame='type',\n",
    "                color_discrete_map={\"Mean\": 'black'}, custom_data=['year'], template='plotly_white',\n",
    "                labels={\"month\": \"Month\", \"count\": \"Amount\", \"year\": \"Year\"},\n",
    "                hover_data={'type':False, 'month':False, 'count':False})\n",
    "fig.update_layout(margin={'t':10,'l':0,'b':0,'r':10}, yaxis_range=[0,15], xaxis_range=[0,11],\n",
    "                    xaxis = dict(\n",
    "                        tickmode = 'array',\n",
    "                        tickvals = ['01', '02', '03', '04', '05', '06', '07', '08', '09', '10', '11', '12'],\n",
    "                        ticktext = ['', 'Feb', 'Mar', 'Apr', 'May', 'Jun', 'Jul', 'Aug', 'Sep', 'Oct', 'Nov', '']\n",
    "                    ),\n",
    "                    legend = dict(orientation=\"h\", yanchor='bottom', y=0, xanchor='right', x=1)\n",
    "                )\n",
    "fig.update_traces(opacity=.4)\n",
    "fig.update_traces(connectgaps=False)\n",
    "fig.update_traces(selector=dict(line_color=\"black\"), opacity=1)\n",
    "fig.update_traces(hovertemplate='%{customdata[0]}')\n",
    "fig['layout']['sliders'][0]['pad']=dict(r=100, t= 20, b=20)\n",
    "fig[\"layout\"].pop(\"updatemenus\")\n",
    "fig.show()\n"
   ]
  },
  {
   "cell_type": "markdown",
   "metadata": {},
   "source": [
    "## Albums\n",
    "One particular interest I have is collecting albums out of Rolling Stone's Top 500 Albums list. Below, you can see how many I already have (out of the 2020 list)."
   ]
  },
  {
   "cell_type": "code",
   "execution_count": 31,
   "metadata": {
    "tags": [
     "remove-input"
    ]
   },
   "outputs": [
    {
     "data": {
      "application/vnd.plotly.v1+json": {
       "config": {
        "plotlyServerURL": "https://plot.ly"
       },
       "data": [
        {
         "alignmentgroup": "True",
         "hovertemplate": "color=total_color<br>Decades=%{x}<br>Progress=%{y}<extra></extra>",
         "legendgroup": "total_color",
         "marker": {
          "color": "#ef553b",
          "pattern": {
           "shape": ""
          }
         },
         "name": "total_color",
         "offsetgroup": "total_color",
         "orientation": "v",
         "showlegend": true,
         "textposition": "auto",
         "type": "bar",
         "x": [
          "Total"
         ],
         "xaxis": "x",
         "y": [
          27
         ],
         "yaxis": "y"
        },
        {
         "alignmentgroup": "True",
         "hovertemplate": "color=incomplete_color<br>Decades=%{x}<br>Progress=%{y}<extra></extra>",
         "legendgroup": "incomplete_color",
         "marker": {
          "color": "#636efa",
          "pattern": {
           "shape": ""
          }
         },
         "name": "incomplete_color",
         "offsetgroup": "incomplete_color",
         "orientation": "v",
         "showlegend": true,
         "textposition": "auto",
         "type": "bar",
         "x": [
          "1955-1964",
          "1965-1974",
          "1975-1984",
          "1985-1994",
          "1995-2004",
          "2005-2014",
          "2015-2024"
         ],
         "xaxis": "x",
         "y": [
          7.142857142857142,
          26.71232876712329,
          26.41509433962264,
          37.5,
          27.710843373493976,
          25.806451612903224,
          11.11111111111111
         ],
         "yaxis": "y"
        }
       ],
       "layout": {
        "barmode": "relative",
        "legend": {
         "title": {
          "text": "color"
         },
         "tracegroupgap": 0
        },
        "margin": {
         "t": 60
        },
        "showlegend": false,
        "template": {
         "data": {
          "bar": [
           {
            "error_x": {
             "color": "#2a3f5f"
            },
            "error_y": {
             "color": "#2a3f5f"
            },
            "marker": {
             "line": {
              "color": "white",
              "width": 0.5
             },
             "pattern": {
              "fillmode": "overlay",
              "size": 10,
              "solidity": 0.2
             }
            },
            "type": "bar"
           }
          ],
          "barpolar": [
           {
            "marker": {
             "line": {
              "color": "white",
              "width": 0.5
             },
             "pattern": {
              "fillmode": "overlay",
              "size": 10,
              "solidity": 0.2
             }
            },
            "type": "barpolar"
           }
          ],
          "carpet": [
           {
            "aaxis": {
             "endlinecolor": "#2a3f5f",
             "gridcolor": "#C8D4E3",
             "linecolor": "#C8D4E3",
             "minorgridcolor": "#C8D4E3",
             "startlinecolor": "#2a3f5f"
            },
            "baxis": {
             "endlinecolor": "#2a3f5f",
             "gridcolor": "#C8D4E3",
             "linecolor": "#C8D4E3",
             "minorgridcolor": "#C8D4E3",
             "startlinecolor": "#2a3f5f"
            },
            "type": "carpet"
           }
          ],
          "choropleth": [
           {
            "colorbar": {
             "outlinewidth": 0,
             "ticks": ""
            },
            "type": "choropleth"
           }
          ],
          "contour": [
           {
            "colorbar": {
             "outlinewidth": 0,
             "ticks": ""
            },
            "colorscale": [
             [
              0,
              "#0d0887"
             ],
             [
              0.1111111111111111,
              "#46039f"
             ],
             [
              0.2222222222222222,
              "#7201a8"
             ],
             [
              0.3333333333333333,
              "#9c179e"
             ],
             [
              0.4444444444444444,
              "#bd3786"
             ],
             [
              0.5555555555555556,
              "#d8576b"
             ],
             [
              0.6666666666666666,
              "#ed7953"
             ],
             [
              0.7777777777777778,
              "#fb9f3a"
             ],
             [
              0.8888888888888888,
              "#fdca26"
             ],
             [
              1,
              "#f0f921"
             ]
            ],
            "type": "contour"
           }
          ],
          "contourcarpet": [
           {
            "colorbar": {
             "outlinewidth": 0,
             "ticks": ""
            },
            "type": "contourcarpet"
           }
          ],
          "heatmap": [
           {
            "colorbar": {
             "outlinewidth": 0,
             "ticks": ""
            },
            "colorscale": [
             [
              0,
              "#0d0887"
             ],
             [
              0.1111111111111111,
              "#46039f"
             ],
             [
              0.2222222222222222,
              "#7201a8"
             ],
             [
              0.3333333333333333,
              "#9c179e"
             ],
             [
              0.4444444444444444,
              "#bd3786"
             ],
             [
              0.5555555555555556,
              "#d8576b"
             ],
             [
              0.6666666666666666,
              "#ed7953"
             ],
             [
              0.7777777777777778,
              "#fb9f3a"
             ],
             [
              0.8888888888888888,
              "#fdca26"
             ],
             [
              1,
              "#f0f921"
             ]
            ],
            "type": "heatmap"
           }
          ],
          "heatmapgl": [
           {
            "colorbar": {
             "outlinewidth": 0,
             "ticks": ""
            },
            "colorscale": [
             [
              0,
              "#0d0887"
             ],
             [
              0.1111111111111111,
              "#46039f"
             ],
             [
              0.2222222222222222,
              "#7201a8"
             ],
             [
              0.3333333333333333,
              "#9c179e"
             ],
             [
              0.4444444444444444,
              "#bd3786"
             ],
             [
              0.5555555555555556,
              "#d8576b"
             ],
             [
              0.6666666666666666,
              "#ed7953"
             ],
             [
              0.7777777777777778,
              "#fb9f3a"
             ],
             [
              0.8888888888888888,
              "#fdca26"
             ],
             [
              1,
              "#f0f921"
             ]
            ],
            "type": "heatmapgl"
           }
          ],
          "histogram": [
           {
            "marker": {
             "pattern": {
              "fillmode": "overlay",
              "size": 10,
              "solidity": 0.2
             }
            },
            "type": "histogram"
           }
          ],
          "histogram2d": [
           {
            "colorbar": {
             "outlinewidth": 0,
             "ticks": ""
            },
            "colorscale": [
             [
              0,
              "#0d0887"
             ],
             [
              0.1111111111111111,
              "#46039f"
             ],
             [
              0.2222222222222222,
              "#7201a8"
             ],
             [
              0.3333333333333333,
              "#9c179e"
             ],
             [
              0.4444444444444444,
              "#bd3786"
             ],
             [
              0.5555555555555556,
              "#d8576b"
             ],
             [
              0.6666666666666666,
              "#ed7953"
             ],
             [
              0.7777777777777778,
              "#fb9f3a"
             ],
             [
              0.8888888888888888,
              "#fdca26"
             ],
             [
              1,
              "#f0f921"
             ]
            ],
            "type": "histogram2d"
           }
          ],
          "histogram2dcontour": [
           {
            "colorbar": {
             "outlinewidth": 0,
             "ticks": ""
            },
            "colorscale": [
             [
              0,
              "#0d0887"
             ],
             [
              0.1111111111111111,
              "#46039f"
             ],
             [
              0.2222222222222222,
              "#7201a8"
             ],
             [
              0.3333333333333333,
              "#9c179e"
             ],
             [
              0.4444444444444444,
              "#bd3786"
             ],
             [
              0.5555555555555556,
              "#d8576b"
             ],
             [
              0.6666666666666666,
              "#ed7953"
             ],
             [
              0.7777777777777778,
              "#fb9f3a"
             ],
             [
              0.8888888888888888,
              "#fdca26"
             ],
             [
              1,
              "#f0f921"
             ]
            ],
            "type": "histogram2dcontour"
           }
          ],
          "mesh3d": [
           {
            "colorbar": {
             "outlinewidth": 0,
             "ticks": ""
            },
            "type": "mesh3d"
           }
          ],
          "parcoords": [
           {
            "line": {
             "colorbar": {
              "outlinewidth": 0,
              "ticks": ""
             }
            },
            "type": "parcoords"
           }
          ],
          "pie": [
           {
            "automargin": true,
            "type": "pie"
           }
          ],
          "scatter": [
           {
            "fillpattern": {
             "fillmode": "overlay",
             "size": 10,
             "solidity": 0.2
            },
            "type": "scatter"
           }
          ],
          "scatter3d": [
           {
            "line": {
             "colorbar": {
              "outlinewidth": 0,
              "ticks": ""
             }
            },
            "marker": {
             "colorbar": {
              "outlinewidth": 0,
              "ticks": ""
             }
            },
            "type": "scatter3d"
           }
          ],
          "scattercarpet": [
           {
            "marker": {
             "colorbar": {
              "outlinewidth": 0,
              "ticks": ""
             }
            },
            "type": "scattercarpet"
           }
          ],
          "scattergeo": [
           {
            "marker": {
             "colorbar": {
              "outlinewidth": 0,
              "ticks": ""
             }
            },
            "type": "scattergeo"
           }
          ],
          "scattergl": [
           {
            "marker": {
             "colorbar": {
              "outlinewidth": 0,
              "ticks": ""
             }
            },
            "type": "scattergl"
           }
          ],
          "scattermapbox": [
           {
            "marker": {
             "colorbar": {
              "outlinewidth": 0,
              "ticks": ""
             }
            },
            "type": "scattermapbox"
           }
          ],
          "scatterpolar": [
           {
            "marker": {
             "colorbar": {
              "outlinewidth": 0,
              "ticks": ""
             }
            },
            "type": "scatterpolar"
           }
          ],
          "scatterpolargl": [
           {
            "marker": {
             "colorbar": {
              "outlinewidth": 0,
              "ticks": ""
             }
            },
            "type": "scatterpolargl"
           }
          ],
          "scatterternary": [
           {
            "marker": {
             "colorbar": {
              "outlinewidth": 0,
              "ticks": ""
             }
            },
            "type": "scatterternary"
           }
          ],
          "surface": [
           {
            "colorbar": {
             "outlinewidth": 0,
             "ticks": ""
            },
            "colorscale": [
             [
              0,
              "#0d0887"
             ],
             [
              0.1111111111111111,
              "#46039f"
             ],
             [
              0.2222222222222222,
              "#7201a8"
             ],
             [
              0.3333333333333333,
              "#9c179e"
             ],
             [
              0.4444444444444444,
              "#bd3786"
             ],
             [
              0.5555555555555556,
              "#d8576b"
             ],
             [
              0.6666666666666666,
              "#ed7953"
             ],
             [
              0.7777777777777778,
              "#fb9f3a"
             ],
             [
              0.8888888888888888,
              "#fdca26"
             ],
             [
              1,
              "#f0f921"
             ]
            ],
            "type": "surface"
           }
          ],
          "table": [
           {
            "cells": {
             "fill": {
              "color": "#EBF0F8"
             },
             "line": {
              "color": "white"
             }
            },
            "header": {
             "fill": {
              "color": "#C8D4E3"
             },
             "line": {
              "color": "white"
             }
            },
            "type": "table"
           }
          ]
         },
         "layout": {
          "annotationdefaults": {
           "arrowcolor": "#2a3f5f",
           "arrowhead": 0,
           "arrowwidth": 1
          },
          "autotypenumbers": "strict",
          "coloraxis": {
           "colorbar": {
            "outlinewidth": 0,
            "ticks": ""
           }
          },
          "colorscale": {
           "diverging": [
            [
             0,
             "#8e0152"
            ],
            [
             0.1,
             "#c51b7d"
            ],
            [
             0.2,
             "#de77ae"
            ],
            [
             0.3,
             "#f1b6da"
            ],
            [
             0.4,
             "#fde0ef"
            ],
            [
             0.5,
             "#f7f7f7"
            ],
            [
             0.6,
             "#e6f5d0"
            ],
            [
             0.7,
             "#b8e186"
            ],
            [
             0.8,
             "#7fbc41"
            ],
            [
             0.9,
             "#4d9221"
            ],
            [
             1,
             "#276419"
            ]
           ],
           "sequential": [
            [
             0,
             "#0d0887"
            ],
            [
             0.1111111111111111,
             "#46039f"
            ],
            [
             0.2222222222222222,
             "#7201a8"
            ],
            [
             0.3333333333333333,
             "#9c179e"
            ],
            [
             0.4444444444444444,
             "#bd3786"
            ],
            [
             0.5555555555555556,
             "#d8576b"
            ],
            [
             0.6666666666666666,
             "#ed7953"
            ],
            [
             0.7777777777777778,
             "#fb9f3a"
            ],
            [
             0.8888888888888888,
             "#fdca26"
            ],
            [
             1,
             "#f0f921"
            ]
           ],
           "sequentialminus": [
            [
             0,
             "#0d0887"
            ],
            [
             0.1111111111111111,
             "#46039f"
            ],
            [
             0.2222222222222222,
             "#7201a8"
            ],
            [
             0.3333333333333333,
             "#9c179e"
            ],
            [
             0.4444444444444444,
             "#bd3786"
            ],
            [
             0.5555555555555556,
             "#d8576b"
            ],
            [
             0.6666666666666666,
             "#ed7953"
            ],
            [
             0.7777777777777778,
             "#fb9f3a"
            ],
            [
             0.8888888888888888,
             "#fdca26"
            ],
            [
             1,
             "#f0f921"
            ]
           ]
          },
          "colorway": [
           "#636efa",
           "#EF553B",
           "#00cc96",
           "#ab63fa",
           "#FFA15A",
           "#19d3f3",
           "#FF6692",
           "#B6E880",
           "#FF97FF",
           "#FECB52"
          ],
          "font": {
           "color": "#2a3f5f"
          },
          "geo": {
           "bgcolor": "white",
           "lakecolor": "white",
           "landcolor": "white",
           "showlakes": true,
           "showland": true,
           "subunitcolor": "#C8D4E3"
          },
          "hoverlabel": {
           "align": "left"
          },
          "hovermode": "closest",
          "mapbox": {
           "style": "light"
          },
          "paper_bgcolor": "white",
          "plot_bgcolor": "white",
          "polar": {
           "angularaxis": {
            "gridcolor": "#EBF0F8",
            "linecolor": "#EBF0F8",
            "ticks": ""
           },
           "bgcolor": "white",
           "radialaxis": {
            "gridcolor": "#EBF0F8",
            "linecolor": "#EBF0F8",
            "ticks": ""
           }
          },
          "scene": {
           "xaxis": {
            "backgroundcolor": "white",
            "gridcolor": "#DFE8F3",
            "gridwidth": 2,
            "linecolor": "#EBF0F8",
            "showbackground": true,
            "ticks": "",
            "zerolinecolor": "#EBF0F8"
           },
           "yaxis": {
            "backgroundcolor": "white",
            "gridcolor": "#DFE8F3",
            "gridwidth": 2,
            "linecolor": "#EBF0F8",
            "showbackground": true,
            "ticks": "",
            "zerolinecolor": "#EBF0F8"
           },
           "zaxis": {
            "backgroundcolor": "white",
            "gridcolor": "#DFE8F3",
            "gridwidth": 2,
            "linecolor": "#EBF0F8",
            "showbackground": true,
            "ticks": "",
            "zerolinecolor": "#EBF0F8"
           }
          },
          "shapedefaults": {
           "line": {
            "color": "#2a3f5f"
           }
          },
          "ternary": {
           "aaxis": {
            "gridcolor": "#DFE8F3",
            "linecolor": "#A2B1C6",
            "ticks": ""
           },
           "baxis": {
            "gridcolor": "#DFE8F3",
            "linecolor": "#A2B1C6",
            "ticks": ""
           },
           "bgcolor": "white",
           "caxis": {
            "gridcolor": "#DFE8F3",
            "linecolor": "#A2B1C6",
            "ticks": ""
           }
          },
          "title": {
           "x": 0.05
          },
          "xaxis": {
           "automargin": true,
           "gridcolor": "#EBF0F8",
           "linecolor": "#EBF0F8",
           "ticks": "",
           "title": {
            "standoff": 15
           },
           "zerolinecolor": "#EBF0F8",
           "zerolinewidth": 2
          },
          "yaxis": {
           "automargin": true,
           "gridcolor": "#EBF0F8",
           "linecolor": "#EBF0F8",
           "ticks": "",
           "title": {
            "standoff": 15
           },
           "zerolinecolor": "#EBF0F8",
           "zerolinewidth": 2
          }
         }
        },
        "xaxis": {
         "anchor": "y",
         "domain": [
          0,
          1
         ],
         "tickangle": 90,
         "title": {
          "text": "Decades"
         }
        },
        "yaxis": {
         "anchor": "x",
         "domain": [
          0,
          1
         ],
         "range": [
          0,
          100
         ],
         "title": {
          "text": "Progress"
         }
        }
       }
      }
     },
     "metadata": {},
     "output_type": "display_data"
    }
   ],
   "source": [
    "adf = pd.read_csv(\"albums.csv\", sep=';')\n",
    "adf['Rounded year'] = adf['Year'].apply(lambda x: 10 * round(int(x) / 10))\n",
    "adf['Have'] = adf['Have'].apply(lambda x: 1 if x == \"X\" else x)\n",
    "\n",
    "labels = []\n",
    "percentages = []\n",
    "    \n",
    "for year in [\"Total\"] + sorted(adf['Rounded year'].unique()):\n",
    "    if year == \"Total\": \n",
    "        need = len(adf); got = len(adf[(adf['Have'] == 1)])\n",
    "    else: \n",
    "        need = len(adf[adf['Rounded year'] == year])\n",
    "        got = len(adf[(adf['Rounded year'] == year) & (adf['Have'] == 1)])\n",
    "    score = got/need\n",
    "    percentages.append((got/need) * 100)\n",
    "    labels.append(f\"{year-5}-{year+4}\" if year != \"Total\" else \"Total\")\n",
    "\n",
    "colors = [\"complete_color\" if perc == 100 else \"incomplete_color\" for perc in percentages]\n",
    "colors[0] = \"total_color\" if colors[0] == \"incomplete_color\" else \"complete_color\"\n",
    "\n",
    "d = {\"Decades\": labels, \"Progress\": percentages}\n",
    "df1 = pd.DataFrame(data=d)\n",
    "fig = px.bar(df1, x=\"Decades\", y=\"Progress\", template='plotly_white', color=colors,\n",
    "             color_discrete_map={\"total_color\":\"#ef553b\", \"complete_color\":\"#FECB52\", \"incomplete_color\":\"#636efa\"})\n",
    "fig.update_layout(yaxis_range=[0,100], showlegend=False)\n",
    "fig.update_xaxes(tickangle=90)\n",
    "fig.show()"
   ]
  }
 ],
 "metadata": {
  "kernelspec": {
   "display_name": "jupyterbook",
   "language": "python",
   "name": "python3"
  },
  "language_info": {
   "codemirror_mode": {
    "name": "ipython",
    "version": 3
   },
   "file_extension": ".py",
   "mimetype": "text/x-python",
   "name": "python",
   "nbconvert_exporter": "python",
   "pygments_lexer": "ipython3",
   "version": "3.10.14"
  },
  "widgets": {
   "application/vnd.jupyter.widget-state+json": {
    "state": {},
    "version_major": 2,
    "version_minor": 0
   }
  }
 },
 "nbformat": 4,
 "nbformat_minor": 4
}
