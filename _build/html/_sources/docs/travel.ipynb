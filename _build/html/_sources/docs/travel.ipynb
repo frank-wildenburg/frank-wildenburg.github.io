{
 "cells": [
  {
   "cell_type": "markdown",
   "metadata": {},
   "source": [
    "# Travel"
   ]
  },
  {
   "cell_type": "code",
   "execution_count": 104,
   "metadata": {
    "tags": [
     "remove-input"
    ]
   },
   "outputs": [
    {
     "name": "stdout",
     "output_type": "stream",
     "text": [
      "Last updated: 2025-01-06\n"
     ]
    }
   ],
   "source": [
    "import datetime\n",
    "print(f\"Last updated: {str(datetime.datetime.now())[:10]}\")"
   ]
  },
  {
   "cell_type": "markdown",
   "metadata": {},
   "source": [
    "After traveling to various cultural sites for some years, I found a rule of thumb for finding good spots to visit: check if something is a UNESCO World Heritage site. Sometimes this leads to obvious suggestions (Vatican City, Paris, Amsterdam) but more often than not visiting world heritage sites has shown me sites that are very much worth visiting but not as touristy as the usual sites (e.g., Bologna, Orange, Albi).\n",
    "\n",
    "At first, my enthousiasm led to the dream of visiting all world heritage sites in Europe, but this dream soon showed to be too ambitious. All EU countries then? Still quite a lot. Some narrowing down brought me to the following goal: visit all world heritage sites in the continental part of the original member states of the European Union. Achievable, but also ambitious, with Germany, France and Italy as the biggest obstacles. Since then, I've been using this as a heuristic in planning vacations.\n",
    "\n",
    "(Of course, I still travel outside of these guidelines as well. Occasionally this leads to another world heritage site, and these are also included in the below map)\n",
    "\n",
    "Lines mark seperate vacations. Lines in grey mark planned vacations, lines in light gray are trips I'd like to make someday"
   ]
  },
  {
   "cell_type": "code",
   "execution_count": 105,
   "metadata": {
    "tags": [
     "remove-input"
    ]
   },
   "outputs": [
    {
     "data": {
      "application/vnd.plotly.v1+json": {
       "config": {
        "plotlyServerURL": "https://plot.ly",
        "scrollZoom": true
       },
       "data": [
        {
         "hovertemplate": "lat=%{lat}<br>lon=%{lon}<extra></extra>",
         "lat": [
          43.95277778,
          43.94722222,
          43.95277778,
          44.13572222,
          43.95277778,
          43.67763889,
          43.95277778,
          43.83822222,
          43.2070631,
          43.61138889,
          43.6083297,
          43.92833333
         ],
         "legendgroup": "",
         "line": {
          "color": "purple"
         },
         "lon": [
          4.806111111,
          4.535277778,
          4.806111111,
          4.808416667,
          4.806111111,
          4.630694444,
          4.806111111,
          4.356111111,
          2.3636562,
          1.416388889,
          1.4233499,
          2.1425
         ],
         "mode": "lines",
         "name": "",
         "showlegend": false,
         "subplot": "mapbox",
         "type": "scattermapbox"
        },
        {
         "hovertemplate": "lat=%{lat}<br>lon=%{lon}<extra></extra>",
         "lat": [
          41.14166667,
          38.69194,
          38.78333
         ],
         "legendgroup": "",
         "line": {
          "color": "yellow"
         },
         "lon": [
          -8.616666667,
          -9.21583,
          -9.41667
         ],
         "mode": "lines",
         "name": "",
         "showlegend": false,
         "subplot": "mapbox",
         "type": "scattermapbox"
        },
        {
         "hovertemplate": "lat=%{lat}<br>lon=%{lon}<extra></extra>",
         "lat": [
          50.84668,
          50.835,
          50.82806,
          50.7797848,
          50.8717371,
          51.1836615
         ],
         "legendgroup": "",
         "line": {
          "color": "yellow"
         },
         "lon": [
          4.35242,
          4.416111111,
          4.36223,
          4.3474626,
          4.6948173,
          4.3906619
         ],
         "mode": "lines",
         "name": "",
         "showlegend": false,
         "subplot": "mapbox",
         "type": "scattermapbox"
        },
        {
         "hovertemplate": "lat=%{lat}<br>lon=%{lon}<extra></extra>",
         "lat": [
          45.466,
          45.43861111,
          44.49138889,
          43.77306,
          41.90216,
          41.89022222
         ],
         "legendgroup": "",
         "line": {
          "color": "green"
         },
         "lon": [
          9.171,
          10.99388889,
          11.33277778,
          11.25611,
          12.45736,
          12.49230556
         ],
         "mode": "lines",
         "name": "",
         "showlegend": false,
         "subplot": "mapbox",
         "type": "scattermapbox"
        },
        {
         "hovertemplate": "lat=%{lat}<br>lon=%{lon}<extra></extra>",
         "lat": [
          50.97866389,
          50.9775,
          50.97477778,
          50.40652778,
          52.51972222,
          52.44833333,
          52.4
         ],
         "legendgroup": "",
         "line": {
          "color": "darkorange"
         },
         "lon": [
          11.02923333,
          11.32861,
          11.3295,
          12.83734444,
          13.39861111,
          13.45,
          13.03333333
         ],
         "mode": "lines",
         "name": "",
         "showlegend": false,
         "subplot": "mapbox",
         "type": "scattermapbox"
        },
        {
         "hovertemplate": "lat=%{lat}<br>lon=%{lon}<extra></extra>",
         "lat": [
          50.48111,
          50.43077,
          50.43527778,
          50.4625,
          50.60603
         ],
         "legendgroup": "",
         "line": {
          "color": "lightgray"
         },
         "lon": [
          4.13722,
          3.97879,
          3.838333333,
          3.546111111,
          3.38926
         ],
         "mode": "lines",
         "name": "",
         "showlegend": false,
         "subplot": "mapbox",
         "type": "scattermapbox"
        },
        {
         "hovertemplate": "lat=%{lat}<br>lon=%{lon}<extra></extra>",
         "lat": [
          49.918,
          49.87638889,
          49.65369,
          49.31722222,
          49.31621111,
          49.00083,
          48.58444444,
          48.69361111,
          49.24872222
         ],
         "legendgroup": "",
         "line": {
          "color": "lightgray"
         },
         "lon": [
          8.757,
          8.6675,
          8.56858,
          8.442388889,
          8.439538889,
          8.81306,
          7.748888889,
          6.183333333,
          6.844222222
         ],
         "mode": "lines",
         "name": "",
         "showlegend": false,
         "subplot": "mapbox",
         "type": "scattermapbox"
        },
        {
         "hovertemplate": "lat=%{lat}<br>lon=%{lon}<extra></extra>",
         "lat": [
          40.85138889,
          41.07333,
          41.08480556,
          40.7825,
          40.66638889,
          40.28333333,
          40.63333333,
          40.85138889
         ],
         "legendgroup": "",
         "line": {
          "color": "lightgray"
         },
         "lon": [
          14.26277778,
          14.32639,
          16.27094444,
          17.23694,
          16.61027778,
          15.26666667,
          14.60277778,
          14.26277778
         ],
         "mode": "lines",
         "name": "",
         "showlegend": false,
         "subplot": "mapbox",
         "type": "scattermapbox"
        },
        {
         "hovertemplate": "lat=%{lat}<br>lon=%{lon}<extra></extra>",
         "lat": [
          38.11083333,
          38.48786111,
          37.75611111,
          37.05944,
          36.89319444,
          37.36611,
          37.28972222,
          38.11083333
         ],
         "legendgroup": "",
         "line": {
          "color": "lightgray"
         },
         "lon": [
          13.35305556,
          14.94558333,
          14.99666667,
          15.29306,
          15.06891667,
          14.33417,
          13.59333333,
          13.35305556
         ],
         "mode": "lines",
         "name": "",
         "showlegend": false,
         "subplot": "mapbox",
         "type": "scattermapbox"
        },
        {
         "hovertemplate": "lat=%{lat}<br>lon=%{lon}<extra></extra>",
         "lat": [
          50.49222222,
          49.61,
          49.75,
          50.17361111,
          50.82502778,
          51.49138889
         ],
         "legendgroup": "",
         "line": {
          "color": "lightgray"
         },
         "lon": [
          5.866944444,
          6.13333,
          6.633333333,
          7.694166667,
          6.909777778,
          7.046111111
         ],
         "mode": "lines",
         "name": "",
         "showlegend": false,
         "subplot": "mapbox",
         "type": "scattermapbox"
        },
        {
         "customdata": [
          [
           "7,5",
           "2018",
           "Salzburg has managed to preserve an extraordinarily <br>rich urban fabric, developed over the period <br>from the Middle Ages to the 19th century <br>when it was a city-state ruled by a prince-archbishop. <br>Its Flamboyant Gothic art attracted many <br>craftsmen and artists before the city became <br>even better known through the work of the <br>Italian architects Vincenzo Scamozzi and <br>Santini Solari, to whom the centre of Salzburg <br>owes much of its Baroque appearance. This <br>meeting-point of northern and southern Europe <br>perhaps sparked the genius of Salzburg's <br>most famous son, Wolfgang Amadeus Mozart, <br>whose name has been associated with the city <br>ever since. .",
           47.80055556,
           13.04333333
          ],
          [
           "8,5",
           "2016",
           "From the 18th century to 1918, Schönbrunn <br>was the residence of the Habsburg emperors. <br>It was designed by the architects Johann <br>Bernhard Fischer von Erlach and Nicolaus <br>Pacassi and is full of outstanding examples <br>of decorative art. Together with its gardens, <br>the site of the world’s first zoo in 1752, <br>it is a remarkable Baroque ensemble and a <br>perfect example of <em>Gesamtkunstwerk</em>. .",
           48.18666667,
           16.31333333
          ],
          [
           "9",
           "2016",
           "The Wachau is a stretch of the Danube Valley <br>between Melk and Krems, a landscape of high <br>visual quality. It preserves in an intact <br>and visible form many traces - in terms of <br>architecture, (monasteries, castles, ruins), <br>urban design, (towns and villages), and agricultural <br>use, principally for the cultivation of vines <br>- of its evolution since prehistoric times. .",
           48.36444444,
           15.43416667
          ],
          [
           "8",
           "2016",
           "Vienna developed from early Celtic and Roman <br>settlements into a Medieval and Baroque city, <br>the capital of the Austro-Hungarian Empire. <br>It played an essential role as a leading <br>European music centre, from the great age <br>of Viennese Classicism through the early <br>part of the 20th century. The historic centre <br>of Vienna is rich in architectural ensembles, <br>including Baroque castles and gardens, as <br>well as the late-19th-century Ringstrasse <br>lined with grand buildings, monuments and <br>parks. .",
           48.2094,
           16.3699
          ],
          [
           "8",
           "2024",
           "The <em>Béguines</em> were women who dedicated <br>their lives to God without retiring from <br>the world. In the 13th century they founded <br>the <em>béguinages</em> , enclosed communities <br>designed to meet their spiritual and material <br>needs. The Flemish <em>béguinages</em> are <br>architectural ensembles composed of houses, <br>churches, ancillary buildings and green spaces, <br>with a layout of either urban or rural origin <br>and built in styles specific to the Flemish <br>cultural region. They are a fascinating reminder <br>of the tradition of the <em>Béguines</em> <br>that developed in north-western Europe in <br>the Middle Ages. .",
           50.8717371,
           4.6948173
          ],
          [
           "8,5",
           "2024",
           "La Grand-Place in Brussels is a remarkably <br>homogeneous body of public and private buildings, <br>dating mainly from the late 17th century. <br>The architecture provides a vivid illustration <br>of the level of social and cultural life <br>of the period in this important political <br>and commercial centre. .",
           50.84668,
           4.35242
          ],
          [
           "8,5",
           "2011",
           "Brugge is an outstanding example of a medieval <br>historic settlement, which has maintained <br>its historic fabric as this has evolved over <br>the centuries, and where original Gothic <br>constructions form part of the town's identity. <br>As one of the commercial and cultural capitals <br>of Europe, Brugge developed cultural links <br>to different parts of the world. It is closely <br>associated with the school of Flemish Primitive <br>painting. .",
           51.20891,
           3.22527
          ],
          [
           "7.5",
           "2024",
           "The four major town houses - Hôtel Tassel, <br>Hôtel Solvay, Hôtel van Eetvelde, and Maison <br>&amp; Atelier Horta - located in Brussels <br>and designed by the architect Victor Horta, <br>one of the earliest initiators of Art Nouveau, <br>are some of the most remarkable pioneering <br>works of architecture of the end of the 19th <br>century. The stylistic revolution represented <br>by these works is characterised by their <br>open plan, the diffusion of light, and the <br>brilliant joining of the curved lines of <br>decoration with the structure of the building. .",
           50.82806,
           4.36223
          ],
          [
           "8,5",
           "2023",
           "The Plantin-Moretus Museum is a printing <br>plant and publishing house dating from the <br>Renaissance and Baroque periods. Situated <br>in Antwerp, one of the three leading cities <br>of early European printing along with Paris <br>and Venice, it is associated with the history <br>of the invention and spread of typography. <br>Its name refers to the greatest printer-publisher <br>of the second half of the 16th century: Christophe <br>Plantin (c. 1520–89). The monument is of <br>outstanding architectural value. It contains <br>exhaustive evidence of the life and work <br>of what was the most prolific printing and <br>publishing house in Europe in the late 16th <br>century.",
           51.21833,
           4.39778
          ],
          [
           "5",
           "2024",
           "When banker and art collector Adolphe Stoclet <br>commissioned this house from one of the leading <br>architects of the Vienna Secession movement, <br>Josef Hoffmann, in 1905, he imposed neither <br>aesthetic nor financial restrictions on the <br>project. The house and garden were completed <br>in 1911 and their austere geometry marked <br>a turning point in Art Nouveau, foreshadowing <br>Art Deco and the Modern Movement in architecture. <br>Stoclet House is one of the most accomplished <br>and homogenous buildings of the Vienna Secession, <br>and features works by Koloman Moser and Gustav <br>Klimt, embodying the aspiration of creating <br>a 'total work of art' (Gesamtkunstwerk).",
           50.835,
           4.416111111
          ],
          [
           "8,5",
           "2014",
           "Built between the 11th and 18th centuries, <br>the Old Town, the Lesser Town and the New <br>Town speak of the great architectural and <br>cultural influence enjoyed by this city since <br>the Middle Ages. The many magnificent monuments, <br>such as Hradcany Castle, St Vitus Cathedral, <br>Charles Bridge and numerous churches and <br>palaces, built mostly in the 14th century <br>under the Holy Roman Emperor, Charles IV. .",
           50.08972,
           14.41944
          ],
          [
           "8",
           "2014",
           "Kutná Hora developed as a result of the exploitation <br>of the silver mines. In the 14th century <br>it became a royal city endowed with monuments <br>that symbolized its prosperity. The Church <br>of St Barbara, a jewel of the late Gothic <br>period, and the Cathedral of Our Lady at <br>Sedlec, which was restored in line with the <br>Baroque taste of the early 18th century, <br>were to influence the architecture of central <br>Europe. These masterpieces today form part <br>of a well-preserved medieval urban fabric <br>with some particularly fine private dwellings. .",
           49.95,
           15.26666667
          ],
          [
           "8,5",
           "2019",
           "The origins of Tallinn date back to the 13th <br>century, when a castle was built there by <br>the crusading knights of the Teutonic Order. <br>It developed as a major centre of the Hanseatic <br>League, and its wealth is demonstrated by <br>the opulence of the public buildings (the <br>churches in particular) and the domestic <br>architecture of the merchants' houses, which <br>have survived to a remarkable degree despite <br>the ravages of fire and war in the intervening <br>centuries. .",
           59.43333,
           24.73333333
          ],
          [
           "7,5",
           "2019",
           "Built in the second half of the 18th century <br>by Sweden on a group of islands located at <br>the entrance of Helsinki's harbour, this <br>fortress is an especially interesting example <br>of European military architecture of the <br>time. .",
           60.14722,
           24.98722
          ],
          [
           "8",
           "2021",
           "The Palace of Versailles was the principal <br>residence of the French kings from the time <br>of Louis XIV to Louis XVI. Embellished by <br>several generations of architects, sculptors, <br>decorators and landscape architects, it provided <br>Europe with a model of the ideal royal residence <br>for over a century. .",
           48.805,
           2.119444444
          ],
          [
           "8",
           "2023",
           "Amiens Cathedral, in the heart of Picardy, <br>is one of the largest 'classic' Gothic churches <br>of the 13th century. It is notable for the <br>coherence of its plan, the beauty of its <br>three-tier interior elevation and the particularly <br>fine display of sculptures on the principal <br>facade and in the south transept. .",
           49.895,
           2.301666667
          ],
          [
           "9",
           "2024",
           "Situated in the Rhone valley, the ancient <br>theatre of Orange, with its 103-m-long facade, <br>is one of the best preserved of all the great <br>Roman theatres. Built between A.D. 10 and <br>25, the Roman arch is one of the most beautiful <br>and interesting surviving examples of a provincial <br>triumphal arch from the reign of Augustus. <br>It is decorated with low reliefs commemorating <br>the establishment of the Pax Romana. .",
           44.13572222,
           4.808416667
          ],
          [
           "8,5",
           "2024",
           "Arles is a good example of the adaptation <br>of an ancient city to medieval European civilization. <br>It has some impressive Roman monuments, of <br>which the earliest – the arena, the Roman <br>theatre and the cryptoporticus (subterranean <br>galleries) – date back to the 1st century <br>B.C. During the 4th century Arles experienced <br>a second golden age, as attested by the baths <br>of Constantine and the necropolis of Alyscamps. <br>In the 11th and 12th centuries, Arles once <br>again became one of the most attractive cities <br>in the Mediterranean. Within the city walls, <br>Saint-Trophime, with its cloister, is one <br>of Provence's major Romanesque monuments. .",
           43.67763889,
           4.630694444
          ],
          [
           "8",
           "2024",
           "In the 14th century, this city in the South <br>of France was the seat of the papacy. The <br>Palais des Papes, an austere-looking fortress <br>lavishly decorated by Simone Martini and <br>Matteo Giovanetti, dominates the city, the <br>surrounding ramparts and the remains of a <br>12th-century bridge over the Rhone. Beneath <br>this outstanding example of Gothic architecture, <br>the Petit Palais and the Romanesque Cathedral <br>of Notre-Dame-des-Doms complete an exceptional <br>group of monuments that testify to the leading <br>role played by Avignon in 14th-century Christian <br>Europe. .",
           43.95277778,
           4.806111111
          ],
          [
           "9",
           "2024",
           "The Pont du Gard was built shortly before <br>the Christian era to allow the aqueduct of <br>Nîmes (which is almost 50 km long) to cross <br>the Gard river. The Roman architects and <br>hydraulic engineers who designed this bridge, <br>which stands almost 50 m high and is on three <br>levels – the longest measuring 275 m – created <br>a technical as well as an artistic masterpiece. .",
           43.94722222,
           4.535277778
          ],
          [
           "9",
           "2024",
           "Since the pre-Roman period, a fortified settlement <br>has existed on the hill where Carcassonne <br>now stands. In its present form it is an <br>outstanding example of a medieval fortified <br>town, with its massive defences encircling <br>the castle and the surrounding buildings, <br>its streets and its fine Gothic cathedral. <br>Carcassonne is also of exceptional importance <br>because of the lengthy restoration campaign <br>undertaken by Viollet-le-Duc, one of the <br>founders of the modern science of conservation. .",
           43.2070631,
           2.3636562
          ],
          [
           "8,5",
           "2024",
           "From the Louvre to the Eiffel Tower, from <br>the Place de la Concorde to the Grand and <br>Petit Palais, the evolution of Paris and <br>its history can be seen from the River Seine. <br>The Cathedral of Notre-Dame and the Sainte <br>Chapelle are architectural masterpieces while <br>Haussmann's wide squares and boulevards influenced <br>late 19th- and 20th-century town planning <br>the world over. .",
           48.8655,
           2.321138889
          ],
          [
           "7",
           "2024",
           "This 360-km network of navigable waterways <br>linking the Mediterranean and the Atlantic <br>through 328 structures (locks, aqueducts, <br>bridges, tunnels, etc.) is one of the most <br>remarkable feats of civil engineering in <br>modern times. Built between 1667 and 1694, <br>it paved the way for the Industrial Revolution. <br>The care that its creator, Pierre-Paul Riquet, <br>took in the design and the way it blends <br>with its surroundings turned a technical <br>achievement into a work of art. .",
           43.61138889,
           1.416388889
          ],
          [
           "8,5",
           "2024",
           "Santiago de Compostela was the supreme goal <br>for countless thousands of pious pilgrims <br>who converged there from all over Europe <br>throughout the Middle Ages. To reach Spain <br>pilgrims had to pass through France, and <br>the group of important historical monuments <br>included in this inscription marks out the <br>four routes by which they did so. .",
           43.6083297,
           1.4233499
          ],
          [
           "10",
           "2024",
           "On the banks of the Tarn river in south-west <br>France, the old city of Albi reflects the <br>culmination of a medieval architectural and <br>urban ensemble. Today the Old Bridge (Pont-Vieux), <br>the Saint-Salvi quarter and its church are <br>testimony to its initial development (10th <br>-11th centuries). Following the Albigensian <br>Crusade against the Cathar heretics (13th <br>century) it became a powerful episcopal city. <br>Built in a unique southern French Gothic <br>style from local brick in characteristic <br>red and orange colours, the lofty fortified <br>Cathedral (late 13th century) dominates the <br>city, demonstrating the power regained by <br>the Roman Catholic clergy. Alongside the <br>Cathedral is the vast bishop's Palais de <br>la Berbie, overlooking the river and surrounded <br>by residential quarters that date back to <br>the Middle Ages.",
           43.92833333,
           2.1425
          ],
          [
           "7,5",
           "2024",
           "Erected in the 1st century CE in the Roman <br>colony of <em>Nemausus</em> – today’s Nîmes <br>in France – the Maison Carrée is an early <br>example of a Roman temple associated with <br>imperial worship in the provinces of Rome. <br>Dedicated to the prematurely deceased heirs <br>of Augustus, the Princes of Youth, this edifice <br>fostered Rome’s control over its conquered <br>territory while symbolically announcing the <br>allegiance of the population of the city <br>of <em>Nemausus</em> to the dynastic line <br>of Augustus. The architecture and elaborate <br>decoration symbolically communicated the <br>ideological programme of Augustus, who transitioned <br>Ancient Rome from republic to empire, opening <br>a new golden age known as <em>Pax Romana</em>. .",
           43.83822222,
           4.356111111
          ],
          [
           "8,5",
           "2019",
           "Construction of this palatine chapel, with <br>its octagonal basilica and cupola, began <br>c. 790–800 under the Emperor Charlemagne. <br>Originally inspired by the churches of the <br>Eastern part of the Holy Roman Empire, it <br>was splendidly enlarged in the Middle Ages. .",
           50.77444444,
           6.084444444
          ],
          [
           "9,5",
           "2017",
           "Begun in 1248, the construction of this Gothic <br>masterpiece took place in several stages <br>and was not completed until 1880. Over seven <br>centuries, successive builders were inspired <br>by the same faith and a spirit of absolute <br>fidelity to the original plans. Apart from <br>its exceptional intrinsic value and the artistic <br>masterpieces it contains, Cologne Cathedral <br>testifies to the enduring strength of European <br>Christianity. .",
           50.94111111,
           6.957222222
          ],
          [
           "8.5",
           "2024",
           "With 500 ha of parks and 150 buildings constructed <br>between 1730 and 1916, Potsdam's complex <br>of palaces and parks forms an artistic whole, <br>whose eclectic nature reinforces its sense <br>of uniqueness. It extends into the district <br>of Berlin-Zehlendorf, with the palaces and <br>parks lining the banks of the River Havel <br>and Lake Glienicke. Voltaire stayed at the <br>Sans-Souci Palace, built under Frederick <br>II between 1745 and 1747. .",
           52.4,
           13.03333333
          ],
          [
           "8",
           "2024",
           "Between 1919 and 1933 the Bauhaus movement <br>revolutionized architectural and aesthetic <br>thinking and practice in the 20th century. <br>The Bauhaus buildings in Weimar, Dessau and <br>Bernau are fundamental representatives of <br>Classical Modernism, directed towards a radical <br>renewal of architecture and design. This <br>property, which was inscribed on the World <br>Heritage List in 1996, originally comprised <br>buildings located in Weimar (Former Art School, <br>the Applied Art School and the Haus Am Horn) <br>and Dessau (Bauhaus Building, the group of <br>seven Masters' Houses). The 2017 extension <br>includes the Houses with Balcony Access in <br>Dessau and the ADGB Trade Union School in <br>Bernau as important contributions to the <br>Bauhaus ideas of austere design, functionalism <br>and social reform. .",
           50.97477778,
           11.3295
          ],
          [
           "8.5",
           "2024",
           "In the late 18th and early 19th centuries <br>the small Thuringian town of Weimar witnessed <br>a remarkable cultural flowering, attracting <br>many writers and scholars, notably Goethe <br>and Schiller. This development is reflected <br>in the high quality of many of the buildings <br>and of the parks in the surrounding area. .",
           50.9775,
           11.32861
          ],
          [
           "8.5",
           "2024",
           "The museum as a social phenomenon owes its <br>origins to the Age of Enlightenment in the <br>18th century. The five museums on the Museumsinsel <br>in Berlin, built between 1824 and 1930, are <br>the realization of a visionary project and <br>show the evolution of approaches to museum <br>design over the course of the 20th century. <br>Each museum was designed so as to establish <br>an organic connection with the art it houses. <br>The importance of the museum's collections <br>- which trace the development of civilizations <br>throughout the ages - is enhanced by the <br>urban and architectural quality of the buildings. .",
           52.51972222,
           13.39861111
          ],
          [
           "5",
           "2024",
           "Berlin Modernism Housing Estates. The property <br>consists of six housing estates that testify <br>to innovative housing policies from 1910 <br>to 1933, especially during the Weimar Republic, <br>when the city of Berlin was particularly <br>progressive socially, politically and culturally. <br>The property is an outstanding example of <br>the building reform movement that contributed <br>to improving housing and living conditions <br>for people with low incomes through novel <br>approaches to town planning, architecture <br>and garden design. The estates also provide <br>exceptional examples of new urban and architectural <br>typologies, featuring fresh design solutions, <br>as well as technical and aesthetic innovations.",
           52.44833333,
           13.45
          ],
          [
           "2",
           "2024",
           "Located in the medieval historic centre of <br>Erfurt, the capital city of Thuringia, the <br>property comprises three monuments: the Old <br>Synagogue, the Mikveh, and the Stone House. <br>They illustrate the life of the local Jewish <br>community and its coexistence with a Christian <br>majority in Central Europe during the Middle <br>Ages, between the end of the 11th and the <br>mid-14th century. .",
           50.97866389,
           11.02923333
          ],
          [
           "8,5",
           "2022",
           "The Vatican City, one of the most sacred <br>places in Christendom, attests to a great <br>history and a formidable spiritual venture. <br>A unique collection of artistic and architectural <br>masterpieces lie within the boundaries of <br>this small state. At its centre is St Peter's <br>Basilica, with its double colonnade and a <br>circular piazza in front and bordered by <br>palaces and gardens. The basilica, erected <br>over the tomb of St Peter the Apostle, is <br>the largest religious building in the world, <br>the fruit of the combined genius of Bramante, <br>Raphael, Michelangelo, Bernini and Maderno. .",
           41.90216,
           12.45736
          ],
          [
           "8",
           "2015",
           "This site has the remains of monuments such <br>as the Roman city of Aquincum and the Gothic <br>castle of Buda, which have had a considerable <br>influence on the architecture of various <br>periods. It is one of the world's outstanding <br>urban landscapes and illustrates the great <br>periods in the history of the Hungarian capital. .",
           47.48242,
           19.07067
          ],
          [
           "7",
           "2022",
           "The refectory of the Convent of Santa Maria <br>delle Grazie forms an integral part of this <br>architectural complex, begun in Milan in <br>1463 and reworked at the end of the 15th <br>century by Bramante. On the north wall is <br><em>The Last Supper</em>, the unrivalled <br>masterpiece painted between 1495 and 1497 <br>by Leonardo da Vinci, whose work was to herald <br>a new era in the history of art. .",
           45.466,
           9.171
          ],
          [
           "9,5",
           "2022",
           "Built on the site of an Etruscan settlement, <br>Florence, the symbol of the Renaissance, <br>rose to economic and cultural pre-eminence <br>under the Medici in the 15th and 16th centuries. <br>Its 600 years of extraordinary artistic activity <br>can be seen above all in the 13th-century <br>cathedral (Santa Maria del Fiore), the Church <br>of Santa Croce, the Uffizi and the Pitti <br>Palace, the work of great masters such as <br>Giotto, Brunelleschi, Botticelli and Michelangelo. .",
           43.77306,
           11.25611
          ],
          [
           "9",
           "2017",
           "Founded in the 5th century and spread over <br>118 small islands, Venice became a major <br>maritime power in the 10th century. The whole <br>city is an extraordinary architectural masterpiece <br>in which even the smallest building contains <br>works by some of the world's greatest artists <br>such as Giorgione, Titian, Tintoretto, Veronese <br>and others. .",
           45.43430556,
           12.33894444
          ],
          [
           "8",
           "2017",
           "Founded in the 2nd century B.C. in northern <br>Italy, Vicenza prospered under Venetian rule <br>from the early 15th to the end of the 18th <br>century. The work of Andrea Palladio (1508–80), <br>based on a detailed study of classical Roman <br>architecture, gives the city its unique appearance. <br>Palladio's urban buildings, as well as his <br>villas, scattered throughout the Veneto region, <br>had a decisive influence on the development <br>of architecture. His work inspired a distinct <br>architectural style known as Palladian, which <br>spread to England and other European countries, <br>and also to North America. .",
           45.54916667,
           11.54944444
          ],
          [
           "8",
           "2022",
           "The historic city of Verona was founded in <br>the 1st century B.C. It particularly flourished <br>under the rule of the Scaliger family in <br>the 13th and 14th centuries and as part of <br>the Republic of Venice from the 15th to 18th <br>centuries. Verona has preserved a remarkable <br>number of monuments from antiquity, the medieval <br>and Renaissance periods, and represents an <br>outstanding example of a military stronghold. .",
           45.43861111,
           10.99388889
          ],
          [
           "9",
           "2008",
           "When Vesuvius erupted on 24 August AD 79, <br>it engulfed the two flourishing Roman towns <br>of Pompei and Herculaneum, as well as the <br>many wealthy villas in the area. These have <br>been progressively excavated and made accessible <br>to the public since the mid-18th century. <br>The vast expanse of the commercial town of <br>Pompei contrasts with the smaller but better-preserved <br>remains of the holiday resort of Herculaneum, <br>while the superb wall paintings of the Villa <br>Oplontis at Torre Annunziata give a vivid <br>impression of the opulent lifestyle enjoyed <br>by the wealthier citizens of the Early Roman <br>Empire. .",
           40.75,
           14.48333333
          ],
          [
           "10",
           "2022",
           "The serial property comprises twelve component <br>parts consisting of ensembles of porticoes <br>and their surrounding built areas, located <br>within the Municipality of Bologna from the <br>12th century to the present. These portico <br>ensembles are considered to be the most representative <br>among city’s porticoes, which cover a total <br>stretch of 62 km. Some of the porticoes are <br>built of wood, others of stone or brick, <br>as well as reinforced concrete, covering <br>roads, squares, paths and walkways, either <br>on one or both sides of a street. The property <br>includes porticoed buildings that do not <br>form a structural continuum with other buildings <br>and therefore are not part of a comprehensive <br>covered walkway or passage. The porticoes <br>are appreciated as sheltered walkways and <br>prime locations for merchant activities.",
           44.49138889,
           11.33277778
          ],
          [
           "9",
           "2019",
           "Riga was a major centre of the Hanseatic <br>League, deriving its prosperity in the 13th–15th <br>centuries from the trade with central and <br>eastern Europe. The urban fabric of its medieval <br>centre reflects this prosperity, though most <br>of the earliest buildings were destroyed <br>by fire or war. Riga became an important <br>economic centre in the 19th century, when <br>the suburbs surrounding the medieval town <br>were laid out, first with imposing wooden <br>buildings in neoclassical style and then <br>in <em>Jugendstil</em> . It is generally <br>recognized that Riga has the finest collection <br>of art nouveau buildings in Europe. .",
           56.95417,
           24.11667
          ],
          [
           "7,5",
           "2024",
           "The Dutch Water Defence Lines represents <br>a defence system extending over 200 km along <br>the edge of the administrative and economic <br>heartland of Holland. It is comprised of <br>the New Dutch Waterline and the Defence Line <br>of Amsterdam. Built between 1815 and 1940, <br>the system consists of a network of forts, <br>dikes, sluices, pumping stations, canals <br>and inundation polders, working in concert <br>to protect the Netherlands by applying the <br>principle of temporary flooding of the land. <br>It has been developed thanks to the special <br>knowledge of hydraulic engineering for defence <br>purposes held and applied by the people of <br>the Netherlands since the 16th century. Each <br>of the polders along the line of fortifications <br>has its own inundation facilities. .",
           52.555,
           4.791388889
          ],
          [
           "7,5",
           "2023",
           "The Rietveld Schröder House in Utrecht was <br>commissioned by Ms Truus Schröder-Schräder, <br>designed by the architect Gerrit Thomas Rietveld, <br>and built in 1924. This small family house, <br>with its interior, the flexible spatial arrangement, <br>and the visual and formal qualities, was <br>a manifesto of the ideals of the De Stijl <br>group of artists and architects in the Netherlands <br>in the 1920s, and has since been considered <br>one of the icons of the Modern Movement in <br>architecture. .",
           52.08533333,
           5.147555556
          ],
          [
           "8,5",
           "2024",
           "The historic urban ensemble of the canal <br>district of Amsterdam was a project for a <br>new ‘port city’ built at the end of the 16th <br>and beginning of the 17th centuries. It comprises <br>a network of canals to the west and south <br>of the historic old town and the medieval <br>port that encircled the old town and was <br>accompanied by the repositioning inland of <br>the city’s fortified boundaries, the Singelgracht. <br>This was a long-term programme that involved <br>extending the city by draining the swampland, <br>using a system of canals in concentric arcs <br>and filling in the intermediate spaces. These <br>spaces allowed the development of a homogeneous <br>urban ensemble including gabled houses and <br>numerous monuments. This urban extension <br>was the largest and most homogeneous of its <br>time.",
           52.365,
           4.887777778
          ],
          [
           "8.5",
           "2024",
           "Van Nellefabriek was designed and built in <br>the 1920s on the banks of a canal in the <br>Spaanse Polder industrial zone north-west <br>of Rotterdam. The site is one of the icons <br>of 20th-century industrial architecture, <br>comprising a complex of factories, with façades <br>consisting essentially of steel and glass, <br>making large-scale use of the curtain wall <br>principle. It was conceived as an ‘ideal <br>factory’, open to the outside world, whose <br>interior working spaces evolved according <br>to need, and in which daylight was used to <br>provide pleasant working conditions.",
           51.92444444,
           4.4325
          ],
          [
           "8",
           "2023",
           "Standing at the entrance to Lisbon harbour, <br>the Monastery of the Hieronymites - construction <br>of which began in 1502 - exemplifies Portuguese <br>art at its best. The nearby Tower of Bel&eacute;m, <br>built to commemorate Vasco da Gama's expedition, <br>is a reminder of the great maritime discoveries <br>that laid the foundations of the modern world. .",
           38.69194,
           -9.21583
          ],
          [
           "10",
           "2023",
           "In the 19th century Sintra became the first <br>centre of European Romantic architecture. <br>Ferdinand II turned a ruined monastery into <br>a castle where this new sensitivity was displayed <br>in the use of Gothic, Egyptian, Moorish and <br>Renaissance elements and in the creation <br>of a park blending local and exotic species <br>of trees. Other fine dwellings, built along <br>the same lines in the surrounding <em>serra</em> <br>, created a unique combination of parks and <br>gardens which influenced the development <br>of landscape architecture throughout Europe. .",
           38.78333,
           -9.41667
          ],
          [
           "9",
           "2023",
           "The city of Oporto, built along the hillsides <br>overlooking the mouth of the Douro river, <br>is an outstanding urban landscape with a <br>2,000-year history. Its continuous growth, <br>linked to the sea (the Romans gave it the <br>name Portus, or port), can be seen in the <br>many and varied monuments, from the cathedral <br>with its Romanesque choir, to the neoclassical <br>Stock Exchange and the typically Portuguese <br>Manueline-style Church of Santa Clara. .",
           41.14166667,
           -8.616666667
          ],
          [
           "8",
           "2010",
           "Westminster Palace, rebuilt from the year <br>1840 on the site of important medieval remains, <br>is a fine example of neo-Gothic architecture. <br>The site – which also comprises the small <br>medieval Church of Saint Margaret, built <br>in Perpendicular Gothic style, and Westminster <br>Abbey, where all the sovereigns since the <br>11th century have been crowned – is of great <br>historic and symbolic significance. .",
           51.499,
           -0.127
          ],
          [
           "7,5",
           "2010",
           "The massive White Tower is a typical example <br>of Norman military architecture, whose influence <br>was felt throughout the kingdom. It was built <br>on the Thames by William the Conqueror to <br>protect London and assert his power. The <br>Tower of London - an imposing fortress with <br>many layers of history, which has become <br>one of the symbols of royalty - was built <br>around the White Tower. .",
           51.50805556,
           -0.076111111
          ],
          [
           "6",
           "2024",
           "This transnational property includes 94 component <br>parts in 18 countries. Since the end of the <br>last Ice Age, European Beech spread from <br>a few isolated refuge areas in the Alps, <br>Carpathians, Dinarides, Mediterranean and <br>Pyrenees over a short period of a few thousand <br>years in a process that is still ongoing. <br>The successful expansion across a whole continent <br>is related to the tree’s adaptability and <br>tolerance of different climatic, geographical <br>and physical conditions. .",
           50.7797848,
           4.3474626
          ],
          [
           "5",
           "2024",
           "Chosen from the work of Le Corbusier, the <br>17 sites comprising this transnational serial <br>property are spread over seven countries <br>and are a testimonial to the invention of <br>a new architectural language that made a <br>break with the past. They were built over <br>a period of a half-century, in the course <br>of what Le Corbusier described as “patient <br>research”. The Complexe du Capitole in Chandigarh <br>(India), the National Museum of Western Art, <br>Tokyo (Japan), the House of Dr Curutchet <br>in La Plata (Argentina) and the Unité d’habitation <br>in Marseille (France) reflect the solutions <br>that the Modern Movement sought to apply <br>during the 20th century to the challenges <br>of inventing new architectural techniques <br>to respond to the needs of society.",
           51.1836615,
           4.3906619
          ],
          [
           "7,5",
           "2016",
           "It covers almost 600km of the whole Roman <br>Empire’s Danube frontier. The property formed <br>part of the much large frontier of the Roman <br>Empire that encircled the Mediterranean Sea. <br>The Danube Limes (Western Segment) reflects <br>the specificities of this part of the Roman <br>Frontier through the selection of sites that <br>represent key elements from roads, legionary <br>fortresses and their associated settlements <br>to small forts and temporary camps, and the <br>way these structures relate to local topography.  .",
           48.11519444,
           16.86138889
          ],
          [
           "8,5",
           "2024",
           "Twenty-three belfries in the north of France <br>and the belfry of Gembloux in Belgium were <br>inscribed in 2005, as an extension to the <br>32 Belgian belfries inscribed in 1999 as <br>Belfries of Flanders and Wallonia. Built <br>between the 11th and 17th centuries, they <br>showcase the Roman, Gothic, Renaissance and <br>Baroque styles of architecture. They are <br>highly significant tokens of the winning <br>of civil liberties. While Italian, German <br>and English towns mainly opted to build town <br>halls, in part of north-western Europe, greater <br>emphasis was placed on building belfries. <br>Compared with the keep (symbol of the seigneurs) <br>and the bell-tower (symbol of the Church), <br>the belfry, the third tower in the urban <br>landscape, symbolizes the power of the aldermen. <br>Over the centuries, they came to represent <br>the influence and wealth of the towns. .",
           50.17444,
           3.23139
          ],
          [
           "6",
           "2009",
           "The transnational serial property is an Enlightenment <br>experiment in social reform. These cultural <br>landscapes demonstrate an innovative, highly <br>influential 19th-century model of pauper <br>relief and of settler colonialism, which <br>today is known as an agricultural domestic <br>colony. The property encompasses four Colonies <br>of Benevolence in three component parts: <br>Frederiksoord-Wilhelminaoord and Veenhuizen <br>in the Netherlands, and Wortel in Belgium. <br>Together they bear witness to a 19th century <br>experiment in social reform, an effort to <br>alleviate urban poverty by establishing agricultural <br>colonies in remote locations.",
           53.04222222,
           6.391588889
          ],
          [
           "4",
           "2024",
           "Erzgebirge/Krušnohoří (Ore Mountains) spans <br>a region in south-eastern Germany (Saxony) <br>and north-western Czechia, which contains <br>a wealth of several metals exploited through <br>mining from the Middle Ages onwards. The <br>region became the most important source of <br>silver ore in Europe from 1460 to 1560. Mining <br>was the trigger for technological and scientific <br>innovations transferred worldwide. Tin was <br>historically the second metal to be extracted <br>and processed at the site. At the end of <br>the 19th century, the region became a major <br>global producer of uranium. The cultural <br>landscape of the Ore Mountains has been deeply <br>shaped by 800 years of almost continuous <br>mining, from the 12th to the 20th century, <br>with mining, pioneering water management <br>systems, innovative mineral processing and <br>smelting sites, and mining cities. .",
           50.40652778,
           12.83734444
          ],
          [
           "7,5",
           "2024",
           "Following the left bank of the Lower Rhine <br>River for approximately 400 km from the Rhenish <br>Massif in Germany to the North Sea coast <br>in the Netherlands, the transnational property <br>consist of 102 components from one section <br>of the frontiers of the Roman Empire, which <br>in the 2nd century CE, stretched across Europe, <br>the Near East, and North Africa, over 7,500 <br>km. The property comprises military and civilian <br>sites and infrastructure that marked the <br>edge of Lower Germany from the 1st to 5th <br>centuries CE. Archaeological remains in the <br>property include legionary fortresses, forts, <br>fortlets, towers, temporary camps, roads, <br>harbours, a fleet base, a canal and an aqueduct, <br>as well as civilian settlements, towns, cemeteries, <br>sanctuaries, an amphitheatre, and a palace.",
           52.18033333,
           4.433
          ],
          [
           "9",
           "2022",
           "Founded, according to legend, by Romulus <br>and Remus in 753 BC, Rome was first the centre <br>of the Roman Republic, then of the Roman <br>Empire, and it became the capital of the <br>Christian world in the 4th century. The World <br>Heritage site, extended in 1990 to the walls <br>of Urban VIII, includes some of the major <br>monuments of antiquity such as the Forums, <br>the Mausoleum of Augustus, the Mausoleum <br>of Hadrian, the Pantheon, Trajan’s Column <br>and the Column of Marcus Aurelius, as well <br>as the religious and public buildings of <br>papal Rome. .",
           41.89022222,
           12.49230556
          ]
         ],
         "hovertemplate": "<b>%{hovertext}</b><br>Rating: %{customdata[0]} <br>Last visited in: %{customdata[1]}<br><br>%{customdata[2]}<extra></extra>",
         "hovertext": [
          "Historic Centre of the City of Salzburg ",
          "Palace and Gardens of Schönbrunn ",
          "Wachau Cultural Landscape ",
          "Historic Centre of Vienna ",
          "Flemish Béguinages ",
          "La Grand-Place, Brussels ",
          "Historic Centre of Brugge ",
          "Major Town Houses of the Architect Victor <br>Horta (Brussels) ",
          "Plantin-Moretus House-Workshops-Museum Complex ",
          "Stoclet House ",
          "Historic Centre of Prague ",
          "Kutná Hora: Historical Town Centre with the <br>Church of St Barbara and the Cathedral of <br>Our Lady at Sedlec ",
          "Historic Centre (Old Town) of Tallinn ",
          "Fortress of Suomenlinna ",
          "Palace and Park of Versailles ",
          "Amiens Cathedral ",
          "Roman Theatre and its Surroundings and the <br>\"Triumphal Arch\" of Orange ",
          "Arles, Roman and Romanesque Monuments ",
          "Historic Centre of Avignon: Papal Palace, <br>Episcopal Ensemble and Avignon Bridge ",
          "Pont du Gard (Roman Aqueduct) ",
          "Historic Fortified City of Carcassonne ",
          "Paris, Banks of the Seine ",
          "Canal du Midi ",
          "Routes of Santiago de Compostela in France ",
          "Episcopal City of Albi ",
          "The Maison Carrée of Nîmes ",
          "Aachen Cathedral  ",
          "Cologne Cathedral ",
          "Palaces and Parks of Potsdam and Berlin ",
          "Bauhaus and its Sites in Weimar, Dessau and <br>Bernau ",
          "Classical Weimar ",
          "Museumsinsel (Museum Island), Berlin ",
          "Berlin Modernism Housing Estates ",
          "Jewish-Medieval Heritage of Erfurt ",
          "Vatican City ",
          "Budapest, including the Banks of the Danube, <br>the Buda Castle Quarter and Andrássy Avenue ",
          "Church and Dominican Convent of Santa Maria <br>delle Grazie with “The Last Supper” by Leonardo <br>da Vinci ",
          "Historic Centre of Florence ",
          "Venice and its Lagoon ",
          "City of Vicenza and the Palladian Villas <br>of the Veneto ",
          "City of Verona ",
          "Archaeological Areas of Pompei, Herculaneum <br>and Torre Annunziata ",
          "The Porticoes of Bologna ",
          "Historic Centre of Riga ",
          "Dutch Water Defence Lines ",
          "Rietveld Schröderhuis (Rietveld Schröder <br>House) ",
          "Seventeenth-Century Canal Ring Area of Amsterdam <br>inside the Singelgracht ",
          "Van Nellefabriek ",
          "Monastery of the Hieronymites and Tower of <br>Belém in Lisbon ",
          "Cultural Landscape of Sintra ",
          "Historic Centre of Oporto, Luiz I Bridge <br>and Monastery of Serra do Pilar ",
          "Palace of Westminster and Westminster Abbey <br>including Saint Margaret’s Church ",
          "Tower of London ",
          "Ancient and Primeval Beech Forests of the <br>Carpathians and Other Regions of Europe ",
          "The Architectural Work of Le Corbusier, an <br>Outstanding Contribution to the Modern Movement ",
          "Frontiers of the Roman Empire – The Danube <br>Limes (Western Segment) ",
          "Belfries of Belgium and France ",
          "Colonies of Benevolence ",
          "Erzgebirge/Krušnohoří Mining Region ",
          "Frontiers of the Roman Empire – The Lower <br>German Limes ",
          "Historic Centre of Rome, the Properties of <br>the Holy See in that City Enjoying Extraterritorial <br>Rights and San Paolo Fuori le Mura "
         ],
         "lat": [
          47.80055556,
          48.18666667,
          48.36444444,
          48.2094,
          50.8717371,
          50.84668,
          51.20891,
          50.82806,
          51.21833,
          50.835,
          50.08972,
          49.95,
          59.43333,
          60.14722,
          48.805,
          49.895,
          44.13572222,
          43.67763889,
          43.95277778,
          43.94722222,
          43.2070631,
          48.8655,
          43.61138889,
          43.6083297,
          43.92833333,
          43.83822222,
          50.77444444,
          50.94111111,
          52.4,
          50.97477778,
          50.9775,
          52.51972222,
          52.44833333,
          50.97866389,
          41.90216,
          47.48242,
          45.466,
          43.77306,
          45.43430556,
          45.54916667,
          45.43861111,
          40.75,
          44.49138889,
          56.95417,
          52.555,
          52.08533333,
          52.365,
          51.92444444,
          38.69194,
          38.78333,
          41.14166667,
          51.499,
          51.50805556,
          50.7797848,
          51.1836615,
          48.11519444,
          50.17444,
          53.04222222,
          50.40652778,
          52.18033333,
          41.89022222
         ],
         "legendgroup": "True",
         "lon": [
          13.04333333,
          16.31333333,
          15.43416667,
          16.3699,
          4.6948173,
          4.35242,
          3.22527,
          4.36223,
          4.39778,
          4.416111111,
          14.41944,
          15.26666667,
          24.73333333,
          24.98722,
          2.119444444,
          2.301666667,
          4.808416667,
          4.630694444,
          4.806111111,
          4.535277778,
          2.3636562,
          2.321138889,
          1.416388889,
          1.4233499,
          2.1425,
          4.356111111,
          6.084444444,
          6.957222222,
          13.03333333,
          11.3295,
          11.32861,
          13.39861111,
          13.45,
          11.02923333,
          12.45736,
          19.07067,
          9.171,
          11.25611,
          12.33894444,
          11.54944444,
          10.99388889,
          14.48333333,
          11.33277778,
          24.11667,
          4.791388889,
          5.147555556,
          4.887777778,
          4.4325,
          -9.21583,
          -9.41667,
          -8.616666667,
          -0.127,
          -0.076111111,
          4.3474626,
          4.3906619,
          16.86138889,
          3.23139,
          6.391588889,
          12.83734444,
          4.433,
          12.49230556
         ],
         "marker": {
          "color": "#636efa"
         },
         "mode": "markers",
         "name": "True",
         "showlegend": true,
         "subplot": "mapbox",
         "type": "scattermapbox"
        },
        {
         "customdata": [
          [
           "Not yet visited",
           "Not yet visited",
           "The four hydraulic boat-lifts on this short <br>stretch of the historic Canal du Centre are <br>industrial monuments of the highest quality. <br>Together with the canal itself and its associated <br>structures, they constitute a remarkably <br>well-preserved and complete example of a <br>late-19th-century industrial landscape. Of <br>the eight hydraulic boat-lifts built at the <br>end of the 19th and beginning of the 20th <br>century, the only ones in the world which <br>still exist in their original working condition <br>are these four lifts on the Canal du Centre. .",
           50.48111,
           4.13722
          ],
          [
           "Not yet visited",
           "Not yet visited",
           "The Neolithic flint mines at Spiennes, covering <br>more than 100 ha, are the largest and earliest <br>concentration of ancient mines in Europe. <br>They are also remarkable for the diversity <br>of technological solutions used for extraction <br>and for the fact that they are directly linked <br>to a settlement of the same period. .",
           50.43077,
           3.97879
          ],
          [
           "Not yet visited",
           "Not yet visited",
           "The Cathedral of Notre-Dame in Tournai was <br>built in the first half of the 12th century. <br>It is especially distinguished by a Romanesque <br>nave of extraordinary dimensions, a wealth <br>of sculpture on its capitals and a transept <br>topped by five towers, all precursors of <br>the Gothic style. The choir, rebuilt in the <br>13th century, is in the pure Gothic style. .",
           50.60603,
           3.38926
          ],
          [
           "Not yet visited",
           "Not yet visited",
           "The four sites of the property form a strip <br>170&nbsp;km long by 3-15&nbsp;km wide, crossing <br>Belgium from east to west, consisting of <br>the best-preserved 19th- and 20th-century <br>coal-mining sites of the country. It features <br>examples of the utopian architecture from <br>the early periods of the industrial era in <br>Europe within a highly integrated, industrial <br>and urban ensemble, notably the Grand-Hornu <br>colliery and workers' city designed by Bruno <br>Renard in the first half of the 19th century. <br>Bois-du-Luc includes numerous buildings erected <br>from 1838 to 1909 and one of Europe's oldest <br>collieries dating back to the late 17th century. <br>While Wallonia had hundreds of collieries, <br>most have lost their infrastructure, while <br>the four components of the listed site retain <br>a high measure of integrity. .",
           50.43527778,
           3.838333333
          ],
          [
           "Not yet visited",
           "Not yet visited",
           "Founded in 1773 in South Jutland, the site <br>is an example of a planned settlement of <br>the Moravian Church, a Lutheran free congregation <br>centred in Herrnhut, Saxony. The town was <br>planned to represent the Protestant urban <br>ideal, constructed around a central Church <br>square. The architecture is homogenous and <br>unadorned, with one and two-storey buildings <br>in yellow brick with red tile roofs. The <br>democratic organization of the Moravian Church, <br>with its pioneering egalitarian philosophy, <br>is expressed in its humanistic town planning. <br>The settlement’s plan opens onto agricultural <br>land and includes important buildings for <br>the common welfare such as large communal <br>houses for the congregation’s widows and <br>unmarried men and women. The buildings are <br>still in use and many are still owned by <br>the local Moravian Church community . .",
           55.35555556,
           9.481388889
          ],
          [
           "Not yet visited",
           "Not yet visited",
           "Perched on a rocky islet in the midst of <br>vast sandbanks exposed to powerful tides <br>between Normandy and Brittany stand the 'Wonder <br>of the West', a Gothic-style Benedictine <br>abbey dedicated to the archangel St Michael, <br>and the village that grew up in the shadow <br>of its great walls. Built between the 11th <br>and 16th centuries, the abbey is a technical <br>and artistic <em>tour de force</em>, having <br>had to adapt to the problems posed by this <br>unique natural site. .",
           48.63556,
           -1.51056
          ],
          [
           "Not yet visited",
           "Not yet visited",
           "Partly built starting in 1145, and then reconstructed <br>over a 26-year period after the fire of 1194, <br>Chartres Cathedral marks the high point of <br>French Gothic art. The vast nave, in pure <br>ogival style, the porches adorned with fine <br>sculptures from the middle of the 12th century, <br>and the magnificent 12th- and 13th-century <br>stained-glass windows, all in remarkable <br>condition, combine to make it a masterpiece. .",
           48.4475,
           1.487222222
          ],
          [
           "Not yet visited",
           "Not yet visited",
           "Shortly after its foundation in the 9th century, <br>the Benedictine abbey of Vézelay acquired <br>the relics of St Mary Magdalene and since <br>then it has been an important place of pilgrimage. <br>St Bernard preached the Second Crusade there <br>in 1146 and Richard the Lion-Hearted and <br>Philip II Augustus met there to leave for <br>the Third Crusade in 1190. With its sculpted <br>capitals and portal, the Madeleine of Vézelay <br>– a 12th-century monastic church – is a masterpiece <br>of Burgundian Romanesque art and architecture. .",
           47.46638889,
           3.748333333
          ],
          [
           "Not yet visited",
           "Not yet visited",
           "The Vézère valley contains 147 prehistoric <br>sites dating from the Palaeolithic and 25 <br>decorated caves. It is particularly interesting <br>from an ethnological and anthropological, <br>as well as an aesthetic point of view because <br>of its cave paintings, especially those of <br>the Lascaux Cave, whose discovery in 1940 <br>was of great importance for the history of <br>prehistoric art. The hunting scenes show <br>some 100 animal figures, which are remarkable <br>for their detail, rich colours and lifelike <br>quality. .",
           45.0575,
           1.17
          ],
          [
           "Not yet visited",
           "Not yet visited",
           "Used by the kings of France from the 12th <br>century, the medieval royal hunting lodge <br>of Fontainebleau, standing at the heart of <br>a vast forest in the Ile-de-France, was transformed, <br>enlarged and embellished in the 16th century <br>by François I, who wanted to make a 'New <br>Rome' of it. Surrounded by an immense park, <br>the Italianate palace combines Renaissance <br>and French artistic traditions. .",
           48.40194444,
           2.698055556
          ],
          [
           "Not yet visited",
           "Not yet visited",
           "This stark Burgundian monastery was founded <br>by St Bernard in 1119. With its church, cloister, <br>refectory, sleeping quarters, bakery and <br>ironworks, it is an excellent illustration <br>of the ideal of self-sufficiency as practised <br>by the earliest communities of Cistercian <br>monks. .",
           47.63944,
           4.38911
          ],
          [
           "Not yet visited",
           "Not yet visited",
           "The Royal Saltworks of Arc-et-Senans, near <br>Besançon, was built by Claude Nicolas Ledoux. <br>Its construction, begun in 1775 during the <br>reign of Louis XVI, was the first major achievement <br>of industrial architecture, reflecting the <br>ideal of progress of the Enlightenment. The <br>vast, semicircular complex was designed to <br>permit a rational and hierarchical organization <br>of work and was to have been followed by <br>the building of an ideal city, a project <br>that was never realized.The Great Saltworks <br>of Salins-les-Bains was active for at least <br>1200 years until stopping activity in 1962. <br>From 1780 to 1895, its salt water travelled <br>through 21 km of wood pipes to the Royal <br>Saltworks of Arc-et-Senans. It was built <br>near the immense Chaux Forest to ensure its <br>supply of wood for fuel.",
           46.9375,
           5.876388889
          ],
          [
           "Not yet visited",
           "Not yet visited",
           "Nancy, the temporary residence of a king <br>without a kingdom – Stanislas Leszczynski, <br>later to become Duke of Lorraine – is paradoxically <br>the oldest and most typical example of a <br>modern capital where an enlightened monarch <br>proved to be sensitive to the needs of the <br>public. Built between 1752 and 1756 by a <br>brilliant team led by the architect Héré, <br>this was a carefully conceived project that <br>succeeded in creating a capital that not <br>only enhanced the sovereign's prestige but <br>was also functional. .",
           48.69361111,
           6.183333333
          ],
          [
           "Not yet visited",
           "Not yet visited",
           "Known as the 'Romanesque Sistine Chapel', <br>the Abbey-Church of Saint-Savin contains <br>many beautiful 11th- and 12th-century murals <br>which are still in a remarkable state of <br>preservation. .",
           46.56472,
           0.86611
          ],
          [
           "Not yet visited",
           "Not yet visited",
           "The nature reserve, which is part of the <br>Regional Natural Park of Corsica, occupies <br>the Scandola peninsula, an impressive, porphyritic <br>rock mass. The vegetation is an outstanding <br>example of scrubland. Seagulls, cormorants <br>and sea eagles can be found there. The clear <br>waters, with their islets and inaccessible <br>caves, host a rich marine life. .",
           42.32519444,
           8.628833333
          ],
          [
           "Not yet visited",
           "Not yet visited",
           "The initial property, inscribed in 1988 on <br>the World Heritage List, was formed by the <br>Grande-Île, the historic centre of Strasbourg, <br>structured around the cathedral. The extension <br>concerns the <em>Neustadt</em>, new town, <br>designed and built under the German administration <br>(1871-1918). The <em>Neustadt</em> draws <br>the inspiration for its urban layout partially <br>from the Haussmannian model, while adopting <br>an architectural idiom of Germanic inspiration. <br>This dual influence has enabled the creation <br>of an urban space that is specific to Strasbourg, <br>where the perspectives created around the <br>cathedral open to a unified landscape around <br>the rivers and canals. .",
           48.58444444,
           7.748888889
          ],
          [
           "Not yet visited",
           "Not yet visited",
           "The outstanding handling of new architectural <br>techniques in the 13th century, and the harmonious <br>marriage of sculptural decoration with architecture, <br>has made Notre-Dame in Reims one of the masterpieces <br>of Gothic art. The former abbey still has <br>its beautiful 9th-century nave, in which <br>lie the remains of Archbishop St Rémi (440–533), <br>who instituted the Holy Anointing of the <br>kings of France. The former archiepiscopal <br>palace known as the Tau Palace, which played <br>an important role in religious ceremonies, <br>was almost entirely rebuilt in the 17th century. .",
           49.25333333,
           4.032777778
          ],
          [
           "Not yet visited",
           "Not yet visited",
           "The Cathedral of St Etienne of Bourges, built <br>between the late 12th and late 13th centuries, <br>is one of the great masterpieces of Gothic <br>art and is admired for its proportions and <br>the unity of its design. The tympanum, sculptures <br>and stained-glass windows are particularly <br>striking. Apart from the beauty of the architecture, <br>it attests to the power of Christianity in <br>medieval France. .",
           47.08222222,
           2.398333333
          ],
          [
           "Not yet visited",
           "Not yet visited",
           "The long history of Lyon, which was founded <br>by the Romans in the 1st century B.C. as <br>the capital of the Three Gauls and has continued <br>to play a major role in Europe's political, <br>cultural and economic development ever since, <br>is vividly illustrated by its urban fabric <br>and the many fine historic buildings from <br>all periods. .",
           45.76722,
           4.83333
          ],
          [
           "Not yet visited",
           "Not yet visited",
           "The fortified medieval town of Provins is <br>situated in the former territory of the powerful <br>Counts of Champagne. It bears witness to <br>early developments in the organization of <br>international trading fairs and the wool <br>industry. The urban structure of Provins, <br>which was built specifically to host the <br>fairs and related activities, has been well <br>preserved. .",
           48.55972222,
           3.298888889
          ],
          [
           "Not yet visited",
           "Not yet visited",
           "Viticulture was introduced to this fertile <br>region of Aquitaine by the Romans, and intensified <br>in the Middle Ages. The Saint-Emilion area <br>benefited from its location on the pilgrimage <br>route to Santiago de Compostela and many <br>churches, monasteries and hospices were built <br>there from the 11th century onwards. It was <br>granted the special status of a 'jurisdiction' <br>during the period of English rule in the <br>12th century. It is an exceptional landscape <br>devoted entirely to wine-growing, with many <br>fine historic monuments in its towns and <br>villages. .",
           44.89472222,
           -0.155277778
          ],
          [
           "Not yet visited",
           "Not yet visited",
           "The Loire Valley is an outstanding cultural <br>landscape of great beauty, containing historic <br>towns and villages, great architectural monuments <br>(the châteaux), and cultivated lands formed <br>by many centuries of interaction between <br>their population and the physical environment, <br>primarily the river Loire itself. .",
           47.39889,
           0.70278
          ],
          [
           "Not yet visited",
           "Not yet visited",
           "This 302,319 ha property, in the southern <br>part of central France, is a mountain landscape <br>interspersed by deep valleys that is representative <br>of the relationship between agro-pastoral <br>systems and their biophysical environment, <br>notably through drailles or drove roads. <br>Villages and substantial stone farmhouses <br>on deep terraces of the Causses reflect the <br>organization of large abbeys from the 11th <br>century. Mont Loz&egrave;re, inside the property, <br>is one of the last places where summer transhumance <br>is still practiced in the traditional way, <br>using the drailles. .",
           44.22027778,
           3.473055556
          ],
          [
           "Not yet visited",
           "Not yet visited",
           "The city of Le Havre, on the English Channel <br>in Normandy, was severely bombed during the <br>Second World War. The destroyed area was <br>rebuilt according to the plan of a team headed <br>by Auguste Perret, from 1945 to 1964. The <br>site forms the administrative, commercial <br>and cultural centre of Le Havre. Le Havre <br>is exceptional among many reconstructed cities <br>for its unity and integrity. It combines <br>a reflection of the earlier pattern of the <br>town and its extant historic structures with <br>the new ideas of town planning and construction <br>technology. It is an outstanding post-war <br>example of urban planning and architecture <br>based on the unity of methodology and the <br>use of prefabrication, the systematic utilization <br>of a modular grid, and the innovative exploitation <br>of the potential of concrete. .",
           49.49278,
           0.1075
          ],
          [
           "Not yet visited",
           "Not yet visited",
           "The Port of the Moon, port city of Bordeaux <br>in south-west France, is inscribed as an <br>inhabited historic city, an outstanding urban <br>and architectural ensemble, created in the <br>age of the Enlightenment, whose values continued <br>up to the first half of the 20th century, <br>with more protected buildings than any other <br>French city except Paris. It is also recognized <br>for its historic role as a place of exchange <br>of cultural values over more than 2,000 years, <br>particularly since the 12th century due to <br>commercial links with Britain and the Low <br>Lands. Urban plans and architectural ensembles <br>of the early 18th century onwards place the <br>city as an outstanding example of innovative <br>classical and neoclassical trends and give <br>it an exceptional urban and architectural <br>unity and coherence.",
           44.83888889,
           -0.572222222
          ],
          [
           "Not yet visited",
           "Not yet visited",
           "Fortifications of Vauban consists of 12 groups <br>of fortified buildings and sites along the <br>western, northern and eastern borders of <br>France. They represent the finest examples <br>of the work of Sébastien Le Prestre de Vauban <br>(1633-1707), a military engineer of King <br>Louis XIV. The serial property includes towns <br>built from scratch by Vauban, citadels, urban <br>bastion walls and bastion towers. There are <br>also mountain forts, sea forts, a mountain <br>battery and two mountain communication structures. <br>This property is inscribed as bearing witness <br>to the peak of classic fortifications, typical <br>of western military architecture. Vauban <br>also played a major role in the history of <br>fortification in Europe and on other continents <br>until the mid-19th century. .",
           47.23611111,
           6.026944444
          ],
          [
           "Not yet visited",
           "Not yet visited",
           "Remarkable as a landscape shaped over three <br>centuries of coal extraction from the 1700s <br>to the 1900s, the site consists of 109 separate <br>components over 120,000&nbsp;ha. It features <br>mining pits (the oldest of which dates from <br>1850) and lift infrastructure, slag heaps <br>(some of which cover 90&nbsp;ha and exceed <br>140&nbsp;m in height), coal transport infrastructure, <br>railway stations, workers' estates and mining <br>villages including social habitat, schools, <br>religious buildings, health and community <br>facilities, company premises, owners and <br>managers' houses, town halls and more. The <br>site bears testimony to the quest to create <br>model workers' cities from the mid 19th century <br>to the 1960s and further illustrates a significant <br>period in the history of industrial Europe.",
           50.4625,
           3.546111111
          ],
          [
           "Not yet visited",
           "Not yet visited",
           "The climates are precisely delimited vineyard <br>parcels on the slopes of the Côte de Nuits <br>and the Côte de Beaune south of the city <br>of Dijon. They differ from one another due <br>to specific natural conditions (geology and <br>exposure) as well as vine types and have <br>been shaped by human cultivation. Over time <br>they came to be recognized by the wine they <br>produce. This cultural landscape consists <br>of two parts. Firstly, the vineyards and <br>associated production units including villages <br>and the town of Beaune, which together represent <br>the commercial dimension of the production <br>system. The second part includes the historic <br>centre of Dijon, which embodies the political <br>regulatory impetus that gave birth to the <br>climats system.",
           47.05805556,
           4.864444444
          ],
          [
           "Not yet visited",
           "Not yet visited",
           "Located in a limestone plateau of the Ardèche <br>River in southern France, the property contains <br>the earliest-known and best-preserved figurative <br>drawings in the world, dating back as early <br>as the Aurignacian period (30,000–32,000 BP), <br>making it an exceptional testimony of prehistoric <br>art. The cave was closed off by a rock fall <br>approximately 20,000 years BP and remained <br>sealed until its discovery in 1994, which <br>helped to keep it in pristine condition. <br>Over 1,000 images have so far been inventoried <br>on its walls, combining a variety of anthropomorphic <br>and animal motifs. Of exceptional aesthetic <br>quality, they demonstrate a range of techniques <br>including the skilful use of shading, combinations <br>of paint and engraving, anatomical precision, <br>three-dimensionality and movement.",
           44.3875,
           4.416111111
          ],
          [
           "Not yet visited",
           "Not yet visited",
           "Situated in the centre of France, the property <br>comprises the long Limagne fault, the alignments <br>of the Chaîne des Puys volcanoes and the <br>inverted relief of the Montagne de la Serre. <br>It is an emblematic segment of the West European <br>Rift, created in the aftermath of the formation <br>of the Alps, 35 million years ago. The geological <br>features of the property demonstrate how <br>the continental crust cracks, then collapses, <br>allowing deep magma to rise and cause uplifting <br>at the surface. The property is an exceptional <br>illustration of continental break-up – or <br>rifting – which is one of the five major <br>stages of plate tectonics. .",
           45.77938889,
           2.965111111
          ],
          [
           "Not yet visited",
           "Not yet visited",
           "<span>The property encompasses sites where <br>the method of producing sparkling wines was <br>developed on the principle of secondary fermentation <br>in the bottle since the early 17</span><sup>th</sup><span> <br>century to its early industrialization in <br>the 19</span><sup>th</sup><span> century. <br>The property is made up of three distinct <br>ensembles: the historic vineyards of Hautvillers, <br>Aÿ and Mareuil-sur-Aÿ, Saint-Nicaise Hill <br>in Reims, and the Avenue de Champagne and <br>Fort Chabrol in Epernay. These three components <br>– the supply basin formed by the historic <br>hillsides, the production sites (with their <br>underground cellars) and the sales and distribution <br>centres (the Champagne Houses) - illustrate <br>the entire champagne production process.",
           49.0775,
           3.946111111
          ],
          [
           "Not yet visited",
           "Not yet visited",
           "The Lighthouse of Cordouan rises up on a <br>shallow rocky plateau in the Atlantic Ocean <br>at the mouth of the Gironde estuary in the <br>Nouvelle-Aquitaine region, in a highly exposed <br>and hostile environment. Built in white limestone <br>dressed blocks at the turn of the 16th and <br>17th centuries, it was designed by engineer <br>Louis de Foix and remodelled by engineer <br>Joseph Teulère in the late 18th century. <br>A masterpiece of maritime signalling, Cordouan’s <br>monumental tower is decorated with pilasters, <br>columns modillions and gargoyles.",
           45.58630556,
           -1.173333333
          ],
          [
           "Not yet visited",
           "Not yet visited",
           "Nice, located on the Mediterranean, at the <br>foot of the Alps, near the Italian border, <br>in the Provence-Alpes-Côte d’Azur region, <br>reflects the development of a city devoted <br>to winter tourism, making the most of its <br>mild climate and its coastal situation, between <br>sea and mountains. From the mid-18th century, <br>the site attracted growing numbers of aristocratic <br>and upper-class families, mainly British, <br>who developed the habit of spending their <br>winters there. In 1832, Nice, then part of <br>the Kingdom of Sardinia, set up the “Consiglio <br>d’Ornato” which drew up a city planning scheme <br>and architectural requirements designed to <br>make the city attractive to foreigners.",
           43.70169444,
           7.272305556
          ],
          [
           "Not yet visited",
           "Not yet visited",
           "Speyer Cathedral, a basilica with four towers <br>and two domes, was founded by Conrad II in <br>1030 and remodelled at the end of the 11th <br>century. It is one of the most important <br>Romanesque monuments from the time of the <br>Holy Roman Empire. The cathedral was the <br>burial place of the German emperors for almost <br>300 years. .",
           49.31722222,
           8.442388889
          ],
          [
           "Not yet visited",
           "Not yet visited",
           "This magnificent Baroque palace – one of <br>the largest and most beautiful in Germany <br>and surrounded by wonderful gardens – was <br>created under the patronage of the prince-bishops <br>Lothar Franz and Friedrich Carl von Schönborn. <br>It was built and decorated in the 18th century <br>by an international team of architects, painters <br>(including Tiepolo), sculptors and stucco-workers, <br>led by Balthasar Neumann. .",
           49.79278,
           9.93889
          ],
          [
           "Not yet visited",
           "Not yet visited",
           "St Michael's Church was built between 1010 <br>and 1020 on a symmetrical plan with two apses <br>that was characteristic of Ottonian Romanesque <br>art in Old Saxony. Its interior, in particular <br>the wooden ceiling and painted stucco-work, <br>its famous bronze doors and the Bernward <br>bronze column, are – together with the treasures <br>of St Mary's Cathedral – of exceptional interest <br>as examples of the Romanesque churches of <br>the Holy Roman Empire. .",
           52.15278,
           9.94389
          ],
          [
           "Not yet visited",
           "Not yet visited",
           "Miraculously preserved in the beautiful setting <br>of an Alpine valley, the Church of Wies (1745-54), <br>the work of architect Dominikus Zimmermann, <br>is a masterpiece of Bavarian Rococo - exuberant, <br>colourful and joyful. .",
           47.68127778,
           10.90013889
          ],
          [
           "Not yet visited",
           "Not yet visited",
           "L&uuml;beck - the former capital and Queen <br>City of the Hanseatic League - was founded <br>in the 12th century and prospered until the <br>16th century as the major trading centre <br>for northern Europe. It has remained a centre <br>for maritime commerce to this day, particularly <br>with the Nordic countries. Despite the damage <br>it suffered during the Second World War, <br>the basic structure of the old city, consisting <br>mainly of 15th- and 16th-century patrician <br>residences, public monuments (the famous <br>Holstentor brick gate), churches and salt <br>storehouses, remains unaltered. .",
           53.86667,
           10.69167
          ],
          [
           "Not yet visited",
           "Not yet visited",
           "Set in an idyllic garden landscape, Augustusburg <br>Castle (the sumptuous residence of the prince-archbishops <br>of Cologne) and the Falkenlust hunting lodge <br>(a small rural folly) are among the earliest <br>examples of Rococo architecture in 18th-century <br>Germany. .",
           50.82502778,
           6.909777778
          ],
          [
           "Not yet visited",
           "Not yet visited",
           "Trier, which stands on the Moselle River, <br>was a Roman colony from the 1st century AD <br>and then a great trading centre beginning <br>in the next century. It became one of the <br>capitals of the Tetrarchy at the end of the <br>3rd century, when it was known as the ‘second <br>Rome’. The number and quality of the surviving <br>monuments are an outstanding testimony to <br>Roman civilization. .",
           49.75,
           6.633333333
          ],
          [
           "Not yet visited",
           "Not yet visited",
           "The abbey, together with its monumental entrance, <br>the famous 'Torhall', are rare architectural <br>vestiges of the Carolingian era. The sculptures <br>and paintings from this period are still <br>in remarkably good condition. .",
           49.65369,
           8.56858
          ],
          [
           "Not yet visited",
           "Not yet visited",
           "The Garden Kingdom of Dessau-Wörlitz is an <br>exceptional example of landscape design and <br>planning of the Age of the Enlightenment, <br>the 18th century. Its diverse components <br>- outstanding buildings, landscaped parks <br>and gardens in the English style, and subtly <br>modified expanses of agricultural land - <br>serve aesthetic, educational, and economic <br>purposes in an exemplary manner. .",
           51.8425,
           12.42083
          ],
          [
           "Not yet visited",
           "Not yet visited",
           "Quedlinburg, in the <em>Land</em> of Sachsen-Anhalt, <br>was a capital of the East Franconian German <br>Empire at the time of the Saxonian-Ottonian <br>ruling dynasty. It has been a prosperous <br>trading town since the Middle Ages. The number <br>and high quality of the timber-framed buildings <br>make Quedlinburg an exceptional example of <br>a medieval European town. The Collegiate <br>Church of St Servatius is one of the masterpieces <br>of Romanesque architecture. .",
           51.78333,
           11.15
          ],
          [
           "Not yet visited",
           "Not yet visited",
           "Founded in 1147, the Cistercian Maulbronn <br>Monastery is considered the most complete <br>and best-preserved medieval monastic complex <br>north of the Alps. Surrounded by fortified <br>walls, the main buildings were constructed <br>between the 12th and 16th centuries. The <br>monastery's church, mainly in Transitional <br>Gothic style, had a major influence in the <br>spread of Gothic architecture over much of <br>northern and central Europe. The water-management <br>system at Maulbronn, with its elaborate network <br>of drains, irrigation canals and reservoirs, <br>is of exceptional interest. .",
           49.00083,
           8.81306
          ],
          [
           "Not yet visited",
           "Not yet visited",
           "The Upper Harz mining water management system, <br>which lies south of the Rammelsberg mines <br>and the town of Goslar, has been developed <br>over a period of some 800 years to assist <br>in the process of extracting ore for the <br>production of non-ferrous metals. Its construction <br>was first undertaken in the Middle Ages by <br>Cistercian monks, and it was then developed <br>on a vast scale from the end of the 16th <br>century until the 19th century. It is made <br>up of an extremely complex but perfectly <br>coherent system of artificial ponds, small <br>channels, tunnels and underground drains. <br>It enabled the development of water power <br>for use in mining and metallurgical processes. <br>It is a major site for mining innovation <br>in the western world. .",
           51.82,
           10.34
          ],
          [
           "Not yet visited",
           "Not yet visited",
           "From the 10th century onwards, this town <br>became an important link with the Slav peoples, <br>especially those of Poland and Pomerania. <br>During its period of greatest prosperity, <br>from the 12th century onwards, the architecture <br>of Bamberg strongly influenced northern Germany <br>and Hungary. In the late 18th century it <br>was the centre of the Enlightenment in southern <br>Germany, with eminent philosophers and writers <br>such as Hegel and Hoffmann living there. .",
           49.89166667,
           10.88888889
          ],
          [
           "Not yet visited",
           "Not yet visited",
           "The ironworks, which cover some 6 ha, dominate <br>the city of Völklingen. Although they have <br>recently gone out of production, they are <br>the only intact example, in the whole of <br>western Europe and North America, of an integrated <br>ironworks that was built and equipped in <br>the 19th and 20th centuries and has remained <br>intact. .",
           49.24872222,
           6.844222222
          ],
          [
           "Not yet visited",
           "Not yet visited",
           "Messel Pit is the richest site in the world <br>for understanding the living environment <br>of the Eocene, between 57 million and 36 <br>million years ago. In particular, it provides <br>unique information about the early stages <br>of the evolution of mammals and includes <br>exceptionally well-preserved mammal fossils, <br>ranging from fully articulated skeletons <br>to the contents of stomachs of animals of <br>this period. .",
           49.918,
           8.757
          ],
          [
           "Not yet visited",
           "Not yet visited",
           "These places in Saxony-Anhalt are all associated <br>with the lives of Martin Luther and his fellow-reformer <br>Melanchthon. They include Melanchthon's house <br>in Wittenberg, the houses in Eisleben where <br>Luther was born in 1483 and died in 1546, <br>his room in Wittenberg, the local church <br>and the castle church where, on 31 October <br>1517, Luther posted his famous '95 Theses', <br>which launched the Reformation and a new <br>era in the religious and political history <br>of the Western world. .",
           51.86472,
           12.65278
          ],
          [
           "Not yet visited",
           "Not yet visited",
           "Wartburg Castle blends superbly into its <br>forest surroundings and is in many ways 'the <br>ideal castle'. Although it has retained some <br>original sections from the feudal period, <br>the form it acquired during the 19th-century <br>reconstitution gives a good idea of what <br>this fortress might have been at the height <br>of its military and seigneurial power. It <br>was during his exile at Wartburg Castle that <br>Martin Luther translated the New Testament <br>into German. .",
           50.96677778,
           10.307
          ],
          [
           "Not yet visited",
           "Not yet visited",
           "The island of Reichenau on Lake Constance <br>preserves the traces of the Benedictine monastery, <br>founded in 724, which exercised remarkable <br>spiritual, intellectual and artistic influence. <br>The churches of St Mary and Marcus, St Peter <br>and St Paul, and St George, mainly built <br>between the 9th and 11th centuries, provide <br>a panorama of early medieval monastic architecture <br>in central Europe. Their wall paintings bear <br>witness to impressive artistic activity. .",
           47.69872222,
           9.061305556
          ],
          [
           "Not yet visited",
           "Not yet visited",
           "The Zollverein industrial complex in Land <br>Nordrhein-Westfalen consists of the complete <br>infrastructure of a historical coal-mining <br>site, with some 20th-century buildings of <br>outstanding architectural merit. It constitutes <br>remarkable material evidence of the evolution <br>and decline of an essential industry over <br>the past 150 years. .",
           51.49138889,
           7.046111111
          ],
          [
           "Not yet visited",
           "Not yet visited",
           "The 65km-stretch of the Middle Rhine Valley, <br>with its castles, historic towns and vineyards, <br>graphically illustrates the long history <br>of human involvement with a dramatic and <br>varied natural landscape. It is intimately <br>associated with history and legend and for <br>centuries has exercised a powerful influence <br>on writers, artists and composers. .",
           50.17361111,
           7.694166667
          ],
          [
           "Not yet visited",
           "Not yet visited",
           "The medieval towns of Wismar and Stralsund, <br>on the Baltic coast of northern Germany, <br>were major trading centres of the Hanseatic <br>League in the 14th and 15th centuries. In <br>the 17th and 18th centuries they became Swedish <br>administrative and defensive centres for <br>the German territories. They contributed <br>to the development of the characteristic <br>building types and techniques of Brick Gothic <br>in the Baltic region, as exemplified in several <br>important brick cathedrals, the Town Hall <br>of Stralsund, and the series of houses for <br>residential, commercial and crafts use, representing <br>its evolution over several centuries. .",
           54.3025,
           13.08527778
          ],
          [
           "Not yet visited",
           "Not yet visited",
           "The Town Hall and the statue of Roland on <br>the marketplace of Bremen in north-west Germany <br>are outstanding representations of civic <br>autonomy and sovereignty, as these developed <br>in the Holy Roman Empire in Europe. The old <br>town hall was built in the Gothic style in <br>the early 15th century, after Bremen joined <br>the Hanseatic League. The building was renovated <br>in the so-called Weser Renaissance style <br>in the early 17th century. A new town hall <br>was built next to the old one in the early <br>20th century as part of an ensemble that <br>survived bombardment during the Second World <br>War. The statue stands 5.5 m tall and dates <br>back to 1404. .",
           53.07597222,
           8.807472222
          ],
          [
           "Not yet visited",
           "Not yet visited",
           "Located on the Danube River in Bavaria, this <br>medieval town contains many buildings of <br>exceptional quality that testify to its history <br>as a trading centre and to its influence <br>on the region from the 9th century. A notable <br>number of historic structures span some two <br>millennia and include ancient Roman, Romanesque <br>and Gothic buildings. Regensburg's 11th- <br>to 13th-century architecture - including <br>the market, city hall and cathedral - still <br>defines the character of the town marked <br>by tall buildings, dark and narrow lanes, <br>and strong fortifications. The buildings <br>include medieval patrician houses and towers, <br>a large number of churches and monastic ensembles <br>as well as the 12th-century Old Bridge.",
           49.02055556,
           12.09916667
          ],
          [
           "Not yet visited",
           "Not yet visited",
           "Fagus Factory in Alfeld is a 10-building <br>complex - began around 1910 to the design <br>of Walter Gropius, which is a landmark in <br>the development of modern architecture and <br>industrial design. Serving all stages of <br>manufacture, storage and dispatch of lasts <br>used by the shoe industry, the complex, which <br>is still operational today, is situated in <br>Alfeld an der Leine in Lower Saxony. With <br>its groundbreaking vast expanses of glass <br>panels and functionalist aesthetics, the <br>complex foreshadowed the work of the Bauhaus <br>school and is a landmark in the development <br>of architecture in Europe and North America. .",
           51.98388889,
           9.812222222
          ],
          [
           "Not yet visited",
           "Not yet visited",
           "A masterpiece of Baroque theatre architecture, <br>built between 1745 and 1750, the Opera House <br>is the only entirely preserved example of <br>its type where an audience of 500 can experience <br>Baroque court opera culture and acoustics <br>authentically, as its auditorium retains <br>its original materials, i.e. wood and canvas. <br>Commissioned by Margravine Wilhelmine, wife <br>of Frederick, Margrave of Brandenburg–Bayreuth, <br>it was designed by the renowned theatre architect <br>Giuseppe Galli Bibiena. As a court opera <br>house in a public space, it foreshadowed <br>the large public theatres of the 19th century. <br>The highly decorated theatre’s tiered loge <br>structure of wood with illusionistic painted <br>canvas represents the ephemeral ceremonial <br>architectural tradition that was employed <br>in pageants and celebrations for princely <br>self-representation. .",
           49.944,
           11.579
          ],
          [
           "Not yet visited",
           "Not yet visited",
           "Descending a long hill dominated by a giant <br>statue of Hercules, the monumental water <br>displays of Wilhelmsh&ouml;he&nbsp;were begun <br>by Landgrave Carl of Hesse-Kassel in 1689 <br>around an east-west axis and were developed <br>further into the 19th century. Reservoirs <br>and channels behind the Hercules Monument <br>supply water to a complex system of hydro-pneumatic <br>devices that supply the site's large Baroque <br>water theatre, grotto, fountains and 350-metre <br>long Grand Cascade. Beyond this, channels <br>and waterways wind across the axis, feeding <br>a series of dramatic waterfalls and wild <br>rapids, the geyser-like Grand Fountain which <br>leaps 50m high, the lake and secluded ponds <br>that enliven the Romantic garden created <br>in the 18th century by Carl's great-grandson, <br>Elector Wilhelm I.",
           51.31583333,
           9.393055556
          ],
          [
           "Not yet visited",
           "Not yet visited",
           "The site is located along the Weser River <br>on the outskirts of Höxter where the Carolingian <br>Westwork and Civitas Corvey were erected <br>between AD 822 and 885 in a largely preserved <br>rural setting. The Westwork is the only standing <br>structure that dates back to the Carolingian <br>era, while the original imperial abbey complex <br>is preserved as archaeological remains that <br>are only partially excavated. The Westwork <br>of Corvey uniquely illustrates one of the <br>most important Carolingian architectural <br>expressions.",
           51.77827778,
           9.41025
          ],
          [
           "Not yet visited",
           "Not yet visited",
           "Speicherstadt and the adjacent Kontorhaus <br>district are two densely built urban areas <br>in the centre of the port city of Hamburg. <br>Speicherstadt, originally developed on a <br>group of narrow islands in the Elbe River <br>between 1885 and 1927, was partly rebuilt <br>from 1949 to 1967. It is one of the largest <br>coherent historic ensembles of port warehouses <br>in the world (300,000 m<sup>2</sup>). It <br>includes 15 very large warehouse blocks as <br>well as six ancillary buildings and a connecting <br>network of short canals. Adjacent to the <br>modernist Chilehaus office building, the <br>Kontorhaus district is an area of over five <br>hectares featuring six very large office <br>complexes built from the 1920s to the 1940s <br>to house port-related businesses.",
           53.54555556,
           9.999444444
          ],
          [
           "Not yet visited",
           "Not yet visited",
           "Located in the eastern part of the Thuringian <br>Basin, the Cathedral of Naumburg, whose construction <br>began in 1028, is an outstanding testimony <br>to medieval art and architecture. Its Romanesque <br>structure, flanked by two Gothic choirs, <br>demonstrates the stylistic transition from <br>late Romanesque to early Gothic. The west <br>choir, dating to the first half of the 13th <br>century, reflects changes in religious practice <br>and the appearance of science and nature <br>in the figurative arts. The choir and life-size <br>sculptures of the founders of the Cathedral <br>are masterpieces of the workshop known as <br>the ‘Naumburg Master’. .",
           51.15480556,
           11.804
          ],
          [
           "Not yet visited",
           "Not yet visited",
           "Modern humans first arrived in Europe 43,000 <br>years ago during the last ice age. One of <br>the areas where they took up residence was <br>the Swabian Jura in southern Germany. Excavated <br>from the 1860s, six caves have revealed items <br>dating from 43,000 to 33,000 years ago. Among <br>them are carved figurines of animals (including <br>cave lions, mammoths, horses and bovids), <br>musical instruments and items of personal <br>adornment. Other figurines depict creatures <br>that are half animal, half human and there <br>is one statuette of a woman. These archaeological <br>sites feature some of the oldest figurative <br>art worldwide and help shed light on the <br>origins of human artistic development. .",
           48.38777778,
           9.765555556
          ],
          [
           "Not yet visited",
           "Not yet visited",
           "The archaeological site of Hedeby consists <br>of the remains of an emporium – or trading <br>town – containing traces of roads, buildings, <br>cemeteries and a harbour dating back to the <br>1st and early 2nd millennia CE. It is enclosed <br>by part of the Danevirke, a line of fortification <br>crossing the Schleswig isthmus, which separates <br>the Jutland Peninsula from the rest of the <br>European mainland. Because of its unique <br>situation between the Frankish Empire in <br>the South and the Danish Kingdom in the North, <br>Hedeby became a trading hub between continental <br>Europe and Scandinavia and between the North <br>Sea and the Baltic Sea. Because of its rich <br>and well preserved archaeological material, <br>it has become a key site for the interpretation <br>of economic, social and historical developments <br>in Europe during the Viking age. .",
           54.46194444,
           9.454111111
          ],
          [
           "Not yet visited",
           "Not yet visited",
           "The water management system of the city of <br>Augsburg has evolved in successive phases <br>from the 14th century to the present day. <br>It includes a network of canals, water towers <br>dating from the 15th to 17th centuries, which <br>housed pumping machinery, a water-cooled <br>butchers’ hall, a system of three monumental <br>fountains and hydroelectric power stations, <br>which continue to provide sustainable energy <br>today. The technological innovations generated <br>by this water management system have helped <br>establish Augsburg as a pioneer in hydraulic <br>engineering. .",
           48.36547222,
           10.902
          ],
          [
           "Not yet visited",
           "Not yet visited",
           "The Darmstadt Artists’ Colony on Mathildenhöhe, <br>the highest elevation above the city of Darmstadt <br>in west-central Germany, was established <br>in 1897 by Ernst Ludwig, Grand Duke of Hesse, <br>as a centre for emerging reform movements <br>in architecture, arts and crafts. The buildings <br>of the colony were created by its artist <br>members as experimental early modernist living <br>and working environments. The colony was <br>expanded during successive international <br>exhibitions in 1901, 1904, 1908 and 1914. <br>Today, it offers a testimony to early modern <br>architecture, urban planning and landscape <br>design, all of which were influenced by the <br>Arts and Crafts movement and the Vienna Secession.",
           49.87638889,
           8.6675
          ],
          [
           "Not yet visited",
           "Not yet visited",
           "Located in the former Imperial cathedral <br>cities of Speyer, Worms and Mainz, in the <br>Upper Rhine Valley, the serial site of Speyer, <br>Worms and Mainz comprise the Speyer Jewry-Court, <br>with the structures of the synagogue and <br>women’s shul (Yiddish for synagogue), the <br>archaeological vestiges of the yeshiva (religious <br>school), the courtyard and the still intact <br>underground mikveh (ritual bath), which has <br>retained its high architectural and building <br>quality. The property also comprises the <br>Worms Synagogue Compound, with its in situ post-war <br>reconstruction of the 12th century synagogue <br>and 13th century women’s shul, the community <br>hall (Rashi House), and the monumental 12th-century mikveh. <br>The series also includes the Old Jewish Cemetery <br>in Worms and the Old Jewish Cemetery in Mainz.",
           49.31621111,
           8.439538889
          ],
          [
           "Not yet visited",
           "Not yet visited",
           "Valcamonica, situated in the Lombardy plain, <br>has one of the world's greatest collections <br>of prehistoric petroglyphs – more than 140,000 <br>symbols and figures carved in the rock over <br>a period of 8,000 years and depicting themes <br>connected with agriculture, navigation, war <br>and magic. .",
           45.95705556,
           10.29733333
          ],
          [
           "Not yet visited",
           "Not yet visited",
           "Twelve villas and two gardens spread across <br>the Tuscan landscape make up this site which <br>bears testimony to the influence the Medici <br>family exerted over modern European culture <br>through its patronage of the arts. Built <br>between the 15th&nbsp;and 17th&nbsp;centuries, <br>they represent an innovative system of construction <br>in harmony with nature and dedicated to leisure, <br>the arts and knowledge. The villas embody <br>an innovative form and function, a new type <br>of princely residence that differed from <br>both the farms owned by rich Florentines <br>of the period and from the military might <br>of baronial castles. The Medici villas form <br>the first example of the connection between <br>architecture, gardens, and the environment <br>and became an enduring reference for princely <br>residences throughout Italy and Europe.",
           43.85777778,
           11.30416667
          ],
          [
           "Not yet visited",
           "Not yet visited",
           "Standing in a large green expanse, Piazza <br>del Duomo houses a group of monuments known <br>the world over. These four masterpieces of <br>medieval architecture – the cathedral, the <br>baptistry, the campanile (the 'Leaning Tower') <br>and the cemetery – had a great influence <br>on monumental art in Italy from the 11th <br>to the 14th century. .",
           43.72305556,
           10.39638889
          ],
          [
           "Not yet visited",
           "Not yet visited",
           "When the Emperor Frederick II built this <br>castle near Bari in the 13th century, he <br>imbued it with symbolic significance, as <br>reflected in the location, the mathematical <br>and astronomical precision of the layout <br>and the perfectly regular shape. A unique <br>piece of medieval military architecture, <br>Castel del Monte is a successful blend of <br>elements from classical antiquity, the Islamic <br>Orient and north European Cistercian Gothic. .",
           41.08480556,
           16.27094444
          ],
          [
           "Not yet visited",
           "Not yet visited",
           "The monumental complex at Caserta, created <br>by the Bourbon king Charles III in the mid-18th <br>century to rival Versailles and the Royal <br>Palace in Madrid, is exceptional for the <br>way in which it brings together a magnificent <br>palace with its park and gardens, as well <br>as natural woodland, hunting lodges and a <br>silk factory. It is an eloquent expression <br>of the Enlightenment in material form, integrated <br>into, rather than imposed on, its natural <br>setting. .",
           41.07333,
           14.32639
          ],
          [
           "Not yet visited",
           "Not yet visited",
           "'San Gimignano delle belle Torri' is in Tuscany, <br>56 km south of Florence. It served as an <br>important relay point for pilgrims travelling <br>to or from Rome on the Via Francigena. The <br>patrician families who controlled the town <br>built around 72 tower-houses (some as high <br>as 50 m) as symbols of their wealth and power. <br>Although only 14 have survived, San Gimignano <br>has retained its feudal atmosphere and appearance. <br>The town also has several masterpieces of <br>14th- and 15th-century Italian art. .",
           43.46806,
           11.04167
          ],
          [
           "Not yet visited",
           "Not yet visited",
           "This is the most outstanding, intact example <br>of a troglodyte settlement in the Mediterranean <br>region, perfectly adapted to its terrain <br>and ecosystem. The first inhabited zone dates <br>from the Palaeolithic, while later settlements <br>illustrate a number of significant stages <br>in human history. Matera is in the southern <br>region of Basilicata. .",
           40.66638889,
           16.61027778
          ],
          [
           "Not yet visited",
           "Not yet visited",
           "Siena is the embodiment of a medieval city. <br>Its inhabitants pursued their rivalry with <br>Florence right into the area of urban planning. <br>Throughout the centuries, they preserved <br>their city's Gothic appearance, acquired <br>between the 12th and 15th centuries. During <br>this period the work of Duccio, the Lorenzetti <br>brothers and Simone Martini was to influence <br>the course of Italian and, more broadly, <br>European art. The whole city of Siena, built <br>around the Piazza del Campo, was devised <br>as a work of art that blends into the surrounding <br>landscape. .",
           43.31861111,
           11.33166667
          ],
          [
           "Not yet visited",
           "Not yet visited",
           "From the Neapolis founded by Greek settlers <br>in 470 B.C. to the city of today, Naples <br>has retained the imprint of the successive <br>cultures that emerged in Europe and the Mediterranean <br>basin. This makes it a unique site, with <br>a wealth of outstanding monuments such as <br>the Church of Santa Chiara and the Castel <br>Nuovo. .",
           40.85138889,
           14.26277778
          ],
          [
           "Not yet visited",
           "Not yet visited",
           "Crespi d'Adda in Capriate San Gervasio in <br>Lombardy is an outstanding example of the <br>19th- and early 20th-century 'company towns' <br>built in Europe and North America by enlightened <br>industrialists to meet the workers' needs. <br>The site is still remarkably intact and is <br>partly used for industrial purposes, although <br>changing economic and social conditions now <br>threaten its survival. .",
           45.59333,
           9.53833
          ],
          [
           "Not yet visited",
           "Not yet visited",
           "Ferrara, which grew up around a ford over <br>the River Po, became an intellectual and <br>artistic centre that attracted the greatest <br>minds of the Italian Renaissance in the 15th <br>and 16th centuries. Here, Piero della Francesca, <br>Jacopo Bellini and Andrea Mantegna decorated <br>the palaces of the House of Este. The humanist <br>concept of the 'ideal city' came to life <br>here in the neighbourhoods built from 1492 <br>onwards by Biagio Rossetti according to the <br>new principles of perspective. The completion <br>of this project marked the birth of modern <br>town planning and influenced its subsequent <br>development. .",
           44.83777778,
           11.61944444
          ],
          [
           "Not yet visited",
           "Not yet visited",
           "The <em>trulli</em> , limestone dwellings <br>found in the southern region of Puglia, are <br>remarkable examples of drywall (mortarless) <br>construction, a prehistoric building technique <br>still in use in this region. The <em>trulli</em> <br>are made of roughly worked limestone boulders <br>collected from neighbouring fields. Characteristically, <br>they feature pyramidal, domed or conical <br>roofs built up of corbelled limestone slabs. .",
           40.7825,
           17.23694
          ],
          [
           "Not yet visited",
           "Not yet visited",
           "Ravenna was the seat of the Roman Empire <br>in the 5th century and then of Byzantine <br>Italy until the 8th century. It has a unique <br>collection of early Christian mosaics and <br>monuments. All eight buildings – the Mausoleum <br>of Galla Placidia, the Neonian Baptistery, <br>the Basilica of Sant'Apollinare Nuovo, the <br>Arian Baptistery, the Archiepiscopal Chapel, <br>the Mausoleum of Theodoric, the Church of <br>San Vitale and the Basilica of Sant'Apollinare <br>in Classe – were constructed in the 5th and <br>6th centuries. They show great artistic skill, <br>including a wonderful blend of Graeco-Roman <br>tradition, Christian iconography and oriental <br>and Western styles. .",
           44.42041667,
           12.19625
          ],
          [
           "Not yet visited",
           "Not yet visited",
           "It was in this Tuscan town that Renaissance <br>town-planning concepts were first put into <br>practice after Pope Pius II decided, in 1459, <br>to transform the look of his birthplace. <br>He chose the architect Bernardo Rossellino, <br>who applied the principles of his mentor, <br>Leon Battista Alberti. This new vision of <br>urban space was realized in the superb square <br>known as Piazza Pio II and the buildings <br>around it: the Piccolomini Palace, the Borgia <br>Palace and the cathedral with its pure Renaissance <br>exterior and an interior in the late Gothic <br>style of south German churches. .",
           43.07694444,
           11.67861111
          ],
          [
           "Not yet visited",
           "Not yet visited",
           "When Emmanuel-Philibert, Duke of Savoy, moved <br>his capital to Turin in 1562, he began a <br>vast series of building projects (continued <br>by his successors) to demonstrate the power <br>of the ruling house. This outstanding complex <br>of buildings, designed and embellished by <br>the leading architects and artists of the <br>time, radiates out into the surrounding countryside <br>from the Royal Palace in the 'Command Area' <br>of Turin to include many country residences <br>and hunting lodges. .",
           45.07253,
           7.68572
          ],
          [
           "Not yet visited",
           "Not yet visited",
           "The world's first botanical garden was created <br>in Padua in 1545. It still preserves its <br>original layout - a circular central plot, <br>symbolizing the world, surrounded by a ring <br>of water. Other elements were added later, <br>some architectural (ornamental entrances <br>and balustrades) and some practical (pumping <br>installations and greenhouses). It continues <br>to serve its original purpose as a centre <br>for scientific research. .",
           45.39911111,
           11.88066667
          ],
          [
           "Not yet visited",
           "Not yet visited",
           "Aquileia (in Friuli-Venezia Giulia), one <br>of the largest and wealthiest cities of the <br>Early Roman Empire, was destroyed by Attila <br>in the mid-5th century. Most of it still <br>lies unexcavated beneath the fields, and <br>as such it constitutes the greatest archaeological <br>reserve of its kind. The patriarchal basilica, <br>an outstanding building with an exceptional <br>mosaic pavement, played a key role in the <br>evangelization of a large region of central <br>Europe. .",
           45.76833333,
           13.3675
          ],
          [
           "Not yet visited",
           "Not yet visited",
           "The Ligurian coast between Cinque Terre and <br>Portovenere is a cultural landscape of great <br>scenic and cultural value. The layout and <br>disposition of the small towns and the shaping <br>of the surrounding landscape, overcoming <br>the disadvantages of a steep, uneven terrain, <br>encapsulate the continuous history of human <br>settlement in this region over the past millennium. .",
           44.10694,
           9.72917
          ],
          [
           "Not yet visited",
           "Not yet visited",
           "The magnificent 12th-century cathedral at <br>Modena, the work of two great artists (Lanfranco <br>and Wiligelmus), is a supreme example of <br>early Romanesque art. With its piazza and <br>soaring tower, it testifies to the faith <br>of its builders and the power of the Canossa <br>dynasty who commissioned it. .",
           44.64624,
           10.92568
          ],
          [
           "Not yet visited",
           "Not yet visited",
           "The small hill town of Urbino, in the Marche, <br>experienced a great cultural flowering in <br>the 15th century, attracting artists and <br>scholars from all over Italy and beyond, <br>and influencing cultural developments elsewhere <br>in Europe. Owing to its economic and cultural <br>stagnation from the 16th century onwards, <br>it has preserved its Renaissance appearance <br>to a remarkable extent. .",
           43.725,
           12.63333
          ],
          [
           "Not yet visited",
           "Not yet visited",
           "The Amalfi coast is an area of great physical <br>beauty and natural diversity. It has been <br>intensively settled by human communities <br>since the early Middle Ages. There are a <br>number of towns such as Amalfi and Ravello <br>with architectural and artistic works of <br>great significance. The rural areas show <br>the versatility of the inhabitants in adapting <br>their use of the land to the diverse nature <br>of the terrain, which ranges from terraced <br>vineyards and orchards on the lower slopes <br>to wide upland pastures. .",
           40.63333333,
           14.60277778
          ],
          [
           "Not yet visited",
           "Not yet visited",
           "Founded as a Greek colony in the 6th century <br>B.C., Agrigento became one of the leading <br>cities in the Mediterranean world. Its supremacy <br>and pride are demonstrated by the remains <br>of the magnificent Doric temples that dominate <br>the ancient town, much of which still lies <br>intact under today's fields and orchards. <br>Selected excavated areas throw light on the <br>later Hellenistic and Roman town and the <br>burial practices of its early Christian inhabitants. .",
           37.28972222,
           13.59333333
          ],
          [
           "Not yet visited",
           "Not yet visited",
           "Roman exploitation of the countryside is <br>symbolized by the Villa Romana del Casale <br>(in Sicily), the centre of the large estate <br>upon which the rural economy of the Western <br>Empire was based. The villa is one of the <br>most luxurious of its kind. It is especially <br>noteworthy for the richness and quality of <br>the mosaics which decorate almost every room; <br>they are the finest mosaics <em>in situ</em> <br>anywhere in the Roman world. .",
           37.36611,
           14.33417
          ],
          [
           "Not yet visited",
           "Not yet visited",
           "During the late 2nd millennium B.C. in the <br>Bronze Age, a special type of defensive structure <br>known as <em>nuraghi</em> (for which no parallel <br>exists anywhere else in the world) developed <br>on the island of Sardinia. The complex consists <br>of circular defensive towers in the form <br>of truncated cones built of dressed stone, <br>with corbel-vaulted internal chambers. The <br>complex at Barumini, which was extended and <br>reinforced in the first half of the 1st millennium <br>under Carthaginian pressure, is the finest <br>and most complete example of this remarkable <br>form of prehistoric architecture. .",
           39.70583333,
           8.991388889
          ],
          [
           "Not yet visited",
           "Not yet visited",
           "The Cilento is an outstanding cultural landscape. <br>The dramatic groups of sanctuaries and settlements <br>along its three east–west mountain ridges <br>vividly portray the area's historical evolution: <br>it was a major route not only for trade, <br>but also for cultural and political interaction <br>during the prehistoric and medieval periods. <br>The Cilento was also the boundary between <br>the Greek colonies of Magna Graecia and the <br>indigenous Etruscan and Lucanian peoples. <br>The remains of two major cities from classical <br>times, Paestum and Velia, are found there. .",
           40.28333333,
           15.26666667
          ],
          [
           "Not yet visited",
           "Not yet visited",
           "The Villa Adriana (at Tivoli, near Rome) <br>is an exceptional complex of classical buildings <br>created in the 2nd century A.D. by the Roman <br>emperor Hadrian. It combines the best elements <br>of the architectural heritage of Egypt, Greece <br>and Rome in the form of an 'ideal city'. .",
           41.94416667,
           12.77197222
          ],
          [
           "Not yet visited",
           "Not yet visited",
           "The Aeolian Islands provide an outstanding <br>record of volcanic island-building and destruction, <br>and ongoing volcanic phenomena. Studied since <br>at least the 18th century, the islands have <br>provided the science of vulcanology with <br>examples of two types of eruption (Vulcanian <br>and Strombolian) and thus have featured prominently <br>in the education of geologists for more than <br>200 years. The site continues to enrich the <br>field of vulcanology. .",
           38.48786111,
           14.94558333
          ],
          [
           "Not yet visited",
           "Not yet visited",
           "Assisi, a medieval city built on a hill, <br>is the birthplace of Saint Francis, closely <br>associated with the work of the Franciscan <br>Order. Its medieval art masterpieces, such <br>as the Basilica of San Francesco and paintings <br>by Cimabue, Pietro Lorenzetti, Simone Martini <br>and Giotto, have made Assisi a fundamental <br>reference point for the development of Italian <br>and European art and architecture. .",
           43.06616667,
           12.62244444
          ],
          [
           "Not yet visited",
           "Not yet visited",
           "The eight towns in south-eastern Sicily: <br>Caltagirone, Militello Val di Catania, Catania, <br>Modica, Noto, Palazzolo, Ragusa and Scicli, <br>were all rebuilt after 1693 on or beside <br>towns existing at the time of the earthquake <br>which took place in that year. They represent <br>a considerable collective undertaking, successfully <br>carried out at a high level of architectural <br>and artistic achievement. Keeping within <br>the late Baroque style of the day, they also <br>depict distinctive innovations in town planning <br>and urban building. .",
           36.89319444,
           15.06891667
          ],
          [
           "Not yet visited",
           "Not yet visited",
           "The Villa d'Este in Tivoli, with its palace <br>and garden, is one of the most remarkable <br>and comprehensive illustrations of Renaissance <br>culture at its most refined. Its innovative <br>design along with the architectural components <br>in the garden (fountains, ornamental basins, <br>etc.) make this a unique example of an Italian <br>16th-century garden. The Villa d'Este, one <br>of the first <em>giardini delle meraviglie</em> <br>, was an early model for the development <br>of European gardens. .",
           41.96391667,
           12.79625
          ],
          [
           "Not yet visited",
           "Not yet visited",
           "The landscape of Val d’Orcia is part of the <br>agricultural hinterland of Siena, redrawn <br>and developed when it was integrated in the <br>territory of the city-state in the 14th and <br>15th centuries to reflect an idealized model <br>of good governance and to create an aesthetically <br>pleasing picture. The landscape’s distinctive <br>aesthetics, flat chalk plains out of which <br>rise almost conical hills with fortified <br>settlements on top, inspired many artists. <br>Their images have come to exemplify the beauty <br>of well-managed Renaissance agricultural <br>landscapes. The inscription covers: an agrarian <br>and pastoral landscape reflecting innovative <br>land-management systems; towns and villages; <br>farmhouses; and the Roman Via Francigena <br>and its associated abbeys, inns, shrines, <br>bridges, etc. .",
           43.06666667,
           11.55
          ],
          [
           "Not yet visited",
           "Not yet visited",
           "The nine <em>Sacri Monti</em> (Sacred Mountains) <br>of northern Italy are groups of chapels and <br>other architectural features created in the <br>late 16th and 17th centuries and dedicated <br>to different aspects of the Christian faith. <br>In addition to their symbolic spiritual meaning, <br>they are of great beauty by virtue of the <br>skill with which they have been integrated <br>into the surrounding natural landscape of <br>hills, forests and lakes. They also house <br>much important artistic material in the form <br>of wall paintings and statuary. .",
           45.97455556,
           9.169555556
          ],
          [
           "Not yet visited",
           "Not yet visited",
           "These two large Etruscan cemeteries reflect <br>different types of burial practices from <br>the 9th to the 1st century BC, and bear witness <br>to the achievements of Etruscan culture. <br>Which over nine centuries developed the earliest <br>urban civilization in the northern Mediterranean. <br>Some of the tombs are monumental, cut in <br>rock and topped by impressive tumuli (burial <br>mounds). Many feature carvings on their walls, <br>others have wall paintings of outstanding <br>quality. The necropolis near Cerveteri, known <br>as Banditaccia, contains thousands of tombs <br>organized in a city-like plan, with streets, <br>small squares and neighbourhoods. The site <br>contains very different types of tombs: trenches <br>cut in rock; tumuli; and some, also carved <br>in rock, in the shape of huts or houses with <br>a wealth of structural details.",
           42.00683333,
           12.10188889
          ],
          [
           "Not yet visited",
           "Not yet visited",
           "The site consists of two separate elements, <br>containing outstanding vestiges dating back <br>to Greek and Roman times: The Necropolis <br>of Pantalica contains over 5,000 tombs cut <br>into the rock near open stone quarries, most <br>of them dating from the 13th to 7th centuries <br>BC. Vestiges of the Byzantine era also remain <br>in the area, notably the foundations of the <br>Anaktoron (Prince’s Palace). The other part <br>of the property, Ancient Syracuse, includes <br>the nucleus of the city’s foundation as Ortygia <br>by Greeks from Corinth in the 8th century <br>BC. The site of the city, which Cicero described <br>as ‘the greatest Greek city and the most <br>beautiful of all’, retains vestiges such <br>as the Temple of Athena (5th century BC, <br>later transformed to serve as a cathedral), <br>a Greek theatre, a Roman amphitheatre, a <br>fort and more.",
           37.05944,
           15.29306
          ],
          [
           "Not yet visited",
           "Not yet visited",
           "The Strade Nuove and the system of the Palazzi <br>dei Rolli in Genoa's historic centre date <br>from the late 16th and early 17th centuries <br>when the Republic of Genoa was at the height <br>of its financial and seafaring power. The <br>site represents the first example in Europe <br>of an urban development project parcelled <br>out by a public authority within a unitary <br>framework and associated to a particular <br>system of 'public lodging' in private residences, <br>as decreed by the Senate in 1576. The site <br>includes an ensemble of Renaissance and Baroque <br>palaces along the so-called 'new streets' <br>(Strade Nuove). The Palazzi dei Rolli offer <br>an extraordinary variety of different solutions, <br>achieving universal value in adapting to <br>the particular characteristics of the site <br>and to the requirements of a specific social <br>and economic organization.",
           44.41222222,
           8.931111111
          ],
          [
           "Not yet visited",
           "Not yet visited",
           "The site of the Dolomites comprises a mountain <br>range in the northern Italian Alps, numbering <br>18 peaks which rise to above 3,000 metres <br>and cover 141,903 ha. It features some of <br>the most beautiful mountain landscapes anywhere, <br>with vertical walls, sheer cliffs and a high <br>density of narrow, deep and long valleys. <br>A serial property of nine areas that present <br>a diversity of spectacular landscapes of <br>international significance for geomorphology <br>marked by steeples, pinnacles and rock walls, <br>the site also contains glacial landforms <br>and karst systems. It is characterized by <br>dynamic processes with frequent landslides, <br>floods and avalanches. The property also <br>features one of the best examples of the <br>preservation of Mesozoic carbonate platform <br>systems, with fossil records. .",
           46.61305556,
           12.16305556
          ],
          [
           "Not yet visited",
           "Not yet visited",
           "Mantua and Sabbioneta represent two aspects <br>of Renaissance town planning: Mantua shows <br>the renewal and extension of an existing <br>city, while some 30 km away, Sabbioneta represents <br>the implementation of the period’s theories <br>about planning the ideal city. Typically, <br>Mantua’s layout is irregular with regular <br>parts showing different stages of its growth <br>since the Roman period and includes many <br>historical buildings, among them an 11th <br>century rotunda and a Baroque theatre. Sabbioneta, <br>created in the second half of the 16th century <br>under the rule of Vespasiano Gonzaga Colonna, <br>can be described as a single-period city <br>and has a right-angle grid layout.",
           45.15944444,
           10.79444444
          ],
          [
           "Not yet visited",
           "Not yet visited",
           "The Longobards in Italy, Places of Power, <br>568 - 774 A.D.&nbsp;comprises seven groups <br>of important buildings (including fortresses, <br>churches, and monasteries) throughout the <br>Italian Peninsula. They testify to the high <br>achievement of the Lombards, who migrated <br>from northern Europe and developed their <br>own specific culture in Italy where they <br>ruled over vast territories in the 6th to <br>8th centuries. The Lombards synthesis of <br>architectural styles marked the transition <br>from Antiquity to the European Middle Ages, <br>drawing on the heritage of Ancient Rome, <br>Christian spirituality, Byzantine influence <br>and Germanic northern Europe. The serial <br>property testifies to the Lombards' major <br>role in the spiritual and cultural development <br>of Medieval European Christianity, notably <br>by bolstering the monastic movement. .",
           46.09416667,
           13.43305556
          ],
          [
           "Not yet visited",
           "Not yet visited",
           "This landscape covers five distinct wine-growing <br>areas with outstanding landscapes and the <br>Castle of Cavour, an emblematic name both <br>in the development of vineyards and in Italian <br>history. It is located in the southern part <br>of Piedmont, between the Po River and the <br>Ligurian Apennines, and encompasses the whole <br>range of technical and economic processes <br>relating to the winegrowing and winemaking <br>that has characterized the region for centuries. <br>Vine pollen has been found in the area dating <br>from the 5th century BC, when Piedmont was <br>a place of contact and trade between the <br>Etruscans and the Celts; Etruscan and Celtic <br>words, particularly wine-related ones, are <br>still found in the local dialect.",
           44.60861111,
           7.963611111
          ],
          [
           "Not yet visited",
           "Not yet visited",
           "Mount Etna&nbsp;is an iconic site encompassing <br>19,237 uninhabited hectares on the highest <br>part of Mount Etna, on the eastern coast <br>of Sicily. Mount Etna is the highest Mediterranean <br>island mountain and the most active stratovolcano <br>in the world. The eruptive history of the <br>volcano can be traced back 500,000 years <br>and at least 2,700 years of this activity <br>has been documented. The almost continuous <br>eruptive activity of Mount Etna continues <br>to influence volcanology, geophysics and <br>other Earth science disciplines. The volcano <br>also supports important terrestrial ecosystems <br>including endemic flora and fauna and its <br>activity makes it a natural laboratory for <br>the study of ecological and biological processes.",
           37.75611111,
           14.99666667
          ],
          [
           "Not yet visited",
           "Not yet visited",
           "Located on the northern coast of Sicily, <br>Arab-Norman Palermo includes a series of <br>nine civil and religious structures dating <br>from the era of the Norman kingdom of Sicily <br>(1130-1194): two palaces, three churches, <br>a cathedral, a bridge, as well as the cathedrals <br>of Cefalú and Monreale. Collectively, they <br>are an example of a social-cultural syncretism <br>between Western, Islamic and Byzantine cultures <br>on the island which gave rise to new concepts <br>of space, structure and decoration. They <br>also bear testimony to the fruitful coexistence <br>of people of different origins and religions <br>(Muslim, Byzantine, Latin, Jewish, Lombard <br>and French). .",
           38.11083333,
           13.35305556
          ],
          [
           "Not yet visited",
           "Not yet visited",
           "The industrial city of Ivrea is located in <br>the Piedmont region and developed as the <br>testing ground for Olivetti, manufacturer <br>of typewriters, mechanical calculators and <br>office computers. It comprises a large factory <br>and buildings designed to serve the administration <br>and social services, as well as residential <br>units. Designed by leading Italian urban <br>planners and architects, mostly between the <br>1930s and the 1960s, this architectural ensemble <br>reflects the ideas of the Community Movement <br>(Movimento Comunità). A model social project, <br>Ivrea expresses a modern vision of the relationship <br>between industrial production and architecture. .",
           45.4575,
           7.869166667
          ],
          [
           "Not yet visited",
           "Not yet visited",
           "Located in north-eastern Italy, the property <br>includes part of the winegrowing landscape <br>of the Prosecco wine production area. The <br>landscape is characterized by ‘hogback’ hills, <em>ciglioni</em> – <br>small plots of vines on narrow grassy terraces <br>– forests, small villages and farmland. For <br>centuries, this rugged terrain has been shaped <br>and adapted by man. Since the 17th century, <br>the use of <em>ciglioni</em> has created <br>a particular chequerboard landscape consisting <br>of rows of vines parallel and vertical to <br>the slopes. In the 19th century, the <em>bellussera</em> technique <br>of training the vines contributed to the <br>aesthetic characteristics of the landscape. .",
           45.95302778,
           12.22611111
          ],
          [
           "Not yet visited",
           "Not yet visited",
           "This property is composed of eight religious <br>and secular building complexes, within the <br>historic walled city of Padua, which house <br>a selection of fresco cycles painted between <br>1302 and 1397 by different artists for different <br>types of patron and within buildings of diverse <br>functions. Nevertheless, the frescos maintain <br>a unity of style and content. They include <br>Giotto’s Scrovegni Chapel fresco cycle, considered <br>to have marked the beginning of a revolutionary <br>development in the history of mural painting, <br>as well as other fresco cycles of different <br>artists, namely Guariento di Arpo, Giusto <br>de’ Menabuoi, Altichiero da Zevio, Jacopo <br>Avanzi and Jacopo da Verona.",
           45.41188889,
           11.87961111
          ],
          [
           "Not yet visited",
           "Not yet visited",
           "This serial property is an unusually well-preserved <br>and extensive epigenic gypsum karst terrain. <br>It includes a very high density of caves: <br>over 900 caves in a relatively small area, <br>with over 100 km of caves in total. It is <br>the first and the best studied evaporitic <br>karst in the world, with academic work beginning <br>in the 16th century. It also includes some <br>of the deepest gypsum caves in existence, <br>reaching 265 meters below the surface. .",
           44.37994444,
           10.38891667
          ],
          [
           "Not yet visited",
           "Not yet visited",
           "Because of its strategic position, Luxembourg <br>was, from the 16th century until 1867, when <br>its walls were dismantled, one of Europe's <br>greatest fortified sites. It was repeatedly <br>reinforced as it passed from one great European <br>power to another: the Holy Roman Emperors, <br>the House of Burgundy, the Habsburgs, the <br>French and Spanish kings, and finally the <br>Prussians. Until their partial demolition, <br>the fortifications were a fine example of <br>military architecture spanning several centuries. .",
           49.61,
           6.13333
          ],
          [
           "Not yet visited",
           "Not yet visited",
           "Schokland was a peninsula that by the 15th <br>century had become an island. Occupied and <br>then abandoned as the sea encroached, it <br>had to be evacuated in 1859. But following <br>the draining of the Zuider Zee, it has, since <br>the 1940s, formed part of the land reclaimed <br>from the sea. Schokland has vestiges of human <br>habitation going back to prehistoric times. <br>It symbolizes the heroic, age-old struggle <br>of the people of the Netherlands against <br>the encroachment of the waters. .",
           52.63861111,
           5.771666667
          ],
          [
           "Not yet visited",
           "Not yet visited",
           "The outstanding contribution made by the <br>people of the Netherlands to the technology <br>of handling water is admirably demonstrated <br>by the installations in the Kinderdijk-Elshout <br>area. Construction of hydraulic works for <br>the drainage of land for agriculture and <br>settlement began in the Middle Ages and have <br>continued uninterruptedly to the present <br>day. The site illustrates all the typical <br>features associated with this technology <br>– dykes, reservoirs, pumping stations, administrative <br>buildings and a series of beautifully preserved <br>windmills. .",
           51.8825,
           4.649444444
          ],
          [
           "Not yet visited",
           "Not yet visited",
           "The Wouda Pumping Station at Lemmer in the <br>province of Friesland opened in 1920. It <br>is the largest steam-pumping station ever <br>built and is still in operation. It represents <br>the high point of the contribution made by <br>Netherlands engineers and architects in protecting <br>their people and land against the natural <br>forces of water. .",
           52.84583,
           5.67889
          ],
          [
           "Not yet visited",
           "Not yet visited",
           "The Beemster Polder, dating from the early <br>17th century, is is an exceptional example <br>of reclaimed land in the Netherlands. It <br>has preserved intact its well-ordered landscape <br>of fields, roads, canals, dykes and settlements, <br>laid out in accordance with classical and <br>Renaissance planning principles. .",
           52.54888889,
           4.911111111
          ],
          [
           "Not yet visited",
           "Not yet visited",
           "Built between 1774 and 1781, this property <br>is a moving mechanical scale model of the <br>solar system as it was known at the time. <br>Conceived and built by an ordinary citizen <br>– the wool manufacturer Eise Eisinga – the <br>model is built into the ceiling and south <br>wall of the former living room/bedroom of <br>its creator. Powered by one single pendulum <br>clock, it provides a realistic image of the <br>positions of the Sun, the Moon, the Earth <br>and five other planets (Mercury, Venus, Mars, <br>Jupiter and Saturn). The planets revolve <br>around the Sun in real time and the distance <br>between the planets are at scale. The model <br>fills the entire ceiling of the room, making <br>it one of the earliest predecessors of the <br>ceiling and projection planetariums of the <br>20th and 21st centuries. .",
           53.187375,
           5.543752778
          ],
          [
           "Not yet visited",
           "Not yet visited",
           "San Marino Historic Centre and Mount Titano <br>covers 55 ha, including Mount Titano and <br>the historic centre of the city which dates <br>back to the foundation of the republic as <br>a city-state in the 13th century. San Marino <br>is inscribed as a testimony to the continuity <br>of a free republic since the Middle Ages. <br>The inscribed city centre includes fortification <br>towers, walls, gates and bastions, as well <br>as a neo-classical basilica of the 19th century, <br>14th and 16th century convents, and the Palazzo <br>Publico of the 19th century, as well as the <br>18th century Titano Theatre. The property <br>represents an historical centre still inhabited <br>and preserving all its institutional functions.",
           43.93277778,
           12.45194444
          ],
          [
           "Not yet visited",
           "Not yet visited",
           "This transnational serial property comprises <br>eleven spa towns, located in seven European <br>countries: Baden bei Wien (Austria); Spa <br>(Belgium); Františkovy Lázně; Karlovy <br>Vary; Mariánské Lázně (Czechia); Vichy <br>(France); Bad Ems; Baden-Baden; Bad Kissingen <br>(Germany); Montecatini Terme (Italy); and <br>City of Bath (United Kingdom). All of these <br>towns developed around natural mineral water <br>springs.",
           50.49222222,
           5.866944444
          ],
          [
           "Not yet visited",
           "Not yet visited",
           "This serial property of 111 small individual <br>sites encompasses the remains of prehistoric <br>pile-dwelling (or stilt house) settlements <br>in and around the Alps built from around <br>5000 to 500 B.C. on the edges of lakes, rivers <br>or wetlands. Excavations, only conducted <br>in some of the sites, have yielded evidence <br>that provides insight into life in prehistoric <br>times during the Neolithic and Bronze Age <br>in Alpine Europe and the way communities <br>interacted with their environment. Fifty-six <br>of the sites are located in Switzerland. <br>The settlements are a unique group of exceptionally <br>well-preserved and culturally rich archaeological <br>sites, which constitute one of the most important <br>sources for the study of early agrarian societies <br>in the region. .",
           47.27833333,
           8.2075
          ],
          [
           "Not yet visited",
           "Not yet visited",
           "This transnational serial property encompasses <br>sites along the First World War Western Front, <br>where war was fought between the German and <br>the Allied forces between 1914 and 1918. <br>Located between the north of Belgium and <br>the east of France, the component parts of <br>the property vary in scale from large necropolises, <br>holding the remains of tens of thousands <br>of soldiers of several nationalities, to <br>tiny and simpler cemeteries, and single memorials. <br>The sites include different military cemeteries, <br>battlefield burial grounds, and hospital <br>cemeteries, often combined with memorials. .",
           50.8662566,
           2.7079707
          ],
          [
           "Not yet visited",
           "Not yet visited",
           "This property consists of 6 components of <br>defence works in Italy, Croatia and Montenegro, <br>spanning more than 1,000 km between the Lombard <br>region of Italy and the eastern Adriatic <br>Coast. The fortifications throughout the <em>Stato <br>da Terra </em>protected the Republic of Venice <br>from other European powers to the northwest <br>and those of the <em>Stato da Mar </em>protected <br>the sea routes and ports in the Adriatic <br>Sea to the Levant. They were necessary to <br>support the expansion and authority of the <em>Serenissima</em>. <br>The introduction of gunpowder led to significant <br>shifts in military techniques and architecture <br>that are reflected in the design of so-called <em>alla <br>moderna /</em><em> </em>bastioned, fortifications, <br>which were to spread throughout Europe. .",
           45.70333333,
           9.663611111
          ],
          [
           "Not yet visited",
           "Not yet visited",
           "The Wadden Sea is the largest unbroken system <br>of intertidal sand and mud flats in the world. <br>The site covers the Dutch Wadden Sea Conservation <br>Area, the German Wadden Sea National Parks <br>of Lower Saxony and Schleswig-Holstein, and <br>most of the Danish Wadden Sea maritime conservation <br>area. It is a large, temperate, relatively <br>flat coastal wetland environment, formed <br>by the intricate interactions between physical <br>and biological factors that have given rise <br>to a multitude of transitional habitats with <br>tidal channels, sandy shoals, sea-grass meadows, <br>mussel beds, sandbars, mudflats, salt marshes, <br>estuaries, beaches and dunes. The area is <br>home to numerous plant and animal species, <br>including marine mammals such as the harbour <br>seal, grey seal and harbour porpoise.",
           53.52861111,
           8.556111111
          ],
          [
           "Not yet visited",
           "Not yet visited",
           "This outstanding mountain landscape, which <br>spans the contemporary national borders of <br>France and Spain, is centred around the peak <br>of Mount Perdu, a calcareous massif that <br>rises to 3,352 m. The site, with a total <br>area of 30,639 ha, includes two of Europe's <br>largest and deepest canyons on the Spanish <br>side and three major cirque walls on the <br>more abrupt northern slopes with France, <br>classic presentations of these geological <br>landforms. The site is also a pastoral landscape <br>reflecting an agricultural way of life that <br>was once widespread in the upland regions <br>of Europe but now survives only in this part <br>of the Pyrénées. Thus it provides exceptional <br>insights into past European society through <br>its landscape of villages, farms, fields, <br>upland pastures and mountain roads. .",
           42.68542,
           -0.0005
          ],
          [
           "Not yet visited",
           "Not yet visited",
           "A landscaped park of 559.9 ha astride the <br>Neisse River and the border between Poland <br>and Germany, it was created by Prince Hermann <br>von Puckler-Muskau from 1815 to 1844. Blending <br>seamlessly with the surrounding farmed landscape, <br>the park pioneered new approaches to landscape <br>design and influenced the development of <br>landscape architecture in Europe and America. <br>Designed as a 'painting with plants', it <br>did not seek to evoke classical landscapes, <br>paradise, or some lost perfection, instead <br>using local plants to enhance the inherent <br>qualities of the existing landscape. This <br>integrated landscape extends into the town <br>of Muskau with green passages that formed <br>urban parks framing areas for development. <br>The town thus became a design component in <br>a utopian landscape.",
           51.57930556,
           14.72644444
          ],
          [
           "Not yet visited",
           "Not yet visited",
           "The ‘Roman Limes’ represents the border line <br>of the Roman Empire at its greatest extent <br>in the 2nd century AD. It stretched over <br>5,000 km from the Atlantic coast of northern <br>Britain, through Europe to the Black Sea, <br>and from there to the Red Sea and across <br>North Africa to the Atlantic coast. The remains <br>of the Limes today consist of vestiges of <br>built walls, ditches, forts, fortresses, <br>watchtowers and civilian settlements. Certain <br>elements of the line have been excavated, <br>some reconstructed and a few destroyed. The <br>two sections of the Limes in Germany cover <br>a length of 550 km from the north-west of <br>the country to the Danube in the south-east. <br>The 118-km-long Hadrian’s Wall (UK) was built <br>on the orders of the Emperor Hadrian c. AD <br>122 at the northernmost limits of the Roman <br>province of Britannia.",
           54.99261111,
           -2.601
          ],
          [
           "Not yet visited",
           "Not yet visited",
           "The pyramid-shaped, wooded mountain of Monte <br>San Giorgio beside Lake Lugano is regarded <br>as the best fossil record of marine life <br>from the Triassic Period (245–230 million <br>years ago). The sequence records life in <br>a tropical lagoon environment, sheltered <br>and partially separated from the open sea <br>by an offshore reef. Diverse marine life <br>flourished within this lagoon, including <br>reptiles, fish, bivalves, ammonites, echinoderms <br>and crustaceans. Because the lagoon was near <br>land, the remains also include land-based <br>fossils of reptiles, insects and plants, <br>resulting in an extremely rich source of <br>fossils. .",
           45.88888889,
           8.913888889
          ],
          [
           "Not yet visited",
           "Not yet visited",
           "Rhaetian Railway in the Albula / Bernina <br>Landscapes, brings together two historic <br>railway lines that cross the Swiss Alps through <br>two passes. Opened in 1904, the Albula line <br>in the north western part of the property <br>is 67 km long. It features an impressive <br>set of structures including 42 tunnels and <br>covered galleries and 144 viaducts and bridges. <br>The 61 km Bernina pass line features 13 tunnels <br>and galleries and 52 viaducts and bridges. <br>The property is exemplary of the use of the <br>railway to overcome the isolation of settlements <br>in the Central Alps early in the 20th century, <br>with a major and lasting socio-economic impact <br>on life in the mountains.",
           46.49833333,
           9.846388889
          ],
          [
           "Not yet visited",
           "Not yet visited",
           "Created for the most part in the 19th century <br>in what was then the capital of the Grand <br>Duchy of Mecklenburg-Schwerin in northeast <br>Germany, the property comprises 38 elements, <br>including the Grand Duke’s Residence Palace <br>and manor houses, cultural and sacred buildings, <br>and the Pfaffenteich ornamental lake. But <br>it also fulfils all the functions required <br>of a ducal capital in terms of administration, <br>defence, service infrastructure, transportation, <br>prestige and cultural activities, with parks, <br>canals, ponds and lakes, and public spaces. <br>The buildings form an exceptional architectural <br>ensemble that reflects the historicist spirit <br>of the time, ranging from neo-Renaissance <br>to neo-Baroque and neo-Classical, with influences <br>from the Italian Renaissance. .",
           53.6241666667,
           11.4188888889
          ],
          [
           "Not yet visited",
           "Not yet visited",
           "More than 800 kilometres long, the Via Appia <br>is the oldest and most important of the great <br>roads built by the Ancient Romans. Constructed <br>and developed from 312 BCE to the 4th century <br>CE, it was originally conceived as a strategic <br>road for military conquest, advancing towards <br>the East and Asia Minor. The Via Appia later <br>enabled the cities it connected to grow and <br>new settlements emerged, facilitating agricultural <br>production and trade.",
           41.2927222222,
           13.2627222222
          ]
         ],
         "hovertemplate": "<b>%{hovertext}</b><br>Rating: %{customdata[0]} <br>Last visited in: %{customdata[1]}<br><br>%{customdata[2]}<extra></extra>",
         "hovertext": [
          "The Four Lifts on the Canal du Centre and <br>their Environs, La Louvière and Le Roeulx <br>(Hainaut) ",
          "Neolithic Flint Mines at Spiennes (Mons) ",
          "Notre-Dame Cathedral in Tournai ",
          "Major Mining Sites of Wallonia ",
          "Moravian Church Settlements ",
          "Mont-Saint-Michel and its Bay ",
          "Chartres Cathedral ",
          "Vézelay, Church and Hill ",
          "Prehistoric Sites and Decorated Caves of <br>the Vézère Valley ",
          "Palace and Park of Fontainebleau ",
          "Cistercian Abbey of Fontenay ",
          "From the Great Saltworks of Salins-les-Bains <br>to the Royal Saltworks of Arc-et-Senans, <br>the Production of Open-pan Salt  ",
          "Place Stanislas, Place de la Carrière and <br>Place d'Alliance in Nancy ",
          "Abbey Church of Saint-Savin sur Gartempe ",
          "Gulf of Porto: Calanche of Piana, Gulf of <br>Girolata, Scandola Reserve ",
          "Strasbourg, Grande-Île and <em>Neustadt</em> ",
          "Cathedral of Notre-Dame, Former Abbey of <br>Saint-Rémi and Palace of Tau, Reims ",
          "Bourges Cathedral ",
          "Historic Site of Lyon ",
          "Provins, Town of Medieval Fairs ",
          "Jurisdiction of Saint-Emilion ",
          "The Loire Valley between Sully-sur-Loire <br>and Chalonnes ",
          "The Causses and the Cévennes, Mediterranean <br>agro-pastoral Cultural Landscape ",
          "Le Havre, the City Rebuilt by Auguste Perret ",
          "Bordeaux, Port of the Moon ",
          "Fortifications of Vauban ",
          "Nord-Pas de Calais Mining Basin ",
          "The Climats, terroirs of Burgundy ",
          "Decorated Cave of Pont d’Arc, known as Grotte <br>Chauvet-Pont d’Arc, Ardèche ",
          "Chaîne des Puys - Limagne fault tectonic <br>arena ",
          "Champagne Hillsides, Houses and Cellars ",
          "Cordouan Lighthouse ",
          "Nice, Winter Resort Town of the Riviera ",
          "Speyer Cathedral ",
          "Würzburg Residence with the Court Gardens <br>and Residence Square ",
          "St Mary's Cathedral and St Michael's Church <br>at Hildesheim ",
          "Pilgrimage Church of Wies ",
          "Hanseatic City of Lübeck ",
          "Castles of Augustusburg and Falkenlust at <br>Brühl ",
          "Roman Monuments, Cathedral of St Peter and <br>Church of Our Lady in Trier ",
          "Abbey and Altenmünster of Lorsch ",
          "Garden Kingdom of Dessau-Wörlitz ",
          "Collegiate Church, Castle and Old Town of <br>Quedlinburg ",
          "Maulbronn Monastery Complex ",
          "Mines of Rammelsberg, Historic Town of Goslar <br>and Upper Harz Water Management  System ",
          "Town of Bamberg ",
          "Völklingen Ironworks ",
          "Messel Pit Fossil Site ",
          "Luther Memorials in Eisleben and Wittenberg ",
          "Wartburg Castle ",
          "Monastic Island of Reichenau ",
          "Zollverein Coal Mine Industrial Complex in <br>Essen ",
          "Upper Middle Rhine Valley ",
          "Historic Centres of Stralsund and Wismar ",
          "Town Hall and Roland on the Marketplace of <br>Bremen ",
          "Old town of Regensburg with Stadtamhof ",
          "Fagus Factory in Alfeld ",
          "Margravial Opera House Bayreuth ",
          "Bergpark Wilhelmshöhe ",
          "Carolingian Westwork and Civitas Corvey ",
          "Speicherstadt and Kontorhaus District with <br>Chilehaus ",
          "Naumburg Cathedral ",
          "Caves and Ice Age Art in the Swabian Jura ",
          "Archaeological Border complex of Hedeby and <br>the Danevirke ",
          "Water Management System of Augsburg ",
          "Mathildenhöhe Darmstadt ",
          "ShUM Sites of Speyer, Worms and Mainz ",
          "Rock Drawings in Valcamonica ",
          "Medici Villas and Gardens in Tuscany ",
          "Piazza del Duomo, Pisa ",
          "Castel del Monte ",
          "18th-Century Royal Palace at Caserta with <br>the Park, the Aqueduct of Vanvitelli, and <br>the San Leucio Complex ",
          "Historic Centre of San Gimignano ",
          "The Sassi and the Park of the Rupestrian <br>Churches of Matera ",
          "Historic Centre of Siena ",
          "Historic Centre of Naples ",
          "Crespi d'Adda ",
          "Ferrara, City of the Renaissance, and its <br>Po Delta ",
          "The <I>Trulli</I> of Alberobello ",
          "Early Christian Monuments of Ravenna ",
          "Historic Centre of the City of Pienza ",
          "Residences of the Royal House of Savoy ",
          "Botanical Garden (Orto Botanico), Padua ",
          "Archaeological Area and the Patriarchal Basilica <br>of Aquileia ",
          "Portovenere, Cinque Terre, and the Islands <br>(Palmaria, Tino and Tinetto) ",
          "Cathedral, Torre Civica and Piazza Grande, <br>Modena ",
          "Historic Centre of Urbino ",
          "Costiera Amalfitana ",
          "Archaeological Area of Agrigento ",
          "Villa Romana del Casale ",
          "Su Nuraxi di Barumini ",
          "Cilento and Vallo di Diano National Park <br>with the Archeological Sites of Paestum and <br>Velia, and the Certosa di Padula ",
          "Villa Adriana (Tivoli) ",
          "Isole Eolie (Aeolian Islands) ",
          "Assisi, the Basilica of San Francesco and <br>Other Franciscan Sites ",
          "Late Baroque Towns of the Val di Noto (South-Eastern <br>Sicily) ",
          "Villa d'Este, Tivoli ",
          "Val d'Orcia ",
          "<I>Sacri Monti</I> of Piedmont and Lombardy ",
          "Etruscan Necropolises of Cerveteri and Tarquinia ",
          "Syracuse and the Rocky Necropolis of Pantalica ",
          "Genoa: <i>Le Strade Nuove</i> and the system <br>of the<i> Palazzi dei Rolli</i> ",
          "The Dolomites ",
          "Mantua and Sabbioneta ",
          "Longobards in Italy. Places of the Power <br>(568-774 A.D.) ",
          "Vineyard Landscape of Piedmont: Langhe-Roero <br>and Monferrato ",
          "Mount Etna ",
          "Arab-Norman Palermo and the Cathedral Churches <br>of Cefalú and Monreale ",
          "Ivrea, industrial city of the 20th century ",
          "Le Colline del Prosecco di Conegliano e Valdobbiadene ",
          "Padua’s fourteenth-century fresco cycles ",
          "Evaporitic Karst and Caves of Northern Apennines ",
          "City of Luxembourg: its Old Quarters and <br>Fortifications ",
          "Schokland and Surroundings ",
          "Mill Network at Kinderdijk-Elshout ",
          "Ir.D.F. Woudagemaal (D.F. Wouda Steam Pumping <br>Station) ",
          "Droogmakerij de Beemster (Beemster Polder) ",
          "Eisinga Planetarium in Franeker ",
          "San Marino Historic Centre and Mount Titano ",
          "The Great Spa Towns of Europe ",
          "Prehistoric Pile Dwellings around the Alps ",
          "Funerary and memory sites of the First World <br>War (Western Front) ",
          "Venetian Works of Defence between the 16th <br>and 17th Centuries: <em>Stato da Terra</em> <br>– Western <em>Stato da Mar</em> ",
          "Wadden Sea ",
          "Pyrénées - Mont Perdu ",
          "Muskauer Park / Park Mużakowski ",
          "Frontiers of the Roman Empire ",
          "Monte San Giorgio ",
          "Rhaetian Railway in the Albula / Bernina <br>Landscapes ",
          "Schwerin Residence Ensemble ",
          "Via Appia. <em>Regina Viarum</em> "
         ],
         "lat": [
          50.48111,
          50.43077,
          50.60603,
          50.43527778,
          55.35555556,
          48.63556,
          48.4475,
          47.46638889,
          45.0575,
          48.40194444,
          47.63944,
          46.9375,
          48.69361111,
          46.56472,
          42.32519444,
          48.58444444,
          49.25333333,
          47.08222222,
          45.76722,
          48.55972222,
          44.89472222,
          47.39889,
          44.22027778,
          49.49278,
          44.83888889,
          47.23611111,
          50.4625,
          47.05805556,
          44.3875,
          45.77938889,
          49.0775,
          45.58630556,
          43.70169444,
          49.31722222,
          49.79278,
          52.15278,
          47.68127778,
          53.86667,
          50.82502778,
          49.75,
          49.65369,
          51.8425,
          51.78333,
          49.00083,
          51.82,
          49.89166667,
          49.24872222,
          49.918,
          51.86472,
          50.96677778,
          47.69872222,
          51.49138889,
          50.17361111,
          54.3025,
          53.07597222,
          49.02055556,
          51.98388889,
          49.944,
          51.31583333,
          51.77827778,
          53.54555556,
          51.15480556,
          48.38777778,
          54.46194444,
          48.36547222,
          49.87638889,
          49.31621111,
          45.95705556,
          43.85777778,
          43.72305556,
          41.08480556,
          41.07333,
          43.46806,
          40.66638889,
          43.31861111,
          40.85138889,
          45.59333,
          44.83777778,
          40.7825,
          44.42041667,
          43.07694444,
          45.07253,
          45.39911111,
          45.76833333,
          44.10694,
          44.64624,
          43.725,
          40.63333333,
          37.28972222,
          37.36611,
          39.70583333,
          40.28333333,
          41.94416667,
          38.48786111,
          43.06616667,
          36.89319444,
          41.96391667,
          43.06666667,
          45.97455556,
          42.00683333,
          37.05944,
          44.41222222,
          46.61305556,
          45.15944444,
          46.09416667,
          44.60861111,
          37.75611111,
          38.11083333,
          45.4575,
          45.95302778,
          45.41188889,
          44.37994444,
          49.61,
          52.63861111,
          51.8825,
          52.84583,
          52.54888889,
          53.187375,
          43.93277778,
          50.49222222,
          47.27833333,
          50.8662566,
          45.70333333,
          53.52861111,
          42.68542,
          51.57930556,
          54.99261111,
          45.88888889,
          46.49833333,
          53.6241666667,
          41.2927222222
         ],
         "legendgroup": "False",
         "lon": [
          4.13722,
          3.97879,
          3.38926,
          3.838333333,
          9.481388889,
          -1.51056,
          1.487222222,
          3.748333333,
          1.17,
          2.698055556,
          4.38911,
          5.876388889,
          6.183333333,
          0.86611,
          8.628833333,
          7.748888889,
          4.032777778,
          2.398333333,
          4.83333,
          3.298888889,
          -0.155277778,
          0.70278,
          3.473055556,
          0.1075,
          -0.572222222,
          6.026944444,
          3.546111111,
          4.864444444,
          4.416111111,
          2.965111111,
          3.946111111,
          -1.173333333,
          7.272305556,
          8.442388889,
          9.93889,
          9.94389,
          10.90013889,
          10.69167,
          6.909777778,
          6.633333333,
          8.56858,
          12.42083,
          11.15,
          8.81306,
          10.34,
          10.88888889,
          6.844222222,
          8.757,
          12.65278,
          10.307,
          9.061305556,
          7.046111111,
          7.694166667,
          13.08527778,
          8.807472222,
          12.09916667,
          9.812222222,
          11.579,
          9.393055556,
          9.41025,
          9.999444444,
          11.804,
          9.765555556,
          9.454111111,
          10.902,
          8.6675,
          8.439538889,
          10.29733333,
          11.30416667,
          10.39638889,
          16.27094444,
          14.32639,
          11.04167,
          16.61027778,
          11.33166667,
          14.26277778,
          9.53833,
          11.61944444,
          17.23694,
          12.19625,
          11.67861111,
          7.68572,
          11.88066667,
          13.3675,
          9.72917,
          10.92568,
          12.63333,
          14.60277778,
          13.59333333,
          14.33417,
          8.991388889,
          15.26666667,
          12.77197222,
          14.94558333,
          12.62244444,
          15.06891667,
          12.79625,
          11.55,
          9.169555556,
          12.10188889,
          15.29306,
          8.931111111,
          12.16305556,
          10.79444444,
          13.43305556,
          7.963611111,
          14.99666667,
          13.35305556,
          7.869166667,
          12.22611111,
          11.87961111,
          10.38891667,
          6.13333,
          5.771666667,
          4.649444444,
          5.67889,
          4.911111111,
          5.543752778,
          12.45194444,
          5.866944444,
          8.2075,
          2.7079707,
          9.663611111,
          8.556111111,
          -0.0005,
          14.72644444,
          -2.601,
          8.913888889,
          9.846388889,
          11.4188888889,
          13.2627222222
         ],
         "marker": {
          "color": "#EF553B"
         },
         "mode": "markers",
         "name": "False",
         "showlegend": true,
         "subplot": "mapbox",
         "type": "scattermapbox"
        }
       ],
       "layout": {
        "legend": {
         "title": {
          "text": "Visited"
         },
         "tracegroupgap": 0
        },
        "mapbox": {
         "center": {
          "lat": 47.47591940108803,
          "lon": 8.426455759448437
         },
         "domain": {
          "x": [
           0,
           1
          ],
          "y": [
           0,
           1
          ]
         },
         "style": "carto-positron",
         "zoom": 2.7970443866950028
        },
        "margin": {
         "b": 0,
         "l": 0,
         "r": 0,
         "t": 0
        },
        "showlegend": false,
        "template": {
         "data": {
          "bar": [
           {
            "error_x": {
             "color": "#2a3f5f"
            },
            "error_y": {
             "color": "#2a3f5f"
            },
            "marker": {
             "line": {
              "color": "#E5ECF6",
              "width": 0.5
             },
             "pattern": {
              "fillmode": "overlay",
              "size": 10,
              "solidity": 0.2
             }
            },
            "type": "bar"
           }
          ],
          "barpolar": [
           {
            "marker": {
             "line": {
              "color": "#E5ECF6",
              "width": 0.5
             },
             "pattern": {
              "fillmode": "overlay",
              "size": 10,
              "solidity": 0.2
             }
            },
            "type": "barpolar"
           }
          ],
          "carpet": [
           {
            "aaxis": {
             "endlinecolor": "#2a3f5f",
             "gridcolor": "white",
             "linecolor": "white",
             "minorgridcolor": "white",
             "startlinecolor": "#2a3f5f"
            },
            "baxis": {
             "endlinecolor": "#2a3f5f",
             "gridcolor": "white",
             "linecolor": "white",
             "minorgridcolor": "white",
             "startlinecolor": "#2a3f5f"
            },
            "type": "carpet"
           }
          ],
          "choropleth": [
           {
            "colorbar": {
             "outlinewidth": 0,
             "ticks": ""
            },
            "type": "choropleth"
           }
          ],
          "contour": [
           {
            "colorbar": {
             "outlinewidth": 0,
             "ticks": ""
            },
            "colorscale": [
             [
              0,
              "#0d0887"
             ],
             [
              0.1111111111111111,
              "#46039f"
             ],
             [
              0.2222222222222222,
              "#7201a8"
             ],
             [
              0.3333333333333333,
              "#9c179e"
             ],
             [
              0.4444444444444444,
              "#bd3786"
             ],
             [
              0.5555555555555556,
              "#d8576b"
             ],
             [
              0.6666666666666666,
              "#ed7953"
             ],
             [
              0.7777777777777778,
              "#fb9f3a"
             ],
             [
              0.8888888888888888,
              "#fdca26"
             ],
             [
              1,
              "#f0f921"
             ]
            ],
            "type": "contour"
           }
          ],
          "contourcarpet": [
           {
            "colorbar": {
             "outlinewidth": 0,
             "ticks": ""
            },
            "type": "contourcarpet"
           }
          ],
          "heatmap": [
           {
            "colorbar": {
             "outlinewidth": 0,
             "ticks": ""
            },
            "colorscale": [
             [
              0,
              "#0d0887"
             ],
             [
              0.1111111111111111,
              "#46039f"
             ],
             [
              0.2222222222222222,
              "#7201a8"
             ],
             [
              0.3333333333333333,
              "#9c179e"
             ],
             [
              0.4444444444444444,
              "#bd3786"
             ],
             [
              0.5555555555555556,
              "#d8576b"
             ],
             [
              0.6666666666666666,
              "#ed7953"
             ],
             [
              0.7777777777777778,
              "#fb9f3a"
             ],
             [
              0.8888888888888888,
              "#fdca26"
             ],
             [
              1,
              "#f0f921"
             ]
            ],
            "type": "heatmap"
           }
          ],
          "heatmapgl": [
           {
            "colorbar": {
             "outlinewidth": 0,
             "ticks": ""
            },
            "colorscale": [
             [
              0,
              "#0d0887"
             ],
             [
              0.1111111111111111,
              "#46039f"
             ],
             [
              0.2222222222222222,
              "#7201a8"
             ],
             [
              0.3333333333333333,
              "#9c179e"
             ],
             [
              0.4444444444444444,
              "#bd3786"
             ],
             [
              0.5555555555555556,
              "#d8576b"
             ],
             [
              0.6666666666666666,
              "#ed7953"
             ],
             [
              0.7777777777777778,
              "#fb9f3a"
             ],
             [
              0.8888888888888888,
              "#fdca26"
             ],
             [
              1,
              "#f0f921"
             ]
            ],
            "type": "heatmapgl"
           }
          ],
          "histogram": [
           {
            "marker": {
             "pattern": {
              "fillmode": "overlay",
              "size": 10,
              "solidity": 0.2
             }
            },
            "type": "histogram"
           }
          ],
          "histogram2d": [
           {
            "colorbar": {
             "outlinewidth": 0,
             "ticks": ""
            },
            "colorscale": [
             [
              0,
              "#0d0887"
             ],
             [
              0.1111111111111111,
              "#46039f"
             ],
             [
              0.2222222222222222,
              "#7201a8"
             ],
             [
              0.3333333333333333,
              "#9c179e"
             ],
             [
              0.4444444444444444,
              "#bd3786"
             ],
             [
              0.5555555555555556,
              "#d8576b"
             ],
             [
              0.6666666666666666,
              "#ed7953"
             ],
             [
              0.7777777777777778,
              "#fb9f3a"
             ],
             [
              0.8888888888888888,
              "#fdca26"
             ],
             [
              1,
              "#f0f921"
             ]
            ],
            "type": "histogram2d"
           }
          ],
          "histogram2dcontour": [
           {
            "colorbar": {
             "outlinewidth": 0,
             "ticks": ""
            },
            "colorscale": [
             [
              0,
              "#0d0887"
             ],
             [
              0.1111111111111111,
              "#46039f"
             ],
             [
              0.2222222222222222,
              "#7201a8"
             ],
             [
              0.3333333333333333,
              "#9c179e"
             ],
             [
              0.4444444444444444,
              "#bd3786"
             ],
             [
              0.5555555555555556,
              "#d8576b"
             ],
             [
              0.6666666666666666,
              "#ed7953"
             ],
             [
              0.7777777777777778,
              "#fb9f3a"
             ],
             [
              0.8888888888888888,
              "#fdca26"
             ],
             [
              1,
              "#f0f921"
             ]
            ],
            "type": "histogram2dcontour"
           }
          ],
          "mesh3d": [
           {
            "colorbar": {
             "outlinewidth": 0,
             "ticks": ""
            },
            "type": "mesh3d"
           }
          ],
          "parcoords": [
           {
            "line": {
             "colorbar": {
              "outlinewidth": 0,
              "ticks": ""
             }
            },
            "type": "parcoords"
           }
          ],
          "pie": [
           {
            "automargin": true,
            "type": "pie"
           }
          ],
          "scatter": [
           {
            "fillpattern": {
             "fillmode": "overlay",
             "size": 10,
             "solidity": 0.2
            },
            "type": "scatter"
           }
          ],
          "scatter3d": [
           {
            "line": {
             "colorbar": {
              "outlinewidth": 0,
              "ticks": ""
             }
            },
            "marker": {
             "colorbar": {
              "outlinewidth": 0,
              "ticks": ""
             }
            },
            "type": "scatter3d"
           }
          ],
          "scattercarpet": [
           {
            "marker": {
             "colorbar": {
              "outlinewidth": 0,
              "ticks": ""
             }
            },
            "type": "scattercarpet"
           }
          ],
          "scattergeo": [
           {
            "marker": {
             "colorbar": {
              "outlinewidth": 0,
              "ticks": ""
             }
            },
            "type": "scattergeo"
           }
          ],
          "scattergl": [
           {
            "marker": {
             "colorbar": {
              "outlinewidth": 0,
              "ticks": ""
             }
            },
            "type": "scattergl"
           }
          ],
          "scattermapbox": [
           {
            "marker": {
             "colorbar": {
              "outlinewidth": 0,
              "ticks": ""
             }
            },
            "type": "scattermapbox"
           }
          ],
          "scatterpolar": [
           {
            "marker": {
             "colorbar": {
              "outlinewidth": 0,
              "ticks": ""
             }
            },
            "type": "scatterpolar"
           }
          ],
          "scatterpolargl": [
           {
            "marker": {
             "colorbar": {
              "outlinewidth": 0,
              "ticks": ""
             }
            },
            "type": "scatterpolargl"
           }
          ],
          "scatterternary": [
           {
            "marker": {
             "colorbar": {
              "outlinewidth": 0,
              "ticks": ""
             }
            },
            "type": "scatterternary"
           }
          ],
          "surface": [
           {
            "colorbar": {
             "outlinewidth": 0,
             "ticks": ""
            },
            "colorscale": [
             [
              0,
              "#0d0887"
             ],
             [
              0.1111111111111111,
              "#46039f"
             ],
             [
              0.2222222222222222,
              "#7201a8"
             ],
             [
              0.3333333333333333,
              "#9c179e"
             ],
             [
              0.4444444444444444,
              "#bd3786"
             ],
             [
              0.5555555555555556,
              "#d8576b"
             ],
             [
              0.6666666666666666,
              "#ed7953"
             ],
             [
              0.7777777777777778,
              "#fb9f3a"
             ],
             [
              0.8888888888888888,
              "#fdca26"
             ],
             [
              1,
              "#f0f921"
             ]
            ],
            "type": "surface"
           }
          ],
          "table": [
           {
            "cells": {
             "fill": {
              "color": "#EBF0F8"
             },
             "line": {
              "color": "white"
             }
            },
            "header": {
             "fill": {
              "color": "#C8D4E3"
             },
             "line": {
              "color": "white"
             }
            },
            "type": "table"
           }
          ]
         },
         "layout": {
          "annotationdefaults": {
           "arrowcolor": "#2a3f5f",
           "arrowhead": 0,
           "arrowwidth": 1
          },
          "autotypenumbers": "strict",
          "coloraxis": {
           "colorbar": {
            "outlinewidth": 0,
            "ticks": ""
           }
          },
          "colorscale": {
           "diverging": [
            [
             0,
             "#8e0152"
            ],
            [
             0.1,
             "#c51b7d"
            ],
            [
             0.2,
             "#de77ae"
            ],
            [
             0.3,
             "#f1b6da"
            ],
            [
             0.4,
             "#fde0ef"
            ],
            [
             0.5,
             "#f7f7f7"
            ],
            [
             0.6,
             "#e6f5d0"
            ],
            [
             0.7,
             "#b8e186"
            ],
            [
             0.8,
             "#7fbc41"
            ],
            [
             0.9,
             "#4d9221"
            ],
            [
             1,
             "#276419"
            ]
           ],
           "sequential": [
            [
             0,
             "#0d0887"
            ],
            [
             0.1111111111111111,
             "#46039f"
            ],
            [
             0.2222222222222222,
             "#7201a8"
            ],
            [
             0.3333333333333333,
             "#9c179e"
            ],
            [
             0.4444444444444444,
             "#bd3786"
            ],
            [
             0.5555555555555556,
             "#d8576b"
            ],
            [
             0.6666666666666666,
             "#ed7953"
            ],
            [
             0.7777777777777778,
             "#fb9f3a"
            ],
            [
             0.8888888888888888,
             "#fdca26"
            ],
            [
             1,
             "#f0f921"
            ]
           ],
           "sequentialminus": [
            [
             0,
             "#0d0887"
            ],
            [
             0.1111111111111111,
             "#46039f"
            ],
            [
             0.2222222222222222,
             "#7201a8"
            ],
            [
             0.3333333333333333,
             "#9c179e"
            ],
            [
             0.4444444444444444,
             "#bd3786"
            ],
            [
             0.5555555555555556,
             "#d8576b"
            ],
            [
             0.6666666666666666,
             "#ed7953"
            ],
            [
             0.7777777777777778,
             "#fb9f3a"
            ],
            [
             0.8888888888888888,
             "#fdca26"
            ],
            [
             1,
             "#f0f921"
            ]
           ]
          },
          "colorway": [
           "#636efa",
           "#EF553B",
           "#00cc96",
           "#ab63fa",
           "#FFA15A",
           "#19d3f3",
           "#FF6692",
           "#B6E880",
           "#FF97FF",
           "#FECB52"
          ],
          "font": {
           "color": "#2a3f5f"
          },
          "geo": {
           "bgcolor": "white",
           "lakecolor": "white",
           "landcolor": "#E5ECF6",
           "showlakes": true,
           "showland": true,
           "subunitcolor": "white"
          },
          "hoverlabel": {
           "align": "left"
          },
          "hovermode": "closest",
          "mapbox": {
           "style": "light"
          },
          "paper_bgcolor": "white",
          "plot_bgcolor": "#E5ECF6",
          "polar": {
           "angularaxis": {
            "gridcolor": "white",
            "linecolor": "white",
            "ticks": ""
           },
           "bgcolor": "#E5ECF6",
           "radialaxis": {
            "gridcolor": "white",
            "linecolor": "white",
            "ticks": ""
           }
          },
          "scene": {
           "xaxis": {
            "backgroundcolor": "#E5ECF6",
            "gridcolor": "white",
            "gridwidth": 2,
            "linecolor": "white",
            "showbackground": true,
            "ticks": "",
            "zerolinecolor": "white"
           },
           "yaxis": {
            "backgroundcolor": "#E5ECF6",
            "gridcolor": "white",
            "gridwidth": 2,
            "linecolor": "white",
            "showbackground": true,
            "ticks": "",
            "zerolinecolor": "white"
           },
           "zaxis": {
            "backgroundcolor": "#E5ECF6",
            "gridcolor": "white",
            "gridwidth": 2,
            "linecolor": "white",
            "showbackground": true,
            "ticks": "",
            "zerolinecolor": "white"
           }
          },
          "shapedefaults": {
           "line": {
            "color": "#2a3f5f"
           }
          },
          "ternary": {
           "aaxis": {
            "gridcolor": "white",
            "linecolor": "white",
            "ticks": ""
           },
           "baxis": {
            "gridcolor": "white",
            "linecolor": "white",
            "ticks": ""
           },
           "bgcolor": "#E5ECF6",
           "caxis": {
            "gridcolor": "white",
            "linecolor": "white",
            "ticks": ""
           }
          },
          "title": {
           "x": 0.05
          },
          "xaxis": {
           "automargin": true,
           "gridcolor": "white",
           "linecolor": "white",
           "ticks": "",
           "title": {
            "standoff": 15
           },
           "zerolinecolor": "white",
           "zerolinewidth": 2
          },
          "yaxis": {
           "automargin": true,
           "gridcolor": "white",
           "linecolor": "white",
           "ticks": "",
           "title": {
            "standoff": 15
           },
           "zerolinecolor": "white",
           "zerolinewidth": 2
          }
         }
        }
       }
      }
     },
     "metadata": {},
     "output_type": "display_data"
    }
   ],
   "source": [
    "import pandas as pd\n",
    "import plotly.express as px\n",
    "import plotly.graph_objects as go\n",
    "import numpy as np\n",
    "from travel_plotter import journey_generator\n",
    "\n",
    "def customwrap(s, width=10):\n",
    "    s_split = s.split(' ')\n",
    "    output = []\n",
    "    current = \"\"\n",
    "    for item in s_split:\n",
    "        current += item + ' '\n",
    "        if len(current) > width:\n",
    "            output.append(current)\n",
    "            current = \"\"\n",
    "    if current != \"\":\n",
    "        output.append(current)\n",
    "    return \"<br>\".join(output)\n",
    "\n",
    "def customsplit(s, length=900):\n",
    "    s_split = s.split('.')\n",
    "    output = \"\"\n",
    "    for sentence in s_split:\n",
    "        if len(output) + len(sentence) < length:\n",
    "            output += sentence + '.'\n",
    "        else:\n",
    "            break\n",
    "    assert len(output) < length\n",
    "    return output\n",
    "\n",
    "# Prepare dataset\n",
    "df = pd.read_csv(\"WHC-sites.csv\")\n",
    "df = df[df['Years-visited'].notna()]\n",
    "df['Year-last-visited'] = df['Years-visited'].apply(lambda x: x[-4:] if not x == \"-1\" else \"Not yet visited\")\n",
    "df['Rating'] = df['Rating'].apply(lambda x: x if pd.notna(x) else \"Not yet visited\")\n",
    "df['Visited'] = (df['Year-last-visited'] != 'Not yet visited')\n",
    "\n",
    "fig = go.Figure()\n",
    "for lats, lons, color, year in journey_generator(df):\n",
    "    fig2 = px.line_mapbox(lat=lats, lon=lons, color_discrete_sequence=[color])\n",
    "    fig2.update_layout(mapbox_style='carto-positron', hovermode=False)\n",
    "    fig = go.Figure(data=fig.data + fig2.data)\n",
    "\n",
    "df['name_en'] = df['name_en'].apply(lambda x: customwrap(x, 40))\n",
    "df['short_description_en'] = df['short_description_en'].apply(lambda x: customsplit(customwrap(x, 40)))\n",
    "assert not df['short_description_en'].apply(lambda x: len(x) > 900).any()\n",
    "\n",
    "max_bound = max(abs(min(df['latitude'].astype(float))-max(df['latitude'])), abs(min(df['longitude'])-max(df['longitude']))) * 175\n",
    "zoom = 11.5 - np.log(max_bound)\n",
    "\n",
    "\n",
    "fig1 = px.scatter_mapbox(df, lat='latitude', lon='longitude', color='Visited',\n",
    "                       hover_name='name_en', mapbox_style='carto-positron', zoom=zoom,\n",
    "                       custom_data=['Rating', 'Year-last-visited', \"short_description_en\"], hover_data={\n",
    "                           'latitude':False,\n",
    "                           'longitude':False,\n",
    "                       })\n",
    "fig1.update_traces(hovertemplate='<b>%{hovertext}</b><br>Rating: %{customdata[0]} <br>Last visited in: %{customdata[1]}<br><br>%{customdata[2]}<extra></extra>')\n",
    "fig1.update_layout(showlegend=False, margin={'t':0,'l':0,'b':0,'r':0})\n",
    "\n",
    "fig = go.Figure(data=fig.data + fig1.data, layout=fig1.layout)\n",
    "\n",
    "config = {'scrollZoom': True}\n",
    "fig.show(config=config)\n"
   ]
  },
  {
   "cell_type": "markdown",
   "metadata": {},
   "source": [
    "<p style=\"text-align: center;\">↑ Click me!</p>"
   ]
  },
  {
   "cell_type": "code",
   "execution_count": 106,
   "metadata": {
    "tags": [
     "remove-input"
    ]
   },
   "outputs": [
    {
     "name": "stdout",
     "output_type": "stream",
     "text": [
      "Progress:\n",
      "Total:       [++++++++++..............................] 45 out of 175\n",
      "\n",
      "Netherlands: [++++++++++++++++++++....................] 6 out of 12\n",
      "France:      [++++++++++++............................] 15 out of 47\n",
      "Italy:       [++++++..................................] 9 out of 60\n",
      "Belgium:     [+++++++++++++++++++++++++...............] 10 out of 16\n",
      "Germany:     [+++++++++...............................] 13 out of 54\n",
      "Luxembourg:  [........................................] 0 out of 1\n",
      "\n",
      "Note: due to transboundary sites the sum of all countries might not match the total\n"
     ]
    }
   ],
   "source": [
    "print(\"Progress:\")\n",
    "df1 = df[\n",
    "    (df['udnp_code'].str.contains('nld')) |\n",
    "    (df['udnp_code'].str.contains('fra')) |\n",
    "    (df['udnp_code'].str.contains('ita')) |\n",
    "    (df['udnp_code'].str.contains('bel')) |\n",
    "    (df['udnp_code'].str.contains('deu')) |\n",
    "    (df['udnp_code'].str.contains('lux'))\n",
    "]\n",
    "\n",
    "abbrs = [\"Total\", 'nld', 'fra', 'ita', 'bel', 'deu', 'lux']\n",
    "countries = [\"Total\", \"Netherlands\", \"France\", \"Italy\", \"Belgium\", \"Germany\", \"Luxembourg\"]\n",
    "max_country_len = max([len(x) for x in countries])\n",
    "width = 40\n",
    "\n",
    "for abbr, country in zip(abbrs, countries):\n",
    "    got = len(df1[df1['Visited'] & (df1['udnp_code'].str.contains(abbr))])\n",
    "    need = len(df1[df1['udnp_code'].str.contains(abbr)])\n",
    "    if abbr == \"Total\":\n",
    "        got = len(df1[df1['Year-last-visited'] != 'Not yet visited'])\n",
    "        need = len(df1)\n",
    "    displays = int((got/need) * width)\n",
    "    symbol = \"⋆\" if (got/need) == 1 else \"+\"\n",
    "    if abbr == \"Total\": need = f\"{need}\\n\"\n",
    "    print(f\"{country}: {' ' * (max_country_len - len(country))}\" +\n",
    "          f\"[{symbol * displays}{'.' * (width - displays)}] \" +\n",
    "          f\"{got} out of {need}\")\n",
    "\n",
    "print(\"\\nNote: due to transboundary sites the sum of all countries might not match the total\")"
   ]
  }
 ],
 "metadata": {
  "kernelspec": {
   "display_name": "jupyterbook",
   "language": "python",
   "name": "python3"
  },
  "language_info": {
   "codemirror_mode": {
    "name": "ipython",
    "version": 3
   },
   "file_extension": ".py",
   "mimetype": "text/x-python",
   "name": "python",
   "nbconvert_exporter": "python",
   "pygments_lexer": "ipython3",
   "version": "3.10.14"
  },
  "widgets": {
   "application/vnd.jupyter.widget-state+json": {
    "state": {},
    "version_major": 2,
    "version_minor": 0
   }
  }
 },
 "nbformat": 4,
 "nbformat_minor": 4
}
