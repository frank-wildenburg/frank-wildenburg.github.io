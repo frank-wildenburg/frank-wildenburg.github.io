{
 "cells": [
  {
   "cell_type": "markdown",
   "metadata": {},
   "source": [
    "# Travel"
   ]
  },
  {
   "cell_type": "code",
   "execution_count": 13,
   "metadata": {
    "tags": [
     "remove-input"
    ]
   },
   "outputs": [
    {
     "name": "stdout",
     "output_type": "stream",
     "text": [
      "Last updated: 2024-09-06\n"
     ]
    }
   ],
   "source": [
    "import datetime\n",
    "print(f\"Last updated: {str(datetime.datetime.now())[:10]}\")"
   ]
  },
  {
   "cell_type": "markdown",
   "metadata": {},
   "source": [
    "After traveling to various cultural sites for some years, I found a rule of thumb for finding good spots to visit: check if something is a UNESCO World Heritage site. Sometimes this leads to obvious suggestions (Vatican City, Paris, Amsterdam) but more often than not visiting world heritage sites has shown me sites that are very much worth visiting but not as touristy as the usual sites (e.g., Bologna, Orange, Albi).\n",
    "\n",
    "At first, my enthousiasm led to the dream of visiting all world heritage sites in Europe, but this dream soon showed to be too ambitious. All EU countries then? Still quite a lot. Some narrowing down brought me to the following goal: visit all world heritage sites in the continental part of the original member states of the European Union. Achievable, but also ambitious, with Germany, France and Italy as the biggest obstacles. Since then, I've been using this as a heuristic in planning vacations.\n",
    "\n",
    "(Of course, I still travel outside of these guidelines as well. Occasionally this leads to another world heritage site, and these are also included in the below map)"
   ]
  },
  {
   "cell_type": "code",
   "execution_count": 14,
   "metadata": {
    "tags": [
     "remove-input"
    ]
   },
   "outputs": [
    {
     "data": {
      "application/vnd.plotly.v1+json": {
       "config": {
        "plotlyServerURL": "https://plot.ly",
        "scrollZoom": true
       },
       "data": [
        {
         "hovertemplate": "lat=%{lat}<br>lon=%{lon}<extra></extra>",
         "lat": [
          43.95277778,
          43.94722222,
          43.95277778,
          44.13572222,
          43.95277778,
          43.67763889,
          43.95277778,
          43.83822222,
          43.2070631,
          43.61138889,
          43.92833333
         ],
         "legendgroup": "",
         "line": {
          "color": "purple"
         },
         "lon": [
          4.806111111,
          4.535277778,
          4.806111111,
          4.808416667,
          4.806111111,
          4.630694444,
          4.806111111,
          4.356111111,
          2.3636562,
          1.416388889,
          2.1425
         ],
         "mode": "lines",
         "name": "",
         "showlegend": false,
         "subplot": "mapbox",
         "type": "scattermapbox"
        },
        {
         "hovertemplate": "lat=%{lat}<br>lon=%{lon}<extra></extra>",
         "lat": [
          41.14166667,
          38.69194,
          38.78333
         ],
         "legendgroup": "",
         "line": {
          "color": "yellow"
         },
         "lon": [
          -8.616666667,
          -9.21583,
          -9.41667
         ],
         "mode": "lines",
         "name": "",
         "showlegend": false,
         "subplot": "mapbox",
         "type": "scattermapbox"
        },
        {
         "hovertemplate": "lat=%{lat}<br>lon=%{lon}<extra></extra>",
         "lat": [
          45.466,
          45.43861111,
          44.49138889,
          43.77306,
          41.90216,
          41.89022222
         ],
         "legendgroup": "",
         "line": {
          "color": "green"
         },
         "lon": [
          9.171,
          10.99388889,
          11.33277778,
          11.25611,
          12.45736,
          12.49230556
         ],
         "mode": "lines",
         "name": "",
         "showlegend": false,
         "subplot": "mapbox",
         "type": "scattermapbox"
        },
        {
         "hovertemplate": "lat=%{lat}<br>lon=%{lon}<extra></extra>",
         "lat": [
          50.97866389,
          50.9775,
          50.97477778,
          50.40652778,
          52.51972222,
          52.44833333,
          52.4
         ],
         "legendgroup": "",
         "line": {
          "color": "gray"
         },
         "lon": [
          11.02923333,
          11.32861,
          11.3295,
          12.83734444,
          13.39861111,
          13.45,
          13.03333333
         ],
         "mode": "lines",
         "name": "",
         "showlegend": false,
         "subplot": "mapbox",
         "type": "scattermapbox"
        },
        {
         "hovertemplate": "lat=%{lat}<br>lon=%{lon}<extra></extra>",
         "lat": [
          50.48111,
          50.43077,
          50.43527778,
          50.4625,
          50.60603
         ],
         "legendgroup": "",
         "line": {
          "color": "lightgray"
         },
         "lon": [
          4.13722,
          3.97879,
          3.838333333,
          3.546111111,
          3.38926
         ],
         "mode": "lines",
         "name": "",
         "showlegend": false,
         "subplot": "mapbox",
         "type": "scattermapbox"
        },
        {
         "hovertemplate": "lat=%{lat}<br>lon=%{lon}<extra></extra>",
         "lat": [
          49.918,
          49.87638889,
          49.65369,
          49.31722222,
          49.31621111,
          49.00083,
          48.58444444,
          48.69361111,
          49.24872222
         ],
         "legendgroup": "",
         "line": {
          "color": "lightgray"
         },
         "lon": [
          8.757,
          8.6675,
          8.56858,
          8.442388889,
          8.439538889,
          8.81306,
          7.748888889,
          6.183333333,
          6.844222222
         ],
         "mode": "lines",
         "name": "",
         "showlegend": false,
         "subplot": "mapbox",
         "type": "scattermapbox"
        },
        {
         "hovertemplate": "lat=%{lat}<br>lon=%{lon}<extra></extra>",
         "lat": [
          40.85138889,
          41.07333,
          41.08480556,
          40.7825,
          40.66638889,
          40.28333333,
          40.63333333,
          40.85138889
         ],
         "legendgroup": "",
         "line": {
          "color": "lightgray"
         },
         "lon": [
          14.26277778,
          14.32639,
          16.27094444,
          17.23694,
          16.61027778,
          15.26666667,
          14.60277778,
          14.26277778
         ],
         "mode": "lines",
         "name": "",
         "showlegend": false,
         "subplot": "mapbox",
         "type": "scattermapbox"
        },
        {
         "hovertemplate": "lat=%{lat}<br>lon=%{lon}<extra></extra>",
         "lat": [
          38.11083333,
          38.48786111,
          37.75611111,
          37.05944,
          36.89319444,
          37.36611,
          37.28972222,
          38.11083333
         ],
         "legendgroup": "",
         "line": {
          "color": "lightgray"
         },
         "lon": [
          13.35305556,
          14.94558333,
          14.99666667,
          15.29306,
          15.06891667,
          14.33417,
          13.59333333,
          13.35305556
         ],
         "mode": "lines",
         "name": "",
         "showlegend": false,
         "subplot": "mapbox",
         "type": "scattermapbox"
        },
        {
         "hovertemplate": "lat=%{lat}<br>lon=%{lon}<extra></extra>",
         "lat": [
          50.49222222,
          49.61,
          49.75,
          50.17361111,
          50.82502778,
          51.49138889
         ],
         "legendgroup": "",
         "line": {
          "color": "lightgray"
         },
         "lon": [
          5.866944444,
          6.13333,
          6.633333333,
          7.694166667,
          6.909777778,
          7.046111111
         ],
         "mode": "lines",
         "name": "",
         "showlegend": false,
         "subplot": "mapbox",
         "type": "scattermapbox"
        },
        {
         "customdata": [
          [
           7.5,
           2018,
           47.80055556,
           13.04333333
          ],
          [
           8.5,
           2016,
           48.18666667,
           16.31333333
          ],
          [
           9,
           2016,
           48.36444444,
           15.43416667
          ],
          [
           8,
           2016,
           48.2094,
           16.3699
          ],
          [
           8,
           2024,
           51.03097222,
           4.47375
          ],
          [
           8.5,
           2019,
           50.84668,
           4.35242
          ],
          [
           8.5,
           2011,
           51.20891,
           3.22527
          ],
          [
           7.5,
           2024,
           50.82806,
           4.36223
          ],
          [
           8.5,
           2023,
           51.21833,
           4.39778
          ],
          [
           5,
           2024,
           50.835,
           4.416111111
          ],
          [
           8.5,
           2014,
           50.08972,
           14.41944
          ],
          [
           8,
           2014,
           49.95,
           15.26666667
          ],
          [
           8.5,
           2019,
           59.43333,
           24.73333333
          ],
          [
           7.5,
           2019,
           60.14722,
           24.98722
          ],
          [
           8,
           2021,
           48.805,
           2.119444444
          ],
          [
           8,
           2023,
           49.895,
           2.301666667
          ],
          [
           9,
           2024,
           44.13572222,
           4.808416667
          ],
          [
           8.5,
           2024,
           43.67763889,
           4.630694444
          ],
          [
           8,
           2024,
           43.95277778,
           4.806111111
          ],
          [
           9,
           2024,
           43.94722222,
           4.535277778
          ],
          [
           9,
           2024,
           43.2070631,
           2.3636562
          ],
          [
           8.5,
           2024,
           48.8655,
           2.321138889
          ],
          [
           7,
           2024,
           43.61138889,
           1.416388889
          ],
          [
           8.5,
           2024,
           45.18405556,
           0.722944444
          ],
          [
           10,
           2024,
           43.92833333,
           2.1425
          ],
          [
           7.5,
           2024,
           43.83822222,
           4.356111111
          ],
          [
           8.5,
           2019,
           50.77444444,
           6.084444444
          ],
          [
           9.5,
           2017,
           50.94111111,
           6.957222222
          ],
          [
           8.5,
           2024,
           52.4,
           13.03333333
          ],
          [
           8,
           2024,
           50.97477778,
           11.3295
          ],
          [
           8.5,
           2024,
           50.9775,
           11.32861
          ],
          [
           8.5,
           2024,
           52.51972222,
           13.39861111
          ],
          [
           5,
           2024,
           52.44833333,
           13.45
          ],
          [
           2,
           2024,
           50.97866389,
           11.02923333
          ],
          [
           8.5,
           2022,
           41.90216,
           12.45736
          ],
          [
           8,
           2015,
           47.48242,
           19.07067
          ],
          [
           7,
           2022,
           45.466,
           9.171
          ],
          [
           9.5,
           2022,
           43.77306,
           11.25611
          ],
          [
           9,
           2017,
           45.43430556,
           12.33894444
          ],
          [
           8,
           2017,
           45.54916667,
           11.54944444
          ],
          [
           8,
           2022,
           45.43861111,
           10.99388889
          ],
          [
           9,
           2008,
           40.75,
           14.48333333
          ],
          [
           10,
           2022,
           44.49138889,
           11.33277778
          ],
          [
           9,
           2019,
           56.95417,
           24.11667
          ],
          [
           7.5,
           2023,
           52.555,
           4.791388889
          ],
          [
           7.5,
           2023,
           52.08533333,
           5.147555556
          ],
          [
           8.5,
           2024,
           52.365,
           4.887777778
          ],
          [
           8.5,
           2024,
           51.92444444,
           4.4325
          ],
          [
           8,
           2023,
           38.69194,
           -9.21583
          ],
          [
           10,
           2023,
           38.78333,
           -9.41667
          ],
          [
           9,
           2023,
           41.14166667,
           -8.616666667
          ],
          [
           8,
           2010,
           51.499,
           -0.127
          ],
          [
           7.5,
           2010,
           51.50805556,
           -0.076111111
          ],
          [
           6,
           2024,
           48.9,
           22.18333333
          ],
          [
           5,
           2024,
           46.46841389,
           6.829336111
          ],
          [
           7.5,
           2016,
           48.11519444,
           16.86138889
          ],
          [
           8.5,
           2024,
           50.17444,
           3.23139
          ],
          [
           6,
           2009,
           53.04222222,
           6.391588889
          ],
          [
           4,
           2024,
           50.40652778,
           12.83734444
          ],
          [
           7.5,
           2024,
           52.18033333,
           4.433
          ],
          [
           7.5,
           2017,
           54.99261111,
           -2.601
          ],
          [
           9,
           2022,
           41.89022222,
           12.49230556
          ]
         ],
         "hovertemplate": "<b>%{hovertext}</b><br>Rating: %{customdata[0]} <br>Visited in: %{customdata[1]}<extra></extra>",
         "hovertext": [
          "Historic Centre of the City of Salzburg",
          "Palace and Gardens of Schönbrunn",
          "Wachau Cultural Landscape",
          "Historic Centre of Vienna",
          "Flemish Béguinages",
          "La Grand-Place, Brussels",
          "Historic Centre of Brugge",
          "Major Town Houses of the Architect Victor Horta (Brussels)",
          "Plantin-Moretus House-Workshops-Museum Complex",
          "Stoclet House",
          "Historic Centre of Prague",
          "Kutná Hora: Historical Town Centre with the Church of St Barbara and the Cathedral of Our Lady at Sedlec",
          "Historic Centre (Old Town) of Tallinn",
          "Fortress of Suomenlinna",
          "Palace and Park of Versailles",
          "Amiens Cathedral",
          "Roman Theatre and its Surroundings and the \"Triumphal Arch\" of Orange",
          "Arles, Roman and Romanesque Monuments",
          "Historic Centre of Avignon: Papal Palace, Episcopal Ensemble and Avignon Bridge",
          "Pont du Gard (Roman Aqueduct)",
          "Historic Fortified City of Carcassonne",
          "Paris, Banks of the Seine",
          "Canal du Midi",
          "Routes of Santiago de Compostela in France",
          "Episcopal City of Albi",
          "The Maison Carrée of Nîmes",
          "Aachen Cathedral ",
          "Cologne Cathedral",
          "Palaces and Parks of Potsdam and Berlin",
          "Bauhaus and its Sites in Weimar, Dessau and Bernau",
          "Classical Weimar",
          "Museumsinsel (Museum Island), Berlin",
          "Berlin Modernism Housing Estates",
          "Jewish-Medieval Heritage of Erfurt",
          "Vatican City",
          "Budapest, including the Banks of the Danube, the Buda Castle Quarter and Andrássy Avenue",
          "Church and Dominican Convent of Santa Maria delle Grazie with “The Last Supper” by Leonardo da Vinci",
          "Historic Centre of Florence",
          "Venice and its Lagoon",
          "City of Vicenza and the Palladian Villas of the Veneto",
          "City of Verona",
          "Archaeological Areas of Pompei, Herculaneum and Torre Annunziata",
          "The Porticoes of Bologna",
          "Historic Centre of Riga",
          "Dutch Water Defence Lines",
          "Rietveld Schröderhuis (Rietveld Schröder House)",
          "Seventeenth-Century Canal Ring Area of Amsterdam inside the Singelgracht",
          "Van Nellefabriek",
          "Monastery of the Hieronymites and Tower of Belém in Lisbon",
          "Cultural Landscape of Sintra",
          "Historic Centre of Oporto, Luiz I Bridge and Monastery of Serra do Pilar",
          "Palace of Westminster and Westminster Abbey including Saint Margaret’s Church",
          "Tower of London",
          "Ancient and Primeval Beech Forests of the Carpathians and Other Regions of Europe",
          "The Architectural Work of Le Corbusier, an Outstanding Contribution to the Modern Movement",
          "Frontiers of the Roman Empire – The Danube Limes (Western Segment)",
          "Belfries of Belgium and France",
          "Colonies of Benevolence",
          "Erzgebirge/Krušnohoří Mining Region",
          "Frontiers of the Roman Empire – The Lower German Limes",
          "Frontiers of the Roman Empire",
          "Historic Centre of Rome, the Properties of the Holy See in that City Enjoying Extraterritorial Rights and San Paolo Fuori le Mura"
         ],
         "lat": [
          47.80055556,
          48.18666667,
          48.36444444,
          48.2094,
          51.03097222,
          50.84668,
          51.20891,
          50.82806,
          51.21833,
          50.835,
          50.08972,
          49.95,
          59.43333,
          60.14722,
          48.805,
          49.895,
          44.13572222,
          43.67763889,
          43.95277778,
          43.94722222,
          43.2070631,
          48.8655,
          43.61138889,
          45.18405556,
          43.92833333,
          43.83822222,
          50.77444444,
          50.94111111,
          52.4,
          50.97477778,
          50.9775,
          52.51972222,
          52.44833333,
          50.97866389,
          41.90216,
          47.48242,
          45.466,
          43.77306,
          45.43430556,
          45.54916667,
          45.43861111,
          40.75,
          44.49138889,
          56.95417,
          52.555,
          52.08533333,
          52.365,
          51.92444444,
          38.69194,
          38.78333,
          41.14166667,
          51.499,
          51.50805556,
          48.9,
          46.46841389,
          48.11519444,
          50.17444,
          53.04222222,
          50.40652778,
          52.18033333,
          54.99261111,
          41.89022222
         ],
         "legendgroup": "True",
         "lon": [
          13.04333333,
          16.31333333,
          15.43416667,
          16.3699,
          4.47375,
          4.35242,
          3.22527,
          4.36223,
          4.39778,
          4.416111111,
          14.41944,
          15.26666667,
          24.73333333,
          24.98722,
          2.119444444,
          2.301666667,
          4.808416667,
          4.630694444,
          4.806111111,
          4.535277778,
          2.3636562,
          2.321138889,
          1.416388889,
          0.722944444,
          2.1425,
          4.356111111,
          6.084444444,
          6.957222222,
          13.03333333,
          11.3295,
          11.32861,
          13.39861111,
          13.45,
          11.02923333,
          12.45736,
          19.07067,
          9.171,
          11.25611,
          12.33894444,
          11.54944444,
          10.99388889,
          14.48333333,
          11.33277778,
          24.11667,
          4.791388889,
          5.147555556,
          4.887777778,
          4.4325,
          -9.21583,
          -9.41667,
          -8.616666667,
          -0.127,
          -0.076111111,
          22.18333333,
          6.829336111,
          16.86138889,
          3.23139,
          6.391588889,
          12.83734444,
          4.433,
          -2.601,
          12.49230556
         ],
         "marker": {
          "color": "#636efa"
         },
         "mode": "markers",
         "name": "True",
         "showlegend": true,
         "subplot": "mapbox",
         "type": "scattermapbox"
        },
        {
         "customdata": [
          [
           "Not yet visited",
           "Not yet visited",
           50.48111,
           4.13722
          ],
          [
           "Not yet visited",
           "Not yet visited",
           50.43077,
           3.97879
          ],
          [
           "Not yet visited",
           "Not yet visited",
           50.60603,
           3.38926
          ],
          [
           "Not yet visited",
           "Not yet visited",
           50.43527778,
           3.838333333
          ],
          [
           "Not yet visited",
           "Not yet visited",
           55.35555556,
           9.481388889
          ],
          [
           "Not yet visited",
           "Not yet visited",
           48.63556,
           -1.51056
          ],
          [
           "Not yet visited",
           "Not yet visited",
           48.4475,
           1.487222222
          ],
          [
           "Not yet visited",
           "Not yet visited",
           47.46638889,
           3.748333333
          ],
          [
           "Not yet visited",
           "Not yet visited",
           45.0575,
           1.17
          ],
          [
           "Not yet visited",
           "Not yet visited",
           48.40194444,
           2.698055556
          ],
          [
           "Not yet visited",
           "Not yet visited",
           47.63944,
           4.38911
          ],
          [
           "Not yet visited",
           "Not yet visited",
           46.9375,
           5.876388889
          ],
          [
           "Not yet visited",
           "Not yet visited",
           48.69361111,
           6.183333333
          ],
          [
           "Not yet visited",
           "Not yet visited",
           46.56472,
           0.86611
          ],
          [
           "Not yet visited",
           "Not yet visited",
           42.32519444,
           8.628833333
          ],
          [
           "Not yet visited",
           "Not yet visited",
           48.58444444,
           7.748888889
          ],
          [
           "Not yet visited",
           "Not yet visited",
           49.25333333,
           4.032777778
          ],
          [
           "Not yet visited",
           "Not yet visited",
           47.08222222,
           2.398333333
          ],
          [
           "Not yet visited",
           "Not yet visited",
           45.76722,
           4.83333
          ],
          [
           "Not yet visited",
           "Not yet visited",
           48.55972222,
           3.298888889
          ],
          [
           "Not yet visited",
           "Not yet visited",
           44.89472222,
           -0.155277778
          ],
          [
           "Not yet visited",
           "Not yet visited",
           47.39889,
           0.70278
          ],
          [
           "Not yet visited",
           "Not yet visited",
           44.22027778,
           3.473055556
          ],
          [
           "Not yet visited",
           "Not yet visited",
           49.49278,
           0.1075
          ],
          [
           "Not yet visited",
           "Not yet visited",
           44.83888889,
           -0.572222222
          ],
          [
           "Not yet visited",
           "Not yet visited",
           47.23611111,
           6.026944444
          ],
          [
           "Not yet visited",
           "Not yet visited",
           50.4625,
           3.546111111
          ],
          [
           "Not yet visited",
           "Not yet visited",
           47.05805556,
           4.864444444
          ],
          [
           "Not yet visited",
           "Not yet visited",
           44.3875,
           4.416111111
          ],
          [
           "Not yet visited",
           "Not yet visited",
           45.77938889,
           2.965111111
          ],
          [
           "Not yet visited",
           "Not yet visited",
           49.0775,
           3.946111111
          ],
          [
           "Not yet visited",
           "Not yet visited",
           45.58630556,
           -1.173333333
          ],
          [
           "Not yet visited",
           "Not yet visited",
           43.70169444,
           7.272305556
          ],
          [
           "Not yet visited",
           "Not yet visited",
           49.31722222,
           8.442388889
          ],
          [
           "Not yet visited",
           "Not yet visited",
           49.79278,
           9.93889
          ],
          [
           "Not yet visited",
           "Not yet visited",
           52.15278,
           9.94389
          ],
          [
           "Not yet visited",
           "Not yet visited",
           47.68127778,
           10.90013889
          ],
          [
           "Not yet visited",
           "Not yet visited",
           53.86667,
           10.69167
          ],
          [
           "Not yet visited",
           "Not yet visited",
           50.82502778,
           6.909777778
          ],
          [
           "Not yet visited",
           "Not yet visited",
           49.75,
           6.633333333
          ],
          [
           "Not yet visited",
           "Not yet visited",
           49.65369,
           8.56858
          ],
          [
           "Not yet visited",
           "Not yet visited",
           51.8425,
           12.42083
          ],
          [
           "Not yet visited",
           "Not yet visited",
           51.78333,
           11.15
          ],
          [
           "Not yet visited",
           "Not yet visited",
           49.00083,
           8.81306
          ],
          [
           "Not yet visited",
           "Not yet visited",
           51.82,
           10.34
          ],
          [
           "Not yet visited",
           "Not yet visited",
           49.89166667,
           10.88888889
          ],
          [
           "Not yet visited",
           "Not yet visited",
           49.24872222,
           6.844222222
          ],
          [
           "Not yet visited",
           "Not yet visited",
           49.918,
           8.757
          ],
          [
           "Not yet visited",
           "Not yet visited",
           51.86472,
           12.65278
          ],
          [
           "Not yet visited",
           "Not yet visited",
           50.96677778,
           10.307
          ],
          [
           "Not yet visited",
           "Not yet visited",
           47.69872222,
           9.061305556
          ],
          [
           "Not yet visited",
           "Not yet visited",
           51.49138889,
           7.046111111
          ],
          [
           "Not yet visited",
           "Not yet visited",
           50.17361111,
           7.694166667
          ],
          [
           "Not yet visited",
           "Not yet visited",
           54.3025,
           13.08527778
          ],
          [
           "Not yet visited",
           "Not yet visited",
           53.07597222,
           8.807472222
          ],
          [
           "Not yet visited",
           "Not yet visited",
           49.02055556,
           12.09916667
          ],
          [
           "Not yet visited",
           "Not yet visited",
           51.98388889,
           9.812222222
          ],
          [
           "Not yet visited",
           "Not yet visited",
           49.944,
           11.579
          ],
          [
           "Not yet visited",
           "Not yet visited",
           51.31583333,
           9.393055556
          ],
          [
           "Not yet visited",
           "Not yet visited",
           51.77827778,
           9.41025
          ],
          [
           "Not yet visited",
           "Not yet visited",
           53.54555556,
           9.999444444
          ],
          [
           "Not yet visited",
           "Not yet visited",
           51.15480556,
           11.804
          ],
          [
           "Not yet visited",
           "Not yet visited",
           48.38777778,
           9.765555556
          ],
          [
           "Not yet visited",
           "Not yet visited",
           54.46194444,
           9.454111111
          ],
          [
           "Not yet visited",
           "Not yet visited",
           48.36547222,
           10.902
          ],
          [
           "Not yet visited",
           "Not yet visited",
           49.87638889,
           8.6675
          ],
          [
           "Not yet visited",
           "Not yet visited",
           49.31621111,
           8.439538889
          ],
          [
           "Not yet visited",
           "Not yet visited",
           45.95705556,
           10.29733333
          ],
          [
           "Not yet visited",
           "Not yet visited",
           43.85777778,
           11.30416667
          ],
          [
           "Not yet visited",
           "Not yet visited",
           43.72305556,
           10.39638889
          ],
          [
           "Not yet visited",
           "Not yet visited",
           41.08480556,
           16.27094444
          ],
          [
           "Not yet visited",
           "Not yet visited",
           41.07333,
           14.32639
          ],
          [
           "Not yet visited",
           "Not yet visited",
           43.46806,
           11.04167
          ],
          [
           "Not yet visited",
           "Not yet visited",
           40.66638889,
           16.61027778
          ],
          [
           "Not yet visited",
           "Not yet visited",
           43.31861111,
           11.33166667
          ],
          [
           "Not yet visited",
           "Not yet visited",
           40.85138889,
           14.26277778
          ],
          [
           "Not yet visited",
           "Not yet visited",
           45.59333,
           9.53833
          ],
          [
           "Not yet visited",
           "Not yet visited",
           44.83777778,
           11.61944444
          ],
          [
           "Not yet visited",
           "Not yet visited",
           40.7825,
           17.23694
          ],
          [
           "Not yet visited",
           "Not yet visited",
           44.42041667,
           12.19625
          ],
          [
           "Not yet visited",
           "Not yet visited",
           43.07694444,
           11.67861111
          ],
          [
           "Not yet visited",
           "Not yet visited",
           45.07253,
           7.68572
          ],
          [
           "Not yet visited",
           "Not yet visited",
           45.39911111,
           11.88066667
          ],
          [
           "Not yet visited",
           "Not yet visited",
           45.76833333,
           13.3675
          ],
          [
           "Not yet visited",
           "Not yet visited",
           44.10694,
           9.72917
          ],
          [
           "Not yet visited",
           "Not yet visited",
           44.64624,
           10.92568
          ],
          [
           "Not yet visited",
           "Not yet visited",
           43.725,
           12.63333
          ],
          [
           "Not yet visited",
           "Not yet visited",
           40.63333333,
           14.60277778
          ],
          [
           "Not yet visited",
           "Not yet visited",
           37.28972222,
           13.59333333
          ],
          [
           "Not yet visited",
           "Not yet visited",
           37.36611,
           14.33417
          ],
          [
           "Not yet visited",
           "Not yet visited",
           39.70583333,
           8.991388889
          ],
          [
           "Not yet visited",
           "Not yet visited",
           40.28333333,
           15.26666667
          ],
          [
           "Not yet visited",
           "Not yet visited",
           41.94416667,
           12.77197222
          ],
          [
           "Not yet visited",
           "Not yet visited",
           38.48786111,
           14.94558333
          ],
          [
           "Not yet visited",
           "Not yet visited",
           43.06616667,
           12.62244444
          ],
          [
           "Not yet visited",
           "Not yet visited",
           36.89319444,
           15.06891667
          ],
          [
           "Not yet visited",
           "Not yet visited",
           41.96391667,
           12.79625
          ],
          [
           "Not yet visited",
           "Not yet visited",
           43.06666667,
           11.55
          ],
          [
           "Not yet visited",
           "Not yet visited",
           45.97455556,
           9.169555556
          ],
          [
           "Not yet visited",
           "Not yet visited",
           42.00683333,
           12.10188889
          ],
          [
           "Not yet visited",
           "Not yet visited",
           37.05944,
           15.29306
          ],
          [
           "Not yet visited",
           "Not yet visited",
           44.41222222,
           8.931111111
          ],
          [
           "Not yet visited",
           "Not yet visited",
           46.61305556,
           12.16305556
          ],
          [
           "Not yet visited",
           "Not yet visited",
           45.15944444,
           10.79444444
          ],
          [
           "Not yet visited",
           "Not yet visited",
           46.09416667,
           13.43305556
          ],
          [
           "Not yet visited",
           "Not yet visited",
           44.60861111,
           7.963611111
          ],
          [
           "Not yet visited",
           "Not yet visited",
           37.75611111,
           14.99666667
          ],
          [
           "Not yet visited",
           "Not yet visited",
           38.11083333,
           13.35305556
          ],
          [
           "Not yet visited",
           "Not yet visited",
           45.4575,
           7.869166667
          ],
          [
           "Not yet visited",
           "Not yet visited",
           45.95302778,
           12.22611111
          ],
          [
           "Not yet visited",
           "Not yet visited",
           45.41188889,
           11.87961111
          ],
          [
           "Not yet visited",
           "Not yet visited",
           44.37994444,
           10.38891667
          ],
          [
           "Not yet visited",
           "Not yet visited",
           49.61,
           6.13333
          ],
          [
           "Not yet visited",
           "Not yet visited",
           52.63861111,
           5.771666667
          ],
          [
           "Not yet visited",
           "Not yet visited",
           51.8825,
           4.649444444
          ],
          [
           "Not yet visited",
           "Not yet visited",
           52.84583,
           5.67889
          ],
          [
           "Not yet visited",
           "Not yet visited",
           52.54888889,
           4.911111111
          ],
          [
           "Not yet visited",
           "Not yet visited",
           53.187375,
           5.543752778
          ],
          [
           "Not yet visited",
           "Not yet visited",
           43.93277778,
           12.45194444
          ],
          [
           "Not yet visited",
           "Not yet visited",
           50.49222222,
           5.866944444
          ],
          [
           "Not yet visited",
           "Not yet visited",
           47.27833333,
           8.2075
          ],
          [
           "Not yet visited",
           "Not yet visited",
           50.8662566,
           2.7079707
          ],
          [
           "Not yet visited",
           "Not yet visited",
           45.70333333,
           9.663611111
          ],
          [
           "Not yet visited",
           "Not yet visited",
           53.52861111,
           8.556111111
          ],
          [
           "Not yet visited",
           "Not yet visited",
           42.68542,
           -0.0005
          ],
          [
           "Not yet visited",
           "Not yet visited",
           51.57930556,
           14.72644444
          ],
          [
           "Not yet visited",
           "Not yet visited",
           45.88888889,
           8.913888889
          ],
          [
           "Not yet visited",
           "Not yet visited",
           46.49833333,
           9.846388889
          ],
          [
           "Not yet visited",
           "Not yet visited",
           53.6241666667,
           11.4188888889
          ],
          [
           "Not yet visited",
           "Not yet visited",
           41.2927222222,
           13.2627222222
          ]
         ],
         "hovertemplate": "<b>%{hovertext}</b><br>Rating: %{customdata[0]} <br>Visited in: %{customdata[1]}<extra></extra>",
         "hovertext": [
          "The Four Lifts on the Canal du Centre and their Environs, La Louvière and Le Roeulx (Hainaut)",
          "Neolithic Flint Mines at Spiennes (Mons)",
          "Notre-Dame Cathedral in Tournai",
          "Major Mining Sites of Wallonia",
          "Moravian Church Settlements",
          "Mont-Saint-Michel and its Bay",
          "Chartres Cathedral",
          "Vézelay, Church and Hill",
          "Prehistoric Sites and Decorated Caves of the Vézère Valley",
          "Palace and Park of Fontainebleau",
          "Cistercian Abbey of Fontenay",
          "From the Great Saltworks of Salins-les-Bains to the Royal Saltworks of Arc-et-Senans, the Production of Open-pan Salt ",
          "Place Stanislas, Place de la Carrière and Place d'Alliance in Nancy",
          "Abbey Church of Saint-Savin sur Gartempe",
          "Gulf of Porto: Calanche of Piana, Gulf of Girolata, Scandola Reserve",
          "Strasbourg, Grande-Île and <em>Neustadt</em>",
          "Cathedral of Notre-Dame, Former Abbey of Saint-Rémi and Palace of Tau, Reims",
          "Bourges Cathedral",
          "Historic Site of Lyon",
          "Provins, Town of Medieval Fairs",
          "Jurisdiction of Saint-Emilion",
          "The Loire Valley between Sully-sur-Loire and Chalonnes",
          "The Causses and the Cévennes, Mediterranean agro-pastoral Cultural Landscape",
          "Le Havre, the City Rebuilt by Auguste Perret",
          "Bordeaux, Port of the Moon",
          "Fortifications of Vauban",
          "Nord-Pas de Calais Mining Basin",
          "The Climats, terroirs of Burgundy",
          "Decorated Cave of Pont d’Arc, known as Grotte Chauvet-Pont d’Arc, Ardèche",
          "Chaîne des Puys - Limagne fault tectonic arena",
          "Champagne Hillsides, Houses and Cellars",
          "Cordouan Lighthouse",
          "Nice, Winter Resort Town of the Riviera",
          "Speyer Cathedral",
          "Würzburg Residence with the Court Gardens and Residence Square",
          "St Mary's Cathedral and St Michael's Church at Hildesheim",
          "Pilgrimage Church of Wies",
          "Hanseatic City of Lübeck",
          "Castles of Augustusburg and Falkenlust at Brühl",
          "Roman Monuments, Cathedral of St Peter and Church of Our Lady in Trier",
          "Abbey and Altenmünster of Lorsch",
          "Garden Kingdom of Dessau-Wörlitz",
          "Collegiate Church, Castle and Old Town of Quedlinburg",
          "Maulbronn Monastery Complex",
          "Mines of Rammelsberg, Historic Town of Goslar and Upper Harz Water Management  System",
          "Town of Bamberg",
          "Völklingen Ironworks",
          "Messel Pit Fossil Site",
          "Luther Memorials in Eisleben and Wittenberg",
          "Wartburg Castle",
          "Monastic Island of Reichenau",
          "Zollverein Coal Mine Industrial Complex in Essen",
          "Upper Middle Rhine Valley",
          "Historic Centres of Stralsund and Wismar",
          "Town Hall and Roland on the Marketplace of Bremen",
          "Old town of Regensburg with Stadtamhof",
          "Fagus Factory in Alfeld",
          "Margravial Opera House Bayreuth",
          "Bergpark Wilhelmshöhe",
          "Carolingian Westwork and Civitas Corvey",
          "Speicherstadt and Kontorhaus District with Chilehaus",
          "Naumburg Cathedral",
          "Caves and Ice Age Art in the Swabian Jura",
          "Archaeological Border complex of Hedeby and the Danevirke",
          "Water Management System of Augsburg",
          "Mathildenhöhe Darmstadt",
          "ShUM Sites of Speyer, Worms and Mainz",
          "Rock Drawings in Valcamonica",
          "Medici Villas and Gardens in Tuscany",
          "Piazza del Duomo, Pisa",
          "Castel del Monte",
          "18th-Century Royal Palace at Caserta with the Park, the Aqueduct of Vanvitelli, and the San Leucio Complex",
          "Historic Centre of San Gimignano",
          "The Sassi and the Park of the Rupestrian Churches of Matera",
          "Historic Centre of Siena",
          "Historic Centre of Naples",
          "Crespi d'Adda",
          "Ferrara, City of the Renaissance, and its Po Delta",
          "The <I>Trulli</I> of Alberobello",
          "Early Christian Monuments of Ravenna",
          "Historic Centre of the City of Pienza",
          "Residences of the Royal House of Savoy",
          "Botanical Garden (Orto Botanico), Padua",
          "Archaeological Area and the Patriarchal Basilica of Aquileia",
          "Portovenere, Cinque Terre, and the Islands (Palmaria, Tino and Tinetto)",
          "Cathedral, Torre Civica and Piazza Grande, Modena",
          "Historic Centre of Urbino",
          "Costiera Amalfitana",
          "Archaeological Area of Agrigento",
          "Villa Romana del Casale",
          "Su Nuraxi di Barumini",
          "Cilento and Vallo di Diano National Park with the Archeological Sites of Paestum and Velia, and the Certosa di Padula",
          "Villa Adriana (Tivoli)",
          "Isole Eolie (Aeolian Islands)",
          "Assisi, the Basilica of San Francesco and Other Franciscan Sites",
          "Late Baroque Towns of the Val di Noto (South-Eastern Sicily)",
          "Villa d'Este, Tivoli",
          "Val d'Orcia",
          "<I>Sacri Monti</I> of Piedmont and Lombardy",
          "Etruscan Necropolises of Cerveteri and Tarquinia",
          "Syracuse and the Rocky Necropolis of Pantalica",
          "Genoa: <i>Le Strade Nuove</i> and the system of the<i> Palazzi dei Rolli</i>",
          "The Dolomites",
          "Mantua and Sabbioneta",
          "Longobards in Italy. Places of the Power (568-774 A.D.)",
          "Vineyard Landscape of Piedmont: Langhe-Roero and Monferrato",
          "Mount Etna",
          "Arab-Norman Palermo and the Cathedral Churches of Cefalú and Monreale",
          "Ivrea, industrial city of the 20th century",
          "Le Colline del Prosecco di Conegliano e Valdobbiadene",
          "Padua’s fourteenth-century fresco cycles",
          "Evaporitic Karst and Caves of Northern Apennines",
          "City of Luxembourg: its Old Quarters and Fortifications",
          "Schokland and Surroundings",
          "Mill Network at Kinderdijk-Elshout",
          "Ir.D.F. Woudagemaal (D.F. Wouda Steam Pumping Station)",
          "Droogmakerij de Beemster (Beemster Polder)",
          "Eisinga Planetarium in Franeker",
          "San Marino Historic Centre and Mount Titano",
          "The Great Spa Towns of Europe",
          "Prehistoric Pile Dwellings around the Alps",
          "Funerary and memory sites of the First World War (Western Front)",
          "Venetian Works of Defence between the 16th and 17th Centuries: <em>Stato da Terra</em> – Western <em>Stato da Mar</em>",
          "Wadden Sea",
          "Pyrénées - Mont Perdu",
          "Muskauer Park / Park Mużakowski",
          "Monte San Giorgio",
          "Rhaetian Railway in the Albula / Bernina Landscapes",
          "Schwerin Residence Ensemble",
          "Via Appia. <em>Regina Viarum</em>"
         ],
         "lat": [
          50.48111,
          50.43077,
          50.60603,
          50.43527778,
          55.35555556,
          48.63556,
          48.4475,
          47.46638889,
          45.0575,
          48.40194444,
          47.63944,
          46.9375,
          48.69361111,
          46.56472,
          42.32519444,
          48.58444444,
          49.25333333,
          47.08222222,
          45.76722,
          48.55972222,
          44.89472222,
          47.39889,
          44.22027778,
          49.49278,
          44.83888889,
          47.23611111,
          50.4625,
          47.05805556,
          44.3875,
          45.77938889,
          49.0775,
          45.58630556,
          43.70169444,
          49.31722222,
          49.79278,
          52.15278,
          47.68127778,
          53.86667,
          50.82502778,
          49.75,
          49.65369,
          51.8425,
          51.78333,
          49.00083,
          51.82,
          49.89166667,
          49.24872222,
          49.918,
          51.86472,
          50.96677778,
          47.69872222,
          51.49138889,
          50.17361111,
          54.3025,
          53.07597222,
          49.02055556,
          51.98388889,
          49.944,
          51.31583333,
          51.77827778,
          53.54555556,
          51.15480556,
          48.38777778,
          54.46194444,
          48.36547222,
          49.87638889,
          49.31621111,
          45.95705556,
          43.85777778,
          43.72305556,
          41.08480556,
          41.07333,
          43.46806,
          40.66638889,
          43.31861111,
          40.85138889,
          45.59333,
          44.83777778,
          40.7825,
          44.42041667,
          43.07694444,
          45.07253,
          45.39911111,
          45.76833333,
          44.10694,
          44.64624,
          43.725,
          40.63333333,
          37.28972222,
          37.36611,
          39.70583333,
          40.28333333,
          41.94416667,
          38.48786111,
          43.06616667,
          36.89319444,
          41.96391667,
          43.06666667,
          45.97455556,
          42.00683333,
          37.05944,
          44.41222222,
          46.61305556,
          45.15944444,
          46.09416667,
          44.60861111,
          37.75611111,
          38.11083333,
          45.4575,
          45.95302778,
          45.41188889,
          44.37994444,
          49.61,
          52.63861111,
          51.8825,
          52.84583,
          52.54888889,
          53.187375,
          43.93277778,
          50.49222222,
          47.27833333,
          50.8662566,
          45.70333333,
          53.52861111,
          42.68542,
          51.57930556,
          45.88888889,
          46.49833333,
          53.6241666667,
          41.2927222222
         ],
         "legendgroup": "False",
         "lon": [
          4.13722,
          3.97879,
          3.38926,
          3.838333333,
          9.481388889,
          -1.51056,
          1.487222222,
          3.748333333,
          1.17,
          2.698055556,
          4.38911,
          5.876388889,
          6.183333333,
          0.86611,
          8.628833333,
          7.748888889,
          4.032777778,
          2.398333333,
          4.83333,
          3.298888889,
          -0.155277778,
          0.70278,
          3.473055556,
          0.1075,
          -0.572222222,
          6.026944444,
          3.546111111,
          4.864444444,
          4.416111111,
          2.965111111,
          3.946111111,
          -1.173333333,
          7.272305556,
          8.442388889,
          9.93889,
          9.94389,
          10.90013889,
          10.69167,
          6.909777778,
          6.633333333,
          8.56858,
          12.42083,
          11.15,
          8.81306,
          10.34,
          10.88888889,
          6.844222222,
          8.757,
          12.65278,
          10.307,
          9.061305556,
          7.046111111,
          7.694166667,
          13.08527778,
          8.807472222,
          12.09916667,
          9.812222222,
          11.579,
          9.393055556,
          9.41025,
          9.999444444,
          11.804,
          9.765555556,
          9.454111111,
          10.902,
          8.6675,
          8.439538889,
          10.29733333,
          11.30416667,
          10.39638889,
          16.27094444,
          14.32639,
          11.04167,
          16.61027778,
          11.33166667,
          14.26277778,
          9.53833,
          11.61944444,
          17.23694,
          12.19625,
          11.67861111,
          7.68572,
          11.88066667,
          13.3675,
          9.72917,
          10.92568,
          12.63333,
          14.60277778,
          13.59333333,
          14.33417,
          8.991388889,
          15.26666667,
          12.77197222,
          14.94558333,
          12.62244444,
          15.06891667,
          12.79625,
          11.55,
          9.169555556,
          12.10188889,
          15.29306,
          8.931111111,
          12.16305556,
          10.79444444,
          13.43305556,
          7.963611111,
          14.99666667,
          13.35305556,
          7.869166667,
          12.22611111,
          11.87961111,
          10.38891667,
          6.13333,
          5.771666667,
          4.649444444,
          5.67889,
          4.911111111,
          5.543752778,
          12.45194444,
          5.866944444,
          8.2075,
          2.7079707,
          9.663611111,
          8.556111111,
          -0.0005,
          14.72644444,
          8.913888889,
          9.846388889,
          11.4188888889,
          13.2627222222
         ],
         "marker": {
          "color": "#EF553B"
         },
         "mode": "markers",
         "name": "False",
         "showlegend": true,
         "subplot": "mapbox",
         "type": "scattermapbox"
        }
       ],
       "layout": {
        "legend": {
         "title": {
          "text": "Visited"
         },
         "tracegroupgap": 0
        },
        "mapbox": {
         "center": {
          "lat": 47.45060652905678,
          "lon": 8.52725301041198
         },
         "domain": {
          "x": [
           0,
           1
          ],
          "y": [
           0,
           1
          ]
         },
         "style": "carto-positron",
         "zoom": 2.7970443866950028
        },
        "margin": {
         "b": 0,
         "l": 0,
         "r": 0,
         "t": 0
        },
        "showlegend": false,
        "template": {
         "data": {
          "bar": [
           {
            "error_x": {
             "color": "#2a3f5f"
            },
            "error_y": {
             "color": "#2a3f5f"
            },
            "marker": {
             "line": {
              "color": "#E5ECF6",
              "width": 0.5
             },
             "pattern": {
              "fillmode": "overlay",
              "size": 10,
              "solidity": 0.2
             }
            },
            "type": "bar"
           }
          ],
          "barpolar": [
           {
            "marker": {
             "line": {
              "color": "#E5ECF6",
              "width": 0.5
             },
             "pattern": {
              "fillmode": "overlay",
              "size": 10,
              "solidity": 0.2
             }
            },
            "type": "barpolar"
           }
          ],
          "carpet": [
           {
            "aaxis": {
             "endlinecolor": "#2a3f5f",
             "gridcolor": "white",
             "linecolor": "white",
             "minorgridcolor": "white",
             "startlinecolor": "#2a3f5f"
            },
            "baxis": {
             "endlinecolor": "#2a3f5f",
             "gridcolor": "white",
             "linecolor": "white",
             "minorgridcolor": "white",
             "startlinecolor": "#2a3f5f"
            },
            "type": "carpet"
           }
          ],
          "choropleth": [
           {
            "colorbar": {
             "outlinewidth": 0,
             "ticks": ""
            },
            "type": "choropleth"
           }
          ],
          "contour": [
           {
            "colorbar": {
             "outlinewidth": 0,
             "ticks": ""
            },
            "colorscale": [
             [
              0,
              "#0d0887"
             ],
             [
              0.1111111111111111,
              "#46039f"
             ],
             [
              0.2222222222222222,
              "#7201a8"
             ],
             [
              0.3333333333333333,
              "#9c179e"
             ],
             [
              0.4444444444444444,
              "#bd3786"
             ],
             [
              0.5555555555555556,
              "#d8576b"
             ],
             [
              0.6666666666666666,
              "#ed7953"
             ],
             [
              0.7777777777777778,
              "#fb9f3a"
             ],
             [
              0.8888888888888888,
              "#fdca26"
             ],
             [
              1,
              "#f0f921"
             ]
            ],
            "type": "contour"
           }
          ],
          "contourcarpet": [
           {
            "colorbar": {
             "outlinewidth": 0,
             "ticks": ""
            },
            "type": "contourcarpet"
           }
          ],
          "heatmap": [
           {
            "colorbar": {
             "outlinewidth": 0,
             "ticks": ""
            },
            "colorscale": [
             [
              0,
              "#0d0887"
             ],
             [
              0.1111111111111111,
              "#46039f"
             ],
             [
              0.2222222222222222,
              "#7201a8"
             ],
             [
              0.3333333333333333,
              "#9c179e"
             ],
             [
              0.4444444444444444,
              "#bd3786"
             ],
             [
              0.5555555555555556,
              "#d8576b"
             ],
             [
              0.6666666666666666,
              "#ed7953"
             ],
             [
              0.7777777777777778,
              "#fb9f3a"
             ],
             [
              0.8888888888888888,
              "#fdca26"
             ],
             [
              1,
              "#f0f921"
             ]
            ],
            "type": "heatmap"
           }
          ],
          "heatmapgl": [
           {
            "colorbar": {
             "outlinewidth": 0,
             "ticks": ""
            },
            "colorscale": [
             [
              0,
              "#0d0887"
             ],
             [
              0.1111111111111111,
              "#46039f"
             ],
             [
              0.2222222222222222,
              "#7201a8"
             ],
             [
              0.3333333333333333,
              "#9c179e"
             ],
             [
              0.4444444444444444,
              "#bd3786"
             ],
             [
              0.5555555555555556,
              "#d8576b"
             ],
             [
              0.6666666666666666,
              "#ed7953"
             ],
             [
              0.7777777777777778,
              "#fb9f3a"
             ],
             [
              0.8888888888888888,
              "#fdca26"
             ],
             [
              1,
              "#f0f921"
             ]
            ],
            "type": "heatmapgl"
           }
          ],
          "histogram": [
           {
            "marker": {
             "pattern": {
              "fillmode": "overlay",
              "size": 10,
              "solidity": 0.2
             }
            },
            "type": "histogram"
           }
          ],
          "histogram2d": [
           {
            "colorbar": {
             "outlinewidth": 0,
             "ticks": ""
            },
            "colorscale": [
             [
              0,
              "#0d0887"
             ],
             [
              0.1111111111111111,
              "#46039f"
             ],
             [
              0.2222222222222222,
              "#7201a8"
             ],
             [
              0.3333333333333333,
              "#9c179e"
             ],
             [
              0.4444444444444444,
              "#bd3786"
             ],
             [
              0.5555555555555556,
              "#d8576b"
             ],
             [
              0.6666666666666666,
              "#ed7953"
             ],
             [
              0.7777777777777778,
              "#fb9f3a"
             ],
             [
              0.8888888888888888,
              "#fdca26"
             ],
             [
              1,
              "#f0f921"
             ]
            ],
            "type": "histogram2d"
           }
          ],
          "histogram2dcontour": [
           {
            "colorbar": {
             "outlinewidth": 0,
             "ticks": ""
            },
            "colorscale": [
             [
              0,
              "#0d0887"
             ],
             [
              0.1111111111111111,
              "#46039f"
             ],
             [
              0.2222222222222222,
              "#7201a8"
             ],
             [
              0.3333333333333333,
              "#9c179e"
             ],
             [
              0.4444444444444444,
              "#bd3786"
             ],
             [
              0.5555555555555556,
              "#d8576b"
             ],
             [
              0.6666666666666666,
              "#ed7953"
             ],
             [
              0.7777777777777778,
              "#fb9f3a"
             ],
             [
              0.8888888888888888,
              "#fdca26"
             ],
             [
              1,
              "#f0f921"
             ]
            ],
            "type": "histogram2dcontour"
           }
          ],
          "mesh3d": [
           {
            "colorbar": {
             "outlinewidth": 0,
             "ticks": ""
            },
            "type": "mesh3d"
           }
          ],
          "parcoords": [
           {
            "line": {
             "colorbar": {
              "outlinewidth": 0,
              "ticks": ""
             }
            },
            "type": "parcoords"
           }
          ],
          "pie": [
           {
            "automargin": true,
            "type": "pie"
           }
          ],
          "scatter": [
           {
            "fillpattern": {
             "fillmode": "overlay",
             "size": 10,
             "solidity": 0.2
            },
            "type": "scatter"
           }
          ],
          "scatter3d": [
           {
            "line": {
             "colorbar": {
              "outlinewidth": 0,
              "ticks": ""
             }
            },
            "marker": {
             "colorbar": {
              "outlinewidth": 0,
              "ticks": ""
             }
            },
            "type": "scatter3d"
           }
          ],
          "scattercarpet": [
           {
            "marker": {
             "colorbar": {
              "outlinewidth": 0,
              "ticks": ""
             }
            },
            "type": "scattercarpet"
           }
          ],
          "scattergeo": [
           {
            "marker": {
             "colorbar": {
              "outlinewidth": 0,
              "ticks": ""
             }
            },
            "type": "scattergeo"
           }
          ],
          "scattergl": [
           {
            "marker": {
             "colorbar": {
              "outlinewidth": 0,
              "ticks": ""
             }
            },
            "type": "scattergl"
           }
          ],
          "scattermapbox": [
           {
            "marker": {
             "colorbar": {
              "outlinewidth": 0,
              "ticks": ""
             }
            },
            "type": "scattermapbox"
           }
          ],
          "scatterpolar": [
           {
            "marker": {
             "colorbar": {
              "outlinewidth": 0,
              "ticks": ""
             }
            },
            "type": "scatterpolar"
           }
          ],
          "scatterpolargl": [
           {
            "marker": {
             "colorbar": {
              "outlinewidth": 0,
              "ticks": ""
             }
            },
            "type": "scatterpolargl"
           }
          ],
          "scatterternary": [
           {
            "marker": {
             "colorbar": {
              "outlinewidth": 0,
              "ticks": ""
             }
            },
            "type": "scatterternary"
           }
          ],
          "surface": [
           {
            "colorbar": {
             "outlinewidth": 0,
             "ticks": ""
            },
            "colorscale": [
             [
              0,
              "#0d0887"
             ],
             [
              0.1111111111111111,
              "#46039f"
             ],
             [
              0.2222222222222222,
              "#7201a8"
             ],
             [
              0.3333333333333333,
              "#9c179e"
             ],
             [
              0.4444444444444444,
              "#bd3786"
             ],
             [
              0.5555555555555556,
              "#d8576b"
             ],
             [
              0.6666666666666666,
              "#ed7953"
             ],
             [
              0.7777777777777778,
              "#fb9f3a"
             ],
             [
              0.8888888888888888,
              "#fdca26"
             ],
             [
              1,
              "#f0f921"
             ]
            ],
            "type": "surface"
           }
          ],
          "table": [
           {
            "cells": {
             "fill": {
              "color": "#EBF0F8"
             },
             "line": {
              "color": "white"
             }
            },
            "header": {
             "fill": {
              "color": "#C8D4E3"
             },
             "line": {
              "color": "white"
             }
            },
            "type": "table"
           }
          ]
         },
         "layout": {
          "annotationdefaults": {
           "arrowcolor": "#2a3f5f",
           "arrowhead": 0,
           "arrowwidth": 1
          },
          "autotypenumbers": "strict",
          "coloraxis": {
           "colorbar": {
            "outlinewidth": 0,
            "ticks": ""
           }
          },
          "colorscale": {
           "diverging": [
            [
             0,
             "#8e0152"
            ],
            [
             0.1,
             "#c51b7d"
            ],
            [
             0.2,
             "#de77ae"
            ],
            [
             0.3,
             "#f1b6da"
            ],
            [
             0.4,
             "#fde0ef"
            ],
            [
             0.5,
             "#f7f7f7"
            ],
            [
             0.6,
             "#e6f5d0"
            ],
            [
             0.7,
             "#b8e186"
            ],
            [
             0.8,
             "#7fbc41"
            ],
            [
             0.9,
             "#4d9221"
            ],
            [
             1,
             "#276419"
            ]
           ],
           "sequential": [
            [
             0,
             "#0d0887"
            ],
            [
             0.1111111111111111,
             "#46039f"
            ],
            [
             0.2222222222222222,
             "#7201a8"
            ],
            [
             0.3333333333333333,
             "#9c179e"
            ],
            [
             0.4444444444444444,
             "#bd3786"
            ],
            [
             0.5555555555555556,
             "#d8576b"
            ],
            [
             0.6666666666666666,
             "#ed7953"
            ],
            [
             0.7777777777777778,
             "#fb9f3a"
            ],
            [
             0.8888888888888888,
             "#fdca26"
            ],
            [
             1,
             "#f0f921"
            ]
           ],
           "sequentialminus": [
            [
             0,
             "#0d0887"
            ],
            [
             0.1111111111111111,
             "#46039f"
            ],
            [
             0.2222222222222222,
             "#7201a8"
            ],
            [
             0.3333333333333333,
             "#9c179e"
            ],
            [
             0.4444444444444444,
             "#bd3786"
            ],
            [
             0.5555555555555556,
             "#d8576b"
            ],
            [
             0.6666666666666666,
             "#ed7953"
            ],
            [
             0.7777777777777778,
             "#fb9f3a"
            ],
            [
             0.8888888888888888,
             "#fdca26"
            ],
            [
             1,
             "#f0f921"
            ]
           ]
          },
          "colorway": [
           "#636efa",
           "#EF553B",
           "#00cc96",
           "#ab63fa",
           "#FFA15A",
           "#19d3f3",
           "#FF6692",
           "#B6E880",
           "#FF97FF",
           "#FECB52"
          ],
          "font": {
           "color": "#2a3f5f"
          },
          "geo": {
           "bgcolor": "white",
           "lakecolor": "white",
           "landcolor": "#E5ECF6",
           "showlakes": true,
           "showland": true,
           "subunitcolor": "white"
          },
          "hoverlabel": {
           "align": "left"
          },
          "hovermode": "closest",
          "mapbox": {
           "style": "light"
          },
          "paper_bgcolor": "white",
          "plot_bgcolor": "#E5ECF6",
          "polar": {
           "angularaxis": {
            "gridcolor": "white",
            "linecolor": "white",
            "ticks": ""
           },
           "bgcolor": "#E5ECF6",
           "radialaxis": {
            "gridcolor": "white",
            "linecolor": "white",
            "ticks": ""
           }
          },
          "scene": {
           "xaxis": {
            "backgroundcolor": "#E5ECF6",
            "gridcolor": "white",
            "gridwidth": 2,
            "linecolor": "white",
            "showbackground": true,
            "ticks": "",
            "zerolinecolor": "white"
           },
           "yaxis": {
            "backgroundcolor": "#E5ECF6",
            "gridcolor": "white",
            "gridwidth": 2,
            "linecolor": "white",
            "showbackground": true,
            "ticks": "",
            "zerolinecolor": "white"
           },
           "zaxis": {
            "backgroundcolor": "#E5ECF6",
            "gridcolor": "white",
            "gridwidth": 2,
            "linecolor": "white",
            "showbackground": true,
            "ticks": "",
            "zerolinecolor": "white"
           }
          },
          "shapedefaults": {
           "line": {
            "color": "#2a3f5f"
           }
          },
          "ternary": {
           "aaxis": {
            "gridcolor": "white",
            "linecolor": "white",
            "ticks": ""
           },
           "baxis": {
            "gridcolor": "white",
            "linecolor": "white",
            "ticks": ""
           },
           "bgcolor": "#E5ECF6",
           "caxis": {
            "gridcolor": "white",
            "linecolor": "white",
            "ticks": ""
           }
          },
          "title": {
           "x": 0.05
          },
          "xaxis": {
           "automargin": true,
           "gridcolor": "white",
           "linecolor": "white",
           "ticks": "",
           "title": {
            "standoff": 15
           },
           "zerolinecolor": "white",
           "zerolinewidth": 2
          },
          "yaxis": {
           "automargin": true,
           "gridcolor": "white",
           "linecolor": "white",
           "ticks": "",
           "title": {
            "standoff": 15
           },
           "zerolinecolor": "white",
           "zerolinewidth": 2
          }
         }
        }
       }
      }
     },
     "metadata": {},
     "output_type": "display_data"
    }
   ],
   "source": [
    "import pandas as pd\n",
    "import plotly.express as px\n",
    "import plotly.graph_objects as go\n",
    "import numpy as np\n",
    "from travel_plotter import journey_generator\n",
    "\n",
    "# Prepare dataset\n",
    "def excel_fixer(input):\n",
    "    if type(input) == float:\n",
    "        return input\n",
    "    else:\n",
    "        return float(input.replace(',', '.'))\n",
    "df = pd.read_csv(\"whc-sites-2023.csv\", sep=';')\n",
    "df['latitude'] = df['latitude'].apply(lambda x: excel_fixer(x))\n",
    "df['longitude'] = df['longitude'].apply(lambda x: excel_fixer(x))\n",
    "df['Year'] = df['Year'].apply(lambda x: x if not np.isnan(x) else \"Not yet visited\")\n",
    "df['Rating'] = df['Rating'].apply(lambda x: excel_fixer(x))\n",
    "df['Rating'] = df['Rating'].apply(lambda x: x if not np.isnan(x) else \"Not yet visited\")\n",
    "df = df[df['Visited'].notna()]\n",
    "\n",
    "fig = go.Figure()\n",
    "for lats, lons, color, year in journey_generator(df):\n",
    "    fig2 = px.line_mapbox(lat=lats, lon=lons, color_discrete_sequence=[color])\n",
    "    fig2.update_layout(mapbox_style='carto-positron', hovermode=False)\n",
    "    fig = go.Figure(data=fig.data + fig2.data)\n",
    "\n",
    "max_bound = max(abs(min(df['latitude'].astype(float))-max(df['latitude'])), abs(min(df['longitude'])-max(df['longitude']))) * 175\n",
    "zoom = 11.5 - np.log(max_bound)\n",
    "fig1 = px.scatter_mapbox(df, lat='latitude', lon='longitude', color='Visited',\n",
    "                        hover_name='name_en', mapbox_style='carto-positron', zoom=zoom,\n",
    "                        custom_data=['Rating', 'Year'], hover_data={\n",
    "                            'latitude':False,\n",
    "                            'longitude':False,\n",
    "                        })\n",
    "\n",
    "fig1.update_traces(hovertemplate='<b>%{hovertext}</b><br>Rating: %{customdata[0]} <br>Visited in: %{customdata[1]}<extra></extra>')\n",
    "fig1.update_layout(showlegend=False, margin={'t':0,'l':0,'b':0,'r':0})\n",
    "\n",
    "fig = go.Figure(data=fig.data + fig1.data, layout=fig1.layout)\n",
    "\n",
    "config = {'scrollZoom': True}\n",
    "fig.show(config=config)\n"
   ]
  },
  {
   "cell_type": "markdown",
   "metadata": {},
   "source": [
    "(Lines mark seperate vacations. Lines in grey mark planned vacations, lines in light gray are trips I'd like to make someday)"
   ]
  },
  {
   "cell_type": "code",
   "execution_count": 15,
   "metadata": {
    "tags": [
     "remove-input"
    ]
   },
   "outputs": [
    {
     "name": "stdout",
     "output_type": "stream",
     "text": [
      "Progress:\n",
      "Total:                [+++++++++...............................] 46 out of 176\n",
      "\n",
      "Netherlands:          [++++++++++++++++++++....................] 6 out of 12\n",
      "France:               [++++++++++++............................] 15 out of 47\n",
      "Italy:                [++++++..................................] 9 out of 60\n",
      "Belgium:              [+++++++++++++++++++++++++...............] 10 out of 16\n",
      "Germany:              [++++++++++..............................] 14 out of 54\n",
      "Luxembourg:           [........................................] 0 out of 1\n",
      "\n",
      "Note: due to transboundary sites the sum of all countries might not match the total\n"
     ]
    }
   ],
   "source": [
    "print(\"Progress:\")\n",
    "score = len(df[(df['Visited']) & (df['Outside EEG'] != True)]) / len(df)\n",
    "displays = int(score * 40)\n",
    "print(f\"Total: {' ' * (20 - len('Total'))}[{'+' * displays}{'.' * (40 - displays)}] {len(df[(df['Visited']) & (df['Outside EEG'] != True)])} out of {len(df[df['Outside EEG'] != True])}\\n\")\n",
    "for abbr, country in zip(['nld', 'fra', 'ita', 'bel', 'deu', 'lux'], [\"Netherlands\", \"France\", \"Italy\", \"Belgium\", \"Germany\", \"Luxembourg\"]):\n",
    "    score = len(df[(df['Visited']) & (df['udnp_code'].str.contains(abbr))]) / len(df[df['udnp_code'].str.contains(abbr)])\n",
    "    displays = int(score * 40)\n",
    "    symbol = \"⋆\" if score == 1 else \"+\"\n",
    "    print(f\"{country}: {' ' * (20 - len(country))}[{symbol * displays}{'.' * (40 - displays)}] {len(df[(df['Visited']) & (df['udnp_code'].str.contains(abbr))])} out of {len(df[df['udnp_code'].str.contains(abbr)])}\")\n",
    "\n",
    "print(\"\\nNote: due to transboundary sites the sum of all countries might not match the total\")"
   ]
  }
 ],
 "metadata": {
  "kernelspec": {
   "display_name": "Python 3 (ipykernel)",
   "language": "python",
   "name": "python3"
  },
  "language_info": {
   "codemirror_mode": {
    "name": "ipython",
    "version": 3
   },
   "file_extension": ".py",
   "mimetype": "text/x-python",
   "name": "python",
   "nbconvert_exporter": "python",
   "pygments_lexer": "ipython3",
   "version": "3.10.14"
  },
  "widgets": {
   "application/vnd.jupyter.widget-state+json": {
    "state": {},
    "version_major": 2,
    "version_minor": 0
   }
  }
 },
 "nbformat": 4,
 "nbformat_minor": 4
}
