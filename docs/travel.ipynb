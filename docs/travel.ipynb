{
 "cells": [
  {
   "cell_type": "markdown",
   "metadata": {},
   "source": [
    "# Travel"
   ]
  },
  {
   "cell_type": "code",
   "execution_count": 20,
   "metadata": {
    "tags": [
     "remove-input"
    ]
   },
   "outputs": [
    {
     "name": "stdout",
     "output_type": "stream",
     "text": [
      "Last updated: 2024-09-06\n"
     ]
    }
   ],
   "source": [
    "import datetime\n",
    "print(f\"Last updated: {str(datetime.datetime.now())[:10]}\")"
   ]
  },
  {
   "cell_type": "markdown",
   "metadata": {},
   "source": [
    "After traveling to various cultural sites for some years, I found a rule of thumb for finding good spots to visit: check if something is a UNESCO World Heritage site. Sometimes this leads to obvious suggestions (Vatican City, Paris, Amsterdam) but more often than not visiting world heritage sites has shown me sites that are very much worth visiting but not as touristy as the usual sites (e.g., Bologna, Orange, Albi).\n",
    "\n",
    "At first, my enthousiasm led to the dream of visiting all world heritage sites in Europe, but this dream soon showed to be too ambitious. All EU countries then? Still quite a lot. Some narrowing down brought me to the following goal: visit all world heritage sites in the continental part of the original member states of the European Union. Achievable, but also ambitious, with Germany, France and Italy as the biggest obstacles. Since then, I've been using this as a heuristic in planning vacations.\n",
    "\n",
    "(Of course, I still travel outside of these guidelines as well. Occasionally this leads to another world heritage site, and these are also included in the below map)"
   ]
  },
  {
   "cell_type": "code",
   "execution_count": 21,
   "metadata": {
    "tags": [
     "remove-input"
    ]
   },
   "outputs": [
    {
     "ename": "TypeError",
     "evalue": "scatter_mapbox() got an unexpected keyword argument 'scrollZoom'",
     "output_type": "error",
     "traceback": [
      "\u001b[1;31m---------------------------------------------------------------------------\u001b[0m",
      "\u001b[1;31mTypeError\u001b[0m                                 Traceback (most recent call last)",
      "Cell \u001b[1;32mIn[21], line 29\u001b[0m\n\u001b[0;32m     27\u001b[0m max_bound \u001b[38;5;241m=\u001b[39m \u001b[38;5;28mmax\u001b[39m(\u001b[38;5;28mabs\u001b[39m(\u001b[38;5;28mmin\u001b[39m(df[\u001b[38;5;124m'\u001b[39m\u001b[38;5;124mlatitude\u001b[39m\u001b[38;5;124m'\u001b[39m]\u001b[38;5;241m.\u001b[39mastype(\u001b[38;5;28mfloat\u001b[39m))\u001b[38;5;241m-\u001b[39m\u001b[38;5;28mmax\u001b[39m(df[\u001b[38;5;124m'\u001b[39m\u001b[38;5;124mlatitude\u001b[39m\u001b[38;5;124m'\u001b[39m])), \u001b[38;5;28mabs\u001b[39m(\u001b[38;5;28mmin\u001b[39m(df[\u001b[38;5;124m'\u001b[39m\u001b[38;5;124mlongitude\u001b[39m\u001b[38;5;124m'\u001b[39m])\u001b[38;5;241m-\u001b[39m\u001b[38;5;28mmax\u001b[39m(df[\u001b[38;5;124m'\u001b[39m\u001b[38;5;124mlongitude\u001b[39m\u001b[38;5;124m'\u001b[39m]))) \u001b[38;5;241m*\u001b[39m \u001b[38;5;241m175\u001b[39m\n\u001b[0;32m     28\u001b[0m zoom \u001b[38;5;241m=\u001b[39m \u001b[38;5;241m11.5\u001b[39m \u001b[38;5;241m-\u001b[39m np\u001b[38;5;241m.\u001b[39mlog(max_bound)\n\u001b[1;32m---> 29\u001b[0m fig1 \u001b[38;5;241m=\u001b[39m \u001b[43mpx\u001b[49m\u001b[38;5;241;43m.\u001b[39;49m\u001b[43mscatter_mapbox\u001b[49m\u001b[43m(\u001b[49m\u001b[43mdf\u001b[49m\u001b[43m,\u001b[49m\u001b[43m \u001b[49m\u001b[43mlat\u001b[49m\u001b[38;5;241;43m=\u001b[39;49m\u001b[38;5;124;43m'\u001b[39;49m\u001b[38;5;124;43mlatitude\u001b[39;49m\u001b[38;5;124;43m'\u001b[39;49m\u001b[43m,\u001b[49m\u001b[43m \u001b[49m\u001b[43mlon\u001b[49m\u001b[38;5;241;43m=\u001b[39;49m\u001b[38;5;124;43m'\u001b[39;49m\u001b[38;5;124;43mlongitude\u001b[39;49m\u001b[38;5;124;43m'\u001b[39;49m\u001b[43m,\u001b[49m\u001b[43m \u001b[49m\u001b[43mcolor\u001b[49m\u001b[38;5;241;43m=\u001b[39;49m\u001b[38;5;124;43m'\u001b[39;49m\u001b[38;5;124;43mVisited\u001b[39;49m\u001b[38;5;124;43m'\u001b[39;49m\u001b[43m,\u001b[49m\u001b[43m \u001b[49m\u001b[43mscrollZoom\u001b[49m\u001b[38;5;241;43m=\u001b[39;49m\u001b[38;5;28;43;01mTrue\u001b[39;49;00m\u001b[43m,\u001b[49m\n\u001b[0;32m     30\u001b[0m \u001b[43m                        \u001b[49m\u001b[43mhover_name\u001b[49m\u001b[38;5;241;43m=\u001b[39;49m\u001b[38;5;124;43m'\u001b[39;49m\u001b[38;5;124;43mname_en\u001b[39;49m\u001b[38;5;124;43m'\u001b[39;49m\u001b[43m,\u001b[49m\u001b[43m \u001b[49m\u001b[43mmapbox_style\u001b[49m\u001b[38;5;241;43m=\u001b[39;49m\u001b[38;5;124;43m'\u001b[39;49m\u001b[38;5;124;43mcarto-positron\u001b[39;49m\u001b[38;5;124;43m'\u001b[39;49m\u001b[43m,\u001b[49m\u001b[43m \u001b[49m\u001b[43mzoom\u001b[49m\u001b[38;5;241;43m=\u001b[39;49m\u001b[43mzoom\u001b[49m\u001b[43m,\u001b[49m\n\u001b[0;32m     31\u001b[0m \u001b[43m                        \u001b[49m\u001b[43mcustom_data\u001b[49m\u001b[38;5;241;43m=\u001b[39;49m\u001b[43m[\u001b[49m\u001b[38;5;124;43m'\u001b[39;49m\u001b[38;5;124;43mRating\u001b[39;49m\u001b[38;5;124;43m'\u001b[39;49m\u001b[43m,\u001b[49m\u001b[43m \u001b[49m\u001b[38;5;124;43m'\u001b[39;49m\u001b[38;5;124;43mYear\u001b[39;49m\u001b[38;5;124;43m'\u001b[39;49m\u001b[43m]\u001b[49m\u001b[43m,\u001b[49m\u001b[43m \u001b[49m\u001b[43mhover_data\u001b[49m\u001b[38;5;241;43m=\u001b[39;49m\u001b[43m{\u001b[49m\n\u001b[0;32m     32\u001b[0m \u001b[43m                            \u001b[49m\u001b[38;5;124;43m'\u001b[39;49m\u001b[38;5;124;43mlatitude\u001b[39;49m\u001b[38;5;124;43m'\u001b[39;49m\u001b[43m:\u001b[49m\u001b[38;5;28;43;01mFalse\u001b[39;49;00m\u001b[43m,\u001b[49m\n\u001b[0;32m     33\u001b[0m \u001b[43m                            \u001b[49m\u001b[38;5;124;43m'\u001b[39;49m\u001b[38;5;124;43mlongitude\u001b[39;49m\u001b[38;5;124;43m'\u001b[39;49m\u001b[43m:\u001b[49m\u001b[38;5;28;43;01mFalse\u001b[39;49;00m\u001b[43m,\u001b[49m\n\u001b[0;32m     34\u001b[0m \u001b[43m                        \u001b[49m\u001b[43m}\u001b[49m\u001b[43m)\u001b[49m\n\u001b[0;32m     36\u001b[0m fig1\u001b[38;5;241m.\u001b[39mupdate_traces(hovertemplate\u001b[38;5;241m=\u001b[39m\u001b[38;5;124m'\u001b[39m\u001b[38;5;124m<b>\u001b[39m\u001b[38;5;124m%\u001b[39m\u001b[38;5;132;01m{hovertext}\u001b[39;00m\u001b[38;5;124m</b><br>Rating: \u001b[39m\u001b[38;5;124m%\u001b[39m\u001b[38;5;132;01m{customdata[0]}\u001b[39;00m\u001b[38;5;124m <br>Visited in: \u001b[39m\u001b[38;5;124m%\u001b[39m\u001b[38;5;132;01m{customdata[1]}\u001b[39;00m\u001b[38;5;124m<extra></extra>\u001b[39m\u001b[38;5;124m'\u001b[39m)\n\u001b[0;32m     37\u001b[0m fig1\u001b[38;5;241m.\u001b[39mupdate_layout(showlegend\u001b[38;5;241m=\u001b[39m\u001b[38;5;28;01mFalse\u001b[39;00m, margin\u001b[38;5;241m=\u001b[39m{\u001b[38;5;124m'\u001b[39m\u001b[38;5;124mt\u001b[39m\u001b[38;5;124m'\u001b[39m:\u001b[38;5;241m0\u001b[39m,\u001b[38;5;124m'\u001b[39m\u001b[38;5;124ml\u001b[39m\u001b[38;5;124m'\u001b[39m:\u001b[38;5;241m0\u001b[39m,\u001b[38;5;124m'\u001b[39m\u001b[38;5;124mb\u001b[39m\u001b[38;5;124m'\u001b[39m:\u001b[38;5;241m0\u001b[39m,\u001b[38;5;124m'\u001b[39m\u001b[38;5;124mr\u001b[39m\u001b[38;5;124m'\u001b[39m:\u001b[38;5;241m0\u001b[39m})\n",
      "\u001b[1;31mTypeError\u001b[0m: scatter_mapbox() got an unexpected keyword argument 'scrollZoom'"
     ]
    }
   ],
   "source": [
    "import pandas as pd\n",
    "import plotly.express as px\n",
    "import plotly.graph_objects as go\n",
    "import numpy as np\n",
    "from travel_plotter import journey_generator\n",
    "\n",
    "# Prepare dataset\n",
    "def excel_fixer(input):\n",
    "    if type(input) == float:\n",
    "        return input\n",
    "    else:\n",
    "        return float(input.replace(',', '.'))\n",
    "df = pd.read_csv(\"whc-sites-2023.csv\", sep=';')\n",
    "df['latitude'] = df['latitude'].apply(lambda x: excel_fixer(x))\n",
    "df['longitude'] = df['longitude'].apply(lambda x: excel_fixer(x))\n",
    "df['Year'] = df['Year'].apply(lambda x: x if not np.isnan(x) else \"Not yet visited\")\n",
    "df['Rating'] = df['Rating'].apply(lambda x: excel_fixer(x))\n",
    "df['Rating'] = df['Rating'].apply(lambda x: x if not np.isnan(x) else \"Not yet visited\")\n",
    "df = df[df['Visited'].notna()]\n",
    "\n",
    "fig = go.Figure()\n",
    "for lats, lons, color, year in journey_generator(df):\n",
    "    fig2 = px.line_mapbox(lat=lats, lon=lons, color_discrete_sequence=[color])\n",
    "    fig2.update_layout(mapbox_style='carto-positron', hovermode=False)\n",
    "    fig = go.Figure(data=fig.data + fig2.data)\n",
    "\n",
    "max_bound = max(abs(min(df['latitude'].astype(float))-max(df['latitude'])), abs(min(df['longitude'])-max(df['longitude']))) * 175\n",
    "zoom = 11.5 - np.log(max_bound)\n",
    "fig1 = px.scatter_mapbox(df, lat='latitude', lon='longitude', color='Visited',\n",
    "                        hover_name='name_en', mapbox_style='carto-positron', zoom=zoom,\n",
    "                        custom_data=['Rating', 'Year'], hover_data={\n",
    "                            'latitude':False,\n",
    "                            'longitude':False,\n",
    "                        })\n",
    "\n",
    "fig1.update_traces(hovertemplate='<b>%{hovertext}</b><br>Rating: %{customdata[0]} <br>Visited in: %{customdata[1]}<extra></extra>')\n",
    "fig1.update_layout(showlegend=False, margin={'t':0,'l':0,'b':0,'r':0})\n",
    "\n",
    "fig = go.Figure(data=fig.data + fig1.data, layout=fig1.layout)\n",
    "\n",
    "config = {'scrollZoom': True}\n",
    "fig.show(config=config)\n"
   ]
  },
  {
   "cell_type": "markdown",
   "metadata": {},
   "source": [
    "(Lines mark seperate vacations. Lines in grey mark planned vacations, lines in light gray are trips I'd like to make someday)"
   ]
  },
  {
   "cell_type": "code",
   "execution_count": null,
   "metadata": {
    "tags": [
     "remove-input"
    ]
   },
   "outputs": [
    {
     "name": "stdout",
     "output_type": "stream",
     "text": [
      "Progress:\n",
      "Total:                [+++++++++...............................] 46 out of 176\n",
      "\n",
      "Netherlands:          [++++++++++++++++++++....................] 6 out of 12\n",
      "France:               [++++++++++++............................] 15 out of 47\n",
      "Italy:                [++++++..................................] 9 out of 60\n",
      "Belgium:              [+++++++++++++++++++++++++...............] 10 out of 16\n",
      "Germany:              [++++++++++..............................] 14 out of 54\n",
      "Luxembourg:           [........................................] 0 out of 1\n",
      "\n",
      "Note: due to transboundary sites the sum of all countries might not match the total\n"
     ]
    }
   ],
   "source": [
    "print(\"Progress:\")\n",
    "score = len(df[(df['Visited']) & (df['Outside EEG'] != True)]) / len(df)\n",
    "displays = int(score * 40)\n",
    "print(f\"Total: {' ' * (20 - len('Total'))}[{'+' * displays}{'.' * (40 - displays)}] {len(df[(df['Visited']) & (df['Outside EEG'] != True)])} out of {len(df[df['Outside EEG'] != True])}\\n\")\n",
    "for abbr, country in zip(['nld', 'fra', 'ita', 'bel', 'deu', 'lux'], [\"Netherlands\", \"France\", \"Italy\", \"Belgium\", \"Germany\", \"Luxembourg\"]):\n",
    "    score = len(df[(df['Visited']) & (df['udnp_code'].str.contains(abbr))]) / len(df[df['udnp_code'].str.contains(abbr)])\n",
    "    displays = int(score * 40)\n",
    "    symbol = \"⋆\" if score == 1 else \"+\"\n",
    "    print(f\"{country}: {' ' * (20 - len(country))}[{symbol * displays}{'.' * (40 - displays)}] {len(df[(df['Visited']) & (df['udnp_code'].str.contains(abbr))])} out of {len(df[df['udnp_code'].str.contains(abbr)])}\")\n",
    "\n",
    "print(\"\\nNote: due to transboundary sites the sum of all countries might not match the total\")"
   ]
  }
 ],
 "metadata": {
  "kernelspec": {
   "display_name": "Python 3 (ipykernel)",
   "language": "python",
   "name": "python3"
  },
  "language_info": {
   "codemirror_mode": {
    "name": "ipython",
    "version": 3
   },
   "file_extension": ".py",
   "mimetype": "text/x-python",
   "name": "python",
   "nbconvert_exporter": "python",
   "pygments_lexer": "ipython3",
   "version": "3.10.14"
  },
  "widgets": {
   "application/vnd.jupyter.widget-state+json": {
    "state": {},
    "version_major": 2,
    "version_minor": 0
   }
  }
 },
 "nbformat": 4,
 "nbformat_minor": 4
}
